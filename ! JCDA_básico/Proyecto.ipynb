{
 "cells": [
  {
   "cell_type": "markdown",
   "id": "4d04ea98",
   "metadata": {},
   "source": [
    "PROYECTO BÁSICO."
   ]
  },
  {
   "cell_type": "markdown",
   "id": "d146db4e",
   "metadata": {},
   "source": []
  },
  {
   "cell_type": "code",
   "execution_count": 11,
   "id": "073b7108",
   "metadata": {},
   "outputs": [],
   "source": [
    "import pandas as pd\n",
    "import numpy as np\n",
    "from pathlib import Path\n",
    "import matplotlib.pyplot as plt\n",
    "import seaborn as sns\n",
    "from scipy.stats import chisquare"
   ]
  },
  {
   "cell_type": "code",
   "execution_count": 12,
   "id": "61a6d2fc",
   "metadata": {},
   "outputs": [],
   "source": [
    "def obtener_info_dataset(nombre_archivo, separador=';', encoding='utf-8'):\n",
    "\n",
    "    ruta_archivo = Path(nombre_archivo)\n",
    "    if not ruta_archivo.exists():\n",
    "        print(f\"Error: No se encontró el archivo '{nombre_archivo}'. Verifica la ruta.\")\n",
    "        return None\n",
    "\n",
    "    try:\n",
    "        df = pd.read_csv(ruta_archivo, sep=separador, on_bad_lines='skip') \n",
    "    except Exception as e:\n",
    "        print(f\"Error al cargar el archivo CSV: {e}\")\n",
    "        return None\n",
    "    \n",
    "    # 2. Encabezado informativo\n",
    "    print(\"=\" * 60)\n",
    "    print(f\"INFORMACIÓN DEL DATASET: '{nombre_archivo}'\")\n",
    "    print(\"=\" * 60)\n",
    "\n",
    "    # 3. Información básica\n",
    "    print(f\"| Número Total de Sorteos (Filas): {df.shape[0]:,}\")\n",
    "    print(f\"| Número Total de Variables (Columnas): {df.shape[1]}\")\n",
    "    print(\"-\" * 60)\n",
    "\n",
    "    # 4. Nombres de las columnas\n",
    "    print(\"Nombres de las Columnas:\")\n",
    "    for i, col in enumerate(df.columns):\n",
    "        print(f\"  [{i+1}] {col}\")\n",
    "    print(\"-\" * 60)"
   ]
  }
 ],
 "metadata": {
  "kernelspec": {
   "display_name": "Python 3",
   "language": "python",
   "name": "python3"
  },
  "language_info": {
   "codemirror_mode": {
    "name": "ipython",
    "version": 3
   },
   "file_extension": ".py",
   "mimetype": "text/x-python",
   "name": "python",
   "nbconvert_exporter": "python",
   "pygments_lexer": "ipython3",
   "version": "3.13.3"
  }
 },
 "nbformat": 4,
 "nbformat_minor": 5
}
