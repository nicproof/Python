{
 "cells": [
  {
   "cell_type": "markdown",
   "id": "4d04ea98",
   "metadata": {},
   "source": [
    "PROYECTO BÁSICO."
   ]
  },
  {
   "cell_type": "markdown",
   "id": "d146db4e",
   "metadata": {},
   "source": []
  },
  {
   "cell_type": "code",
   "execution_count": null,
   "id": "073b7108",
   "metadata": {},
   "outputs": [],
   "source": []
  }
 ],
 "metadata": {
  "language_info": {
   "name": "python"
  }
 },
 "nbformat": 4,
 "nbformat_minor": 5
}
