{
 "cells": [
  {
   "cell_type": "markdown",
   "id": "2a8737de",
   "metadata": {},
   "source": [
    "# 🐍 Variables en Python\n",
    "En este cuaderno aprenderás a trabajar con **variables** en Python."
   ]
  },
  {
   "cell_type": "markdown",
   "id": "3b19764c",
   "metadata": {},
   "source": [
    "## ¿Qué es una variable?\n",
    "Una **variable** es un espacio en memoria donde se guarda un valor que luego podemos usar o modificar.\n",
    "\n",
    "Ejemplo:\n",
    "```python\n",
    "x = 5\n",
    "nombre = 'Ana'\n",
    "```\n",
    "En este caso:\n",
    "- `x` guarda el número `5`.\n",
    "- `nombre` guarda el texto `'Ana'`."
   ]
  },
  {
   "cell_type": "code",
   "execution_count": null,
   "id": "3f1278e0",
   "metadata": {},
   "outputs": [],
   "source": [
    "x = 10\n",
    "nombre = \"Juan\"\n",
    "print(x)\n",
    "print(nombre)"
   ]
  },
  {
   "cell_type": "markdown",
   "id": "0dbba997",
   "metadata": {},
   "source": [
    "## Tipos de datos más comunes en Python\n",
    "- **int** → Números enteros (`5`, `-10`)\n",
    "- **float** → Números decimales (`3.14`, `2.0`)\n",
    "- **str** → Cadenas de texto (`\"Hola\"`)\n",
    "- **bool** → Valores lógicos (`True`, `False`)"
   ]
  },
  {
   "cell_type": "markdown",
   "id": "74b101e5-ee70-4b84-9698-0962ef433293",
   "metadata": {},
   "source": [
    "![Tabla](http://localhost:8888/files/CursoPython/2.-%20Operadores/Tablas%20de%20verdad.png?_xsrf=2%7C46cff61a%7C827f1c5ea631db601a4e4518b7d50cea%7C1757595947)"
   ]
  },
  {
   "cell_type": "code",
   "execution_count": null,
   "id": "b3875052",
   "metadata": {},
   "outputs": [],
   "source": [
    "edad = 25          # int\n",
    "altura = 1.75      # float\n",
    "nombre = \"Lucía\"   # str\n",
    "estudiante = True   # bool\n",
    "\n",
    "print(type(edad))\n",
    "print(type(altura))\n",
    "print(type(nombre))\n",
    "print(type(estudiante))"
   ]
  },
  {
   "cell_type": "markdown",
   "id": "019fbb35",
   "metadata": {},
   "source": [
    "## ✏️ Ejercicios\n",
    "\n",
    "1. Crea una variable que guarde tu nombre y otra con tu edad. Muestra ambas por pantalla.\n",
    "2. Declara una variable con un número decimal y muestra su tipo usando `type()`.\n",
    "3. Crea una variable booleana que indique si eres estudiante o no.\n",
    "4. Cambia el valor de una variable y muestra el resultado antes y después del cambio."
   ]
  },
  {
   "cell_type": "code",
   "execution_count": 57,
   "id": "adb1266c",
   "metadata": {},
   "outputs": [
    {
     "name": "stdout",
     "output_type": "stream",
     "text": [
      "Nombre: Luis Alberto\n",
      "Edad: 60 \n",
      "\n",
      "El tipo del numero es:  <class 'float'> \n",
      "\n",
      "El estado del estudiante es:  True \n",
      "\n",
      "Nombre anterior: Luis Alberto\n",
      "Nombre actual: Juan\n"
     ]
    }
   ],
   "source": [
    "edad = 60; nombre = \"Luis Alberto\"; print (\"Nombre:\", nombre); print (\"Edad:\",edad,\"\\n\")\n",
    "\n",
    "decimal = 1.60; print(\"El tipo del numero es: \",type(decimal),\"\\n\")\n",
    "\n",
    "var_estudiante = True; print (\"El estado del estudiante es: \",var_estudiante,\"\\n\")\n",
    "\n",
    "print (\"Nombre anterior:\", nombre); nombre = \"Juan\"; print (\"Nombre actual:\", nombre)\n"
   ]
  }
 ],
 "metadata": {
  "kernelspec": {
   "display_name": "Python [conda env:base] *",
   "language": "python",
   "name": "conda-base-py"
  },
  "language_info": {
   "codemirror_mode": {
    "name": "ipython",
    "version": 3
   },
   "file_extension": ".py",
   "mimetype": "text/x-python",
   "name": "python",
   "nbconvert_exporter": "python",
   "pygments_lexer": "ipython3",
   "version": "3.13.5"
  }
 },
 "nbformat": 4,
 "nbformat_minor": 5
}
