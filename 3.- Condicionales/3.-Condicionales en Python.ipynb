{
 "cells": [
  {
   "cell_type": "markdown",
   "id": "5e71ad9f",
   "metadata": {},
   "source": [
    "# 3.- Condicionales en Python"
   ]
  },
  {
   "cell_type": "markdown",
   "id": "d288f2ff",
   "metadata": {},
   "source": [
    "En este cuaderno aprenderás a **tomar decisiones** en Python usando sentencias condicionales.\n",
    "Repasaremos la sintaxis de `if`, `elif`, `else`, casos anidados, la **expresión condicional** (operador ternario),\n",
    "el **cortocircuito** de los operadores lógicos y una introducción a `match`/`case` (Python 3.10+).\n",
    "\n",
    "**Objetivo:** que sepas leer y escribir condiciones claras, correctas y “pitónicas”.\n",
    "\n",
    "\n",
    "> **Alcance de este cuaderno**: usaremos **solo variables, operadores y condicionales** (sin bucles ni colecciones avanzadas)."
   ]
  },
  {
   "cell_type": "markdown",
   "id": "71f87c87",
   "metadata": {},
   "source": [
    "## 3.1 Valores de verdad (truthy/falsy)"
   ]
  },
  {
   "cell_type": "markdown",
   "id": "b954b06a",
   "metadata": {},
   "source": [
    "En Python, cualquier objeto puede evaluarse en un contexto booleano.\n",
    "\n",
    "- Se consideran **falsy**: `False`, `None`, `0`, `0.0`, `0j`, `''` (cadena vacía), `[]`, `()`, `{}`, `set()`, `range(0)` y cualquier objeto cuyo método `__bool__` devuelva `False` o `__len__` sea `0`.\n",
    "- Todo lo demás se considera **truthy**.\n",
    "\n",
    "Esto permite escribir condiciones muy expresivas.\n"
   ]
  },
  {
   "cell_type": "code",
   "execution_count": 1,
   "id": "b416ddc6",
   "metadata": {},
   "outputs": [
    {
     "name": "stdout",
     "output_type": "stream",
     "text": [
      " False -> False\n",
      "  None -> False\n",
      "     0 -> False\n",
      "   0.0 -> False\n",
      "    '' -> False\n",
      "'hola' -> True\n",
      "    42 -> True\n"
     ]
    }
   ],
   "source": [
    "# Demostración rápida de truthy/falsy (sin colecciones)\n",
    "valores = [False, None, 0, 0.0, '', 'hola', 42]\n",
    "for v in valores:\n",
    "    print(f'{repr(v):>6} ->', bool(v))"
   ]
  },
  {
   "cell_type": "markdown",
   "id": "e6b3720b",
   "metadata": {},
   "source": [
    "## 3.2 Sintaxis básica de `if`"
   ]
  },
  {
   "cell_type": "markdown",
   "id": "169b70b8",
   "metadata": {},
   "source": [
    "Estructura:\n",
    "\n",
    "```python\n",
    "if condicion:\n",
    "    # bloque si la condición es verdadera\n",
    "```\n",
    "\n",
    "- Termina la línea con `:` y **usa sangría** (4 espacios por convención) para el bloque.\n"
   ]
  },
  {
   "cell_type": "code",
   "execution_count": null,
   "id": "6ae44db6",
   "metadata": {},
   "outputs": [],
   "source": [
    "# Ejemplo básico\n",
    "temperatura = 30\n",
    "if temperatura > 25:\n",
    "    print('Hace calor 😅')"
   ]
  },
  {
   "cell_type": "markdown",
   "id": "3a4b749c",
   "metadata": {},
   "source": [
    "## 3.3 `elif` y `else`"
   ]
  },
  {
   "cell_type": "markdown",
   "id": "d7f5b18f",
   "metadata": {},
   "source": [
    "Con `elif` añadimos más condiciones; `else` cubre el caso restante.\n",
    "\n",
    "```python\n",
    "if cond1:\n",
    "    ...\n",
    "elif cond2:\n",
    "    ...\n",
    "else:\n",
    "    ...\n",
    "```\n"
   ]
  },
  {
   "cell_type": "code",
   "execution_count": null,
   "id": "80eb11b0",
   "metadata": {},
   "outputs": [],
   "source": [
    "# Ejemplo: clasificación simple\n",
    "nota = 7.5\n",
    "\n",
    "if nota >= 9:\n",
    "    print('Sobresaliente')\n",
    "elif nota >= 7:\n",
    "    print('Notable')\n",
    "elif nota >= 5:\n",
    "    print('Aprobado')\n",
    "else:\n",
    "    print('Suspenso')"
   ]
  },
  {
   "cell_type": "code",
   "execution_count": 26,
   "id": "8d7556d3-6182-49aa-a8a8-2770cac923af",
   "metadata": {},
   "outputs": [
    {
     "name": "stdin",
     "output_type": "stream",
     "text": [
      "Introducir nota:  0\n"
     ]
    },
    {
     "name": "stdout",
     "output_type": "stream",
     "text": [
      "Suspenso\n"
     ]
    }
   ],
   "source": [
    "nota = float(input(\"Introducir nota: \"))\n",
    "\n",
    "if nota == 10:\n",
    "    print(\"Matrícula de honor\")\n",
    "elif nota >= 9:\n",
    "    print('Sobresaliente')\n",
    "elif nota >= 7:\n",
    "    print('Notable')\n",
    "elif nota >= 5:\n",
    "    print('Aprobado')\n",
    "else:\n",
    "    print('Suspenso')"
   ]
  },
  {
   "cell_type": "markdown",
   "id": "4e587346",
   "metadata": {},
   "source": [
    "## 3.4 Operadores en condiciones"
   ]
  },
  {
   "cell_type": "markdown",
   "id": "721d791c",
   "metadata": {},
   "source": [
    "Recuerda los **operadores de comparación** (`==`, `!=`, `>`, `<`, `>=`, `<=`) y los **lógicos** (`and`, `or`, `not`).\n",
    "También puedes usar **pertenencia** (`in`, `not in`) e **identidad** (`is`, `is not`) cuando corresponda.\n"
   ]
  },
  {
   "cell_type": "code",
   "execution_count": 54,
   "id": "0a04271a",
   "metadata": {},
   "outputs": [
    {
     "name": "stdout",
     "output_type": "stream",
     "text": [
      "Acceso permitido\n"
     ]
    }
   ],
   "source": [
    "# Ejemplos combinando operadores (sin colecciones)\n",
    "usuario = 'ana'\n",
    "edad = 19\n",
    "\n",
    "# Permitidos: 'ana', 'luis', 'maria' (sin usar listas/sets)\n",
    "permitido = (usuario == 'ana') or (usuario == 'luis') or (usuario == 'maria')\n",
    "\n",
    "if permitido and (18 <= edad <= 65):\n",
    "    print('Acceso permitido')\n",
    "else:\n",
    "    print('Acceso denegado')"
   ]
  },
  {
   "cell_type": "code",
   "execution_count": 58,
   "id": "4d89177e-8f68-4b90-871f-0241eb79af1c",
   "metadata": {},
   "outputs": [
    {
     "name": "stdout",
     "output_type": "stream",
     "text": [
      "Acceso permitido\n"
     ]
    }
   ],
   "source": [
    "# Ejemplos combinando operadores (sin colecciones)\n",
    "usuario = 'ana'\n",
    "edad = 19\n",
    "\n",
    "# Permitidos: 'ana', 'luis', 'maria' (sin usar listas/sets)\n",
    "permitido1 = (usuario == 'ana') or (usuario == 'luis') or (usuario == 'maria')\n",
    "permitido2 = (edad>=18) and (edad<=65)\n",
    "\n",
    "if permitido1 and permitido2:\n",
    "    print('Acceso permitido')\n",
    "else:\n",
    "    print('Acceso denegado')"
   ]
  },
  {
   "cell_type": "code",
   "execution_count": 63,
   "id": "2e806c1d-0988-48f0-9f92-220be3981009",
   "metadata": {},
   "outputs": [
    {
     "name": "stdout",
     "output_type": "stream",
     "text": [
      "Acceso permitido\n"
     ]
    }
   ],
   "source": [
    "# Ejemplos combinando operadores (sin colecciones)\n",
    "usuario = 'ana'\n",
    "edad = 19\n",
    "\n",
    "# Permitidos: 'ana', 'luis', 'maria' (sin usar listas/sets)\n",
    "permitido = ((usuario == 'ana') or (usuario == 'luis') or (usuario == 'maria')) and ((edad>=18) and (edad<=65))\n",
    "\n",
    "if permitido:\n",
    "    print('Acceso permitido')\n",
    "else:\n",
    "    print('Acceso denegado')"
   ]
  },
  {
   "cell_type": "markdown",
   "id": "0ea4ef01",
   "metadata": {},
   "source": [
    "## 3.5 Condicionales anidados (y alternativa con combinaciones)"
   ]
  },
  {
   "cell_type": "markdown",
   "id": "227a2685",
   "metadata": {},
   "source": [
    "Puedes anidar `if`, pero a veces es más claro combinar expresiones con `and`/`or` o extraer funciones auxiliares.\n"
   ]
  },
  {
   "cell_type": "code",
   "execution_count": null,
   "id": "39d59de6",
   "metadata": {},
   "outputs": [],
   "source": [
    "# Anidado\n",
    "saldo = 120\n",
    "compra = 50\n",
    "tarjeta_activa = True\n",
    "\n",
    "if tarjeta_activa:\n",
    "    if saldo >= compra:\n",
    "        print('Compra aprobada')\n",
    "    else:\n",
    "        print('Saldo insuficiente')\n",
    "else:\n",
    "    print('Tarjeta inactiva')"
   ]
  },
  {
   "cell_type": "code",
   "execution_count": null,
   "id": "03f50c0e",
   "metadata": {},
   "outputs": [],
   "source": [
    "# Alternativa más plana y legible\n",
    "if not tarjeta_activa:\n",
    "    print('Tarjeta inactiva')\n",
    "elif saldo < compra:\n",
    "    print('Saldo insuficiente')\n",
    "else:\n",
    "    print('Compra aprobada')"
   ]
  },
  {
   "cell_type": "markdown",
   "id": "b6515a97",
   "metadata": {},
   "source": [
    "## 3.6 Expresión condicional (operador ternario)"
   ]
  },
  {
   "cell_type": "markdown",
   "id": "ae62364e",
   "metadata": {},
   "source": [
    "Sintaxis: `A if condicion else B` (devuelve un valor). Útil para asignaciones o expresiones cortas.\n"
   ]
  },
  {
   "cell_type": "code",
   "execution_count": null,
   "id": "1413b5e6",
   "metadata": {},
   "outputs": [],
   "source": [
    "# Ejemplo de expresión condicional\n",
    "edad = 16\n",
    "mensaje = 'Mayor de edad' if edad >= 18 else 'Menor de edad'\n",
    "mensaje"
   ]
  },
  {
   "cell_type": "markdown",
   "id": "4e0999ee",
   "metadata": {},
   "source": [
    "## 3.7 `match`/`case` (Python 3.10+)"
   ]
  },
  {
   "cell_type": "markdown",
   "id": "588a98bc",
   "metadata": {},
   "source": [
    "`match` permite **comparación por patrones**. Para empezar, úsalo como un switch mejorado.\n"
   ]
  },
  {
   "cell_type": "code",
   "execution_count": null,
   "id": "14f844d7",
   "metadata": {},
   "outputs": [],
   "source": [
    "# Ejemplo básico de match/case\n",
    "comando = 'listar'\n",
    "\n",
    "match comando:\n",
    "    case 'crear':\n",
    "        accion = 'Creando recurso...'\n",
    "    case 'listar':\n",
    "        accion = 'Listando recursos...'\n",
    "    case 'borrar':\n",
    "        accion = 'Borrando recurso...'\n",
    "    case _:\n",
    "        accion = 'Comando no reconocido'\n",
    "        \n",
    "accion"
   ]
  },
  {
   "cell_type": "markdown",
   "id": "ce27d60f",
   "metadata": {},
   "source": [
    "## 3.8 Cortocircuito con `and` / `or`"
   ]
  },
  {
   "cell_type": "markdown",
   "id": "d67caf31",
   "metadata": {},
   "source": [
    "- `A and B`: si `A` es falsy, **no** evalúa `B`.  \n",
    "- `A or B`: si `A` es truthy, **no** evalúa `B`.\n",
    "\n",
    "Esto es útil para evitar errores o cálculos innecesarios.\n"
   ]
  },
  {
   "cell_type": "code",
   "execution_count": null,
   "id": "54e5a934",
   "metadata": {},
   "outputs": [],
   "source": [
    "# Ejemplo de cortocircuito para evitar ZeroDivisionError\n",
    "den = 0\n",
    "if den != 0 and (10 / den) > 1:\n",
    "    print('Mayor que 1')\n",
    "else:\n",
    "    print('No se puede dividir entre cero')"
   ]
  },
  {
   "cell_type": "markdown",
   "id": "8502510e",
   "metadata": {},
   "source": [
    "## 3.9 Buenas prácticas y errores comunes"
   ]
  },
  {
   "cell_type": "markdown",
   "id": "ac87fed1",
   "metadata": {},
   "source": [
    "- Usa **sangría consistente** (4 espacios).  \n",
    "- Evita comparaciones innecesarias con `True`/`False`: escribe `if condicion:` en vez de `if condicion == True:`.  \n",
    "- Prefiere **encadenamiento**: `18 <= edad <= 65`.  \n",
    "- No confundas `=` (asignación) con `==` (comparación).  \n",
    "- Cuidado con `is` vs `==`: `is` compara **identidad**, no igualdad de valor (usa `is` con `None`).  \n",
    "- Evita anidaciones profundas; extrae funciones o usa retornos tempranos.\n"
   ]
  },
  {
   "cell_type": "markdown",
   "id": "d000e874",
   "metadata": {},
   "source": [
    "## 3.10 Ejercicios guiados"
   ]
  },
  {
   "cell_type": "markdown",
   "id": "2affc686",
   "metadata": {},
   "source": [
    "### Ejercicio 1: Clasificador de números\n",
    "Pide un número y muestra si es positivo, negativo o cero.\n",
    "\n",
    "### Ejercicio 2: Año bisiesto\n",
    "Pide un año y determina si es bisiesto. Reglas: divisible entre 4 y no entre 100, **o** divisible entre 400.\n",
    "\n",
    "### Ejercicio 3: Login simple\n",
    "Pide usuario y contraseña y valida contra valores predefinidos (sin almacenar nada sensible).\n",
    "\n",
    "Resuelve los tres a continuación (puedes ejecutar celda por celda y probar distintos valores).\n"
   ]
  },
  {
   "cell_type": "code",
   "execution_count": null,
   "id": "c33a1265",
   "metadata": {},
   "outputs": [],
   "source": [
    "# Ejercicio guiado 1\n",
    "n = int(input('Introduce un número: '))\n",
    "if n > 0:\n",
    "    print('Positivo')\n",
    "elif n < 0:\n",
    "    print('Negativo')\n",
    "else:\n",
    "    print('Cero')"
   ]
  },
  {
   "cell_type": "code",
   "execution_count": null,
   "id": "edadade6",
   "metadata": {},
   "outputs": [],
   "source": [
    "# Ejercicio guiado 2: Año bisiesto\n",
    "anio = int(input('Introduce un año: '))\n",
    "\n",
    "es_bisiesto = (anio % 4 == 0 and anio % 100 != 0) or (anio % 400 == 0)\n",
    "print('Bisiesto' if es_bisiesto else 'No bisiesto')"
   ]
  },
  {
   "cell_type": "code",
   "execution_count": 68,
   "id": "6e3754a9",
   "metadata": {},
   "outputs": [
    {
     "name": "stdin",
     "output_type": "stream",
     "text": [
      "Usuario:  admin\n",
      "Contraseña:  1234\n"
     ]
    },
    {
     "name": "stdout",
     "output_type": "stream",
     "text": [
      "Acceso concedido ✅\n"
     ]
    }
   ],
   "source": [
    "# Ejercicio guiado 3: Login simple (solo demostración, no seguro para producción)\n",
    "USUARIO = 'admin'\n",
    "PASS = '1234'\n",
    "\n",
    "u = input('Usuario: ')\n",
    "p = input('Contraseña: ')\n",
    "\n",
    "if u == USUARIO and p == PASS:\n",
    "    print('Acceso concedido ✅')\n",
    "else:\n",
    "    print('Acceso denegado ❌')"
   ]
  },
  {
   "cell_type": "markdown",
   "id": "dd705d30",
   "metadata": {},
   "source": [
    "## 3.11 Ejercicios propuestos"
   ]
  },
  {
   "cell_type": "markdown",
   "id": "e5a65905",
   "metadata": {},
   "source": [
    "1. **Comparador de tres números**: pide tres números y muestra el mayor (y si hay empates).  \n",
    "2. **Calculadora de tarifas**: según edad, imprime precio del ticket (por ejemplo: < 12: gratis; 12–25: 8€; 26–64: 12€; 65+: 6€).  \n",
    "3. **Validador de contraseña**: pide una contraseña y comprueba que tenga al menos 8 caracteres y contenga un dígito.  \n",
    "4. **Conversor de calificaciones**: de 0–10 a categorías (Matrícula, Sobresaliente, Notable, Aprobado, Suspenso) usando `elif`.  \n",
    "5. **Detector de palíndromos**: pide una palabra y dice si es palíndroma (ignora mayúsculas/espacios).  \n",
    "6. **Menú con `match`**: crea un menú de texto con opciones `'n'`, `'l'`, `'b'`, `'q'` para crear/listar/borrar/salir y usa `match`.  \n"
   ]
  },
  {
   "cell_type": "code",
   "execution_count": 12,
   "id": "05f95ade-e164-4c52-bce5-a0dfb84c2331",
   "metadata": {
    "collapsed": true,
    "jupyter": {
     "outputs_hidden": true,
     "source_hidden": true
    }
   },
   "outputs": [
    {
     "name": "stdin",
     "output_type": "stream",
     "text": [
      "Introdcir numero a:  430\n",
      "Introdcir numero b:  10029\n",
      "Intoducir numero c:  2121212\n"
     ]
    },
    {
     "name": "stdout",
     "output_type": "stream",
     "text": [
      "El numero mayor es:  2121212\n"
     ]
    }
   ],
   "source": [
    "# 01 - Comparador de tres números: pide tres números y muestra el mayor (y si hay empates).\n",
    "\n",
    "a = int(input(\"Introdcir numero a: \"))\n",
    "b = int(input(\"Introdcir numero b: \"))\n",
    "c = int(input(\"Intoducir numero c: \"))\n",
    "\n",
    "if (a>b>c):\n",
    "    print (\"El numero mayor es: \",a)\n",
    "elif (b>c):\n",
    "    print(\"El numero mayor es: \",b)\n",
    "else:\n",
    "    print(\"El numero mayor es: \",c)\n",
    "    \n"
   ]
  },
  {
   "cell_type": "code",
   "execution_count": 17,
   "id": "f51cea3c-033a-4172-8ab1-e95a9cfe3a28",
   "metadata": {
    "collapsed": true,
    "jupyter": {
     "outputs_hidden": true,
     "source_hidden": true
    }
   },
   "outputs": [
    {
     "name": "stdin",
     "output_type": "stream",
     "text": [
      "Introducir edad del usuario:  26\n"
     ]
    },
    {
     "name": "stdout",
     "output_type": "stream",
     "text": [
      "La entrada tiene el precio de 12€\n"
     ]
    }
   ],
   "source": [
    "# 02 - Calculadora de tarifas: según edad, imprime precio del ticket (por ejemplo: < 12: gratis; 12–25: 8€; 26–64: 12€; 65+: 6€).\n",
    "\n",
    "edad = int(input (\"Introducir edad del usuario: \"))\n",
    "\n",
    "\n",
    "if (edad<=12):\n",
    "    print(\"La entrada es gratuita por ser menor de 12 años\")\n",
    "elif edad>12 and edad<=25:\n",
    "    print(\"La entrada tiene el precio de 8€\")\n",
    "elif edad>=26 and edad<=64:\n",
    "    print(\"La entrada tiene el precio de 12€\")\n",
    "else:\n",
    "    print(\"La entrada tiene el precio de 6€\")"
   ]
  },
  {
   "cell_type": "code",
   "execution_count": 50,
   "id": "191667b4-c5fb-4834-b987-b6f885e99692",
   "metadata": {
    "collapsed": true,
    "jupyter": {
     "outputs_hidden": true,
     "source_hidden": true
    }
   },
   "outputs": [
    {
     "name": "stdin",
     "output_type": "stream",
     "text": [
      "Introducir contraseña:  123\n"
     ]
    },
    {
     "name": "stdout",
     "output_type": "stream",
     "text": [
      "Contraseña correcta\n"
     ]
    }
   ],
   "source": [
    "# 03 - Validador de contraseña: pide una contraseña y comprueba que tenga al menos 8 caracteres y contenga un dígito.\n",
    "\n",
    "password = input('Introducir contraseña: ')\n",
    "\n",
    "size = len(password)\n",
    "\n",
    "if size<2 or size>8:\n",
    "   print (\"Contraseña inválida, debe tener más de un caracter y menos de 8\")\n",
    "else:\n",
    "   print (\"Contraseña correcta\")"
   ]
  },
  {
   "cell_type": "code",
   "execution_count": 51,
   "id": "ca8a29c6-4d8a-4cb8-a59f-bdf2d72c0792",
   "metadata": {
    "collapsed": true,
    "jupyter": {
     "outputs_hidden": true,
     "source_hidden": true
    }
   },
   "outputs": [
    {
     "name": "stdin",
     "output_type": "stream",
     "text": [
      "Introducir nota:  10\n"
     ]
    },
    {
     "name": "stdout",
     "output_type": "stream",
     "text": [
      "Matrícula de honor\n"
     ]
    }
   ],
   "source": [
    "# 04 - Conversor de calificaciones: de 0–10 a categorías (Matrícula, Sobresaliente, Notable, Aprobado, Suspenso) usando elif.\n",
    "\n",
    "nota = float(input(\"Introducir nota: \"))\n",
    "\n",
    "if nota == 10:\n",
    "    print(\"Matrícula de honor\")\n",
    "elif nota >= 9:\n",
    "    print('Sobresaliente')\n",
    "elif nota >= 7:\n",
    "    print('Notable')\n",
    "elif nota >= 5:\n",
    "    print('Aprobado')\n",
    "else:\n",
    "    print('Suspenso')\n",
    "\n"
   ]
  },
  {
   "cell_type": "code",
   "execution_count": 64,
   "id": "481d73d5-cc1e-48e2-8fef-56537210da0e",
   "metadata": {
    "collapsed": true,
    "jupyter": {
     "outputs_hidden": true,
     "source_hidden": true
    }
   },
   "outputs": [
    {
     "name": "stdin",
     "output_type": "stream",
     "text": [
      "Introduce una palabra:  isi osa\n"
     ]
    },
    {
     "name": "stdout",
     "output_type": "stream",
     "text": [
      "Las palabras  isi osa  y  aso isi  NO son palíndromos\n"
     ]
    }
   ],
   "source": [
    "# 05 - Detector de palíndromos: pide una palabra y dice si es palíndroma (ignora mayúsculas/espacios).\n",
    "\n",
    "palabra = input(\"Introduce una palabra: \")\n",
    "invert = ''.join(reversed(palabra))\n",
    "\n",
    "if palabra==invert:\n",
    "    print(\"Las palabras \",palabra,\" y \",invert,\" son palíndromos\")\n",
    "else:\n",
    "    print(\"Las palabras \",palabra,\" y \",invert,\" NO son palíndromos\")\n",
    "    "
   ]
  },
  {
   "cell_type": "code",
   "execution_count": 67,
   "id": "48afe9a8-6a6e-48da-953d-14c2e80e553c",
   "metadata": {
    "collapsed": true,
    "jupyter": {
     "outputs_hidden": true,
     "source_hidden": true
    }
   },
   "outputs": [
    {
     "name": "stdout",
     "output_type": "stream",
     "text": [
      "Menu de opciones\n",
      "----------------\n",
      "(n) Crear\n",
      "(l) Listar\n",
      "(b) Borrar\n",
      "(s) Salir\n",
      "----------------\n"
     ]
    },
    {
     "name": "stdin",
     "output_type": "stream",
     "text": [
      "Introducir opcion:  d\n"
     ]
    },
    {
     "data": {
      "text/plain": [
       "'Comando no reconocido !!!'"
      ]
     },
     "execution_count": 67,
     "metadata": {},
     "output_type": "execute_result"
    }
   ],
   "source": [
    "# 06 - Menú con match: crea un menú de texto con opciones 'n', 'l', 'b', 'q' para crear/listar/borrar/salir y usa match.\n",
    "\n",
    "print (\"Menu de opciones\")\n",
    "print (\"----------------\")\n",
    "print (\"(n) Crear\")\n",
    "print (\"(l) Listar\")\n",
    "print (\"(b) Borrar\")\n",
    "print (\"(s) Salir\")\n",
    "print (\"----------------\")\n",
    "opcion = input(\"Introducir opcion: \")\n",
    "\n",
    "match opcion:\n",
    "    case 'c':\n",
    "        accion = 'Crear archivo...'\n",
    "    case 'l':\n",
    "        accion = 'Listado de archivos...'\n",
    "    case 'b':\n",
    "        accion = 'Borrar archivo...'\n",
    "    case 's':\n",
    "        accion = 'Salir...'\n",
    "    case _:\n",
    "        accion = 'Comando no reconocido !!!'\n",
    "\n",
    "accion\n",
    "\n",
    "\n"
   ]
  }
 ],
 "metadata": {
  "kernelspec": {
   "display_name": "Python [conda env:base] *",
   "language": "python",
   "name": "conda-base-py"
  },
  "language_info": {
   "codemirror_mode": {
    "name": "ipython",
    "version": 3
   },
   "file_extension": ".py",
   "mimetype": "text/x-python",
   "name": "python",
   "nbconvert_exporter": "python",
   "pygments_lexer": "ipython3",
   "version": "3.13.5"
  }
 },
 "nbformat": 4,
 "nbformat_minor": 5
}
