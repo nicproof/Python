{
 "cells": [
  {
   "cell_type": "markdown",
   "id": "29493503",
   "metadata": {},
   "source": [
    "# 4.- Bucles en Python"
   ]
  },
  {
   "cell_type": "markdown",
   "id": "a9b58eed",
   "metadata": {},
   "source": [
    "En este cuaderno aprenderás a **repetir acciones** en Python usando bucles.\n",
    "Trabajaremos con `while` (repetición controlada por **condición**) y `for` (repetición controlada por **secuencia/iterable**),\n",
    "centrándonos en `range()` y cadenas (sin listas ni colecciones por ahora).\n",
    "\n",
    "> **Alcance**: variables, operadores, condicionales y **bucles**. No usaremos listas, sets ni diccionarios todavía.\n"
   ]
  },
  {
   "cell_type": "markdown",
   "id": "1bdcbc70",
   "metadata": {},
   "source": [
    "## 4.1 Bucle `while`"
   ]
  },
  {
   "cell_type": "markdown",
   "id": "18a73c31",
   "metadata": {},
   "source": [
    "`while` repite su bloque **mientras** la condición sea `True`.\n",
    "\n",
    "```python\n",
    "while condicion:\n",
    "    # bloque\n",
    "```\n"
   ]
  },
  {
   "cell_type": "code",
   "execution_count": null,
   "id": "b7a3682d",
   "metadata": {},
   "outputs": [],
   "source": [
    "# Ejemplo: contador simple con while\n",
    "contador = 1\n",
    "while contador <= 5:\n",
    "    print(\"Valor:\", contador)\n",
    "    contador += 1"
   ]
  },
  {
   "cell_type": "markdown",
   "id": "82f5c3f9",
   "metadata": {},
   "source": [
    "⚠️ **Cuidado con los bucles infinitos**: asegúrate de que la condición cambie en algún momento, o usa una salida con `break`.\n"
   ]
  },
  {
   "cell_type": "markdown",
   "id": "6e8b22c3",
   "metadata": {},
   "source": [
    "## 4.2 Bucle `for` y `range()`"
   ]
  },
  {
   "cell_type": "markdown",
   "id": "0231bb60",
   "metadata": {},
   "source": [
    "`for` recorre elementos de una secuencia/iterable. Usaremos `range()` para generar secuencias numéricas.\n",
    "\n",
    "- `range(stop)` → 0, 1, ..., stop-1\n",
    "- `range(start, stop)` → start, start+1, ..., stop-1\n",
    "- `range(start, stop, step)` → con paso `step` (puede ser negativo)\n"
   ]
  },
  {
   "cell_type": "code",
   "execution_count": 1,
   "id": "a04c4f72",
   "metadata": {},
   "outputs": [
    {
     "name": "stdout",
     "output_type": "stream",
     "text": [
      "0 1 2 3 4 \n",
      "2 3 4 5 \n",
      "10 8 6 4 2 "
     ]
    }
   ],
   "source": [
    "# Ejemplos con range()\n",
    "for i in range(5):      # 0..4\n",
    "    print(i, end=\" \")\n",
    "print()\n",
    "\n",
    "for i in range(2, 6):   # 2..5\n",
    "    print(i, end=\" \")\n",
    "print()\n",
    "\n",
    "for i in range(10, 0, -2):  # 10, 8, 6, 4, 2\n",
    "    print(i, end=\" \")"
   ]
  },
  {
   "cell_type": "markdown",
   "id": "e815453a",
   "metadata": {},
   "source": [
    "## 4.3 Recorrer cadenas (strings)"
   ]
  },
  {
   "cell_type": "markdown",
   "id": "ce17a79d",
   "metadata": {},
   "source": [
    "Una cadena es una secuencia de caracteres; podemos iterarla con `for`.\n"
   ]
  },
  {
   "cell_type": "code",
   "execution_count": 1,
   "id": "52a82e2f",
   "metadata": {},
   "outputs": [
    {
     "name": "stdout",
     "output_type": "stream",
     "text": [
      "P\n",
      "y\n",
      "t\n",
      "h\n",
      "o\n",
      "n\n"
     ]
    }
   ],
   "source": [
    "# Recorrer caracteres de una cadena\n",
    "texto = \"Python\"\n",
    "for c in texto:\n",
    "    print(c)"
   ]
  },
  {
   "cell_type": "markdown",
   "id": "8b05968b",
   "metadata": {},
   "source": [
    "## 4.4 `break`, `continue` y `else` en bucles"
   ]
  },
  {
   "cell_type": "markdown",
   "id": "d5234d56",
   "metadata": {},
   "source": [
    "- `break`: sale inmediatamente del bucle.\n",
    "- `continue`: salta al **siguiente** ciclo, sin ejecutar el resto del bloque actual.\n",
    "- `else` en bucles: se ejecuta si el bucle **termina sin `break`**.\n"
   ]
  },
  {
   "cell_type": "code",
   "execution_count": 2,
   "id": "04bf3522",
   "metadata": {},
   "outputs": [
    {
     "name": "stdout",
     "output_type": "stream",
     "text": [
      "1\n",
      "3\n",
      "Fin del bucle con break/continue\n"
     ]
    }
   ],
   "source": [
    "# Demostración de break y continue\n",
    "for i in range(1, 8):\n",
    "    if i == 5:\n",
    "        break            # Salimos cuando i == 5\n",
    "    if i % 2 == 0:\n",
    "        continue         # Saltamos números pares\n",
    "    print(i)             # Imprime 1, 3\n",
    "print(\"Fin del bucle con break/continue\")"
   ]
  },
  {
   "cell_type": "code",
   "execution_count": null,
   "id": "03117617",
   "metadata": {},
   "outputs": [],
   "source": [
    "# Bucle con else\n",
    "objetivo = 7\n",
    "for i in range(1, 10):\n",
    "    if i == objetivo:\n",
    "        print(\"Encontrado:\", i)\n",
    "        # Quita el comentario de la siguiente línea y verás que el 'else' NO se ejecuta\n",
    "        # break\n",
    "else:\n",
    "    print(\"El bucle terminó sin usar break\")"
   ]
  },
  {
   "cell_type": "markdown",
   "id": "0420ab01",
   "metadata": {},
   "source": [
    "## 4.5 Buenas prácticas"
   ]
  },
  {
   "cell_type": "markdown",
   "id": "1de28884",
   "metadata": {},
   "source": [
    "- Define claramente la **condición** de salida y/o el **rango** de iteración.\n",
    "- Evita bucles infinitos; si los usas, controla la salida con `break` bien justificado.\n",
    "- Prefiere `for + range()` cuando sabes cuántas iteraciones necesitas.\n",
    "- Usa nombres de variables de bucle claros (`i`, `j` para contadores simples; otros más descriptivos si procede).\n"
   ]
  },
  {
   "cell_type": "markdown",
   "id": "2346c802",
   "metadata": {},
   "source": [
    "## 4.6 Ejercicios guiados"
   ]
  },
  {
   "cell_type": "markdown",
   "id": "5d4cba9c",
   "metadata": {},
   "source": [
    "### Ejercicio 1: Contador con `while`  \n",
    "Muestra los números del 1 al `n` (pidiendo `n` por teclado).\n",
    "\n",
    "### Ejercicio 2: Contador con `for` y `range()`  \n",
    "Muestra los números del 0 al `n-1` usando `range(n)`.\n",
    "\n",
    "### Ejercicio 3: Recorrer una cadena  \n",
    "Pide una palabra y muestra cada carácter en una línea.\n",
    "\n",
    "### Ejercicio 4: `break` y `continue`  \n",
    "Recorre los números del 1 al 10. No imprimas los múltiplos de 3 y detén el bucle cuando llegues a 8.\n"
   ]
  },
  {
   "cell_type": "code",
   "execution_count": null,
   "id": "9e44aedd",
   "metadata": {},
   "outputs": [],
   "source": [
    "# Ejercicio 1: Contador con while\n",
    "n = int(input(\"Introduce n: \"))\n",
    "i = 1\n",
    "while i <= n:\n",
    "    print(i)\n",
    "    i += 1"
   ]
  },
  {
   "cell_type": "code",
   "execution_count": null,
   "id": "b7551fe0",
   "metadata": {},
   "outputs": [],
   "source": [
    "# Ejercicio 2: Contador con for y range()\n",
    "n = int(input(\"Introduce n: \"))\n",
    "for i in range(n):\n",
    "    print(i)"
   ]
  },
  {
   "cell_type": "code",
   "execution_count": 6,
   "id": "ffc7a16a",
   "metadata": {},
   "outputs": [
    {
     "name": "stdin",
     "output_type": "stream",
     "text": [
      "Introduce una palabra:  hola\n"
     ]
    },
    {
     "name": "stdout",
     "output_type": "stream",
     "text": [
      "a\n",
      "o\n"
     ]
    }
   ],
   "source": [
    "# Ejercicio 3: Recorrer una cadena\n",
    "palabra = input(\"Introduce una palabra: \")\n",
    "for c in palabra[::-1]:\n",
    "    print(c)"
   ]
  },
  {
   "cell_type": "code",
   "execution_count": 14,
   "id": "3f17e63f-386e-4ed1-a10e-e204e2158b71",
   "metadata": {},
   "outputs": [
    {
     "name": "stdin",
     "output_type": "stream",
     "text": [
      "Introduce una palabra:  hola\n"
     ]
    },
    {
     "name": "stdout",
     "output_type": "stream",
     "text": [
      "['a', 'l', 'o', 'h']\n"
     ]
    }
   ],
   "source": [
    "palabra = input(\"Introduce una palabra: \")\n",
    "lista_de_letras = list(palabra)\n",
    "lista_de_letras.reverse()\n",
    "print (lista_de_letras)"
   ]
  },
  {
   "cell_type": "code",
   "execution_count": 27,
   "id": "aa7a6522-ae19-4328-92fd-e16bac8c9613",
   "metadata": {},
   "outputs": [
    {
     "name": "stdin",
     "output_type": "stream",
     "text": [
      "Introduce una palabra:  isi\n"
     ]
    },
    {
     "name": "stdout",
     "output_type": "stream",
     "text": [
      "Las palabras  isi  y  isi  son palíndromos\n"
     ]
    }
   ],
   "source": [
    "palabra = input(\"Introduce una palabra: \")\n",
    "invert = ''.join(reversed(palabra))\n",
    "\n",
    "if palabra==invert:\n",
    "    print(\"Las palabras \",palabra,\" y \",invert,\" son palíndromos\")\n",
    "else:\n",
    "    print(\"Las palabras \",palabra,\" y \",invert,\" NO son palíndromos\")\n",
    "    \n"
   ]
  },
  {
   "cell_type": "code",
   "execution_count": null,
   "id": "58428108",
   "metadata": {},
   "outputs": [],
   "source": [
    "# Ejercicio 4: break y continue\n",
    "for i in range(1, 11):\n",
    "    if i % 3 == 0:\n",
    "        continue\n",
    "    if i == 8:\n",
    "        break\n",
    "    print(i)"
   ]
  },
  {
   "cell_type": "markdown",
   "id": "61ade1f6",
   "metadata": {},
   "source": [
    "## 4.7 Ejercicios propuestos"
   ]
  },
  {
   "cell_type": "markdown",
   "id": "353d4118",
   "metadata": {},
   "source": [
    "1. Imprime los números del 1 al 10 con `for` y con `while` (dos soluciones).\n",
    "2. Imprime solo los números **pares** del 0 al 20 usando `for` y `continue`.\n",
    "3. Pide un número `n` y muestra su **tabla de multiplicar** del 1 al 10.\n",
    "4. Calcula la **suma** de los primeros `n` números naturales usando `for` (tip: acumula en una variable).\n",
    "5. Recorre una cadena e imprime cuántas letras `a` contiene.\n",
    "6. Repite el ejercicio 5 pero detente con `break` al encontrar la **primera** `a`, e indica su posición (índice).  \n",
    "   *Sugerencia:* lleva un contador de índice comenzando en 0.\n"
   ]
  },
  {
   "cell_type": "code",
   "execution_count": 23,
   "id": "0053971e-c064-4975-a5c5-11630748119b",
   "metadata": {},
   "outputs": [
    {
     "name": "stdout",
     "output_type": "stream",
     "text": [
      "1\n",
      "2\n",
      "3\n",
      "4\n",
      "5\n",
      "6\n",
      "7\n",
      "8\n",
      "9\n",
      "10\n"
     ]
    }
   ],
   "source": [
    "#1.Imprime los números del 1 al 10 con for y con while (dos soluciones).\n",
    "\n",
    "for i in range(1,11):\n",
    "    print (i)"
   ]
  },
  {
   "cell_type": "code",
   "execution_count": 27,
   "id": "341375c2-ece9-4019-83f1-88fa1c3b65a8",
   "metadata": {},
   "outputs": [
    {
     "name": "stdout",
     "output_type": "stream",
     "text": [
      "1\n",
      "2\n",
      "3\n",
      "4\n",
      "5\n",
      "6\n",
      "7\n",
      "8\n",
      "9\n",
      "10\n"
     ]
    }
   ],
   "source": [
    "#1.Imprime los números del 1 al 10 con for y con while (dos soluciones).\n",
    "\n",
    "i = 1\n",
    "while i<=10:\n",
    "    print (i)\n",
    "    i+=1\n"
   ]
  },
  {
   "cell_type": "code",
   "execution_count": 19,
   "id": "27c4ada4-502c-4048-ba47-4e69dd60e16f",
   "metadata": {},
   "outputs": [
    {
     "name": "stdout",
     "output_type": "stream",
     "text": [
      "2\n",
      "4\n",
      "6\n",
      "8\n",
      "10\n",
      "12\n",
      "14\n",
      "16\n",
      "18\n",
      "20\n"
     ]
    }
   ],
   "source": [
    "# 2.Imprime solo los números pares del 0 al 20 usando for y continue.\n",
    "contador = 0\n",
    "\n",
    "for i in range(1,21):\n",
    "    if i%2 == 0:\n",
    "        print (f\"{i}\")\n",
    "\n",
    "\n",
    "\n"
   ]
  },
  {
   "cell_type": "code",
   "execution_count": 7,
   "id": "df58ecea-4ee6-44e2-be21-dfb2dcce4800",
   "metadata": {},
   "outputs": [
    {
     "name": "stdin",
     "output_type": "stream",
     "text": [
      "Introducir número de la tabla:  5\n"
     ]
    },
    {
     "name": "stdout",
     "output_type": "stream",
     "text": [
      "5 x 1 = 5\n",
      "5 x 2 = 10\n",
      "5 x 3 = 15\n",
      "5 x 4 = 20\n",
      "5 x 5 = 25\n",
      "5 x 6 = 30\n",
      "5 x 7 = 35\n",
      "5 x 8 = 40\n",
      "5 x 9 = 45\n",
      "5 x 10 = 50\n"
     ]
    }
   ],
   "source": [
    "# 3. Pide un número n y muestra su tabla de multiplicar del 1 al 10.\n",
    "\n",
    "numero = int(input (\"Introducir número de la tabla: \"))\n",
    "\n",
    "for i in range (1,11):\n",
    "        resultado = numero * i\n",
    "        print(f\"{numero} x {i} = {resultado}\") \n"
   ]
  },
  {
   "cell_type": "code",
   "execution_count": 10,
   "id": "755057d8-0b8a-4f06-9000-60158759956d",
   "metadata": {},
   "outputs": [
    {
     "name": "stdin",
     "output_type": "stream",
     "text": [
      "Hasta que numero sumamos:  6\n"
     ]
    },
    {
     "name": "stdout",
     "output_type": "stream",
     "text": [
      "La suma de los primeros 6 números naturales es: 21\n"
     ]
    }
   ],
   "source": [
    "# 4. Calcula la suma de los primeros n números naturales usando for (tip: acumula en una variable).\n",
    "\n",
    "n = int(input(\"Hasta que numero sumamos: \"))\n",
    "suma = 0\n",
    "\n",
    "for i in range(1, n + 1):\n",
    "    suma += i\n",
    "\n",
    "print(f\"La suma de los primeros {n} números naturales es: {suma}\")"
   ]
  },
  {
   "cell_type": "code",
   "execution_count": 50,
   "id": "2ed03c2f-d80e-4210-bfc9-aa33c76870d2",
   "metadata": {},
   "outputs": [
    {
     "name": "stdin",
     "output_type": "stream",
     "text": [
      "Introducir frase:  hola\n"
     ]
    },
    {
     "name": "stdout",
     "output_type": "stream",
     "text": [
      "La cadena 'hola' contiene 1 letras 'a'.\n"
     ]
    }
   ],
   "source": [
    "# 5. Recorre una cadena e imprime cuántas letras a contiene.\n",
    "\n",
    "cadena = input(\"Introducir frase: \")\n",
    "contador_a = 0\n",
    "\n",
    "for letra in cadena:\n",
    "    if letra == 'a':\n",
    "        contador_a += 1\n",
    "\n",
    "print(f\"La cadena '{cadena}' contiene {contador_a} letras 'a'.\")"
   ]
  },
  {
   "cell_type": "code",
   "execution_count": 33,
   "id": "728b7163-4eb3-4982-963c-b215f0ea70b6",
   "metadata": {},
   "outputs": [
    {
     "name": "stdin",
     "output_type": "stream",
     "text": [
      "Introducir frase:  ss\n"
     ]
    }
   ],
   "source": [
    "# 6.Repite el ejercicio 5 pero detente con break al encontrar la primera a, e indica su posición (índice).\n",
    "# CON ENUMERATE\n",
    "\n",
    "cadena = input(\"Introducir frase: \")\n",
    "\n",
    "for indice, letra in enumerate(cadena):\n",
    "    if letra == 'a':\n",
    "        print(f\"Se encontró la primera 'a' en la posición: {indice}\")\n",
    "        break "
   ]
  },
  {
   "cell_type": "code",
   "execution_count": 51,
   "id": "d392c005-9d39-4268-aa0f-33d0a4ac47f8",
   "metadata": {},
   "outputs": [
    {
     "name": "stdin",
     "output_type": "stream",
     "text": [
      "Introducir frase:  hola\n"
     ]
    },
    {
     "name": "stdout",
     "output_type": "stream",
     "text": [
      "Se encontró la primera 'a' en la posición: 4\n"
     ]
    }
   ],
   "source": [
    "# 6.Repite el ejercicio 5 pero detente con break al encontrar la primera a, e indica su posición (índice).\n",
    "\n",
    "frase = input(\"Introducir frase: \")\n",
    "posicion = 0\n",
    "\n",
    "for letra in frase.lower():\n",
    "    if letra == 'a' or letra =='á':\n",
    "        print(f\"Se encontró la primera 'a' en la posición: {posicion+1}\")\n",
    "        break\n",
    "    posicion += 1"
   ]
  }
 ],
 "metadata": {
  "kernelspec": {
   "display_name": "Python [conda env:base] *",
   "language": "python",
   "name": "conda-base-py"
  },
  "language_info": {
   "codemirror_mode": {
    "name": "ipython",
    "version": 3
   },
   "file_extension": ".py",
   "mimetype": "text/x-python",
   "name": "python",
   "nbconvert_exporter": "python",
   "pygments_lexer": "ipython3",
   "version": "3.13.5"
  }
 },
 "nbformat": 4,
 "nbformat_minor": 5
}
