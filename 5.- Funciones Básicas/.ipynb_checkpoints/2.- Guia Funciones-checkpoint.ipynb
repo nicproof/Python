{
 "cells": [
  {
   "cell_type": "markdown",
   "id": "a47422f8",
   "metadata": {},
   "source": [
    "\n",
    "# Guía práctica: crear funciones propias e importar librerías en Python\n",
    "\n",
    "**Objetivos**\n",
    "- Entender la sintaxis de `def` y el flujo de una función.\n",
    "- Trabajar con parámetros, valores por defecto, `*args` y `**kwargs`.\n",
    "- Escribir docstrings y seguir buenas prácticas.\n",
    "- Importar y usar librerías de forma correcta (y documentar dependencias).\n"
   ]
  },
  {
   "cell_type": "markdown",
   "id": "97ea6c31",
   "metadata": {},
   "source": [
    "\n",
    "## 1) ¿Qué es una función?\n",
    "Una **función** encapsula un bloque de código reutilizable. Ayuda a:\n",
    "- Evitar duplicidad\n",
    "- Organizar mejor el código\n",
    "- Probar y depurar en partes más pequeñas\n"
   ]
  },
  {
   "cell_type": "markdown",
   "id": "278fb78f",
   "metadata": {},
   "source": [
    "\n",
    "## 2) Sintaxis básica\n",
    "```python\n",
    "def nombre_funcion(par1, par2=valor_por_defecto):\n",
    "    \"\"\"Descripción breve de lo que hace la función.\n",
    "    \n",
    "    Args:\n",
    "        par1 (tipo): explicación.\n",
    "        par2 (tipo, opcional): explicación. Por defecto valor_por_defecto.\n",
    "    Returns:\n",
    "        tipo: qué devuelve.\n",
    "    \"\"\"\n",
    "    # cuerpo\n",
    "    resultado = par1 + par2\n",
    "    return resultado\n",
    "```\n"
   ]
  },
  {
   "cell_type": "code",
   "execution_count": null,
   "id": "d17de74e",
   "metadata": {},
   "outputs": [],
   "source": [
    "# Ejemplo mínimo\n",
    "def saludar(nombre, saludo=\"Hola\"): \n",
    "    \"\"\"Devuelve un saludo personalizado.\"\"\"\n",
    "    return f\"{saludo}, {nombre}!\"\n",
    "\n",
    "saludar(\"Ada\")"
   ]
  },
  {
   "cell_type": "markdown",
   "id": "35b94ef9",
   "metadata": {},
   "source": [
    "\n",
    "## 3) Parámetros y argumentos\n",
    "- **Posicionales**: dependen del orden.\n",
    "- **Nombrados (keyword)**: `saludar(nombre=\"Ada\")`\n",
    "- **Valores por defecto**: se definen en la firma.\n",
    "- **`*args` y `**kwargs`**: capturan argumentos variables.\n"
   ]
  },
  {
   "cell_type": "code",
   "execution_count": null,
   "id": "bc364d40",
   "metadata": {},
   "outputs": [],
   "source": [
    "def demo_args(a, b=0, *args, **kwargs):\n",
    "    print(\"a=\", a, \"b=\", b)\n",
    "    print(\"args=\", args)\n",
    "    print(\"kwargs=\", kwargs)\n",
    "\n",
    "demo_args(1, 2, 3, 4, modo=\"debug\", verbose=True)"
   ]
  },
  {
   "cell_type": "markdown",
   "id": "2a74ff7e",
   "metadata": {},
   "source": [
    "\n",
    "## 4) Devolver resultados\n",
    "- `return` finaliza la función y devuelve un valor.\n",
    "- Si no se usa `return`, la función devuelve `None`.\n"
   ]
  },
  {
   "cell_type": "code",
   "execution_count": null,
   "id": "ca2e68e2",
   "metadata": {},
   "outputs": [],
   "source": [
    "def dividir(a, b):\n",
    "    if b == 0:\n",
    "        return None  # o lanzar una excepción\n",
    "    return a / b\n",
    "\n",
    "dividir(10, 2), dividir(10, 0)"
   ]
  },
  {
   "cell_type": "markdown",
   "id": "1bba68dd",
   "metadata": {},
   "source": [
    "\n",
    "## 5) Documentación con docstrings\n",
    "Sigue el formato **Google**, **NumPy** o **reST**. Mantén la primera línea breve.  \n",
    "Ejemplo ya visto en la sección 2.\n"
   ]
  },
  {
   "cell_type": "markdown",
   "id": "8d407aff",
   "metadata": {},
   "source": [
    "\n",
    "## 6) Buenas prácticas\n",
    "- Nombres en **snake_case** (`calcular_media`).\n",
    "- Funciones **pequeñas** y con **una sola responsabilidad**.\n",
    "- Tipado opcional con **type hints**.\n",
    "- Tests rápidos con `assert`.\n"
   ]
  },
  {
   "cell_type": "code",
   "execution_count": null,
   "id": "7beac149",
   "metadata": {},
   "outputs": [],
   "source": [
    "from typing import Iterable\n",
    "\n",
    "def calcular_media(valores: Iterable[float]) -> float:\n",
    "    \"\"\"Calcula la media aritmética de una colección de números.\"\"\"\n",
    "    valores = list(valores)\n",
    "    assert len(valores) > 0, \"la colección no puede estar vacía\"\n",
    "    return sum(valores) / len(valores)\n",
    "\n",
    "calcular_media([1,2,3,4,5])"
   ]
  },
  {
   "cell_type": "markdown",
   "id": "01011c49",
   "metadata": {},
   "source": [
    "\n",
    "## 7) Funciones anónimas: `lambda` (uso puntual)\n",
    "Útiles para funciones pequeñas de una sola expresión.\n"
   ]
  },
  {
   "cell_type": "code",
   "execution_count": null,
   "id": "5bf22b85",
   "metadata": {},
   "outputs": [],
   "source": [
    "cuadrados = list(map(lambda x: x*x, range(5)))\n",
    "cuadrados"
   ]
  },
  {
   "cell_type": "markdown",
   "id": "be1f0bf5",
   "metadata": {},
   "source": [
    "\n",
    "---\n",
    "\n",
    "# Importar y usar librerías\n"
   ]
  },
  {
   "cell_type": "markdown",
   "id": "8b477c6b",
   "metadata": {},
   "source": [
    "\n",
    "## 8) Formas de importar\n",
    "```python\n",
    "import math                # importar el módulo completo\n",
    "from math import sqrt, pi  # importar nombres concretos\n",
    "import numpy as np         # alias para abreviar\n",
    "```\n",
    "**Recomendación:** usa alias conocidos (`np`, `pd`, `plt`) y evita `from modulo import *`.\n"
   ]
  },
  {
   "cell_type": "code",
   "execution_count": null,
   "id": "29f78840",
   "metadata": {},
   "outputs": [],
   "source": [
    "# Ejemplo de uso\n",
    "import math\n",
    "from math import sqrt, pi\n",
    "\n",
    "math.factorial(5), sqrt(16), pi"
   ]
  },
  {
   "cell_type": "markdown",
   "id": "30e9e737",
   "metadata": {},
   "source": [
    "\n",
    "## 9) Instalación de librerías\n",
    "- Desde **terminal o Jupyter**:\n",
    "```bash\n",
    "pip install nombre_paquete\n",
    "```\n",
    "En Jupyter, puedes usar:\n",
    "```python\n",
    "%pip install nombre_paquete\n",
    "```\n",
    "> Consejo: especifica versiones para reproducibilidad, por ejemplo: `pandas==2.2.2`.\n"
   ]
  },
  {
   "cell_type": "markdown",
   "id": "26b92a5d",
   "metadata": {},
   "source": [
    "\n",
    "## 10) Entornos virtuales (resumen rápido)\n",
    "Usa entornos virtuales para aislar dependencias:\n",
    "```bash\n",
    "python -m venv .venv\n",
    "# activar: Windows: .venv\\Scripts\\activate  |  macOS/Linux: source .venv/bin/activate\n",
    "pip install -r requirements.txt\n",
    "```\n",
    "Crea un `requirements.txt` con:\n",
    "```bash\n",
    "pip freeze > requirements.txt\n",
    "```\n"
   ]
  },
  {
   "cell_type": "markdown",
   "id": "98c715c6",
   "metadata": {},
   "source": [
    "\n",
    "## 11) Importaciones relativas (en paquetes)\n",
    "Estructura típica:\n",
    "```\n",
    "mi_proyecto/\n",
    "├── mi_paquete/\n",
    "│   ├── __init__.py\n",
    "│   ├── util.py\n",
    "│   └── core.py\n",
    "└── main.py\n",
    "```\n",
    "En `core.py`:\n",
    "```python\n",
    "from .util import helper  # importación relativa dentro del paquete\n",
    "```\n"
   ]
  },
  {
   "cell_type": "markdown",
   "id": "9e9673a3",
   "metadata": {},
   "source": [
    "\n",
    "## 12) Mini-proyecto guiado\n",
    "1. Escribe `normalizar(valores)` que:\n",
    "    - Convierta a `list`,\n",
    "    - Reste el mínimo y divida por el rango,\n",
    "    - Devuelva una nueva lista entre 0 y 1.\n",
    "2. Crea `estadisticas(valores)` que use **NumPy** si está disponible; si no, caiga en `sum/len` nativos.\n"
   ]
  },
  {
   "cell_type": "code",
   "execution_count": null,
   "id": "4bcdfe19",
   "metadata": {},
   "outputs": [],
   "source": [
    "def normalizar(valores):\n",
    "    vals = list(valores)\n",
    "    vmin, vmax = min(vals), max(vals)\n",
    "    rango = vmax - vmin if vmax != vmin else 1\n",
    "    return [(v - vmin)/rango for v in vals]\n",
    "\n",
    "try:\n",
    "    import numpy as np\n",
    "    def estadisticas(valores):\n",
    "        a = np.array(list(valores), dtype=float)\n",
    "        return {\"media\": float(a.mean()), \"min\": float(a.min()), \"max\": float(a.max())}\n",
    "except Exception:\n",
    "    def estadisticas(valores):\n",
    "        vals = list(valores)\n",
    "        return {\"media\": sum(vals)/len(vals), \"min\": min(vals), \"max\": max(vals)}\n",
    "\n",
    "datos = [10, 12, 14, 18, 20]\n",
    "normalizar(datos), estadisticas(datos)"
   ]
  },
  {
   "cell_type": "markdown",
   "id": "4dc2ee3d",
   "metadata": {},
   "source": [
    "\n",
    "## 13) Ejercicios propuestos\n",
    "1. **`es_par(n)`**: devuelve `True` si `n` es par. Añade type hints y un docstring.\n",
    "2. **`filtrar_pares(lista)`**: usa comprensión de listas y prueba con `assert`.\n",
    "3. **`area_circulo(r)`**: importa `pi` desde `math` y calcula el área.\n",
    "4. **BONUS**: crea un módulo `utils.py` con estas funciones y pruébalo desde otro notebook con `import utils`.\n"
   ]
  },
  {
   "cell_type": "markdown",
   "id": "d090833c",
   "metadata": {},
   "source": [
    "\n",
    "---\n",
    "### Recursos rápidos\n",
    "- PEP 8 (estilo): nombres, espacios, longitud de línea.\n",
    "- PEP 257 (docstrings): cómo documentar bien funciones.\n",
    "- `help(modulo)` y `dir(modulo)` para explorar librerías.\n"
   ]
  }
 ],
 "metadata": {
  "kernelspec": {
   "display_name": "Python [conda env:base] *",
   "language": "python",
   "name": "conda-base-py"
  },
  "language_info": {
   "codemirror_mode": {
    "name": "ipython",
    "version": 3
   },
   "file_extension": ".py",
   "mimetype": "text/x-python",
   "name": "python",
   "nbconvert_exporter": "python",
   "pygments_lexer": "ipython3",
   "version": "3.13.5"
  }
 },
 "nbformat": 4,
 "nbformat_minor": 5
}
