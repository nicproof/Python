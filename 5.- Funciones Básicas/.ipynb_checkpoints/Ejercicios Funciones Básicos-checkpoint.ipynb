{
 "cells": [
  {
   "cell_type": "markdown",
   "metadata": {},
   "source": [
    "# Funciones: nivel básico — ejercicios (sin resolver)\n",
    "\n",
    "En este cuaderno encontrarás **enunciados** de ejercicios sobre funciones en Python y celdas preparadas para que escribas tus soluciones."
   ]
  },
  {
   "cell_type": "markdown",
   "metadata": {},
   "source": [
    "## Instrucciones\n",
    "- Lee atentamente cada **enunciado**.\n",
    "- Escribe tu código en las celdas asignadas.\n",
    "- Ejecuta para comprobar el resultado.\n",
    "- Puedes añadir celdas si lo necesitas."
   ]
  },
  {
   "cell_type": "markdown",
   "metadata": {},
   "source": [
    "---\n",
    "\n",
    "## Ejercicio 1\n",
    "\n",
    "Crea una función `saludar(nombre)` que devuelva el texto `\"Hola, <nombre>!\"`."
   ]
  },
  {
   "cell_type": "markdown",
   "metadata": {},
   "source": [
    "---\n",
    "\n",
    "## Ejercicio 2\n",
    "\n",
    "Escribe `suma(a, b)` que retorne la suma de dos números."
   ]
  },
  {
   "cell_type": "markdown",
   "metadata": {},
   "source": [
    "---\n",
    "\n",
    "## Ejercicio 3\n",
    "\n",
    "Define `mayor(a, b)` que devuelva el mayor de dos números."
   ]
  },
  {
   "cell_type": "markdown",
   "metadata": {},
   "source": [
    "---\n",
    "\n",
    "## Ejercicio 4\n",
    "\n",
    "Escribe `celsius_a_fahrenheit(c)` que convierta grados Celsius a Fahrenheit usando la fórmula `F = C * 9/5 + 32`."
   ]
  },
  {
   "cell_type": "markdown",
   "metadata": {},
   "source": [
    "---\n",
    "\n",
    "## Ejercicio 5\n",
    "\n",
    "Crea `longitud(lista)` que retorne la cantidad de elementos de una lista **sin usar** `len` (usa un bucle)."
   ]
  }
 ],
 "metadata": {
  "kernelspec": {
   "display_name": "Python [conda env:base] *",
   "language": "python",
   "name": "conda-base-py"
  },
  "language_info": {
   "codemirror_mode": {
    "name": "ipython",
    "version": 3
   },
   "file_extension": ".py",
   "mimetype": "text/x-python",
   "name": "python",
   "nbconvert_exporter": "python",
   "pygments_lexer": "ipython3",
   "version": "3.13.5"
  }
 },
 "nbformat": 4,
 "nbformat_minor": 4
}
