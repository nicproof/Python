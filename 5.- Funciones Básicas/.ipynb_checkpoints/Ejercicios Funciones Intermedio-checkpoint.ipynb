{
 "cells": [
  {
   "cell_type": "markdown",
   "metadata": {},
   "source": [
    "# Funciones: nivel intermedio — ejercicios (sin resolver)\n",
    "\n",
    "\n",
    "En este cuaderno encontrarás **enunciados** de ejercicios sobre funciones en Python y celdas preparadas para que escribas tus soluciones."
   ]
  },
  {
   "cell_type": "markdown",
   "metadata": {},
   "source": [
    "## Instrucciones\n",
    "- Lee atentamente cada **enunciado**.\n",
    "- Escribe tu código en las celdas asignadas.\n",
    "- Ejecuta para comprobar el resultado.\n",
    "- Puedes añadir celdas si lo necesitas."
   ]
  },
  {
   "cell_type": "markdown",
   "metadata": {},
   "source": [
    "---\n",
    "\n",
    "## Ejercicio 1\n",
    "\n",
    "Implementa `factorial(n)` de forma **iterativa**. Si `n<0`, devuelve un mensaje de error.\n",
    "El factorial de un número entero no negativo 'n', representado como n!, es el producto de todos los números enteros positivos desde 1 hasta 'n'. Se calcula multiplicando ese número por todos los enteros positivos que le preceden hasta llegar al 1"
   ]
  },
  {
   "cell_type": "markdown",
   "metadata": {},
   "source": [
    "---\n",
    "\n",
    "## Ejercicio 2\n",
    "\n",
    "Crea `es_primo(n)` que devuelva `True` si `n` es primo."
   ]
  },
  {
   "cell_type": "markdown",
   "metadata": {},
   "source": [
    "---\n",
    "\n",
    "## Ejercicio 3\n",
    "\n",
    "Define `suma_pares(lista)` que sume sólo los números pares de una lista."
   ]
  },
  {
   "cell_type": "markdown",
   "metadata": {},
   "source": [
    "---\n",
    "\n",
    "## Ejercicio 4\n",
    "\n",
    "Escribe `potencia(base, exp=2)` con exponente por defecto 2."
   ]
  },
  {
   "cell_type": "markdown",
   "metadata": {},
   "source": [
    "---\n",
    "\n",
    "## Ejercicio 5\n",
    "\n",
    "Implementa `invertir_texto(s)` que devuelva el texto invertido."
   ]
  }
 ],
 "metadata": {
  "kernelspec": {
   "display_name": "Python [conda env:base] *",
   "language": "python",
   "name": "conda-base-py"
  },
  "language_info": {
   "codemirror_mode": {
    "name": "ipython",
    "version": 3
   },
   "file_extension": ".py",
   "mimetype": "text/x-python",
   "name": "python",
   "nbconvert_exporter": "python",
   "pygments_lexer": "ipython3",
   "version": "3.13.5"
  }
 },
 "nbformat": 4,
 "nbformat_minor": 4
}
