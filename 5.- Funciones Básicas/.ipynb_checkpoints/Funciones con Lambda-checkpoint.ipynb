{
 "cells": [
  {
   "cell_type": "markdown",
   "metadata": {},
   "source": [
    "# 🚀 Funciones `lambda` en Python\n",
    "\n",
    "En este cuaderno aprenderás qué es una **función lambda**, cómo se usa y harás ejercicios sencillos paso a paso."
   ]
  },
  {
   "cell_type": "markdown",
   "metadata": {},
   "source": [
    "## 🔹 1. ¿Qué es una función `lambda`?\n",
    "- Son **funciones anónimas**, es decir, no necesitan nombre.\n",
    "- Se definen en **una sola línea**.\n",
    "- Sintaxis: `lambda argumentos: expresión`.\n",
    "\n",
    "👉 Útil cuando necesitamos funciones rápidas y pequeñas."
   ]
  },
  {
   "cell_type": "code",
   "execution_count": null,
   "metadata": {},
   "outputs": [],
   "source": [
    "# Ejemplo: función normal\n",
    "def cuadrado(x):\n",
    "    return x * x\n",
    "\n",
    "# Misma función con lambda\n",
    "cuadrado_lambda = lambda x: x * x\n",
    "\n",
    "print(cuadrado(5))        # 25\n",
    "print(cuadrado_lambda(5)) # 25"
   ]
  },
  {
   "cell_type": "markdown",
   "metadata": {},
   "source": [
    "## 🔹 2. Lambdas con varios parámetros\n",
    "Podemos usar más de un argumento:"
   ]
  },
  {
   "cell_type": "code",
   "execution_count": null,
   "metadata": {},
   "outputs": [],
   "source": [
    "suma = lambda a, b: a + b\n",
    "print(suma(3, 7))  # 10"
   ]
  },
  {
   "cell_type": "markdown",
   "metadata": {},
   "source": [
    "## 🔹 3. Uso con funciones como `map`, `filter` y `sorted`\n",
    "Las lambdas se usan mucho cuando pasamos funciones como parámetro."
   ]
  },
  {
   "cell_type": "code",
   "execution_count": null,
   "metadata": {},
   "outputs": [],
   "source": [
    "# sorted con lambda\n",
    "numeros = [(1, 'uno'), (3, 'tres'), (2, 'dos')]\n",
    "ordenados = sorted(numeros, key=lambda x: x[1])\n",
    "print(ordenados)  # [(2, 'dos'), (1, 'uno'), (3, 'tres')]"
   ]
  },
  {
   "cell_type": "code",
   "execution_count": null,
   "metadata": {},
   "outputs": [],
   "source": [
    "# map con lambda\n",
    "nums = [1, 2, 3, 4]\n",
    "cuadrados = list(map(lambda n: n**2, nums))\n",
    "print(cuadrados)  # [1, 4, 9, 16]"
   ]
  },
  {
   "cell_type": "code",
   "execution_count": null,
   "metadata": {},
   "outputs": [],
   "source": [
    "# filter con lambda\n",
    "nums = [1, 2, 3, 4, 5, 6]\n",
    "pares = list(filter(lambda n: n % 2 == 0, nums))\n",
    "print(pares)  # [2, 4, 6]"
   ]
  },
  {
   "cell_type": "markdown",
   "metadata": {},
   "source": [
    "## 📝 4. Ejercicios propuestos\n",
    "\n",
    "### Ejercicio 1\n",
    "Usa `lambda` para crear una función que calcule el **triple** de un número.\n",
    "\n",
    "👉 Pista: `lambda x: ...`\n",
    "\n",
    "---\n",
    "### Ejercicio 2\n",
    "Con `map` y `lambda`, multiplica cada número de la lista `[2, 4, 6]` por **10**.\n",
    "\n",
    "---\n",
    "### Ejercicio 3\n",
    "Con `filter` y `lambda`, selecciona solo los **números mayores que 5** de la lista `[3, 7, 2, 8, 1]`.\n",
    "\n",
    "---\n",
    "### Ejercicio 4\n",
    "Usa `sorted` y `lambda` para ordenar la lista `[(\"Ana\", 20), (\"Luis\", 15), (\"Marta\", 30)]` por **edad**."
   ]
  },
  {
   "cell_type": "markdown",
   "metadata": {},
   "source": [
    "## ✅ 5. Soluciones\n",
    "Aquí tienes las soluciones a los ejercicios:"
   ]
  },
  {
   "cell_type": "code",
   "execution_count": null,
   "metadata": {},
   "outputs": [],
   "source": [
    "# Ejercicio 1\n",
    "triple = lambda x: x * 3\n",
    "print(triple(5))  # 15\n",
    "\n",
    "# Ejercicio 2\n",
    "lista = [2, 4, 6]\n",
    "resultado = list(map(lambda n: n * 10, lista))\n",
    "print(resultado)  # [20, 40, 60]\n",
    "\n",
    "# Ejercicio 3\n",
    "numeros = [3, 7, 2, 8, 1]\n",
    "mayores = list(filter(lambda n: n > 5, numeros))\n",
    "print(mayores)  # [7, 8]\n",
    "\n",
    "# Ejercicio 4\n",
    "personas = [(\"Ana\", 20), (\"Luis\", 15), (\"Marta\", 30)]\n",
    "ordenadas = sorted(personas, key=lambda x: x[1])\n",
    "print(ordenadas)  # [('Luis', 15), ('Ana', 20), ('Marta', 30)]"
   ]
  }
 ],
 "metadata": {
  "kernelspec": {
   "display_name": "Python [conda env:base] *",
   "language": "python",
   "name": "conda-base-py"
  },
  "language_info": {
   "codemirror_mode": {
    "name": "ipython",
    "version": 3
   },
   "file_extension": ".py",
   "mimetype": "text/x-python",
   "name": "python",
   "nbconvert_exporter": "python",
   "pygments_lexer": "ipython3",
   "version": "3.13.5"
  }
 },
 "nbformat": 4,
 "nbformat_minor": 4
}
