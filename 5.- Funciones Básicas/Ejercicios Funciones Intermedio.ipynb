{
 "cells": [
  {
   "cell_type": "markdown",
   "metadata": {},
   "source": [
    "# Funciones: nivel intermedio — ejercicios (sin resolver)\n",
    "\n",
    "\n",
    "En este cuaderno encontrarás **enunciados** de ejercicios sobre funciones en Python y celdas preparadas para que escribas tus soluciones."
   ]
  },
  {
   "cell_type": "markdown",
   "metadata": {},
   "source": [
    "## Instrucciones\n",
    "- Lee atentamente cada **enunciado**.\n",
    "- Escribe tu código en las celdas asignadas.\n",
    "- Ejecuta para comprobar el resultado.\n",
    "- Puedes añadir celdas si lo necesitas."
   ]
  },
  {
   "cell_type": "markdown",
   "metadata": {},
   "source": [
    "---\n",
    "\n",
    "## Ejercicio 1\n",
    "\n",
    "Implementa `factorial(n)` de forma **iterativa**. Si `n<0`, devuelve un mensaje de error.\n",
    "El factorial de un número entero no negativo 'n', representado como n!, es el producto de todos los números enteros positivos desde 1 hasta 'n'. Se calcula multiplicando ese número por todos los enteros positivos que le preceden hasta llegar al 1"
   ]
  },
  {
   "cell_type": "code",
   "execution_count": 28,
   "metadata": {},
   "outputs": [
    {
     "name": "stdin",
     "output_type": "stream",
     "text": [
      "Introducir numero:  5\n"
     ]
    },
    {
     "data": {
      "text/plain": [
       "120"
      ]
     },
     "execution_count": 28,
     "metadata": {},
     "output_type": "execute_result"
    }
   ],
   "source": [
    "def factorial(n):\n",
    "    if n < 0:\n",
    "        return \"No existe factorial de números negativos\"\n",
    "    if n == 0 or n == 1:\n",
    "        return 1\n",
    "    resultado = 1\n",
    "    for i in range(2, n + 1):\n",
    "        resultado *= i\n",
    "    return resultado\n",
    "\n",
    "n = int(input(\"Introducir numero: \"))\n",
    "factorial(n)"
   ]
  },
  {
   "cell_type": "markdown",
   "metadata": {},
   "source": [
    "---\n",
    "\n",
    "## Ejercicio 2\n",
    "\n",
    "Crea `es_primo(n)` que devuelva `True` si `n` es primo."
   ]
  },
  {
   "cell_type": "code",
   "execution_count": 4,
   "metadata": {},
   "outputs": [
    {
     "name": "stdin",
     "output_type": "stream",
     "text": [
      "Introducir numero:  4\n"
     ]
    },
    {
     "data": {
      "text/plain": [
       "False"
      ]
     },
     "execution_count": 4,
     "metadata": {},
     "output_type": "execute_result"
    }
   ],
   "source": [
    "import math\n",
    "\n",
    "def es_primo(n):\n",
    "    if n <= 1:\n",
    "        return False\n",
    "    if n == 2:\n",
    "        return True\n",
    "    if n % 2 == 0:\n",
    "        return False\n",
    "    limite = int(math.sqrt(n))\n",
    "\n",
    "    for i in range(3, limite + 1, 2):\n",
    "        if n % i == 0:\n",
    "            return False\n",
    "            \n",
    "    return True\n",
    "\n",
    "n = int(input(\"Introducir numero: \"))\n",
    "es_primo(n)\n",
    "    "
   ]
  },
  {
   "cell_type": "code",
   "execution_count": 21,
   "metadata": {},
   "outputs": [
    {
     "name": "stdin",
     "output_type": "stream",
     "text": [
      "Introducir numero:  123\n"
     ]
    },
    {
     "data": {
      "text/plain": [
       "False"
      ]
     },
     "execution_count": 21,
     "metadata": {},
     "output_type": "execute_result"
    }
   ],
   "source": [
    "def es_primo(n):\n",
    "    if n <= 1:\n",
    "        return False\n",
    "    for i in range(2, n):\n",
    "        if n % i == 0:\n",
    "            return False\n",
    "    return True\n",
    "\n",
    "numero = int(input(\"Introducir numero: \"))\n",
    "es_primo(numero)"
   ]
  },
  {
   "cell_type": "markdown",
   "metadata": {},
   "source": [
    "---\n",
    "\n",
    "## Ejercicio 3\n",
    "\n",
    "Define `suma_pares(lista)` que sume sólo los números pares de una lista."
   ]
  },
  {
   "cell_type": "code",
   "execution_count": 24,
   "metadata": {},
   "outputs": [
    {
     "data": {
      "text/plain": [
       "12"
      ]
     },
     "execution_count": 24,
     "metadata": {},
     "output_type": "execute_result"
    }
   ],
   "source": [
    "def pares_lista(lista):\n",
    "    contador = 0\n",
    "    for elemento in lista:\n",
    "        if elemento%2==0:\n",
    "            contador += elemento\n",
    "    return contador\n",
    "\n",
    "lista = [1,2,3,4,5,6]\n",
    "pares_lista(lista)"
   ]
  },
  {
   "cell_type": "code",
   "execution_count": 40,
   "metadata": {},
   "outputs": [
    {
     "name": "stdin",
     "output_type": "stream",
     "text": [
      "Introducir números separados por comas:  4,7,9,0,2\n"
     ]
    },
    {
     "name": "stdout",
     "output_type": "stream",
     "text": [
      "Lista de números (enteros):  [4, 7, 9, 0, 2]\n"
     ]
    },
    {
     "data": {
      "text/plain": [
       "6"
      ]
     },
     "execution_count": 40,
     "metadata": {},
     "output_type": "execute_result"
    }
   ],
   "source": [
    "def pares_lista(lista):\n",
    "    contador = 0\n",
    "    for elemento in lista:\n",
    "        if elemento%2==0:\n",
    "            contador += elemento\n",
    "    return contador\n",
    "\n",
    "entrada= input(\"Introducir números separados por comas: \")\n",
    "elementos = [x.strip() for x in entrada.split(',')]\n",
    "lista = [int(num) for num in elementos]\n",
    "\n",
    "print(\"Lista de números (enteros): \", lista)\n",
    "\n",
    "pares_lista(lista)"
   ]
  },
  {
   "cell_type": "markdown",
   "metadata": {},
   "source": [
    "---\n",
    "\n",
    "## Ejercicio 4\n",
    "\n",
    "Escribe `potencia(base, exp=2)` con exponente por defecto 2."
   ]
  },
  {
   "cell_type": "code",
   "execution_count": 12,
   "metadata": {},
   "outputs": [
    {
     "name": "stdin",
     "output_type": "stream",
     "text": [
      "Introducir base:  5\n"
     ]
    },
    {
     "data": {
      "text/plain": [
       "25"
      ]
     },
     "execution_count": 12,
     "metadata": {},
     "output_type": "execute_result"
    }
   ],
   "source": [
    "def potencia(base, exp=2):\n",
    "    resultado = pow(base,exp)\n",
    "    #resultado = base**exp\n",
    "    return resultado\n",
    "\n",
    "base = int(input(\"Introducir base: \"))\n",
    "potencia(base)"
   ]
  },
  {
   "cell_type": "markdown",
   "metadata": {},
   "source": [
    "---\n",
    "\n",
    "## Ejercicio 5\n",
    "\n",
    "Implementa `invertir_texto(s)` que devuelva el texto invertido."
   ]
  },
  {
   "cell_type": "code",
   "execution_count": 22,
   "metadata": {},
   "outputs": [
    {
     "name": "stdin",
     "output_type": "stream",
     "text": [
      "Introducir texto:  Esto es un ejemplo\n"
     ]
    },
    {
     "data": {
      "text/plain": [
       "'olpmeje nu se otsE'"
      ]
     },
     "execution_count": 22,
     "metadata": {},
     "output_type": "execute_result"
    }
   ],
   "source": [
    "def invertir_texto(texto):\n",
    "    resultado=texto[::-1]\n",
    "    return resultado\n",
    "\n",
    "texto = input(\"Introducir texto: \")\n",
    "invertir_texto(texto)\n"
   ]
  }
 ],
 "metadata": {
  "kernelspec": {
   "display_name": "Python [conda env:base] *",
   "language": "python",
   "name": "conda-base-py"
  },
  "language_info": {
   "codemirror_mode": {
    "name": "ipython",
    "version": 3
   },
   "file_extension": ".py",
   "mimetype": "text/x-python",
   "name": "python",
   "nbconvert_exporter": "python",
   "pygments_lexer": "ipython3",
   "version": "3.13.5"
  }
 },
 "nbformat": 4,
 "nbformat_minor": 4
}
