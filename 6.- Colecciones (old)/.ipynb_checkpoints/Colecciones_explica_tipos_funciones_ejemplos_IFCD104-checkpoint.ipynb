{
 "cells": [
  {
   "cell_type": "markdown",
   "id": "e01b8048",
   "metadata": {},
   "source": [
    "\n",
    "# Colecciones en Python — Qué son, tipos, funciones habituales y ejemplos reales (IFCD104)\n",
    "\n",
    "Este cuaderno explica **solo**:\n",
    "- Qué son las **colecciones**.\n",
    "- Sus **tipos principales**: `list`, `tuple`, `set`/`frozenset`, `dict`.\n",
    "- Las **funciones y métodos habituales** para cada una.\n",
    "- **Ejemplos de uso reales** y prácticos.\n",
    "\n",
    "> Nota: No incluye teoría ajena a colecciones ni ejercicios guiados; es una guía de referencia práctica.\n"
   ]
  },
  {
   "cell_type": "markdown",
   "id": "fc301285",
   "metadata": {},
   "source": [
    "\n",
    "## 1) ¿Qué es una colección?\n",
    "Una **colección** es un tipo de dato que **agrupa** varios valores bajo una sola variable. Python ofrece varias, con propiedades distintas:\n",
    "\n",
    "| Tipo | Mutabilidad | Orden | Duplicados | Acceso | Sintaxis literal | Uso típico |\n",
    "|---|---|---|---|---|---|---|\n",
    "| `list` | ✅ mutable | ✅ orden inserción | ✅ | índice (`L[i]`) | `[1,2,3]` | Secuencias editables, colas/pilas |\n",
    "| `tuple` | ❌ inmutable | ✅ orden inserción | ✅ | índice (`t[i]`) | `(1,2,3)` | Registros inmutables, retorno múltiple, claves compuestas |\n",
    "| `set` | ✅ mutable | ⚠️ sin orden | ❌ | — (pertenencia) | `{1,2,3}` | Unicidad, operaciones de conjuntos, deduplicar |\n",
    "| `frozenset` | ❌ inmutable | ⚠️ sin orden | ❌ | — | `frozenset({...})` | Elemento de `set`, clave de `dict` (hashable) |\n",
    "| `dict` | ✅ mutable | ✅ orden inserción | ❌ (claves únicas) | por clave (`d['k']`) | `{\"k\": \"v\"}` | Mapeos clave→valor (tipo JSON), índices |\n"
   ]
  },
  {
   "cell_type": "markdown",
   "id": "e6a1978c",
   "metadata": {},
   "source": [
    "\n",
    "## 2) Listas (`list`)\n",
    "**Qué son**: Secuencias **mutables y ordenadas** que aceptan duplicados y tipos mixtos.\n",
    "\n",
    "**Funciones/métodos habituales**\n",
    "- Crear/convertir: `list(iterable)`  \n",
    "- Tamaño y pertenencia: `len(L)`, `x in L`  \n",
    "- Acceso/slices: `L[i]`, `L[a:b:c]`  \n",
    "- Añadir: `append(x)`, `extend(iter)`, `insert(i,x)`  \n",
    "- Quitar: `remove(x)`, `pop([i])`, `clear()`  \n",
    "- Buscar/contar: `index(x[,i[,j]])`, `count(x)`  \n",
    "- Ordenar/invertir: `sort(key=None, reverse=False)`, `reverse()`; y las variantes que devuelven nueva lista: `sorted(iterable)`, `list(reversed(iterable))`  \n",
    "- Copias: `L.copy()`, `L[:]` (superficial)  \n",
    "- Otras: concatenación `+`, repetición `*`, asignación por *slice*, `del`\n"
   ]
  },
  {
   "cell_type": "markdown",
   "id": "d88a0479",
   "metadata": {},
   "source": [
    "\n",
    "**Ejemplos reales**\n",
    "- **Cola de tareas** simple (añadir y procesar):"
   ]
  },
  {
   "cell_type": "code",
   "execution_count": 1,
   "id": "d815e6ab",
   "metadata": {},
   "outputs": [
    {
     "name": "stdout",
     "output_type": "stream",
     "text": [
      "Procesando: importar_datos.csv\n",
      "Pendientes: ['limpiar_nulos', 'generar_informe']\n"
     ]
    }
   ],
   "source": [
    "\n",
    "tareas = []\n",
    "# Llegan tareas\n",
    "tareas.append(\"importar_datos.csv\")\n",
    "tareas.extend([\"limpiar_nulos\", \"generar_informe\"])\n",
    "# Procesar (FIFO simple)\n",
    "siguiente = tareas.pop(0)\n",
    "print(f\"Procesando: {siguiente}\")\n",
    "print(\"Pendientes:\", tareas)"
   ]
  },
  {
   "cell_type": "markdown",
   "id": "0c989ec1-c5fe-409e-9a03-fa50e6ea7e73",
   "metadata": {},
   "source": [
    "- **Ordenar registros por un campo** (p. ej., fecha o prioridad):"
   ]
  },
  {
   "cell_type": "code",
   "execution_count": null,
   "id": "4bc8fc07-bfef-49f4-9ed9-a13e0a5b704e",
   "metadata": {},
   "outputs": [],
   "source": [
    "# Versión solo con listas: [id, prio]\n",
    "tickets = [\n",
    "    [3, 2],\n",
    "    [1, 1],\n",
    "    [2, 3],\n",
    "]\n",
    "\n",
    "# Ordenar por prioridad (menor primero)\n",
    "ordenados = sorted(tickets, key=lambda t: t[1])\n",
    "print(ordenados)  # [[1, 1], [3, 2], [2, 3]]\n"
   ]
  },
  {
   "cell_type": "markdown",
   "id": "65548d64",
   "metadata": {},
   "source": [
    "\n",
    "- **Filtrar y transformar** (comprensiones):"
   ]
  },
  {
   "cell_type": "code",
   "execution_count": null,
   "id": "79e41b17",
   "metadata": {},
   "outputs": [],
   "source": [
    "\n",
    "precios = [10, 0, 25, 8, 0, 15]\n",
    "con_descuento = [p*0.9 for p in precios if p > 0]  # ignora 0 y aplica -10%\n",
    "print(con_descuento)"
   ]
  },
  {
   "cell_type": "markdown",
   "id": "55214457",
   "metadata": {},
   "source": [
    "\n",
    "## 3) Tuplas (`tuple`)\n",
    "**Qué son**: Secuencias **inmutables y ordenadas**; eficaces para representar **registros** (datos que no cambian).\n",
    "\n",
    "**Funciones/métodos habituales**\n",
    "- Crear/convertir: `tuple(iterable)`  \n",
    "- Tamaño y pertenencia: `len(t)`, `x in t`  \n",
    "- Acceso/slices: `t[i]`, `t[a:b:c]`  \n",
    "- Métodos: `count(x)`, `index(x[,i[,j]])`  \n",
    "- *Packing/Unpacking*: `p = (x, y)`, `x, y = p` (incluye *star-unpacking*)  \n",
    "- Operadores: concatenar `+`, repetir `*`\n"
   ]
  },
  {
   "cell_type": "markdown",
   "id": "9553f542",
   "metadata": {},
   "source": [
    "\n",
    "**Ejemplos reales**\n",
    "- **Coordenadas** y cálculo sin mutaciones:"
   ]
  },
  {
   "cell_type": "code",
   "execution_count": 3,
   "id": "72a35710",
   "metadata": {},
   "outputs": [
    {
     "name": "stdout",
     "output_type": "stream",
     "text": [
      "dist=5.00\n"
     ]
    }
   ],
   "source": [
    "\n",
    "import math\n",
    "p = (3, 4)       # (x,y)\n",
    "x, y = p\n",
    "dist = math.hypot(x, y)\n",
    "print(f\"dist={dist:.2f}\")"
   ]
  },
  {
   "cell_type": "markdown",
   "id": "8c0c77bc",
   "metadata": {},
   "source": [
    "\n",
    "- **Retorno múltiple** y **swap** de variables:"
   ]
  },
  {
   "cell_type": "code",
   "execution_count": null,
   "id": "5731bc73",
   "metadata": {},
   "outputs": [],
   "source": [
    "\n",
    "def min_max(nums):\n",
    "    return min(nums), max(nums)   # retorna una tupla\n",
    "\n",
    "mn, mx = min_max([3,1,7,2])\n",
    "a, b = 10, 20\n",
    "a, b = b, a   # swap con tuplas\n",
    "print(f\"mn={mn}, mx={mx}, swap-> a={a}, b={b}\")"
   ]
  },
  {
   "cell_type": "markdown",
   "id": "0ac97a31",
   "metadata": {},
   "source": [
    "\n",
    "- **Claves compuestas** (tuplas hashables) en diccionarios:"
   ]
  },
  {
   "cell_type": "code",
   "execution_count": null,
   "id": "2577a743",
   "metadata": {},
   "outputs": [],
   "source": [
    "\n",
    "habitantes = {(\"ES\",\"MAD\"): 3.2, (\"ES\",\"BCN\"): 1.6}\n",
    "print(habitantes[(\"ES\",\"MAD\")], \"millones\")"
   ]
  },
  {
   "cell_type": "markdown",
   "id": "964dba85",
   "metadata": {},
   "source": [
    "\n",
    "## 4) Conjuntos (`set`) y conjuntos inmutables (`frozenset`)\n",
    "**Qué son**: Colecciones **sin orden y sin duplicados**. `set` es **mutable**; `frozenset` es **inmutable** y por tanto **hashable**.\n",
    "\n",
    "**Funciones/métodos habituales de `set`**\n",
    "- Crear/convertir: `set(iterable)`  \n",
    "- Añadir/quitar: `add(x)`, `update(iter)`, `remove(x)`, `discard(x)`, `pop()`, `clear()`  \n",
    "- Operaciones de conjuntos: `union` (`|`), `intersection` (`&`), `difference` (`-`), `symmetric_difference` (`^`)  \n",
    "- Relaciones: `issubset` (`<=`), `issuperset` (`>=`), `isdisjoint()`  \n",
    "- Copia: `copy()`  \n",
    "**`frozenset(iterable)`**: igual que `set` pero **inmutable** (apto como clave o elemento de otro set).\n"
   ]
  },
  {
   "cell_type": "markdown",
   "id": "5e726035",
   "metadata": {},
   "source": [
    "\n",
    "**Ejemplos reales**\n",
    "- **Deduplicar** rápidamente (ojo: pierde orden):"
   ]
  },
  {
   "cell_type": "code",
   "execution_count": null,
   "id": "16997345",
   "metadata": {},
   "outputs": [],
   "source": [
    "\n",
    "emails = [\"a@x.com\",\"b@x.com\",\"a@x.com\",\"c@x.com\"]\n",
    "unicos = set(emails)  # {'a@x.com','b@x.com','c@x.com'} (orden no garantizado)\n",
    "print(unicos)"
   ]
  },
  {
   "cell_type": "markdown",
   "id": "37691b31",
   "metadata": {},
   "source": [
    "\n",
    "- **Mantener orden** mientras deduplicas (mezclando lista + set de vistos):"
   ]
  },
  {
   "cell_type": "code",
   "execution_count": null,
   "id": "94511497",
   "metadata": {},
   "outputs": [],
   "source": [
    "\n",
    "visto = set()\n",
    "dedup_orden = []\n",
    "for e in emails:\n",
    "    if e not in visto:\n",
    "        dedup_orden.append(e)\n",
    "        visto.add(e)\n",
    "print(dedup_orden)"
   ]
  },
  {
   "cell_type": "markdown",
   "id": "98dfd2b4",
   "metadata": {},
   "source": [
    "\n",
    "- **Intersección de permisos/roles** entre usuarios:"
   ]
  },
  {
   "cell_type": "code",
   "execution_count": null,
   "id": "0b39b9f0",
   "metadata": {},
   "outputs": [],
   "source": [
    "\n",
    "roles_alice = {\"lectura\",\"edicion\",\"exportar\"}\n",
    "roles_bob   = {\"lectura\",\"comentarios\"}\n",
    "comunes = roles_alice & roles_bob\n",
    "solo_alice = roles_alice - roles_bob\n",
    "print(\"comunes:\", comunes, \"| solo_alice:\", solo_alice)"
   ]
  },
  {
   "cell_type": "markdown",
   "id": "902be1ca",
   "metadata": {},
   "source": [
    "\n",
    "- **`frozenset` como clave de diccionario** (por ser hashable):"
   ]
  },
  {
   "cell_type": "code",
   "execution_count": null,
   "id": "d7e48fce",
   "metadata": {},
   "outputs": [],
   "source": [
    "\n",
    "permisos_combo = {\n",
    "    frozenset({\"lectura\",\"edicion\"}): \"Plan PRO\",\n",
    "    frozenset({\"lectura\"}): \"Plan BASIC\"\n",
    "}\n",
    "print(permisos_combo[frozenset({'lectura'})])"
   ]
  },
  {
   "cell_type": "markdown",
   "id": "5343331f",
   "metadata": {},
   "source": [
    "\n",
    "## 5) Diccionarios (`dict`)\n",
    "**Qué son**: Mapeos **clave→valor**. Claves **hashables** y únicas; mantienen **orden de inserción**.\n",
    "\n",
    "**Funciones/métodos habituales**\n",
    "- Crear/convertir: `dict()`, literales `{clave: valor}`  \n",
    "- Acceso/inserción/actualización: `d[k]`, `d[k]=v`, `update(...)`  \n",
    "- Lectura segura: `get(k[, default])`, `setdefault(k[, default])`  \n",
    "- Vistas: `keys()`, `values()`, `items()`  \n",
    "- Quitar: `pop(k[, default])`, `popitem()`, `clear()`  \n",
    "- Constructores: `dict.fromkeys(iter[, v])`  \n",
    "- Copia: `copy()` (superficial)\n"
   ]
  },
  {
   "cell_type": "markdown",
   "id": "87c20be9",
   "metadata": {},
   "source": [
    "\n",
    "**Ejemplos reales**\n",
    "- **Conteo de frecuencias** (palabras):"
   ]
  },
  {
   "cell_type": "code",
   "execution_count": null,
   "id": "3554fde4",
   "metadata": {},
   "outputs": [],
   "source": [
    "\n",
    "texto = \"hola hola adios hola que tal adios\"\n",
    "frecuencias = {}\n",
    "for palabra in texto.split():\n",
    "    frecuencias[palabra] = frecuencias.get(palabra, 0) + 1\n",
    "print(frecuencias)"
   ]
  },
  {
   "cell_type": "markdown",
   "id": "38b389b3",
   "metadata": {},
   "source": [
    "\n",
    "- **Índice por id** (acceso O(1) a registros):"
   ]
  },
  {
   "cell_type": "code",
   "execution_count": null,
   "id": "48d5aafc",
   "metadata": {},
   "outputs": [],
   "source": [
    "\n",
    "usuarios = [\n",
    "    {\"id\": 100, \"nombre\": \"Ana\"},\n",
    "    {\"id\": 200, \"nombre\": \"Luis\"},\n",
    "]\n",
    "por_id = {u[\"id\"]: u for u in usuarios}\n",
    "print(por_id[200])"
   ]
  },
  {
   "cell_type": "markdown",
   "id": "9df891bd",
   "metadata": {},
   "source": [
    "\n",
    "- **Agrupar por clave** (p. ej., dominio de email):"
   ]
  },
  {
   "cell_type": "code",
   "execution_count": null,
   "id": "d5d119c7",
   "metadata": {},
   "outputs": [],
   "source": [
    "\n",
    "emails = [\"ana@x.com\",\"luis@y.com\",\"eva@x.com\"]\n",
    "grupos = {}\n",
    "for e in emails:\n",
    "    dominio = e.split(\"@\")[1]\n",
    "    grupos.setdefault(dominio, []).append(e)\n",
    "print(grupos)"
   ]
  },
  {
   "cell_type": "markdown",
   "id": "3f4d43b4",
   "metadata": {},
   "source": [
    "\n",
    "## 6) ¿Cuál elijo? — Reglas rápidas\n",
    "- Quieres **orden** y **editar** → `list`  \n",
    "- Quieres **orden** y **no editar** (registro fijo) → `tuple`  \n",
    "- Quieres **unicidad** / **pertenencia rápida** → `set` (o `frozenset` si necesitas inmutabilidad/clave)  \n",
    "- Quieres datos **etiquetados por clave** → `dict`\n"
   ]
  },
  {
   "cell_type": "markdown",
   "id": "22799b90",
   "metadata": {},
   "source": [
    "\n",
    "## 7) Pitfalls (trampas) y buenas prácticas\n",
    "- **Mutabilidad compartida**: `B = A` no copia; es un **alias**. Usa `copy()` para copiar (superficial) o `copy.deepcopy()` si hay anidados mutables.\n",
    "- **`set` sin orden**: no dependas del orden; si necesitas deduplicar **y** mantener orden, usa un patrón con `visto` (como antes).\n",
    "- **Multiplicar listas anidadas**: `mat = [[0,0]] * 3` duplica referencias; usa `[fila.copy() for _ in range(3)]`.\n",
    "- **Claves de `dict`**: deben ser **hashables** (por ejemplo, tuplas de hashables, `frozenset`, `str`, `int`, etc.).\n"
   ]
  }
 ],
 "metadata": {
  "kernelspec": {
   "display_name": "Python [conda env:base] *",
   "language": "python",
   "name": "conda-base-py"
  },
  "language_info": {
   "codemirror_mode": {
    "name": "ipython",
    "version": 3
   },
   "file_extension": ".py",
   "mimetype": "text/x-python",
   "name": "python",
   "nbconvert_exporter": "python",
   "pygments_lexer": "ipython3",
   "version": "3.13.5"
  }
 },
 "nbformat": 4,
 "nbformat_minor": 5
}
