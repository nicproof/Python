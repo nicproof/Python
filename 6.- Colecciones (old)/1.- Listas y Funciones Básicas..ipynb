{
 "cells": [
  {
   "cell_type": "markdown",
   "id": "36de15ca",
   "metadata": {},
   "source": [
    "\n",
    "# Ejercicio 1 — Listas + funciones básicas\n",
    "\n",
    "**Qué aprenderás**\n",
    "- Crear y manipular **listas**.\n",
    "- Usar **funciones integradas** (`len`, `sum`, `min`, `max`, `sorted`, `reversed`).\n",
    "- Usar **métodos de lista** (`append`, `extend`, `insert`, `pop`, `remove`, `index`, `count`, `sort`, `reverse`, `clear`, `copy`).\n",
    "- Herramientas clave: `range`, `enumerate`, *slicing* y operadores de pertenencia (`in`, `not in`).\n",
    "\n",
    "> Una **lista** es una colección **mutable** y **ordenada**. Se escribe con `[]` y permite elementos repetidos.\n"
   ]
  },
  {
   "cell_type": "markdown",
   "id": "11d86709",
   "metadata": {},
   "source": [
    "\n",
    "## 1) Funciones integradas útiles con listas\n"
   ]
  },
  {
   "cell_type": "code",
   "execution_count": 1,
   "id": "fb914064",
   "metadata": {},
   "outputs": [
    {
     "name": "stdout",
     "output_type": "stream",
     "text": [
      "len: 4\n",
      "sum: 44.6\n",
      "min: 7.2\n",
      "max: 15.0\n",
      "sorted asc: [7.2, 9.9, 12.5, 15.0]\n",
      "sorted desc: [15.0, 12.5, 9.9, 7.2]\n",
      "original intacta: [12.5, 9.9, 7.2, 15.0]\n",
      "reversed: [15.0, 7.2, 9.9, 12.5]\n"
     ]
    }
   ],
   "source": [
    "# Lista de ejemplo\n",
    "precios = [12.5, 9.9, 7.2, 15.0]\n",
    "\n",
    "print(\"len:\", len(precios))      # cantidad de elementos\n",
    "print(\"sum:\", sum(precios))      # suma de elementos numéricos\n",
    "print(\"min:\", min(precios))      # mínimo\n",
    "print(\"max:\", max(precios))      # máximo\n",
    "\n",
    "# sorted devuelve una NUEVA lista ordenada (no modifica la original)\n",
    "asc = sorted(precios)                 \n",
    "desc = sorted(precios, reverse=True)  \n",
    "print(\"sorted asc:\", asc)\n",
    "print(\"sorted desc:\", desc)\n",
    "print(\"original intacta:\", precios)\n",
    "\n",
    "# reversed devuelve un iterador; conviértelo a lista si quieres materializarlo\n",
    "print(\"reversed:\", list(reversed(precios)))"
   ]
  },
  {
   "cell_type": "markdown",
   "id": "9a22b28f",
   "metadata": {},
   "source": [
    "\n",
    "## 2) Métodos frecuentes de las listas (actúan **en la propia lista**)\n"
   ]
  },
  {
   "cell_type": "code",
   "execution_count": 2,
   "id": "67ff135e",
   "metadata": {},
   "outputs": [
    {
     "name": "stdout",
     "output_type": "stream",
     "text": [
      "inicio: [3, 1, 4]\n",
      "append(1): [3, 1, 4, 1]\n",
      "extend([9,2]): [3, 1, 4, 1, 9, 2]\n",
      "insert(1,99): [3, 99, 1, 4, 1, 9, 2]\n",
      "remove(4): [3, 99, 1, 1, 9, 2]\n",
      "pop() -> 2 | [3, 99, 1, 1, 9]\n",
      "pop(0) -> 3 | [99, 1, 1, 9]\n",
      "index(99): 0\n",
      "count(1): 2\n",
      "sort(): [1, 1, 9, 99]\n",
      "sort(reverse=True): [99, 9, 1, 1]\n",
      "reverse(): [1, 1, 9, 99]\n",
      "copy(): [1, 1, 9, 99] | clear(): []\n"
     ]
    }
   ],
   "source": [
    "numeros = [3, 1, 4]\n",
    "print(\"inicio:\", numeros)\n",
    "\n",
    "numeros.append(1)                  # añade al final\n",
    "print(\"append(1):\", numeros)\n",
    "\n",
    "numeros.extend([9, 2])             # añade varios\n",
    "print(\"extend([9,2]):\", numeros)\n",
    "\n",
    "numeros.insert(1, 99)              # inserta en posición i\n",
    "print(\"insert(1,99):\", numeros)\n",
    "\n",
    "numeros.remove(4)                  # elimina la PRIMERA ocurrencia de 4\n",
    "print(\"remove(4):\", numeros)\n",
    "\n",
    "ultimo = numeros.pop()             # saca y devuelve el último\n",
    "print(\"pop() ->\", ultimo, \"|\", numeros)\n",
    "\n",
    "primero = numeros.pop(0)           # saca y devuelve por índice\n",
    "print(\"pop(0) ->\", primero, \"|\", numeros)\n",
    "\n",
    "print(\"index(99):\", numeros.index(99))  # posición de 99\n",
    "print(\"count(1):\", numeros.count(1))    # cuántas veces aparece 1\n",
    "\n",
    "numeros.sort()                     # ordena EN SITIO (no devuelve lista)\n",
    "print(\"sort():\", numeros)\n",
    "\n",
    "numeros.sort(reverse=True)         # descendente\n",
    "print(\"sort(reverse=True):\", numeros)\n",
    "\n",
    "numeros.reverse()                  # invierte EN SITIO\n",
    "print(\"reverse():\", numeros)\n",
    "\n",
    "copia = numeros.copy()             # copia superficial\n",
    "numeros.clear()                    # deja la lista vacía\n",
    "print(\"copy():\", copia, \"| clear():\", numeros)"
   ]
  },
  {
   "cell_type": "markdown",
   "id": "a94cdb28",
   "metadata": {},
   "source": [
    "\n",
    "## 3) Otras herramientas útiles con listas\n",
    "- **`range(inicio, fin, paso)`**: genera enteros perezosamente (fin excluido).\n",
    "- **`enumerate(iterable, start=0)`**: da pares `(índice, valor)` al iterar.\n",
    "- **Slicing** `lista[a:b:c]`: sublista desde `a` hasta `b` (excluido) con paso `c`.\n",
    "- **Pertenencia**: `x in lista`, `x not in lista`.\n"
   ]
  },
  {
   "cell_type": "code",
   "execution_count": 3,
   "id": "89219cc3",
   "metadata": {},
   "outputs": [
    {
     "name": "stdout",
     "output_type": "stream",
     "text": [
      "[0, 1, 2, 3, 4]\n",
      "1. manzana\n",
      "2. pera\n",
      "3. uva\n",
      "['manzana', 'pera', 'uva']\n",
      "['kiwi', 'mango']\n",
      "['manzana', 'uva', 'mango']\n",
      "['mango', 'kiwi', 'uva', 'pera', 'manzana']\n",
      "True True\n"
     ]
    }
   ],
   "source": [
    "frutas = [\"manzana\", \"pera\", \"uva\", \"kiwi\", \"mango\"]\n",
    "\n",
    "# range + list para visualizar\n",
    "print(list(range(5)))           # [0, 1, 2, 3, 4]\n",
    "\n",
    "# enumerate para tener índice y valor\n",
    "for i, f in enumerate(frutas, start=1):\n",
    "    if i <= 3:\n",
    "        print(f\"{i}. {f}\")\n",
    "\n",
    "# slicing\n",
    "print(frutas[:3])               # tres primeras\n",
    "print(frutas[-2:])              # dos últimas\n",
    "print(frutas[::2])              # una de cada dos\n",
    "print(frutas[::-1])             # invertida\n",
    "\n",
    "# pertenencia\n",
    "print(\"pera\" in frutas, \"papaya\" not in frutas)"
   ]
  },
  {
   "cell_type": "markdown",
   "id": "eeecb600",
   "metadata": {},
   "source": [
    "\n",
    "## 4) Ver funciones/métodos disponibles rápidamente\n"
   ]
  },
  {
   "cell_type": "code",
   "execution_count": 4,
   "id": "d2f31751",
   "metadata": {},
   "outputs": [
    {
     "data": {
      "text/plain": [
       "['__add__',\n",
       " '__class__',\n",
       " '__class_getitem__',\n",
       " '__contains__',\n",
       " '__delattr__',\n",
       " '__delitem__',\n",
       " '__dir__',\n",
       " '__doc__',\n",
       " '__eq__',\n",
       " '__format__',\n",
       " '__ge__',\n",
       " '__getattribute__',\n",
       " '__getitem__',\n",
       " '__getstate__',\n",
       " '__gt__',\n",
       " '__hash__',\n",
       " '__iadd__',\n",
       " '__imul__',\n",
       " '__init__',\n",
       " '__init_subclass__']"
      ]
     },
     "execution_count": 4,
     "metadata": {},
     "output_type": "execute_result"
    }
   ],
   "source": [
    "# Explora lo disponible para listas\n",
    "dir(list)[:20]          # (muestra una parte para no saturar la salida)"
   ]
  },
  {
   "cell_type": "code",
   "execution_count": 5,
   "id": "9fcf7da5",
   "metadata": {},
   "outputs": [
    {
     "name": "stdout",
     "output_type": "stream",
     "text": [
      "Help on method_descriptor:\n",
      "\n",
      "append(self, object, /) unbound builtins.list method\n",
      "    Append object to the end of the list.\n",
      "\n"
     ]
    }
   ],
   "source": [
    "# Ayuda puntual de un método\n",
    "help(list.append)       # cierra la salida con el botón de stop si se alarga demasiado"
   ]
  },
  {
   "cell_type": "markdown",
   "id": "50b1004a",
   "metadata": {},
   "source": [
    "\n",
    "---\n",
    "\n",
    "## 5) Mini‑práctica guiada (auto‑comprobada)\n",
    "Completa los `TODO` y ejecuta. Si todo sale bien, no verás errores.\n"
   ]
  },
  {
   "cell_type": "code",
   "execution_count": 7,
   "id": "8140a320",
   "metadata": {},
   "outputs": [
    {
     "name": "stdout",
     "output_type": "stream",
     "text": [
      "Lista final: [12.5, 7.5, 15.0, 10.0]\n",
      "Media: 11.25\n",
      "Primeros tres: [12.5, 7.5, 15.0]\n"
     ]
    }
   ],
   "source": [
    "# PUNTO DE PARTIDA\n",
    "precios = [12.5, 9.9, 7.2, 15.0]\n",
    "\n",
    "# 1) añade 10.0 al final\n",
    "# TODO: precios.________(10.0)\n",
    "precios.append(10.0)\n",
    "\n",
    "# 2) cambia el tercer elemento (índice 2) a 7.5\n",
    "# TODO: precios[____] = ____\n",
    "precios[2] = 7.5\n",
    "\n",
    "# 3) elimina el segundo elemento (índice 1)\n",
    "# TODO: precios.pop(____)\n",
    "precios.pop(1)\n",
    "\n",
    "# 4) calcula la media y guárdala en 'media'\n",
    "# TODO: media = ______ / ______\n",
    "media=(sum(precios)/len(precios))\n",
    "\n",
    "# 5) crea 'primeros_tres' con los tres primeros\n",
    "# TODO: primeros_tres = precios[__:__]\n",
    "primeros_tres = precios[:3]\n",
    "\n",
    "print(\"Lista final:\", precios)\n",
    "print(\"Media:\", media)\n",
    "print(\"Primeros tres:\", primeros_tres)\n",
    "\n",
    "# Comprobaciones\n",
    "assert len(precios) == 4\n",
    "assert isinstance(media, (int, float))\n",
    "assert len(primeros_tres) == 3"
   ]
  },
  {
   "cell_type": "markdown",
   "id": "2aefd7e0",
   "metadata": {},
   "source": [
    "\n",
    "<details>\n",
    "<summary><strong>💡 Solución de la mini‑práctica (clic para desplegar)</strong></summary>\n",
    "\n",
    "```python\n",
    "precios = [12.5, 9.9, 7.2, 15.0]\n",
    "\n",
    "precios.append(10.0)    # 1\n",
    "precios[2] = 7.5        # 2\n",
    "precios.pop(1)          # 3\n",
    "media = sum(precios) / len(precios)  # 4\n",
    "primeros_tres = precios[:3]          # 5\n",
    "\n",
    "print(\"Lista final:\", precios)          # [12.5, 7.5, 15.0, 10.0]\n",
    "print(\"Media:\", media)                  # 11.25\n",
    "print(\"Primeros tres:\", primeros_tres)  # [12.5, 7.5, 15.0]\n",
    "```\n",
    "</details>\n"
   ]
  },
  {
   "cell_type": "markdown",
   "id": "e287e8d4",
   "metadata": {},
   "source": [
    "\n",
    "---\n",
    "\n",
    "## 6) Ejercicio principal: **Lista de precios**\n",
    "**Objetivo:** aplicar lo aprendido con listas y funciones integradas.\n",
    "\n",
    "**Instrucciones**\n",
    "1. Empieza con `precios = [12.5, 9.9, 7.2, 15.0]`.  \n",
    "2. Añade `10.0` al final.  \n",
    "3. Cambia el **tercer** elemento (índice `2`) a `7.5`.  \n",
    "4. Elimina el **segundo** elemento (índice `1`).  \n",
    "5. Calcula la **media** y guárdala en `media`.  \n",
    "6. Crea `primeros_tres` con los **tres primeros** elementos de la lista resultante.  \n"
   ]
  },
  {
   "cell_type": "code",
   "execution_count": null,
   "id": "e4613c65",
   "metadata": {},
   "outputs": [],
   "source": [
    "# PLANTILLA DEL EJERCICIO (rellena los TODO)\n",
    "precios = [12.5, 9.9, 7.2, 15.0]\n",
    "\n",
    "# 1) añadir 10.0 al final\n",
    "# TODO: precios.________(10.0)\n",
    "\n",
    "# 2) cambiar el tercer elemento a 7.5\n",
    "# TODO: precios[____] = ____\n",
    "\n",
    "# 3) eliminar el segundo elemento\n",
    "# TODO: precios.pop(____)\n",
    "\n",
    "# 4) calcular la media\n",
    "# TODO: media = ______ / ______\n",
    "\n",
    "# 5) obtener los tres primeros\n",
    "# TODO: primeros_tres = precios[__:__]\n",
    "\n",
    "print(\"Lista final:\", precios)\n",
    "print(\"Media:\", media)\n",
    "print(\"Primeros tres:\", primeros_tres)\n",
    "\n",
    "# Comprobaciones rápidas (deben cumplirse si lo hiciste bien)\n",
    "assert len(precios) == 4\n",
    "assert isinstance(media, (int, float))\n",
    "assert len(primeros_tres) == 3"
   ]
  },
  {
   "cell_type": "markdown",
   "id": "fbebd20e",
   "metadata": {},
   "source": [
    "\n",
    "<details>\n",
    "<summary><strong>✅ Solución del ejercicio principal</strong></summary>\n",
    "\n",
    "```python\n",
    "precios = [12.5, 9.9, 7.2, 15.0]\n",
    "\n",
    "# 1) añadir 10.0 al final\n",
    "precios.append(10.0)\n",
    "\n",
    "# 2) cambiar el tercer elemento (índice 2) a 7.5\n",
    "precios[2] = 7.5\n",
    "\n",
    "# 3) eliminar el segundo elemento (índice 1)\n",
    "precios.pop(1)\n",
    "\n",
    "# 4) calcular la media\n",
    "media = sum(precios) / len(precios)\n",
    "\n",
    "# 5) obtener los tres primeros\n",
    "primeros_tres = precios[:3]\n",
    "\n",
    "print(\"Lista final:\", precios)          # [12.5, 7.5, 15.0, 10.0]\n",
    "print(\"Media:\", media)                  # 11.25\n",
    "print(\"Primeros tres:\", primeros_tres)  # [12.5, 7.5, 15.0]\n",
    "\n",
    "assert len(precios) == 4\n",
    "assert round(media, 2) == 11.25\n",
    "assert primeros_tres == [12.5, 7.5, 15.0]\n",
    "```\n",
    "</details>\n"
   ]
  }
 ],
 "metadata": {
  "kernelspec": {
   "display_name": "Python [conda env:base] *",
   "language": "python",
   "name": "conda-base-py"
  },
  "language_info": {
   "codemirror_mode": {
    "name": "ipython",
    "version": 3
   },
   "file_extension": ".py",
   "mimetype": "text/x-python",
   "name": "python",
   "nbconvert_exporter": "python",
   "pygments_lexer": "ipython3",
   "version": "3.13.5"
  }
 },
 "nbformat": 4,
 "nbformat_minor": 5
}
