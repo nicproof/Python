{
 "cells": [
  {
   "cell_type": "markdown",
   "id": "43b7979b",
   "metadata": {},
   "source": [
    "\n",
    "# Funciones principales de las **listas** (`list`) en Python — IFCD104\n",
    "\n",
    "Cuaderno de referencia práctica con los **métodos y patrones más usados** de `list`.\n",
    "Incluye explicación breve y ejemplos mínimos ejecutables.\n"
   ]
  },
  {
   "cell_type": "markdown",
   "id": "1396cf90",
   "metadata": {},
   "source": [
    "\n",
    "## Resumen rápido\n",
    "- `list` es **mutable** y **ordenada**; permite **duplicados** y elementos de tipos mixtos.\n",
    "- Índice base `0`; admite índices negativos (`-1` último elemento).\n",
    "- Muchas operaciones son **in place** (modifican la lista) y devuelven `None`.\n"
   ]
  },
  {
   "cell_type": "markdown",
   "id": "8f25c701",
   "metadata": {},
   "source": [
    "\n",
    "## Métodos principales (tabla de referencia)\n",
    "\n",
    "| Método | ¿Qué hace? | ¿In place? | Devuelve | Ejemplo mínimo |\n",
    "|---|---|---|---|---|\n",
    "| `append(x)` | Añade `x` al final | ✅ | `None` | `L.append(4)` |\n",
    "| `extend(iter)` | Añade cada elem. de `iter` | ✅ | `None` | `L.extend([5,6])` |\n",
    "| `insert(i, x)` | Inserta `x` en posición `i` | ✅ | `None` | `L.insert(1, 99)` |\n",
    "| `remove(x)` | Quita **primera** ocurrencia de `x` | ✅ | `None` | `L.remove(3)` |\n",
    "| `pop([i])` | Quita y devuelve elem. en `i` (o último) | ✅ | elemento | `L.pop(); L.pop(0)` |\n",
    "| `clear()` | Vacía la lista | ✅ | `None` | `L.clear()` |\n",
    "| `index(x[, start[, end]])` | Índice de la primera aparición de `x` | ❌ | `int` | `L.index(3)` |\n",
    "| `count(x)` | Nº de apariciones de `x` | ❌ | `int` | `L.count(3)` |\n",
    "| `sort(*, key=None, reverse=False)` | Ordena la lista | ✅ | `None` | `L.sort(reverse=True)` |\n",
    "| `reverse()` | Invierte la lista | ✅ | `None` | `L.reverse()` |\n",
    "| `copy()` | Copia superficial | ❌ (crea nueva) | `list` | `L2 = L.copy()` |\n",
    "\n",
    "**Relacionado (no métodos):**  \n",
    "- `sorted(iterable, key=None, reverse=False)` → devuelve **nueva** lista ordenada.  \n",
    "- `reversed(iterable)` → iterador en orden inverso (usar `list(reversed(L))`).  \n",
    "- Slicing: `L[a:b:c]`, asignación por *slice*, y operadores `+` (concat), `*` (repetición).\n"
   ]
  },
  {
   "cell_type": "markdown",
   "id": "d862e540",
   "metadata": {},
   "source": [
    "## 1) Creación y conversión"
   ]
  },
  {
   "cell_type": "code",
   "execution_count": 1,
   "id": "25e9859e",
   "metadata": {},
   "outputs": [
    {
     "data": {
      "text/plain": [
       "([], ['a', 'b', 'c'], [0, 1, 2], [0, 1, 4, 9])"
      ]
     },
     "execution_count": 1,
     "metadata": {},
     "output_type": "execute_result"
    }
   ],
   "source": [
    "\n",
    "vacia = []\n",
    "desde_iterable = list(\"abc\")      # ['a','b','c']\n",
    "desde_rango = list(range(3))      # [0,1,2]\n",
    "comprension = [n*n for n in range(4)]  # [0,1,4,9]\n",
    "vacia, desde_iterable, desde_rango, comprension\n"
   ]
  },
  {
   "cell_type": "markdown",
   "id": "0e3faadc",
   "metadata": {},
   "source": [
    "## 2) Añadir y combinar elementos"
   ]
  },
  {
   "cell_type": "code",
   "execution_count": null,
   "id": "04568fc9",
   "metadata": {},
   "outputs": [],
   "source": [
    "\n",
    "L = [3,1,2]\n",
    "L.append(4)          # [3,1,2,4] Añade un elemento al final de la lista\n",
    "L.extend([5,6])      # [3,1,2,4,5,6] Añade varios elementos al final de la lista\n",
    "L.insert(1, 99)      # [3,99,1,2,4,5,6] En la posición 1, añade el 99\n",
    "print(f\"L{L}\")\n",
    "\n",
    "L1 = [1, 2]\n",
    "L1.append(\"abc\")\n",
    "# L1 => [1, 2, \"abc\"]\n",
    "\n",
    "L1 = [1, 2]\n",
    "L1.extend(\"abc\")\n",
    "# L => [1, 2, 'a', 'b', 'c']\n",
    "      \n"
   ]
  },
  {
   "cell_type": "markdown",
   "id": "b7f35018",
   "metadata": {},
   "source": [
    "## 3) Quitar/extraer elementos"
   ]
  },
  {
   "cell_type": "code",
   "execution_count": 2,
   "id": "3f2694c4",
   "metadata": {},
   "outputs": [
    {
     "data": {
      "text/plain": [
       "([], 3, 1)"
      ]
     },
     "execution_count": 2,
     "metadata": {},
     "output_type": "execute_result"
    }
   ],
   "source": [
    "\n",
    "L = [3,1,2,3]\n",
    "L.remove(3)          # quita el primer 3 -> [1,2,3]\n",
    "ultimo = L.pop()     # saca el último (3)\n",
    "primero = L.pop(0)   # saca el primero (1)\n",
    "L.clear()            # []\n",
    "L, ultimo, primero\n"
   ]
  },
  {
   "cell_type": "markdown",
   "id": "688ad298",
   "metadata": {},
   "source": [
    "## 4) Buscar y contar"
   ]
  },
  {
   "cell_type": "code",
   "execution_count": null,
   "id": "bafb94cb",
   "metadata": {},
   "outputs": [],
   "source": [
    "\n",
    "L = [10,20,10,30,10]\n",
    "pos_20 = L.index(20)                 # 1\n",
    "pos_10_desde_1 = L.index(10, 1)      # 2 (empieza a buscar desde índice 1)\n",
    "veces_10 = L.count(10)               # 3\n",
    "pos_20, pos_10_desde_1, veces_10\n"
   ]
  },
  {
   "cell_type": "markdown",
   "id": "cd7fd994",
   "metadata": {},
   "source": [
    "## 5) Ordenar e invertir"
   ]
  },
  {
   "cell_type": "code",
   "execution_count": null,
   "id": "030e2ea9",
   "metadata": {},
   "outputs": [],
   "source": [
    "\n",
    "L = [\"perro\", \"Gato\", \"águila\", \"pez\"]\n",
    "L.sort()                 # orden ASCII/Unicode: mayúsculas primero\n",
    "ascii_orden = L.copy()\n",
    "\n",
    "L = [\"perro\", \"Gato\", \"águila\", \"pez\"]\n",
    "L.sort(key=str.casefold) # insensible a mayúsculas/minúsculas\n",
    "fold_orden = L.copy()\n",
    "\n",
    "nums = [5,2,9,1]\n",
    "nums.sort(reverse=True)  # descendente\n",
    "desc = nums.copy()\n",
    "\n",
    "reversa = list(reversed([1,2,3]))\n",
    "ascii_orden, fold_orden, desc, reversa\n"
   ]
  },
  {
   "cell_type": "markdown",
   "id": "2b570852",
   "metadata": {},
   "source": [
    "## 6) Copiar y *slicing*"
   ]
  },
  {
   "cell_type": "code",
   "execution_count": 3,
   "id": "9bb8849b",
   "metadata": {},
   "outputs": [
    {
     "data": {
      "text/plain": [
       "([0, 1, 2, 3, 4, 5],\n",
       " [0, 1, 2, 3, 4, 5],\n",
       " [1, 2, 3],\n",
       " [0, 2, 4],\n",
       " [0, 1, 2, 3, 4, 5])"
      ]
     },
     "execution_count": 3,
     "metadata": {},
     "output_type": "execute_result"
    }
   ],
   "source": [
    "\n",
    "L = [0,1,2,3,4,5]\n",
    "copia1 = L.copy()\n",
    "copia2 = L[:]          # slicing copia\n",
    "parte  = L[1:4]        # [1,2,3]\n",
    "salto  = L[::2]        # [0,2,4]\n",
    "L2 = list(L)           # conversión/copia\n",
    "copia1, copia2, parte, salto, L2\n"
   ]
  },
  {
   "cell_type": "markdown",
   "id": "4605f7ce",
   "metadata": {},
   "source": [
    "## 7) Operadores útiles: `+`, `*`, asignación por slice, `del`"
   ]
  },
  {
   "cell_type": "code",
   "execution_count": 4,
   "id": "098df965",
   "metadata": {},
   "outputs": [
    {
     "data": {
      "text/plain": [
       "([1, 2, 3, 4, 5], [0, 0, 0, 0], [1, 99, 100])"
      ]
     },
     "execution_count": 4,
     "metadata": {},
     "output_type": "execute_result"
    }
   ],
   "source": [
    "\n",
    "L = [1,2,3]\n",
    "concat = L + [4,5]       # [1,2,3,4,5]\n",
    "rep   = [0]*4            # [0,0,0,0]\n",
    "\n",
    "L2 = [1,2,3,4,5]\n",
    "L2[1:3] = [99, 100]      # reemplaza una sección -> [1,99,100,4,5]\n",
    "del L2[3:]               # borra desde índice 3 -> [1,99,100]\n",
    "\n",
    "concat, rep, L2\n"
   ]
  },
  {
   "cell_type": "markdown",
   "id": "97404938",
   "metadata": {},
   "source": [
    "## 8) Patrones de uso: pila y cola simple"
   ]
  },
  {
   "cell_type": "code",
   "execution_count": 5,
   "id": "b7df9e8c",
   "metadata": {},
   "outputs": [
    {
     "data": {
      "text/plain": [
       "(['a', 'b'], 'c')"
      ]
     },
     "execution_count": 5,
     "metadata": {},
     "output_type": "execute_result"
    }
   ],
   "source": [
    "\n",
    "# Pila (stack): LIFO\n",
    "stack = []\n",
    "stack.append(\"a\"); stack.append(\"b\"); stack.append(\"c\")\n",
    "tope = stack.pop()     # 'c'\n",
    "stack, tope\n"
   ]
  },
  {
   "cell_type": "code",
   "execution_count": null,
   "id": "099565ac",
   "metadata": {},
   "outputs": [],
   "source": [
    "\n",
    "# Cola simple (no óptima para muchas operaciones): FIFO\n",
    "queue = []\n",
    "queue.append(\"a\"); queue.append(\"b\"); queue.append(\"c\")\n",
    "primero = queue.pop(0)  # 'a'\n",
    "queue, primero\n"
   ]
  },
  {
   "cell_type": "markdown",
   "id": "86f31938",
   "metadata": {},
   "source": [
    "\n",
    "## 9) Errores comunes y buenas prácticas\n",
    "- `remove(x)` solo quita la **primera** coincidencia; si `x` no está → `ValueError` (usa `if x in L:` antes).\n",
    "- `pop()` sin índice saca el **último**; `pop(i)` saca en posición `i` (si la lista está vacía → `IndexError`).\n",
    "- `sort()` y `reverse()` **modifican** la lista y devuelven `None`. Para una **nueva** lista usa `sorted()` o `list(reversed(...))`.\n",
    "- Copia **superficial** con `copy()`/`[:]`; para listas **anidadas**, duplica sublistas (o usa `copy.deepcopy`).  \n",
    "- Multiplicar listas anidadas con `*` crea **alias** de la misma sublista: evita `mat = [[0,0]]*3`, usa `[fila.copy() for _ in range(3)]`.\n"
   ]
  }
 ],
 "metadata": {
  "kernelspec": {
   "display_name": "Python [conda env:base] *",
   "language": "python",
   "name": "conda-base-py"
  },
  "language_info": {
   "codemirror_mode": {
    "name": "ipython",
    "version": 3
   },
   "file_extension": ".py",
   "mimetype": "text/x-python",
   "name": "python",
   "nbconvert_exporter": "python",
   "pygments_lexer": "ipython3",
   "version": "3.13.5"
  }
 },
 "nbformat": 4,
 "nbformat_minor": 5
}
