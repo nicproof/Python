{
 "cells": [
  {
   "cell_type": "markdown",
   "id": "27522c8b",
   "metadata": {},
   "source": [
    "\n",
    "# Listas en Python — **Ejercicios básicos** (IFCD104)\n",
    "\n",
    "Ejercicios **sencillos** para practicar listas.  \n",
    "Cada enunciado tiene una celda para que escribas tu solución y un bloque de solución **oculto** con `<details>`.\n",
    "Usa `print(f\"...\")` para mostrar resultados.\n"
   ]
  },
  {
   "cell_type": "markdown",
   "id": "a14ca374",
   "metadata": {},
   "source": [
    "## 1) Crear una lista\n",
    "Crea una lista `frutas` con: `\"manzana\"`, `\"pera\"`, `\"uva\"`. Muestra la lista."
   ]
  },
  {
   "cell_type": "code",
   "execution_count": null,
   "id": "ae01c0e1",
   "metadata": {},
   "outputs": [],
   "source": [
    "# tu solución aquí\n",
    "# frutas = ...\n",
    "# print(frutas)\n"
   ]
  },
  {
   "cell_type": "markdown",
   "id": "8204c13b",
   "metadata": {},
   "source": [
    "## 2) Acceso por índice\n",
    "Con `frutas = [\"manzana\",\"pera\",\"uva\",\"kiwi\"]`, muestra el **primer** y el **último** elemento (índices positivo y negativo)."
   ]
  },
  {
   "cell_type": "code",
   "execution_count": null,
   "id": "d2bb03da",
   "metadata": {},
   "outputs": [],
   "source": [
    "# tu solución aquí\n",
    "frutas = [\"manzana\",\"pera\",\"uva\",\"kiwi\"]\n",
    "# primero = ...\n",
    "# ultimo = ...\n",
    "# print(f\"primero: {primero}, ultimo: {ultimo}\")\n"
   ]
  },
  {
   "cell_type": "markdown",
   "id": "be1c6744",
   "metadata": {},
   "source": [
    "## 3) *Slicing*\n",
    "Con `L = [0,1,2,3,4,5]`, guarda en `sub` los elementos del índice 2 al 4 (fin excluido) y muéstralo."
   ]
  },
  {
   "cell_type": "code",
   "execution_count": null,
   "id": "b0987f1c",
   "metadata": {},
   "outputs": [],
   "source": [
    "# tu solución aquí\n",
    "L = [0,1,2,3,4,5]\n",
    "# sub = ...\n",
    "# print(sub)\n"
   ]
  },
  {
   "cell_type": "markdown",
   "id": "8638a40c",
   "metadata": {},
   "source": [
    "## 4) Añadir elementos\n",
    "Empieza con `L = [1,2,3]`.  \n",
    "- Añade `4` con `append`.  \n",
    "- Añade `5` y `6` con `extend`.  \n",
    "Muestra el resultado."
   ]
  },
  {
   "cell_type": "code",
   "execution_count": null,
   "id": "3e605633-216d-4c75-b269-51280235ea82",
   "metadata": {},
   "outputs": [],
   "source": [
    "#tu solución aquí\n",
    "L=[1,2,3]"
   ]
  },
  {
   "cell_type": "markdown",
   "id": "4c9def1d",
   "metadata": {},
   "source": [
    "## 5) Insertar en posición\n",
    "Con `L = [1,3,4]`, inserta el número `2` en la **posición 1** y muestra la lista."
   ]
  },
  {
   "cell_type": "code",
   "execution_count": null,
   "id": "a6790dc7",
   "metadata": {},
   "outputs": [],
   "source": [
    "# tu solución aquí\n",
    "L = [1,3,4]\n",
    "# L.insert(...)\n",
    "# print(L)\n"
   ]
  },
  {
   "cell_type": "markdown",
   "id": "d0769b75",
   "metadata": {},
   "source": [
    "## 6) Quitar elementos\n",
    "Con `L = [10, 20, 30, 20]`:  \n",
    "- Elimina la **primera** aparición de `20` con `remove`.  \n",
    "- Usa `pop()` para quitar el **último**.  \n",
    "Muestra la lista resultante."
   ]
  },
  {
   "cell_type": "code",
   "execution_count": null,
   "id": "bc98a3c2",
   "metadata": {},
   "outputs": [],
   "source": [
    "# tu solución aquí\n",
    "L = [10, 20, 30, 20]\n",
    "# ...\n",
    "# print(L)\n"
   ]
  },
  {
   "cell_type": "markdown",
   "id": "ef8c42fd",
   "metadata": {},
   "source": [
    "## 7) Contar e índice\n",
    "Con `L = [3,1,3,2,3]`, guarda en `veces` cuántas veces aparece `3` y en `pos` el **índice** de su **primera** aparición. Muestra ambos."
   ]
  },
  {
   "cell_type": "code",
   "execution_count": null,
   "id": "c1593f4f",
   "metadata": {},
   "outputs": [],
   "source": [
    "# tu solución aquí\n",
    "L = [3,1,3,2,3]\n",
    "# veces = ...\n",
    "# pos = ...\n",
    "# print(f\"veces={veces}, pos={pos}\")\n"
   ]
  },
  {
   "cell_type": "markdown",
   "id": "9de6b6eb",
   "metadata": {},
   "source": [
    "## 8) Ordenar e invertir\n",
    "Con `n = [5,2,9,1]`:  \n",
    "- Ordena **de menor a mayor** con `sort`.  \n",
    "- Después invierte el orden con `reverse`.  \n",
    "Muestra la lista tras cada operación."
   ]
  },
  {
   "cell_type": "code",
   "execution_count": null,
   "id": "7aef8766",
   "metadata": {},
   "outputs": [],
   "source": [
    "# tu solución aquí\n",
    "n = [5,2,9,1]\n",
    "# ...\n"
   ]
  },
  {
   "cell_type": "markdown",
   "id": "5d3737bf",
   "metadata": {},
   "source": [
    "## 9) Concatenar y repetir\n",
    "Crea `A = [1,2]` y `B = [3,4]`.  \n",
    "- Crea `C` como la **concatenación** `A + B`.  \n",
    "- Crea `R` repitiendo `[0,1]` tres veces con `*`.  \n",
    "Muestra `C` y `R`."
   ]
  },
  {
   "cell_type": "code",
   "execution_count": null,
   "id": "5f828a35",
   "metadata": {},
   "outputs": [],
   "source": [
    "# tu solución aquí\n",
    "# A = ...\n",
    "# B = ...\n",
    "# C = ...\n",
    "# R = ...\n",
    "# print(C, R)\n"
   ]
  },
  {
   "cell_type": "markdown",
   "id": "6dc3717e",
   "metadata": {},
   "source": [
    "## 10) Reemplazo por *slice*\n",
    "Con `L = [1,2,3,4,5]`, reemplaza los elementos en posiciones `1:3` por `[99,100]`. Muestra `L`."
   ]
  },
  {
   "cell_type": "code",
   "execution_count": null,
   "id": "4173abbd",
   "metadata": {},
   "outputs": [],
   "source": [
    "# tu solución aquí\n",
    "L = [1,2,3,4,5]\n",
    "# L[1:3] = ...\n",
    "# print(L)\n"
   ]
  },
  {
   "cell_type": "markdown",
   "id": "af20ed21",
   "metadata": {},
   "source": [
    "## 11) Filtro sencillo con bucle\n",
    "Con `nums = [1,2,3,4,5,6]`, construye **con bucle** una nueva lista `pares` solo con los números pares. Muestra `pares`."
   ]
  },
  {
   "cell_type": "code",
   "execution_count": null,
   "id": "631b0df6",
   "metadata": {},
   "outputs": [],
   "source": [
    "# tu solución aquí\n",
    "nums = [1,2,3,4,5,6]\n",
    "pares = []\n",
    "# for ...\n",
    "# print(pares)\n"
   ]
  },
  {
   "cell_type": "markdown",
   "id": "58db78f1",
   "metadata": {},
   "source": [
    "## 12) Comprensión básica\n",
    "Con `palabras = [\"sol\", \"luna\", \"cielo\"]`, crea con comprensión una lista `longitudes` con la **longitud** de cada palabra. Muestra `longitudes`."
   ]
  },
  {
   "cell_type": "code",
   "execution_count": null,
   "id": "74d29ecd",
   "metadata": {},
   "outputs": [],
   "source": [
    "# tu solución aquí\n",
    "palabras = [\"sol\", \"luna\", \"cielo\"]\n",
    "# longitudes = ...\n",
    "# print(longitudes)\n"
   ]
  }
 ],
 "metadata": {
  "kernelspec": {
   "display_name": "Python [conda env:base] *",
   "language": "python",
   "name": "conda-base-py"
  },
  "language_info": {
   "codemirror_mode": {
    "name": "ipython",
    "version": 3
   },
   "file_extension": ".py",
   "mimetype": "text/x-python",
   "name": "python",
   "nbconvert_exporter": "python",
   "pygments_lexer": "ipython3",
   "version": "3.13.5"
  }
 },
 "nbformat": 4,
 "nbformat_minor": 5
}
