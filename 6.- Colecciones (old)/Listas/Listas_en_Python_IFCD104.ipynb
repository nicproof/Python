{
 "cells": [
  {
   "cell_type": "markdown",
   "id": "b9d3266c",
   "metadata": {},
   "source": [
    "\n",
    "# Listas en Python — Cuaderno completo (IFCD104)\n",
    "\n",
    "**Objetivo:** dominar el uso de `list` con teoría, ejemplos y ejercicios \n"
   ]
  },
  {
   "cell_type": "markdown",
   "id": "0beaef72",
   "metadata": {},
   "source": [
    "\n",
    "## 1) ¿Qué es una lista? Crear y visualizar\n",
    "- Colección **mutable** y **ordenada** que **permite duplicados**.\n",
    "- Sintaxis literal: corchetes `[]` y elementos separados por comas.\n"
   ]
  },
  {
   "cell_type": "code",
   "execution_count": null,
   "id": "78afaf9e",
   "metadata": {},
   "outputs": [],
   "source": [
    "\n",
    "vacia = []\n",
    "numeros = [10, 20, 20, 30]\n",
    "mixta = [1, \"python\", True, 3.5]\n",
    "print(f\"vacía: {vacia}\")\n",
    "print(f\"números: {numeros}\")\n",
    "print(f\"mixta: {mixta}\")\n"
   ]
  },
  {
   "cell_type": "markdown",
   "id": "f2e9e0b2",
   "metadata": {},
   "source": [
    "\n",
    "## 2) Indexación y *slicing*\n",
    "- Índices desde `0` (negativos cuentan desde el final: `-1` es el último).\n",
    "- *Slicing*: `L[inicio:fin:paso]` (**fin excluido**).\n"
   ]
  },
  {
   "cell_type": "code",
   "execution_count": null,
   "id": "5706d7d9",
   "metadata": {},
   "outputs": [],
   "source": [
    "\n",
    "L = [\"a\",\"b\",\"c\",\"d\",\"e\",\"f\"]\n",
    "primero = L[0]\n",
    "ultimo = L[-1]\n",
    "sub1 = L[1:4]      # b c d\n",
    "sub2 = L[:3]       # a b c\n",
    "sub3 = L[3:]       # d e f\n",
    "pares = L[::2]     # a c e\n",
    "reversa = L[::-1]  # f e d c b a\n",
    "primero, ultimo, sub1, sub2, sub3, pares, reversa\n"
   ]
  },
  {
   "cell_type": "markdown",
   "id": "cc8ad078",
   "metadata": {},
   "source": [
    "\n",
    "## 3) Mutabilidad, alias y copias\n",
    "- **Alias**: dos nombres apuntan a la **misma** lista → cambiar uno afecta al otro.\n",
    "- **Copias superficiales**: `L.copy()`, `L[:]` o `list(L)` crean **otra** lista (mismos elementos).\n",
    "- **Copia profunda**: para listas **anidadas**, usa `copy.deepcopy`.\n"
   ]
  },
  {
   "cell_type": "code",
   "execution_count": 4,
   "id": "fbf0c528",
   "metadata": {},
   "outputs": [
    {
     "name": "stdout",
     "output_type": "stream",
     "text": [
      "A: [99, 2, 3]\n",
      "B (alias): [99, 2, 3]\n",
      "C (copia): [1, 2, 3]\n",
      "anidada: [[9, 0], [1, 1]]\n",
      "shallow: [[9, 0], [1, 1]]\n",
      "deep: [[0, 0], [1, 1]]\n"
     ]
    }
   ],
   "source": [
    "\n",
    "import copy\n",
    "\n",
    "A = [1,2,3]\n",
    "B = A          # alias\n",
    "C = A.copy()   # copia superficial\n",
    "A[0] = 99\n",
    "print(\"A:\", A)      # cambia\n",
    "print(\"B (alias):\", B)  # también cambia\n",
    "print(\"C (copia):\", C)  # no cambia\n",
    "\n",
    "anidada = [[0,0],[1,1]]\n",
    "shallow = anidada.copy()\n",
    "deep = copy.deepcopy(anidada)\n",
    "anidada[0][0] = 9\n",
    "print(\"anidada:\", anidada)\n",
    "print(\"shallow:\", shallow)  # afectada (copia superficial)\n",
    "print(\"deep:\", deep)        # independiente\n"
   ]
  },
  {
   "cell_type": "markdown",
   "id": "b3034adc",
   "metadata": {},
   "source": [
    "\n",
    "## 4) Métodos principales y patrones de uso\n",
    "| Método | Descripción | Ejemplo |\n",
    "|---|---|---|\n",
    "| `append(x)` | Añade al final | `L.append(4)` |\n",
    "| `extend(iter)` | Añade varios | `L.extend([5,6])` |\n",
    "| `insert(i,x)` | Inserta en `i` | `L.insert(1, 99)` |\n",
    "| `remove(x)` | Quita **primera** ocurrencia | `L.remove(3)` |\n",
    "| `pop([i])` | Quita y devuelve (`i` o último) | `L.pop(); L.pop(0)` |\n",
    "| `clear()` | Vacía | `L.clear()` |\n",
    "| `index(x[,i[,j]])` | Índice de `x` | `L.index(3)` |\n",
    "| `count(x)` | Nº ocurrencias | `L.count(3)` |\n",
    "| `sort(key=None, reverse=False)` | Ordena **in place** | `L.sort(reverse=True)` |\n",
    "| `reverse()` | Invierte **in place** | `L.reverse()` |\n",
    "| `copy()` | Copia superficial | `L2 = L.copy()` |\n",
    "\n",
    "**Patrones frecuentes**\n",
    "- **Pila (stack)**: `append` + `pop()`  \n",
    "- **Cola simple**: `append` + `pop(0)` (para más eficiencia ver `collections.deque` más adelante)\n"
   ]
  },
  {
   "cell_type": "code",
   "execution_count": null,
   "id": "6b2e9789",
   "metadata": {},
   "outputs": [],
   "source": [
    "\n",
    "# Demostración rápida\n",
    "L = [3,1,2,3]\n",
    "L.append(4)        # [3,1,2,3,4]\n",
    "primero = L.pop(0) # saca el primero\n",
    "L.extend([5,6])    # añade varios\n",
    "L.sort()           # ordena\n",
    "L, primero\n"
   ]
  },
  {
   "cell_type": "markdown",
   "id": "8b9f6617",
   "metadata": {},
   "source": [
    "\n",
    "## 5) Ordenación con `key` y `reverse`\n",
    "`key` recibe una función que devuelve el valor por el que se ordena; `reverse=True` invierte el orden.\n"
   ]
  },
  {
   "cell_type": "code",
   "execution_count": null,
   "id": "eb7386f1",
   "metadata": {},
   "outputs": [],
   "source": [
    "\n",
    "palabras = [\"perro\", \"Gato\", \"águila\", \"pez\"]\n",
    "# Orden alfabético estándar (respetando mayúsculas/minúsculas)\n",
    "std = sorted(palabras)\n",
    "# Orden insensible a mayúsculas\n",
    "casefolded = sorted(palabras, key=str.casefold)\n",
    "# Por longitud descendente\n",
    "por_longitud = sorted(palabras, key=len, reverse=True)\n",
    "std, casefolded, por_longitud\n"
   ]
  },
  {
   "cell_type": "markdown",
   "id": "3dd9561d",
   "metadata": {},
   "source": [
    "\n",
    "## 6) Comprensiones de lista (básico)\n",
    "Sintaxis: `[exp(x) for x in iterable if cond(x)]`  \n",
    "Más legibles que construir con bucles cuando transformas/filtras elementos.\n"
   ]
  },
  {
   "cell_type": "code",
   "execution_count": null,
   "id": "07a963c2",
   "metadata": {},
   "outputs": [],
   "source": [
    "\n",
    "nums = [1,2,3,4,5]\n",
    "cuadrados_pares = [n*n for n in nums if n % 2 == 0]\n",
    "# Equivalente con for:\n",
    "cuadrados_pares_for = []\n",
    "for n in nums:\n",
    "    if n % 2 == 0:\n",
    "        cuadrados_pares_for.append(n*n)\n",
    "cuadrados_pares, cuadrados_pares_for\n"
   ]
  },
  {
   "cell_type": "markdown",
   "id": "ba0da6ce",
   "metadata": {},
   "source": [
    "\n",
    "## 7) Listas anidadas y copias profundas\n",
    "Cuidado con multiplicar listas anidadas con `*`:\n"
   ]
  },
  {
   "cell_type": "code",
   "execution_count": null,
   "id": "45387856",
   "metadata": {},
   "outputs": [],
   "source": [
    "\n",
    "fila = [0,0]\n",
    "mat_mal = [fila]*3      # tres referencias a la misma fila\n",
    "mat_ok = [fila.copy() for _ in range(3)]  # filas independientes\n",
    "mat_mal[0][0] = 9\n",
    "mat_mal, mat_ok\n"
   ]
  },
  {
   "cell_type": "markdown",
   "id": "b27c9c0b",
   "metadata": {},
   "source": [
    "\n",
    "## 8) Ejercicios guiados (soluciones ocultables)\n"
   ]
  },
  {
   "cell_type": "markdown",
   "id": "61a20646",
   "metadata": {},
   "source": [
    "\n",
    "**8.1 — Limpieza de datos (duplicados)**  \n",
    "Dada `datos = [3, 1, 3, 2, 2, 5, 1]`, crea una **nueva lista** `sin_dup` con el **primer** ejemplar de cada elemento **manteniendo el orden** de aparición.\n"
   ]
  },
  {
   "cell_type": "code",
   "execution_count": null,
   "id": "e3bd3302",
   "metadata": {},
   "outputs": [],
   "source": [
    "\n",
    "# tu solución aquí\n",
    "datos = [3, 1, 3, 2, 2, 5, 1]\n",
    "# sin_dup = ...\n"
   ]
  },
  {
   "cell_type": "markdown",
   "id": "90d5d270",
   "metadata": {},
   "source": [
    "\n",
    "<details><summary><strong>Mostrar solución</strong></summary>\n",
    "\n",
    "```python\n",
    "visto = set()\n",
    "sin_dup = []\n",
    "for x in datos:\n",
    "    if x not in visto:\n",
    "        sin_dup.append(x)\n",
    "        visto.add(x)\n",
    "sin_dup\n",
    "```\n",
    "</details>\n"
   ]
  },
  {
   "cell_type": "markdown",
   "id": "2108ac1e",
   "metadata": {},
   "source": [
    "\n",
    "**8.2 — Ordenación por criterio**  \n",
    "Dada `palabras = [\"python\", \"es\", \"genial\", \"y\", \"útil\"]`, ordénalas por **longitud** (ascendente) y guarda el resultado en `ordenadas`.\n"
   ]
  },
  {
   "cell_type": "code",
   "execution_count": null,
   "id": "f783a39a",
   "metadata": {},
   "outputs": [],
   "source": [
    "\n",
    "# tu solución aquí\n",
    "palabras = [\"python\", \"es\", \"genial\", \"y\", \"útil\"]\n",
    "# ordenadas = ...\n"
   ]
  },
  {
   "cell_type": "markdown",
   "id": "55e6000c",
   "metadata": {},
   "source": [
    "\n",
    "<details><summary><strong>Mostrar solución</strong></summary>\n",
    "\n",
    "```python\n",
    "ordenadas = sorted(palabras, key=len)\n",
    "ordenadas\n",
    "```\n",
    "</details>\n"
   ]
  },
  {
   "cell_type": "markdown",
   "id": "c22e704e",
   "metadata": {},
   "source": [
    "\n",
    "**8.3 — Comprensiones**  \n",
    "Con `nums = [1,2,3,4,5,6]`, construye con **comprensión** la lista `cuadrados_impares` con los cuadrados de los impares.\n"
   ]
  },
  {
   "cell_type": "code",
   "execution_count": null,
   "id": "bd824dd1",
   "metadata": {},
   "outputs": [],
   "source": [
    "\n",
    "# tu solución aquí\n",
    "nums = [1,2,3,4,5,6]\n",
    "# cuadrados_impares = ...\n"
   ]
  },
  {
   "cell_type": "markdown",
   "id": "31eaf6ec",
   "metadata": {},
   "source": [
    "\n",
    "<details><summary><strong>Mostrar solución</strong></summary>\n",
    "\n",
    "```python\n",
    "cuadrados_impares = [n*n for n in nums if n % 2 == 1]\n",
    "cuadrados_impares\n",
    "```\n",
    "</details>\n"
   ]
  },
  {
   "cell_type": "markdown",
   "id": "a98ebd70",
   "metadata": {},
   "source": [
    "\n",
    "## 9) Retos extra\n",
    "1. **Matriz identidad**: crea una función `identidad(n)` que devuelva una lista de listas con la identidad `n×n` (solo `0` y `1`).  \n",
    "2. **Buscar máximos**: dada una lista `L` de números, devuelve una *nueva* con los **tres** mayores (sin usar `sorted(L)[-3:]`).  \n",
    "3. **Aplanar**: dada una lista anidada de profundidad 2, p. ej. `[[1,2],[3,4,5]]`, devuelve `[1,2,3,4,5]`.\n"
   ]
  }
 ],
 "metadata": {
  "kernelspec": {
   "display_name": "Python [conda env:base] *",
   "language": "python",
   "name": "conda-base-py"
  },
  "language_info": {
   "codemirror_mode": {
    "name": "ipython",
    "version": 3
   },
   "file_extension": ".py",
   "mimetype": "text/x-python",
   "name": "python",
   "nbconvert_exporter": "python",
   "pygments_lexer": "ipython3",
   "version": "3.13.5"
  }
 },
 "nbformat": 4,
 "nbformat_minor": 5
}
