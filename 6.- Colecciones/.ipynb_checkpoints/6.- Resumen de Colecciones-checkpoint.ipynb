{
 "cells": [
  {
   "cell_type": "markdown",
   "id": "e01b8048",
   "metadata": {},
   "source": [
    "\n",
    "# Colecciones en Python — Qué son, tipos, funciones habituales y ejemplos reales (IFCD104)\n",
    "\n",
    "Este cuaderno explica **solo**:\n",
    "- Qué son las **colecciones**.\n",
    "- Sus **tipos principales**: `list`, `tuple`, `set`/`frozenset`, `dict`.\n",
    "- Las **funciones y métodos habituales** para cada una.\n",
    "- **Ejemplos de uso reales** y prácticos.\n",
    "\n",
    "> Nota: No incluye teoría ajena a colecciones ni ejercicios guiados; es una guía de referencia práctica.\n"
   ]
  },
  {
   "cell_type": "markdown",
   "id": "fc301285",
   "metadata": {},
   "source": [
    "\n",
    "## 1) ¿Qué es una colección?\n",
    "Una **colección** es un tipo de dato que **agrupa** varios valores bajo una sola variable. Python ofrece varias, con propiedades distintas:\n",
    "\n",
    "| Tipo | Mutabilidad | Orden | Duplicados | Acceso | Sintaxis literal | Uso típico |\n",
    "|---|---|---|---|---|---|---|\n",
    "| `list` | ✅ mutable | ✅ orden inserción | ✅ | índice (`L[i]`) | `[1,2,3]` | Secuencias editables, colas/pilas |\n",
    "| `tuple` | ❌ inmutable | ✅ orden inserción | ✅ | índice (`t[i]`) | `(1,2,3)` | Registros inmutables, retorno múltiple, claves compuestas |\n",
    "| `set` | ✅ mutable | ⚠️ sin orden | ❌ | — (pertenencia) | `{1,2,3}` | Unicidad, operaciones de conjuntos, deduplicar |\n",
    "| `frozenset` | ❌ inmutable | ⚠️ sin orden | ❌ | — | `frozenset({...})` | Elemento de `set`, clave de `dict` (hashable) |\n",
    "| `dict` | ✅ mutable | ✅ orden inserción | ❌ (claves únicas) | por clave (`d['k']`) | `{\"k\": \"v\"}` | Mapeos clave→valor (tipo JSON), índices |\n"
   ]
  },
  {
   "cell_type": "markdown",
   "id": "e6a1978c",
   "metadata": {},
   "source": [
    "\n",
    "## 2) Listas (`list`)\n",
    "**Qué son**: Secuencias **mutables y ordenadas** que aceptan duplicados y tipos mixtos.\n",
    "\n",
    "**Funciones/métodos habituales**\n",
    "- Crear/convertir: `list(iterable)`  \n",
    "- Tamaño y pertenencia: `len(L)`, `x in L`  \n",
    "- Acceso/slices: `L[i]`, `L[a:b:c]`  \n",
    "- Añadir: `append(x)`, `extend(iter)`, `insert(i,x)`  \n",
    "- Quitar: `remove(x)`, `pop([i])`, `clear()`  \n",
    "- Buscar/contar: `index(x[,i[,j]])`, `count(x)`  \n",
    "- Ordenar/invertir: `sort(key=None, reverse=False)`, `reverse()`; y las variantes que devuelven nueva lista: `sorted(iterable)`, `list(reversed(iterable))`  \n",
    "- Copias: `L.copy()`, `L[:]` (superficial)  \n",
    "- Otras: concatenación `+`, repetición `*`, asignación por *slice*, `del`\n"
   ]
  },
  {
   "cell_type": "markdown",
   "id": "d88a0479",
   "metadata": {},
   "source": [
    "\n",
    "**Ejemplos reales**\n",
    "- **Cola de tareas** simple (añadir y procesar)"
   ]
  },
  {
   "cell_type": "markdown",
   "id": "0c989ec1-c5fe-409e-9a03-fa50e6ea7e73",
   "metadata": {},
   "source": [
    "- **Ordenar registros por un campo** (p. ej., fecha o prioridad)"
   ]
  },
  {
   "cell_type": "markdown",
   "id": "65548d64",
   "metadata": {},
   "source": [
    "\n",
    "- **Filtrar y transformar** (comprensiones)"
   ]
  },
  {
   "cell_type": "markdown",
   "id": "55214457",
   "metadata": {},
   "source": [
    "\n",
    "## 3) Tuplas (`tuple`)\n",
    "**Qué son**: Secuencias **inmutables y ordenadas**; eficaces para representar **registros** (datos que no cambian).\n",
    "\n",
    "**Funciones/métodos habituales**\n",
    "- Crear/convertir: `tuple(iterable)`  \n",
    "- Tamaño y pertenencia: `len(t)`, `x in t`  \n",
    "- Acceso/slices: `t[i]`, `t[a:b:c]`  \n",
    "- Métodos: `count(x)`, `index(x[,i[,j]])`  \n",
    "- *Packing/Unpacking*: `p = (x, y)`, `x, y = p` (incluye *star-unpacking*)  \n",
    "- Operadores: concatenar `+`, repetir `*`\n"
   ]
  },
  {
   "cell_type": "markdown",
   "id": "9553f542",
   "metadata": {},
   "source": [
    "\n",
    "**Ejemplos reales**\n",
    "- **Coordenadas** y cálculo sin mutaciones"
   ]
  },
  {
   "cell_type": "markdown",
   "id": "8c0c77bc",
   "metadata": {},
   "source": [
    "\n",
    "- **Retorno múltiple** y **swap** (intercambio de valores) de variables"
   ]
  },
  {
   "cell_type": "markdown",
   "id": "964dba85",
   "metadata": {},
   "source": [
    "\n",
    "## 4) Conjuntos (`set`) y conjuntos inmutables (`frozenset`)\n",
    "**Qué son**: Colecciones **sin orden y sin duplicados**. `set` es **mutable**; `frozenset` es **inmutable** y por tanto **hashable**.\n",
    "\n",
    "**Funciones/métodos habituales de `set`**\n",
    "- Crear/convertir: `set(iterable)`  \n",
    "- Añadir/quitar: `add(x)`, `update(iter)`, `remove(x)`, `discard(x)`, `pop()`, `clear()`  \n",
    "- Operaciones de conjuntos: `union` (`|`), `intersection` (`&`), `difference` (`-`), `symmetric_difference` (`^`)  \n",
    "- Relaciones: `issubset` (`<=`), `issuperset` (`>=`), `isdisjoint()`  \n",
    "- Copia: `copy()`  \n",
    "**`frozenset(iterable)`**: igual que `set` pero **inmutable** (apto como clave o elemento de otro set).\n",
    "\n",
    "\n",
    "  \n"
   ]
  },
  {
   "cell_type": "markdown",
   "id": "f79e0129-1d5c-445b-8d49-8f31a3ed8f22",
   "metadata": {},
   "source": [
    "## 4) ¿Qué significa ser hashable?\n",
    "Un objeto es hashable si:\n",
    "\n",
    "Tiene un valor hash fijo → es decir, se puede transformar en un número único mediante una función llamada hash.\n",
    "\n",
    "No cambia mientras existe → debe ser inmutable, porque si cambiara, su hash también cambiaría y sería imposible localizarlo.\n",
    "\n",
    "En Python, se calcula con la función integrada hash()\n",
    "\n",
    "## Analogía de la vida real\n",
    "\n",
    "Piensa en el DNI o número de pasaporte:\n",
    "\n",
    "Es un dato que no cambia.\n",
    "\n",
    "Sirve como identificador único para una persona.\n",
    "\n",
    "En Python, ser hashable es como tener un DNI: te permite usarse como clave en diccionarios o elemento en un conjunto."
   ]
  },
  {
   "cell_type": "markdown",
   "id": "5e726035",
   "metadata": {},
   "source": [
    "\n",
    "**Ejemplos reales**\n",
    "- **Deduplicar** rápidamente (ojo: pierde orden)\n",
    "- "
   ]
  },
  {
   "cell_type": "markdown",
   "id": "37691b31",
   "metadata": {},
   "source": [
    "\n",
    "- **Mantener orden** mientras deduplicas (mezclando lista + set de vistos)"
   ]
  },
  {
   "cell_type": "markdown",
   "id": "98dfd2b4",
   "metadata": {},
   "source": [
    "\n",
    "- **Intersección de permisos/roles** entre usuarios"
   ]
  },
  {
   "cell_type": "markdown",
   "id": "902be1ca",
   "metadata": {},
   "source": [
    "- **`frozenset` como clave de diccionario** (por ser hashable)\n",
    "  \n",
    "Un frozenset en Python es una variante de los conjuntos (set), con la diferencia clave de que es inmutable (no se puede modificar después de crearlo).\n",
    "\n",
    "🔹 Características principales\n",
    "\n",
    "No permite elementos duplicados (igual que un set).\n",
    "\n",
    "No tiene orden específico.\n",
    "\n",
    "Es inmutable: no se pueden agregar ni eliminar elementos después de crearlo.\n",
    "\n",
    "Sí es hashable, lo que significa que un frozenset puede usarse como clave en un diccionario o elemento de otro conjunto, algo que un set normal no permite.\n",
    "\n"
   ]
  },
  {
   "cell_type": "markdown",
   "id": "5343331f",
   "metadata": {},
   "source": [
    "\n",
    "## 5) Diccionarios (`dict`)\n",
    "**Qué son**: Mapeos **clave→valor**. Claves **hashables** y únicas; mantienen **orden de inserción**.\n",
    "\n",
    "**Funciones/métodos habituales**\n",
    "- Crear/convertir: `dict()`, literales `{clave: valor}`  \n",
    "- Acceso/inserción/actualización: `d[k]`, `d[k]=v`, `update(...)`  \n",
    "- Lectura segura: `get(k[, default])`, `setdefault(k[, default])`  \n",
    "- Vistas: `keys()`, `values()`, `items()`  \n",
    "- Quitar: `pop(k[, default])`, `popitem()`, `clear()`  \n",
    "- Constructores: `dict.fromkeys(iter[, v])`  \n",
    "- Copia: `copy()` (superficial)\n"
   ]
  },
  {
   "cell_type": "markdown",
   "id": "87c20be9",
   "metadata": {},
   "source": [
    "\n",
    "**Ejemplos reales**\n",
    "- **Conteo de frecuencias** (palabras)"
   ]
  },
  {
   "cell_type": "markdown",
   "id": "38b389b3",
   "metadata": {},
   "source": [
    "\n",
    "- **Índice por id** (acceso O(1) a registros)\n",
    "  "
   ]
  },
  {
   "cell_type": "markdown",
   "id": "9df891bd",
   "metadata": {},
   "source": [
    "\n",
    "-**Agrupar por clave** (p. ej., dominio de email)\n",
    "  "
   ]
  },
  {
   "cell_type": "markdown",
   "id": "3f4d43b4",
   "metadata": {},
   "source": [
    "\n",
    "## 6) ¿Cuál elijo? — Reglas rápidas\n",
    "- Quieres **orden** y **editar** → `list`  \n",
    "- Quieres **orden** y **no editar** (registro fijo) → `tuple`  \n",
    "- Quieres **unicidad** / **pertenencia rápida** → `set` (o `frozenset` si necesitas inmutabilidad/clave)  \n",
    "- Quieres datos **etiquetados por clave** → `dict`\n"
   ]
  }
 ],
 "metadata": {
  "kernelspec": {
   "display_name": "Python [conda env:base] *",
   "language": "python",
   "name": "conda-base-py"
  },
  "language_info": {
   "codemirror_mode": {
    "name": "ipython",
    "version": 3
   },
   "file_extension": ".py",
   "mimetype": "text/x-python",
   "name": "python",
   "nbconvert_exporter": "python",
   "pygments_lexer": "ipython3",
   "version": "3.13.5"
  }
 },
 "nbformat": 4,
 "nbformat_minor": 5
}
