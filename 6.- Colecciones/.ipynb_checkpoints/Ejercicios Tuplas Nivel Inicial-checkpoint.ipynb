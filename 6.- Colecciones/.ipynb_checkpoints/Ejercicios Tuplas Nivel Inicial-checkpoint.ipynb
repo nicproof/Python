{
 "cells": [
  {
   "cell_type": "markdown",
   "id": "a2f3c6c7",
   "metadata": {},
   "source": [
    "# 🐍 Ejercicios de Tuplas (Nivel Inicial)\n",
    "_Generado automáticamente el 2025-09-19 10:39 UTC_\n",
    "\n",
    "Resuelve los siguientes ejercicios usando **tuplas** en Python."
   ]
  },
  {
   "cell_type": "markdown",
   "id": "fa520b18",
   "metadata": {},
   "source": [
    "## Ejercicio 1: Crear y acceder\n",
    "Crea una tupla con los nombres de **5 frutas**.\n",
    "- Muestra la primera y la última fruta.\n",
    "- Muestra la cantidad de frutas con `len()`."
   ]
  },
  {
   "cell_type": "code",
   "execution_count": null,
   "id": "56c15901",
   "metadata": {},
   "outputs": [],
   "source": [
    "# Escribe aquí tu solución"
   ]
  },
  {
   "cell_type": "markdown",
   "id": "c9d1eb72",
   "metadata": {},
   "source": [
    "## Ejercicio 2: Índices\n",
    "Dada la tupla:\n",
    "```python\n",
    "colores = (\"rojo\", \"verde\", \"azul\", \"amarillo\", \"verde\")\n",
    "```\n",
    "- Muestra el índice de la primera aparición de `\"verde\"`.\n",
    "- Cuenta cuántas veces aparece `\"verde\"`."
   ]
  },
  {
   "cell_type": "code",
   "execution_count": null,
   "id": "62b22241",
   "metadata": {},
   "outputs": [],
   "source": [
    "# Escribe aquí tu solución"
   ]
  },
  {
   "cell_type": "markdown",
   "id": "31ed2acd",
   "metadata": {},
   "source": [
    "## Ejercicio 3: Desempaquetado\n",
    "Dada la tupla:\n",
    "```python\n",
    "coordenadas = (15, 30)\n",
    "```\n",
    "- Desempaqueta la tupla en dos variables `x` y `y`.\n",
    "- Muestra: `La coordenada X es ... y la Y es ...`."
   ]
  },
  {
   "cell_type": "code",
   "execution_count": null,
   "id": "5c132f54",
   "metadata": {},
   "outputs": [],
   "source": [
    "# Escribe aquí tu solución"
   ]
  },
  {
   "cell_type": "markdown",
   "id": "cb7cbe07",
   "metadata": {},
   "source": [
    "## Ejercicio 4: Inmutabilidad\n",
    "Crea la tupla:\n",
    "```python\n",
    "dias = (\"lunes\", \"martes\", \"miércoles\", \"jueves\", \"viernes\")\n",
    "```\n",
    "- Intenta cambiar el valor del segundo día (`dias[1] = \"LUNES\"`) y observa qué ocurre.\n",
    "- Explica en un comentario por qué sucede."
   ]
  },
  {
   "cell_type": "code",
   "execution_count": null,
   "id": "5d86fa9f",
   "metadata": {},
   "outputs": [],
   "source": [
    "# Escribe aquí tu solución"
   ]
  },
  {
   "cell_type": "markdown",
   "id": "4a99d6f8",
   "metadata": {},
   "source": [
    "## Ejercicio 5: Tuplas anidadas\n",
    "Crea una tupla que contenga información de un **estudiante**:\n",
    "```python\n",
    "estudiante = (\"Ana\", 20, (\"Matemáticas\", \"Historia\", \"Programación\"))\n",
    "```\n",
    "- Muestra el nombre del estudiante.\n",
    "- Muestra la segunda asignatura."
   ]
  },
  {
   "cell_type": "code",
   "execution_count": null,
   "id": "7b84f96a",
   "metadata": {},
   "outputs": [],
   "source": [
    "# Escribe aquí tu solución"
   ]
  },
  {
   "cell_type": "markdown",
   "id": "7d6a9137",
   "metadata": {},
   "source": [
    "## Ejercicio 6: Convertir entre lista y tupla\n",
    "Crea una tupla con 4 ciudades. Convierte la tupla en lista, agrega otra ciudad, y vuelve a convertir a tupla."
   ]
  },
  {
   "cell_type": "code",
   "execution_count": null,
   "id": "93769c95",
   "metadata": {},
   "outputs": [],
   "source": [
    "# Escribe aquí tu solución"
   ]
  },
  {
   "cell_type": "code",
   "execution_count": null,
   "id": "e32fc509",
   "metadata": {},
   "outputs": [],
   "source": [
    "# Escribe aquí tu solución"
   ]
  }
 ],
 "metadata": {
  "kernelspec": {
   "display_name": "Python [conda env:base] *",
   "language": "python",
   "name": "conda-base-py"
  },
  "language_info": {
   "codemirror_mode": {
    "name": "ipython",
    "version": 3
   },
   "file_extension": ".py",
   "mimetype": "text/x-python",
   "name": "python",
   "nbconvert_exporter": "python",
   "pygments_lexer": "ipython3",
   "version": "3.13.5"
  }
 },
 "nbformat": 4,
 "nbformat_minor": 5
}
