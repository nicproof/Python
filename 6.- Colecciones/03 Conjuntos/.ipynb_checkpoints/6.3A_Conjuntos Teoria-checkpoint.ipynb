{
 "cells": [
  {
   "cell_type": "markdown",
   "id": "6a64dca2",
   "metadata": {},
   "source": [
    "# Conjuntos en Python (set y frozenset)\n",
    "\n",
    "Un **conjunto** en Python es una colección desordenada de elementos **únicos** y **mutables**.\n",
    "\n",
    "Características principales:\n",
    "- No admite duplicados.\n",
    "- Los elementos no tienen un orden fijo.\n",
    "- Son mutables (se pueden modificar), excepto los `frozenset` que son inmutables.\n",
    "\n",
    "## Crear conjuntos\n",
    "```python\n",
    "A = {1, 2, 3}\n",
    "B = set([2, 3, 4])\n",
    "print(A, B)\n",
    "```\n",
    "\n",
    "## Operaciones comunes\n",
    "- Unión → `A | B` o `A.union(B)`\n",
    "- Intersección → `A & B` o `A.intersection(B)`\n",
    "- Diferencia → `A - B` o `A.difference(B)`\n",
    "- Diferencia simétrica → `A ^ B` o `A.symmetric_difference(B)`\n",
    "\n",
    "## Métodos importantes\n",
    "- `add(elem)`, `remove(elem)`, `discard(elem)`, `clear()`, `copy()`\n",
    "\n",
    "## frozenset\n",
    "Es una versión **inmutable** de un conjunto. Se puede usar como clave en un diccionario o elemento de otro set.\n",
    "```python\n",
    "fs = frozenset([1, 2, 3])\n",
    "print(fs)\n",
    "```\n"
   ]
  },
  {
   "cell_type": "code",
   "execution_count": null,
   "id": "98a954c5",
   "metadata": {},
   "outputs": [],
   "source": [
    "A = {1, 2, 3, 4}\n",
    "B = {3, 4, 5, 6}\n",
    "print('Unión:', A | B)\n",
    "print('Intersección:', A & B)\n",
    "print('Diferencia:', A - B)\n",
    "print('Diferencia simétrica:', A ^ B)"
   ]
  }
 ],
 "metadata": {
  "kernelspec": {
   "display_name": "Python [conda env:base] *",
   "language": "python",
   "name": "conda-base-py"
  },
  "language_info": {
   "name": ""
  }
 },
 "nbformat": 4,
 "nbformat_minor": 5
}
