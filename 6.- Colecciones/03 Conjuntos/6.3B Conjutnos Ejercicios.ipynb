{
 "cells": [
  {
   "cell_type": "markdown",
   "id": "f74c4430",
   "metadata": {},
   "source": [
    "# Ejercicios de conjuntos (sin resolver)\n",
    "\n",
    "1. Crea un conjunto con los números del 1 al 5 y añade el número 6.\n",
    "2. Elimina el número 3 de ese conjunto.\n",
    "3. Dado `A = {1,2,3}` y `B = {3,4,5}`, calcula:\n",
    "   - La unión\n",
    "   - La intersección\n",
    "   - La diferencia `A - B`\n",
    "   - La diferencia simétrica\n",
    "4. Comprueba si el número 2 pertenece al conjunto `A`.\n",
    "5. Crea un `frozenset` a partir de una lista con elementos repetidos.\n",
    "6. Escribe un programa que elimine duplicados de una lista usando un conjunto.\n",
    "7. Dados tres conjuntos de alumnos que cursan diferentes asignaturas, encuentra los que están en todas, en al menos una y en ninguna."
   ]
  },
  {
   "cell_type": "code",
   "execution_count": 2,
   "id": "ae9738ef-0999-41b1-a1bf-5197decd5e16",
   "metadata": {},
   "outputs": [
    {
     "name": "stdout",
     "output_type": "stream",
     "text": [
      "{1, 2, 3, 4, 5, 6}\n"
     ]
    }
   ],
   "source": [
    "# 1.- Crea un conjunto con los números del 1 al 5 y añade el número 6.\n",
    "\n",
    "A = {1, 2, 3, 4, 5}\n",
    "B = {6}\n",
    "C = A | B\n",
    "print(C)"
   ]
  },
  {
   "cell_type": "code",
   "execution_count": 4,
   "id": "535ed5ee-02e4-4c89-8fde-1ac9253cc293",
   "metadata": {},
   "outputs": [
    {
     "name": "stdout",
     "output_type": "stream",
     "text": [
      "{1, 2, 4, 5}\n"
     ]
    }
   ],
   "source": [
    "#2.- Elimina el número 3 de ese conjunto.\n",
    "\n",
    "A.remove(3)\n",
    "print(A)"
   ]
  },
  {
   "cell_type": "code",
   "execution_count": 5,
   "id": "93701c44-6e44-4c27-9732-b7b0789f8fa7",
   "metadata": {},
   "outputs": [
    {
     "name": "stdout",
     "output_type": "stream",
     "text": [
      "Unión: {1, 2, 3, 4, 5}\n",
      "Intersección: {3}\n",
      "Diferencia: {1, 2}\n",
      "Diferencia simétrica: {1, 2, 4, 5}\n"
     ]
    }
   ],
   "source": [
    "# 3.- Dado A = {1,2,3} y B = {3,4,5}, calcula:\n",
    "#     La unión\n",
    "#     La intersección\n",
    "#     La diferencia A - B\n",
    "#     La diferencia simétrica\n",
    "\n",
    "A = {1,2,3}\n",
    "B = {3,4,5}\n",
    "print('Unión:', A | B)\n",
    "print('Intersección:', A & B)\n",
    "print('Diferencia:', A - B)\n",
    "print('Diferencia simétrica:', A ^ B)\n"
   ]
  },
  {
   "cell_type": "code",
   "execution_count": 7,
   "id": "262318b0-f009-404b-b5fc-a6cb0e180e15",
   "metadata": {},
   "outputs": [
    {
     "data": {
      "text/plain": [
       "True"
      ]
     },
     "execution_count": 7,
     "metadata": {},
     "output_type": "execute_result"
    }
   ],
   "source": [
    "# 4.- Comprueba si el número 2 pertenece al conjunto A\n",
    "\n",
    "aparece = 2 in A\n",
    "aparece\n"
   ]
  },
  {
   "cell_type": "code",
   "execution_count": 5,
   "id": "f7e7d2ed-a34a-4621-ba11-29590d28f9b4",
   "metadata": {},
   "outputs": [
    {
     "name": "stdout",
     "output_type": "stream",
     "text": [
      "frozenset({1, 2, 3})\n"
     ]
    }
   ],
   "source": [
    "# 5.- Crea un frozenset a partir de una lista con elementos repetidos.\n",
    "\n",
    "fs = frozenset([1, 1, 2, 3, 3])\n",
    "print(fs)"
   ]
  },
  {
   "cell_type": "code",
   "execution_count": 10,
   "id": "58ad49ce-e52e-4b8f-80a9-53e3f3f166f2",
   "metadata": {},
   "outputs": [
    {
     "name": "stdout",
     "output_type": "stream",
     "text": [
      "fs1 = frozenset({1, 2, 3}) \n",
      "fs2 = frozenset({1, 2, 3})\n"
     ]
    }
   ],
   "source": [
    "# 5.- Crea un frozenset a partir de una lista con elementos repetidos.\n",
    "lista = [1, 1, 2, 3, 3]\n",
    "fs1 = frozenset(lista)\n",
    "fs2 = frozenset(set(lista))\n",
    "print(f\"fs1 = {fs1} \\nfs2 = {fs2}\")"
   ]
  },
  {
   "cell_type": "code",
   "execution_count": 15,
   "id": "09016924-7647-4c2b-9929-8b0a8564dec3",
   "metadata": {},
   "outputs": [
    {
     "data": {
      "text/plain": [
       "{1, 2, 3, 4, 5, 6, 7, 8}"
      ]
     },
     "execution_count": 15,
     "metadata": {},
     "output_type": "execute_result"
    }
   ],
   "source": [
    "# 6.- Escribe un programa que elimine duplicados de una lista usando un conjunto.\n",
    "\n",
    "lista = [1,2,3,4,5,5,6,7,8,8]\n",
    "A = set(lista)\n",
    "A"
   ]
  },
  {
   "cell_type": "code",
   "execution_count": 47,
   "id": "583b29de-5274-499e-aa3b-8c1d0e74b39e",
   "metadata": {
    "scrolled": true
   },
   "outputs": [
    {
     "name": "stdout",
     "output_type": "stream",
     "text": [
      "Curso de Lengua: {'Rocio', 'Mario', 'Santiago', 'Carmen', 'Luis'}\n",
      "Curso de Matemáticas: {'Carmen', 'Lucia', 'Mario', 'Luis'}\n",
      "Curso de Inglés: {'Lucia', 'Rocio', 'Mario'}\n",
      "\n",
      "Alumnos que están en las tres asignaturas: {'Mario'}\n",
      "Alumnos que están en al menos una asignatura: {'Mario', 'Lucia', 'Rocio', 'Santiago', 'Luis', 'Carmen'}\n",
      "Alumnos que no están en ninguna asignatura: {'Alfredo', 'Marcos'}\n",
      "\n"
     ]
    }
   ],
   "source": [
    "# 7.- Dados tres conjuntos de alumnos que cursan diferentes asignaturas, encuentra los que están en todas, en al menos una y en ninguna.\n",
    "\n",
    "lengua = {\"Mario\", \"Luis\", \"Santiago\", \"Carmen\", \"Rocio\"}\n",
    "matematicas = {\"Mario\", \"Luis\",\"Carmen\",\"Lucia\"}\n",
    "ingles = {\"Mario\", \"Rocio\", \"Lucia\"}\n",
    "total_alumnos = {\"Mario\", \"Lucia\", \"Rocio\", \"Santiago\", \"Luis\", \"Carmen\", \"Alfredo\", \"Marcos\"}\n",
    "\n",
    "print(f\"Curso de Lengua: {lengua}\")\n",
    "print(f\"Curso de Matemáticas: {matematicas}\")\n",
    "print(f\"Curso de Inglés: {ingles}\")\n",
    "print(\"\")\n",
    "print (f\"Alumnos que están en las tres asignaturas: {lengua&matematicas&ingles}\")\n",
    "print (f\"Alumnos que están en al menos una asignatura: {lengua|matematicas|ingles}\")\n",
    "sin_asignatura = total_alumnos - (lengua|matematicas|ingles)\n",
    "print (f\"Alumnos que no están en ninguna asignatura: {sin_asignatura}\") \n",
    "print(\"\") \n",
    "\n"
   ]
  },
  {
   "cell_type": "code",
   "execution_count": 29,
   "id": "a5958bf4-fe46-4200-a9d6-393c7be8c2ef",
   "metadata": {},
   "outputs": [
    {
     "name": "stdout",
     "output_type": "stream",
     "text": [
      "Alumnos en todas las asignaturas: {'Marta', 'Juan'}\n",
      "Alumnos en al menos una asignatura: {'Marta', 'Juan', 'David', 'Carlos', 'Sofía', 'Pedro', 'Ana', 'Luis'}\n",
      "Alumnos que no están en ninguna de las asignaturas: {'Ricardo', 'Andrés', 'Elena'}\n"
     ]
    }
   ],
   "source": [
    "# EXTRA !!!  --->   Definición de los tres conjuntos de alumnos\n",
    "alumnos_matematicas = {\"Ana\", \"Luis\", \"Carlos\", \"Marta\", \"Juan\"}\n",
    "alumnos_fisica = {\"Luis\", \"Pedro\", \"Marta\", \"Sofía\", \"Juan\"}\n",
    "alumnos_quimica = {\"Ana\", \"Pedro\", \"Marta\", \"Juan\", \"David\"}\n",
    "\n",
    "# 1. Alumnos que están en todas las asignaturas\n",
    "# Se usa la intersección (&) para encontrar los elementos comunes a todos los conjuntos.\n",
    "en_todas = alumnos_matematicas & alumnos_fisica & alumnos_quimica\n",
    "\n",
    "# 2. Alumnos que están en al menos una de las asignaturas\n",
    "# Se usa la unión (|) para combinar todos los elementos únicos de los conjuntos.\n",
    "en_al_menos_una = alumnos_matematicas | alumnos_fisica | alumnos_quimica\n",
    "\n",
    "# 3. Alumnos que no están en ninguna de las asignaturas\n",
    "# Para esto, necesitamos un conjunto total de todos los alumnos posibles.\n",
    "# Si solo nos limitamos a los alumnos que están en los conjuntos, este grupo sería vacío.\n",
    "# Por lo tanto, asumiremos un conjunto total de alumnos para el ejemplo.\n",
    "\n",
    "alumnos_totales = {\"Ana\", \"Luis\", \"Carlos\", \"Marta\", \"Juan\", \"Pedro\", \"Sofía\", \"David\", \"Andrés\", \"Elena\", \"Ricardo\"}\n",
    "\n",
    "# La diferencia (-) entre el conjunto total y la unión de todos los alumnos inscritos\n",
    "en_ninguna = alumnos_totales - en_al_menos_una\n",
    "\n",
    "# Impresión de los resultados\n",
    "print(f\"Alumnos en todas las asignaturas: {en_todas}\")\n",
    "print(f\"Alumnos en al menos una asignatura: {en_al_menos_una}\")\n",
    "print(f\"Alumnos que no están en ninguna de las asignaturas: {en_ninguna}\")"
   ]
  }
 ],
 "metadata": {
  "kernelspec": {
   "display_name": "Python [conda env:base] *",
   "language": "python",
   "name": "conda-base-py"
  },
  "language_info": {
   "codemirror_mode": {
    "name": "ipython",
    "version": 3
   },
   "file_extension": ".py",
   "mimetype": "text/x-python",
   "name": "python",
   "nbconvert_exporter": "python",
   "pygments_lexer": "ipython3",
   "version": "3.13.5"
  }
 },
 "nbformat": 4,
 "nbformat_minor": 5
}
