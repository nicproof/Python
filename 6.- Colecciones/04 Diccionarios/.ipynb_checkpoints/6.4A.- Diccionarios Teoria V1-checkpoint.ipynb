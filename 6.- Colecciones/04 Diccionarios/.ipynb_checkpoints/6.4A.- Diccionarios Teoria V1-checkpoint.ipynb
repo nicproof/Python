{
 "cells": [
  {
   "cell_type": "markdown",
   "id": "66f0c6b6",
   "metadata": {},
   "source": [
    "# Diccionarios en Python (`dict`)\n",
    "Un **diccionario** es una colección **mutable** y, conceptualmente, **no ordenada** de pares `clave: valor`. Desde Python 3.7, la implementación mantiene el **orden de inserción** de forma determinada.\n",
    "Nos permite relacionar pares de elementos {clave:valor}\n",
    "La clave a la que llamaremos key nos sirve para identificar y buscar el elemento con el que tiene relación al que llamaremos value: {key:value}\n",
    "##Características:\n",
    "- No ordenado\n",
    "- Hetereogéneo con clave inmutable\n",
    "- Mutable\n"
   ]
  },
  {
   "cell_type": "raw",
   "id": "aba3de6e-6061-4713-9ac9-6f13ade819ef",
   "metadata": {},
   "source": [
    "## Creación de diccionarios:\n",
    "{}\n",
    "- Las **claves** deben ser **hashables** (inmutables en la práctica: `str`, `int`, `tuple` inmutable, `frozenset`, ...).\n",
    "- Los **valores** pueden ser de cualquier tipo.\n",
    "- Operaciones típicas: lectura, inserción, actualización y borrado por clave.\n",
    "Si por error repetimos la clave, no nos va a dar ningun mensaje, sino que automáticamente, va a sustitiuir el valor por el último introducido"
   ]
  },
  {
   "cell_type": "code",
   "execution_count": null,
   "id": "d16437b1",
   "metadata": {},
   "outputs": [],
   "source": [
    "Diccionario={1:\"uno\", 2: \"Dos\"}\n",
    "print (f\"(Diccionario: {Diccionario}\")\n",
    "print(f\"Diccionario[1]:{Diccionario[1]}\")\n",
    "Diccionario[3]=\"Tres\"\n",
    "print (f\"(Diccionario: {Diccionario}\")\n",
    "#Otra forma de crearlo\n",
    "dicc=dict([(1,\"uno\"), (2,\"dos\"),(20,\"veinte\")])"
   ]
  },
  {
   "cell_type": "markdown",
   "id": "f8004c80",
   "metadata": {},
   "source": [
    "## Crear diccionarios\n",
    "Vías habituales para crear diccionarios."
   ]
  },
  {
   "cell_type": "code",
   "execution_count": null,
   "id": "dc19c9c7",
   "metadata": {},
   "outputs": [],
   "source": [
    "d1 = {'a': 1, 'b': 2}\n",
    "d2 = dict(a=1, b=2)\n",
    "d3 = dict([('a', 1), ('b', 2)])\n",
    "d_vacio = {}\n",
    "d1, d2, d3, d_vacio"
   ]
  },
  {
   "cell_type": "markdown",
   "id": "629994cf",
   "metadata": {},
   "source": [
    "## Funcionamiento de Diccionarios\n",
    "Lectura, inserción, actualización y borrado de claves."
   ]
  },
  {
   "cell_type": "code",
   "execution_count": null,
   "id": "cef58bd6",
   "metadata": {},
   "outputs": [],
   "source": [
    "\n",
    "d = {'a': 1}\n",
    "d['b'] = 2        # insertar\n",
    "x = d['a']        # acceso (KeyError si no existe)\n",
    "y = d.get('z', 0) # acceso seguro con valor por defecto\n",
    "del d['a']        # eliminar clave\n",
    "print(\"d:\",d)\n",
    "print(\"x\",x)\n",
    "print (\"y\",y)"
   ]
  },
  {
   "cell_type": "markdown",
   "id": "9e671f02",
   "metadata": {},
   "source": [
    "## Métodos importantes\n",
    "- `get`, `setdefault`, `update`, `pop`, `popitem`, `clear`, `copy`\n",
    "- `keys()`, `values()`, `items()`"
   ]
  },
  {
   "cell_type": "markdown",
   "id": "fc0fc05c-9bfa-45d0-b404-8c128b5cddf5",
   "metadata": {},
   "source": [
    "# Diccionarios: `get()`\n",
    "\n",
    "Devuelve `d[clave]` si existe; si no, devuelve un **valor por defecto** (por defecto `None`) **sin lanzar error**.\n",
    "\n",
    "### Firma\n",
    "`d.get(clave, default=None)`\n",
    "\n",
    "### Cuándo usarlo\n",
    "- Lectura \"segura\" cuando una clave puede no existir.\n",
    "- Contadores simples junto con `get(..., 0)`."
   ]
  },
  {
   "cell_type": "code",
   "execution_count": null,
   "id": "91ad3ff8-4c9e-424d-b331-e5c17285089e",
   "metadata": {},
   "outputs": [],
   "source": [
    "d = {'a': 1}\n",
    "print(d.get('a'))        # 1\n",
    "print(d.get('z'))        # None\n",
    "print(d.get('z', 0))     # 0 (valor por defecto)\n",
    "'z' in d, d"
   ]
  },
  {
   "cell_type": "markdown",
   "id": "fe534af3-043f-4f5a-8baa-0ea1c4338f52",
   "metadata": {},
   "source": [
    "# Diccionarios: `setdefault()`\n",
    "\n",
    "Inserta la clave con un **valor por defecto** si no existe y **devuelve el valor** asociado. Si ya existe, **no modifica** y devuelve el valor actual.\n",
    "\n",
    "### Firma\n",
    "`d.setdefault(clave, default=None)`\n",
    "\n",
    "### Patrones comunes\n",
    "- Construcción de estructuras anidadas (listas, dicts) sin `if`."
   ]
  },
  {
   "cell_type": "code",
   "execution_count": 36,
   "id": "b4cc7252-9b90-429e-afe9-4aee1fc2fba9",
   "metadata": {},
   "outputs": [
    {
     "name": "stdout",
     "output_type": "stream",
     "text": [
      "{'A': {'Luis', 'Ana'}, 'B': {'Marta'}}\n"
     ]
    }
   ],
   "source": [
    "grupos = {}\n",
    "grupos.setdefault('A', set()).add('Ana')\n",
    "grupos.setdefault('A', set()).add('Luis')\n",
    "grupos.setdefault('B', set()).add('Marta')\n",
    "\n",
    "print(grupos)\n",
    "# {'A': {'Ana', 'Luis'}, 'B': {'Marta'}}\n"
   ]
  },
  {
   "cell_type": "code",
   "execution_count": null,
   "id": "a67ffe20",
   "metadata": {},
   "outputs": [],
   "source": [
    "Diccionario= {1: 'uno', 2: 'Dos', 3: 'Tres'}\n",
    "print(f\"Diccionario.keys():{Diccionario.keys()}\") #Devuelve las claves\n",
    "print(f\"Diccionario.values():{Diccionario.values()}\") #Devuelve las claves\n",
    "print(f\"Diccionario.items():{Diccionario.items()}\") #Devuelve una lista de tuplas con los pares de datos key-value\n",
    "Diccionario.pop(2) #Elinimar una clave y por tanto su valor\n",
    "print(Diccionario)\n",
    "print('keys:', list(d.keys()))\n",
    "print('values:', list(d.values()))\n",
    "print('items:', list(d.items()))\n",
    "d.setdefault('c', 3)\n",
    "d.update({'b': 20, 'd': 4})\n",
    "ultimo = d.popitem()  # (clave, valor) del último par\n",
    "quitado_b = d.pop('b')\n",
    "d_copia = d.copy()\n",
    "d, ultimo, quitado_b, d_copia"
   ]
  },
  {
   "cell_type": "markdown",
   "id": "76717c93",
   "metadata": {},
   "source": [
    "## Iteración por diccionarios\n",
    "Puedes iterar por claves, valores o pares clave-valor."
   ]
  },
  {
   "cell_type": "code",
   "execution_count": null,
   "id": "b8bdb870",
   "metadata": {},
   "outputs": [],
   "source": [
    "d = {'x': 1, 'y': 2, 'z': 3}\n",
    "claves = [k for k in d]\n",
    "valores = [v for v in d.values()]\n",
    "pares = [(k, v) for k, v in d.items()]\n",
    "claves, valores, pares"
   ]
  },
  {
   "cell_type": "markdown",
   "id": "14775b20",
   "metadata": {},
   "source": [
    "## Comprensiones de diccionarios\n",
    "Construyen diccionarios de forma compacta y expresiva."
   ]
  },
  {
   "cell_type": "markdown",
   "id": "dc739e20-62a3-4d8f-9fea-be1eef827973",
   "metadata": {},
   "source": [
    "## Comprensiones de diccionarios con condicional (ejemplo detallado)\n",
    "\n",
    "La forma general es:\n",
    "```python\n",
    "{clave: valor for clave, valor in iterable if condicion}\n",
    "```\n",
    "\n",
    "En este caso partimos de un diccionario con cuadrados:\n",
    "```python\n",
    "cuadrados = {n: n*n for n in range(6)}\n",
    "```\n",
    "que da como resultado:\n",
    "```\n",
    "{0:0, 1:1, 2:4, 3:9, 4:16, 5:25}\n",
    "```\n",
    "\n",
    "Cuando usamos:\n",
    "```python\n",
    "filtrado = {k: v for k, v in cuadrados.items() if v % 2 == 0}\n",
    "```\n",
    "estamos diciendo:\n",
    "- Recorre cada `(k,v)` del diccionario `cuadrados`.\n",
    "- Conserva solo aquellos donde `v % 2 == 0` (es decir, los valores pares).\n",
    "\n",
    "El resultado final es un nuevo diccionario con solo esos pares.\n"
   ]
  },
  {
   "cell_type": "code",
   "execution_count": null,
   "id": "e3b3f839",
   "metadata": {},
   "outputs": [],
   "source": [
    "cuadrados = {n: n*n for n in range(6)}\n",
    "filtrado  = {k: v for k, v in cuadrados.items() if v % 2 == 0}\n",
    "cuadrados, filtrado"
   ]
  },
  {
   "cell_type": "markdown",
   "id": "b03e9828",
   "metadata": {},
   "source": [
    "## Diccionarios anidados y acceso seguro\n",
    "Usa `get` con valores por defecto para evitar `KeyError` en estructuras profundas."
   ]
  },
  {
   "cell_type": "code",
   "execution_count": null,
   "id": "4df54612",
   "metadata": {},
   "outputs": [],
   "source": [
    "persona = {'nombre': 'Ana', 'contacto': {'email': 'ana@x.com', 'tlf': None}}\n",
    "email = persona.get('contacto', {}).get('email')\n",
    "email"
   ]
  },
  {
   "cell_type": "markdown",
   "id": "898c7090",
   "metadata": {},
   "source": [
    "## Unión y fusión (Python 3.9+)\n",
    "El operador `|` crea un nuevo diccionario; `|=` fusiona *in situ*. Las claves repetidas quedan con el valor del **segundo** operando."
   ]
  },
  {
   "cell_type": "code",
   "execution_count": null,
   "id": "cb856226",
   "metadata": {},
   "outputs": [],
   "source": [
    "a = {'x': 1, 'y': 2}\n",
    "b = {'y': 99, 'z': 3}\n",
    "c = a | b\n",
    "a2 = {'x': 1, 'y': 2}\n",
    "a2 |= b\n",
    "c, a2"
   ]
  },
  {
   "cell_type": "markdown",
   "id": "08e5e83f",
   "metadata": {},
   "source": [
    "## Trampas habituales\n",
    "- No usar **tipos mutables** como claves.\n",
    "- Cuidado con **valores por defecto mutables** en funciones.\n",
    "- Diferencia entre `d['k']` (puede fallar) y `d.get('k')` (seguro)."
   ]
  },
  {
   "cell_type": "code",
   "execution_count": null,
   "id": "e09b0815",
   "metadata": {},
   "outputs": [],
   "source": [
    "# Pitfall: valor por defecto mutable\n",
    "def agrega(item, contenedor=None):\n",
    "    if contenedor is None:\n",
    "        contenedor = []\n",
    "    contenedor.append(item)\n",
    "    return contenedor\n",
    "\n",
    "print(agrega(1))\n",
    "print(agrega(2))  # no reutiliza la lista anterior gracias a 'is None'"
   ]
  },
  {
   "cell_type": "markdown",
   "id": "20838081",
   "metadata": {},
   "source": [
    "## Casos de uso típicos\n",
    "- Contadores / frecuencias\n",
    "- Indexado por clave\n",
    "- Almacenamiento de configuración (JSON)\n"
   ]
  },
  {
   "cell_type": "code",
   "execution_count": 37,
   "id": "b0033770",
   "metadata": {},
   "outputs": [
    {
     "data": {
      "text/plain": [
       "{'hola': 3, 'mundo': 2, 'python': 1}"
      ]
     },
     "execution_count": 37,
     "metadata": {},
     "output_type": "execute_result"
    }
   ],
   "source": [
    "# Contador simple de palabras\n",
    "texto = 'hola hola mundo hola python mundo'\n",
    "conteo = {}\n",
    "for p in texto.split():\n",
    "    conteo[p] = conteo.get(p, 0) + 1\n",
    "conteo"
   ]
  }
 ],
 "metadata": {
  "kernelspec": {
   "display_name": "Python [conda env:base] *",
   "language": "python",
   "name": "conda-base-py"
  },
  "language_info": {
   "codemirror_mode": {
    "name": "ipython",
    "version": 3
   },
   "file_extension": ".py",
   "mimetype": "text/x-python",
   "name": "python",
   "nbconvert_exporter": "python",
   "pygments_lexer": "ipython3",
   "version": "3.13.5"
  }
 },
 "nbformat": 4,
 "nbformat_minor": 5
}
