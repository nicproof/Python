{
 "cells": [
  {
   "cell_type": "markdown",
   "id": "840cb4c4",
   "metadata": {},
   "source": [
    "# Ejercicios de diccionarios (resueltos)\n"
   ]
  },
  {
   "cell_type": "markdown",
   "id": "51385f71-15b3-439a-8ff2-5d1d48ec19e9",
   "metadata": {},
   "source": [
    "# Ejercicios de diccionarios (Resueltos)\n",
    "1. Crea un diccionario `alumno` con `nombre`, `edad` y `notas` (lista). Añade el campo `grupo`.\n",
    "2. Dado `precios = {'manzana': 1.2, 'pera': 1.5}`, actualiza el precio de `'pera'` a `1.6` y añade `'naranja': 1.3`.\n",
    "3. Usa `get` para leer una clave inexistente devolviendo `'N/D'`.\n",
    "4. A partir de `nombres = ['ana','luis','ana','marta','luis','ana']`, construye un **contador de frecuencias** con diccionario. Tienes que contar cuantas veces aparece cada uno de los nombres repetidos\n",
    "5. Dado `alumnos = [{'nombre':'Ana','nota':8},{'nombre':'Luis','nota':5},{'nombre':'Marta','nota':9}]`, crea un diccionario `{nombre: nota}`.\n",
    "6. **Comprensión**: crea `{n: n**2}` para `n` de 0 a 10 y filtra solo los cuadrados **impares**.\n",
    "7. Une dos diccionarios `a` y `b` con `|` y comenta qué ocurre con claves repetidas.\n",
    "8. Diccionario anidado: guarda la dirección de un usuario (`calle`, `cp`, `ciudad`) y obtén el `cp` de forma segura.\n",
    "9. Dado un texto, calcula la **palabra más frecuente** (ignora mayúsculas y puntuación básica).\n",
    "10. Transforma una lista de tuplas `[(id, nombre)]` en un diccionario y luego **invierte** el mapeo `{nombre: id}` (precaución con duplicados).\n",
    "11. Modela un **índice invertido** simple: a partir de una lista de documentos (listas de palabras), crea un `dict` `{palabra: set(indices_doc)}`.\n",
    "12. Serializa un diccionario a **JSON** y vuelve a cargarlo.\n"
   ]
  },
  {
   "cell_type": "code",
   "execution_count": 24,
   "id": "f8065dcf",
   "metadata": {},
   "outputs": [
    {
     "name": "stdout",
     "output_type": "stream",
     "text": [
      "{'nombre': 'Ana', 'edad': 20, 'notas': [8, 9, 7], 'grupo': 'A'}\n",
      "<class 'dict'>\n"
     ]
    }
   ],
   "source": [
    "# 1. Crea un diccionario `alumno` con `nombre`, `edad` y `notas` (lista). Añade el campo `grupo`.\n",
    "alumno = {'nombre': 'Ana', 'edad': 20, 'notas': [8, 9, 7]}\n",
    "alumno['grupo'] = 'A'\n",
    "print(alumno)\n",
    "print(type(alumno))"
   ]
  },
  {
   "cell_type": "code",
   "execution_count": 23,
   "id": "40c1f2a8",
   "metadata": {},
   "outputs": [
    {
     "name": "stdout",
     "output_type": "stream",
     "text": [
      "{'manzana': 1.2, 'pera': 1.6, 'naranja': 1.3}\n",
      "<class 'dict'>\n"
     ]
    }
   ],
   "source": [
    "# 2 Dado `precios = {'manzana': 1.2, 'pera': 1.5}`, actualiza el precio de `'pera'` a `1.6` y añade `'naranja': 1.3`.\n",
    "precios = {'manzana': 1.2, 'pera': 1.5}\n",
    "precios['pera'] = 1.6\n",
    "precios['naranja'] = 1.3\n",
    "print(precios)\n",
    "print(type(precios))"
   ]
  },
  {
   "cell_type": "code",
   "execution_count": 6,
   "id": "bb1c25f5",
   "metadata": {},
   "outputs": [
    {
     "data": {
      "text/plain": [
       "1.2"
      ]
     },
     "execution_count": 6,
     "metadata": {},
     "output_type": "execute_result"
    }
   ],
   "source": [
    "# 3  Usa `get` para leer una clave inexistente devolviendo `'N/D'`.\n",
    "#Úsalo también para devolver el precio de otra fruta que si exista\n",
    "precios.get('kiwi', 'N/D')\n",
    "precios.get('manzana')"
   ]
  },
  {
   "cell_type": "code",
   "execution_count": 21,
   "id": "4919d363",
   "metadata": {},
   "outputs": [
    {
     "name": "stdout",
     "output_type": "stream",
     "text": [
      "['ana', 'luis', 'ana', 'marta', 'luis', 'ana']\n",
      "<class 'list'>\n",
      "{'ana': 6, 'luis': 4, 'marta': 2}\n",
      "<class 'dict'>\n"
     ]
    }
   ],
   "source": [
    "# 4 A partir de nombres = ['ana','luis','ana','marta','luis','ana'], construye un contador de frecuencias con diccionario.\n",
    "nombres = ['ana','luis','ana','marta','luis','ana']\n",
    "frecuencias = {}\n",
    "for nombre in nombres:\n",
    "    frecuencias[nombre] = frecuencias.get(nombre, 0) + 1\n",
    "print(nombres)\n",
    "print(type(nombres))\n",
    "print(frecuencias)\n",
    "print(type(frecuencias))"
   ]
  },
  {
   "cell_type": "code",
   "execution_count": 17,
   "id": "a79a041b",
   "metadata": {},
   "outputs": [
    {
     "name": "stdout",
     "output_type": "stream",
     "text": [
      "[{'nombre': 'Ana', 'nota': 8}, {'nombre': 'Luis', 'nota': 5}, {'nombre': 'Marta', 'nota': 9}]\n",
      "<class 'list'>\n",
      "{'Ana': 8, 'Luis': 5, 'Marta': 9}\n",
      "<class 'dict'>\n"
     ]
    }
   ],
   "source": [
    "# 5 5. Dado `alumnos = [{'nombre':'Ana','nota':8},{'nombre':'Luis','nota':5},{'nombre':'Marta','nota':9}]`, crea un diccionario `{nombre: nota}`\n",
    "alumnos = [{'nombre':'Ana','nota':8},{'nombre':'Luis','nota':5},{'nombre':'Marta','nota':9}]\n",
    "notas = {alumno['nombre']: alumno['nota'] for alumno in alumnos}\n",
    "print(alumnos)\n",
    "print(type(alumnos))\n",
    "print(notas)\n",
    "print(type(notas))"
   ]
  },
  {
   "cell_type": "code",
   "execution_count": 25,
   "id": "f2139377",
   "metadata": {},
   "outputs": [
    {
     "name": "stdout",
     "output_type": "stream",
     "text": [
      "{1: 1, 3: 9, 5: 25, 7: 49, 9: 81}\n",
      "<class 'dict'>\n"
     ]
    }
   ],
   "source": [
    "# 6 **Comprensión**: crea `{n: n**2}` para `n` de 0 a 10 y filtra solo los cuadrados **impares**.\n",
    "impares = {n: n**2 for n in range(11) if (n**2) % 2 == 1}\n",
    "print(impares)\n",
    "print(type(impares))"
   ]
  },
  {
   "cell_type": "code",
   "execution_count": 26,
   "id": "9ca7a0d3",
   "metadata": {},
   "outputs": [
    {
     "name": "stdout",
     "output_type": "stream",
     "text": [
      "La unión de los dos diccionarios:  {'x': 1, 'y': 99, 'z': 3}\n"
     ]
    }
   ],
   "source": [
    "# 7 Une dos diccionarios `a` y `b` con `|` y comenta qué ocurre con claves repetidas\n",
    "a = {'x': 1, 'y': 2}\n",
    "b = {'y': 99, 'z': 3}\n",
    "print(\"La unión de los dos diccionarios: \", a | b)  # 'y' toma el valor de b\n"
   ]
  },
  {
   "cell_type": "code",
   "execution_count": 84,
   "id": "4f0b8b9e",
   "metadata": {},
   "outputs": [
    {
     "name": "stdout",
     "output_type": "stream",
     "text": [
      "{'nombre': 'Ana', 'direccion': {'calle': 'Sol 1', 'cp': '28001', 'ciudad': 'Madrid'}}\n",
      "<class 'dict'>\n",
      "28001\n",
      "<class 'str'>\n"
     ]
    }
   ],
   "source": [
    "# 8  Diccionario anidado: guarda la dirección de un usuario (`calle`, `cp`, `ciudad`) y obtén el `cp` de forma segura\n",
    "usuario = {'nombre': 'Ana', 'direccion': {'calle': 'Sol 1', 'cp': '28001', 'ciudad': 'Madrid'}}\n",
    "cp = usuario.get('direccion', {}).get('cp')\n",
    "print(usuario)\n",
    "print(type(usuario))\n",
    "print(cp)\n",
    "print(type(cp))\n"
   ]
  },
  {
   "cell_type": "code",
   "execution_count": 106,
   "id": "56937d85",
   "metadata": {},
   "outputs": [
    {
     "name": "stdout",
     "output_type": "stream",
     "text": [
      "{'hola': 3, 'esto': 1, 'es': 2, 'una': 1, 'prueba': 5, 'el': 1, 'mundo': 4, 'maravilloso': 1}\n",
      "<class 'dict'>\n",
      "prueba\n",
      "<class 'str'>\n"
     ]
    }
   ],
   "source": [
    "# 9 Dado un texto, calcula la **palabra más frecuente** (ignora mayúsculas y puntuación básica)\n",
    "texto = 'Hola, hola! Esto es una prueba: prueba prueba prueba prueba hola el mundo mundo mundo mundo es maravilloso.'\n",
    "\n",
    "import string\n",
    "\n",
    "trad = str.maketrans('', '', string.punctuation)\n",
    "\n",
    "\n",
    "palabras = texto.lower().translate(trad).split()\n",
    "conteo = {}\n",
    "\n",
    "for p in palabras:\n",
    "    conteo[p] = conteo.get(p, 0) + 1\n",
    "\n",
    "\n",
    "print(conteo)\n",
    "print(type(conteo))\n",
    "\n",
    "mas_repetida = max(conteo, key=conteo.get)\n",
    "print(mas_repetida)\n",
    "print(type(mas_repetida))\n"
   ]
  },
  {
   "cell_type": "code",
   "execution_count": 82,
   "id": "01b58c0d",
   "metadata": {},
   "outputs": [
    {
     "name": "stdout",
     "output_type": "stream",
     "text": [
      "[(101, 'ana'), (102, 'luis'), (103, 'marta')]\n",
      "<class 'list'>\n",
      "\n",
      "{101: 'ana', 102: 'luis', 103: 'marta'}\n",
      "<class 'dict'>\n",
      "\n",
      "{101: 'ana', 102: 'luis', 103: 'marta'}\n",
      "<class 'dict'>\n",
      "\n",
      "{'ana': 101, 'luis': 102, 'marta': 103}\n",
      "<class 'dict'>\n"
     ]
    }
   ],
   "source": [
    "# 10\n",
    "pares = [(101, 'ana'), (102, 'luis'), (103, 'marta')]\n",
    "print(pares) \n",
    "print(type(pares))\n",
    "print(\"\")\n",
    "d_por_id = dict(pares)\n",
    "print(d_por_id)\n",
    "print(type(d_por_id))\n",
    "print(\"\")\n",
    "invertido = {nombre: id_ for id_, nombre in pares}  # cuidado si hay nombres repetidos\n",
    "print(d_por_id)\n",
    "print(type(d_por_id))\n",
    "print(\"\")\n",
    "print(invertido)\n",
    "print(type(invertido))\n"
   ]
  },
  {
   "cell_type": "code",
   "execution_count": 89,
   "id": "dfc1759f",
   "metadata": {},
   "outputs": [
    {
     "name": "stdout",
     "output_type": "stream",
     "text": [
      "[['hola', 'mundo'], ['hola', 'python', 'mundo'], ['python', 'datos']]\n",
      "<class 'list'>\n",
      "\n",
      "{'hola': {0, 1}, 'mundo': {0, 1}, 'python': {1, 2}, 'datos': {2}}\n",
      "<class 'dict'>\n"
     ]
    }
   ],
   "source": [
    "# 11 Modela un índice invertido simple: a partir de una lista de documentos (listas de palabras), crea un dict {palabra: set(indices_doc)}.\n",
    "documentos = [\n",
    "    ['hola', 'mundo'],\n",
    "    ['hola', 'python', 'mundo'],\n",
    "    ['python', 'datos']\n",
    "]\n",
    "print(documentos)\n",
    "print(type(documentos))\n",
    "print(\"\")\n",
    "\n",
    "indice = {}\n",
    "for i, doc in enumerate(documentos):\n",
    "    for palabra in doc:\n",
    "        indice.setdefault(palabra, set()).add(i)\n",
    "print(indice)\n",
    "print(type(indice))"
   ]
  },
  {
   "cell_type": "code",
   "execution_count": 112,
   "id": "1277e84c",
   "metadata": {},
   "outputs": [
    {
     "name": "stdout",
     "output_type": "stream",
     "text": [
      "{'app': 'demo', 'version': 1, 'features': ['a', 'b']}\n",
      "<class 'dict'>\n",
      "\n",
      "{\"app\": \"demo\", \"version\": 1, \"features\": [\"a\", \"b\"]}\n",
      "<class 'str'>\n",
      "\n",
      "{'app': 'demo', 'version': 1, 'features': ['a', 'b']}\n",
      "<class 'dict'>\n"
     ]
    }
   ],
   "source": [
    "# 12\n",
    "import json\n",
    "\n",
    "cfg = {'app': 'demo', 'version': 1, 'features': ['a','b']}\n",
    "print(cfg)\n",
    "print(type(cfg))\n",
    "print(\"\")\n",
    "\n",
    "json_str = json.dumps(cfg, ensure_ascii=False)\n",
    "print(json_str)\n",
    "print(type(json_str))\n",
    "print(\"\")\n",
    "\n",
    "cfg2 = json.loads(json_str)\n",
    "print(cfg2)\n",
    "print(type(cfg2))\n"
   ]
  }
 ],
 "metadata": {
  "kernelspec": {
   "display_name": "Python [conda env:base] *",
   "language": "python",
   "name": "conda-base-py"
  },
  "language_info": {
   "codemirror_mode": {
    "name": "ipython",
    "version": 3
   },
   "file_extension": ".py",
   "mimetype": "text/x-python",
   "name": "python",
   "nbconvert_exporter": "python",
   "pygments_lexer": "ipython3",
   "version": "3.13.5"
  }
 },
 "nbformat": 4,
 "nbformat_minor": 5
}
