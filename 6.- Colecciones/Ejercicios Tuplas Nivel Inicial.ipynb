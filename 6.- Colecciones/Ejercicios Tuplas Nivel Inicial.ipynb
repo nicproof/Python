{
 "cells": [
  {
   "cell_type": "markdown",
   "id": "a2f3c6c7",
   "metadata": {},
   "source": [
    "# 🐍 Ejercicios de Tuplas (Nivel Inicial)\n",
    "_Generado automáticamente el 2025-09-19 10:39 UTC_\n",
    "\n",
    "Resuelve los siguientes ejercicios usando **tuplas** en Python."
   ]
  },
  {
   "cell_type": "markdown",
   "id": "fa520b18",
   "metadata": {},
   "source": [
    "## Ejercicio 1: Crear y acceder\n",
    "Crea una tupla con los nombres de **5 frutas**.\n",
    "- Muestra la primera y la última fruta.\n",
    "- Muestra la cantidad de frutas con `len()`."
   ]
  },
  {
   "cell_type": "code",
   "execution_count": 6,
   "id": "56c15901",
   "metadata": {},
   "outputs": [
    {
     "name": "stdout",
     "output_type": "stream",
     "text": [
      "('pera', 'manzana', 'platano', 'piña', 'castaña')\n",
      "pera\n",
      "castaña\n",
      "El tamaño de la tupla es: 5\n"
     ]
    }
   ],
   "source": [
    "frutas=(\"pera\",\"manzana\",\"platano\",\"piña\",\"castaña\")\n",
    "print(frutas)\n",
    "print(frutas[0])\n",
    "print(frutas[-1])\n",
    "tuple_len=len(frutas)\n",
    "print(f\"El tamaño de la tupla es: {tuple_len}\")"
   ]
  },
  {
   "cell_type": "markdown",
   "id": "c9d1eb72",
   "metadata": {},
   "source": [
    "## Ejercicio 2: Índices\n",
    "Dada la tupla:\n",
    "```python\n",
    "colores = (\"rojo\", \"verde\", \"azul\", \"amarillo\", \"verde\")\n",
    "```\n",
    "- Muestra el índice de la primera aparición de `\"verde\"`.\n",
    "- Cuenta cuántas veces aparece `\"verde\"`."
   ]
  },
  {
   "cell_type": "code",
   "execution_count": 11,
   "id": "62b22241",
   "metadata": {},
   "outputs": [
    {
     "name": "stdout",
     "output_type": "stream",
     "text": [
      "El indice es: 3\n",
      "Verde aparece 2 veces\n"
     ]
    }
   ],
   "source": [
    "colores=(\"rojo\",\"verde\",\"azul\",\"amarillo\",\"verde\")\n",
    "contador=0\n",
    "for i,color in enumerate(colores):\n",
    "    if color==\"amarillo\":\n",
    "        print(f\"El indice es: {i}\")\n",
    "    if color==\"verde\":\n",
    "        contador +=1\n",
    "print(f\"Verde aparece {contador} veces\")"
   ]
  },
  {
   "cell_type": "markdown",
   "id": "31ed2acd",
   "metadata": {},
   "source": [
    "## Ejercicio 3: Desempaquetado\n",
    "Dada la tupla:\n",
    "```python\n",
    "coordenadas = (15, 30)\n",
    "```\n",
    "- Desempaqueta la tupla en dos variables `x` y `y`.\n",
    "- Muestra: `La coordenada X es ... y la Y es ...`."
   ]
  },
  {
   "cell_type": "code",
   "execution_count": 18,
   "id": "5c132f54",
   "metadata": {},
   "outputs": [
    {
     "name": "stdout",
     "output_type": "stream",
     "text": [
      "Variable X de la tupla: 15\n",
      "Variable Y de la tupla: 30\n"
     ]
    }
   ],
   "source": [
    "coordenadas = (15,30)\n",
    "x=coordenadas[0]\n",
    "y=coordenadas[1]\n",
    "print(f\"Variable X de la tupla: {x}\")\n",
    "print(f\"Variable Y de la tupla: {y}\")\n"
   ]
  },
  {
   "cell_type": "markdown",
   "id": "cb7cbe07",
   "metadata": {},
   "source": [
    "## Ejercicio 4: Inmutabilidad\n",
    "Crea la tupla:\n",
    "```python\n",
    "dias = (\"lunes\", \"martes\", \"miércoles\", \"jueves\", \"viernes\")\n",
    "```\n",
    "- Intenta cambiar el valor del segundo día (`dias[1] = \"LUNES\"`) y observa qué ocurre.\n",
    "- Explica en un comentario por qué sucede."
   ]
  },
  {
   "cell_type": "code",
   "execution_count": 20,
   "id": "5d86fa9f",
   "metadata": {},
   "outputs": [
    {
     "ename": "TypeError",
     "evalue": "'tuple' object does not support item assignment",
     "output_type": "error",
     "traceback": [
      "\u001b[1;31m---------------------------------------------------------------------------\u001b[0m",
      "\u001b[1;31mTypeError\u001b[0m                                 Traceback (most recent call last)",
      "Cell \u001b[1;32mIn[20], line 2\u001b[0m\n\u001b[0;32m      1\u001b[0m dias \u001b[38;5;241m=\u001b[39m (\u001b[38;5;124m\"\u001b[39m\u001b[38;5;124mlunes\u001b[39m\u001b[38;5;124m\"\u001b[39m, \u001b[38;5;124m\"\u001b[39m\u001b[38;5;124mmartes\u001b[39m\u001b[38;5;124m\"\u001b[39m, \u001b[38;5;124m\"\u001b[39m\u001b[38;5;124mmiercoles\u001b[39m\u001b[38;5;124m\"\u001b[39m, \u001b[38;5;124m\"\u001b[39m\u001b[38;5;124mjueves\u001b[39m\u001b[38;5;124m\"\u001b[39m, \u001b[38;5;124m\"\u001b[39m\u001b[38;5;124mviernes\u001b[39m\u001b[38;5;124m\"\u001b[39m)\n\u001b[1;32m----> 2\u001b[0m dias[\u001b[38;5;241m1\u001b[39m] \u001b[38;5;241m=\u001b[39m \u001b[38;5;124m\"\u001b[39m\u001b[38;5;124mLUNES\u001b[39m\u001b[38;5;124m\"\u001b[39m\n",
      "\u001b[1;31mTypeError\u001b[0m: 'tuple' object does not support item assignment"
     ]
    }
   ],
   "source": [
    "dias = (\"lunes\", \"martes\", \"miercoles\", \"jueves\", \"viernes\")\n",
    "dias[1] = \"LUNES\"\n",
    "\n",
    "# TypeError: 'tuple' object does not support item assignment  => Recordar que las tuplas son inmutables."
   ]
  },
  {
   "cell_type": "markdown",
   "id": "4a99d6f8",
   "metadata": {},
   "source": [
    "## Ejercicio 5: Tuplas anidadas\n",
    "Crea una tupla que contenga información de un **estudiante**:\n",
    "```python\n",
    "estudiante = (\"Ana\", 20, (\"Matemáticas\", \"Historia\", \"Programación\"))\n",
    "```\n",
    "- Muestra el nombre del estudiante.\n",
    "- Muestra la segunda asignatura."
   ]
  },
  {
   "cell_type": "code",
   "execution_count": 48,
   "id": "7b84f96a",
   "metadata": {},
   "outputs": [
    {
     "name": "stdout",
     "output_type": "stream",
     "text": [
      "Listado de los estudiantes: (('Ana', 20, ('Matemáticas', 'Historia', 'Programación')),)\n",
      "\n",
      "Nombre del primer estudiante: ('Ana',)\n",
      "\n",
      "Nombre de todas las asignaturas: ('Matemáticas', 'Historia', 'Programación')\n",
      "\n",
      "Nombre de la segunda asignatura: Historia\n"
     ]
    }
   ],
   "source": [
    "estudiantes =(\n",
    "    (\"Ana\", 20, (\"Matemáticas\", \"Historia\", \"Programación\")),\n",
    ")\n",
    "\n",
    "print(f\"Listado de los estudiantes: {estudiantes}\")\n",
    "print(\"\")\n",
    "nombre_estudiante = tuple(estudiante[0] for estudiante in estudiantes)\n",
    "print (f\"Nombre del primer estudiante: {nombre_estudiante}\")\n",
    "print(\"\")\n",
    "asignaturas = estudiantes[0][2]\n",
    "print(f\"Nombre de todas las asignaturas: {asignaturas}\")\n",
    "print(\"\")\n",
    "segunda_asignatura = estudiantes[0][2][1]\n",
    "print(f\"Nombre de la segunda asignatura: {segunda_asignatura}\")\n"
   ]
  },
  {
   "cell_type": "code",
   "execution_count": 89,
   "id": "4e60f31e-f097-422e-b4ce-c4d6ee63289c",
   "metadata": {},
   "outputs": [
    {
     "name": "stdout",
     "output_type": "stream",
     "text": [
      "Listado de los estudiantes: (('Ana', 20, ('Matemáticas', 'Historia', 'Programación')), ('Luis', 22, ('Latín', 'Dibujo', 'Lengua')))\n",
      "\n",
      "Nombre del primer estudiante: ['Ana', 'Luis']\n",
      "\n",
      "Nombre del primer estudiante: [('Matemáticas', 'Historia', 'Programación'), ('Latín', 'Dibujo', 'Lengua')]\n",
      "\n",
      "Nombre del primer estudiante: ['Historia', 'Dibujo']\n",
      "\n"
     ]
    }
   ],
   "source": [
    "estudiantes =(\n",
    "    (\"Ana\", 20, (\"Matemáticas\", \"Historia\", \"Programación\")),\n",
    "    (\"Luis\", 22, (\"Latín\", \"Dibujo\", \"Lengua\"))\n",
    ")\n",
    "\n",
    "print(f\"Listado de los estudiantes: {estudiantes}\")\n",
    "print(\"\")\n",
    "\n",
    "# print(\"Listado de los estudiantes:\")\n",
    "# for estudiante in estudiantes:\n",
    "#     print(estudiante)\n",
    "\n",
    "nombre_estudiante = list(estudiante[0] for estudiante in estudiantes)\n",
    "print (f\"Nombre del primer estudiante: {nombre_estudiante}\")\n",
    "print(\"\")\n",
    "\n",
    "#print(\"Listado de todas las asignaturas:\")\n",
    "#for estudiante in estudiantes:\n",
    "#    for asignatura in estudiante[2]:\n",
    "#        print(asignatura)\n",
    "\n",
    "asignaturas = list(asignatura[2] for asignatura in estudiantes)\n",
    "print (f\"Nombre del primer estudiante: {asignaturas}\")\n",
    "print(\"\")\n",
    "\n",
    "#print(\"Listado de todas las asignaturas:\")\n",
    "#for estudiante in estudiantes:\n",
    "#    for asignatura in estudiante[2][1]:\n",
    "#        print(asignatura)\n",
    "\n",
    "asignatura2 = list(asignatura[2][1] for asignatura in estudiantes)\n",
    "print (f\"Nombre del primer estudiante: {asignatura2}\")\n",
    "print(\"\")\n",
    "\n",
    "\n"
   ]
  },
  {
   "cell_type": "markdown",
   "id": "7d6a9137",
   "metadata": {},
   "source": [
    "## Ejercicio 6: Convertir entre lista y tupla\n",
    "Crea una tupla con 4 ciudades. Convierte la tupla en lista, agrega otra ciudad, y vuelve a convertir a tupla."
   ]
  },
  {
   "cell_type": "code",
   "execution_count": 55,
   "id": "93769c95",
   "metadata": {},
   "outputs": [
    {
     "name": "stdout",
     "output_type": "stream",
     "text": [
      "('Madrid', 'Barcelona', 'Sevilla', 'Bilbao')\n",
      "\n",
      "['Madrid', 'Barcelona', 'Sevilla', 'Bilbao']\n",
      "\n",
      "['Madrid', 'Barcelona', 'Sevilla', 'Bilbao', 'Lugo']\n",
      "\n",
      "('Madrid', 'Barcelona', 'Sevilla', 'Bilbao', 'Lugo')\n"
     ]
    }
   ],
   "source": [
    "ciudades=(\"Madrid\",\"Barcelona\",\"Sevilla\",\"Bilbao\")\n",
    "print(ciudades)\n",
    "print(\"\")\n",
    "\n",
    "lista_ciudades = list(ciudades)\n",
    "print(lista_ciudades)\n",
    "print(\"\")\n",
    "\n",
    "lista_ciudades.append(\"Lugo\")\n",
    "print(lista_ciudades)\n",
    "print(\"\")\n",
    "\n",
    "ciudades=tuple(lista_ciudades)\n",
    "print(ciudades)\n"
   ]
  }
 ],
 "metadata": {
  "kernelspec": {
   "display_name": "Python [conda env:base] *",
   "language": "python",
   "name": "conda-base-py"
  },
  "language_info": {
   "codemirror_mode": {
    "name": "ipython",
    "version": 3
   },
   "file_extension": ".py",
   "mimetype": "text/x-python",
   "name": "python",
   "nbconvert_exporter": "python",
   "pygments_lexer": "ipython3",
   "version": "3.13.5"
  }
 },
 "nbformat": 4,
 "nbformat_minor": 5
}
