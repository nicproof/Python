{
 "cells": [
  {
   "cell_type": "markdown",
   "id": "38d2916b",
   "metadata": {},
   "source": [
    "# Ejercicios propuestos: Listas\n",
    "\n",
    "A continuación se presentan ejercicios prácticos de aplicación real utilizando **listas** en Python. Recuerda que solo debes usar lo visto hasta ahora: `append()`, `remove()`, `insert()`, `pop()`, `len()`, y acceso por índice."
   ]
  },
  {
   "cell_type": "markdown",
   "id": "2b64c7cd",
   "metadata": {},
   "source": [
    "## Ejercicio 1: Carrito de compras\n",
    "\n",
    "**Situación:**\n",
    "Eres el responsable de una **tienda online** y necesitas gestionar el **carrito de compras** de un cliente.\n",
    "\n",
    "**Tareas:**\n",
    "1. Crea una lista vacía llamada `carrito`.\n",
    "2. Añade 3 productos con `append()`.\n",
    "3. Muestra el contenido del carrito.\n",
    "4. Elimina un producto con `remove()`.\n",
    "5. Muestra el carrito actualizado.\n",
    "6. Usa `len()` para mostrar cuántos productos tiene el cliente ahora."
   ]
  },
  {
   "cell_type": "code",
   "execution_count": 10,
   "id": "829017b9-80d3-4d41-a03b-deaac8d32274",
   "metadata": {},
   "outputs": [
    {
     "name": "stdout",
     "output_type": "stream",
     "text": [
      "Este es el contenido del carrito: ['platano', 'pera', 'manzana']\n",
      "Actualización del contenido del carrito: ['platano', 'manzana']\n",
      "Número de artículos en el carrito: 2\n"
     ]
    }
   ],
   "source": [
    "carrito = []\n",
    "carrito.append(\"platano\")\n",
    "carrito.append(\"pera\")\n",
    "carrito.append(\"manzana\")\n",
    "print (f\"Este es el contenido del carrito: {carrito}\")\n",
    "carrito.remove(\"pera\")\n",
    "print (f\"Actualización del contenido del carrito: {carrito}\")\n",
    "numero_articulos=len(carrito)\n",
    "print (f\"Número de artículos en el carrito: {numero_articulos}\")\n",
    "\n"
   ]
  },
  {
   "cell_type": "markdown",
   "id": "1d3026e8",
   "metadata": {},
   "source": [
    "## Ejercicio 2: Lista de estudiantes\n",
    "\n",
    "**Situación:**\n",
    "En un curso de programación quieres mantener una lista con los nombres de tus estudiantes.\n",
    "\n",
    "**Tareas:**\n",
    "1. Crea una lista llamada `estudiantes` con al menos 4 nombres.\n",
    "2. Inserta un nuevo estudiante en la **segunda posición** usando `insert()`.\n",
    "3. Un estudiante abandona el curso: elimínalo con `pop()`.\n",
    "4. Muestra la lista final de estudiantes.\n",
    "5. Muestra cuántos estudiantes quedan en el curso con `len()`."
   ]
  },
  {
   "cell_type": "code",
   "execution_count": 13,
   "id": "b8be09bc-e520-4326-bb4e-1161b3d60d97",
   "metadata": {},
   "outputs": [
    {
     "name": "stdout",
     "output_type": "stream",
     "text": [
      "Lista de studiantes: ['Juan', 'Maria', 'Carlos', 'Luis', 'Mariano']\n",
      "Lista actualizada de estudiantes: ['Juan', 'Maria', 'Carlos', 'Mariano']\n",
      "El número actual de estudiantes es: 4\n"
     ]
    }
   ],
   "source": [
    "estudiantes = [\"Juan\",\"Carlos\",\"Luis\",\"Mariano\"]\n",
    "estudiantes.insert(1,\"Maria\")\n",
    "print (f\"Lista de studiantes: {estudiantes}\")\n",
    "estudiantes.pop(3)\n",
    "print (f\"Lista actualizada de estudiantes: {estudiantes}\")\n",
    "numero_estudiantes=len(estudiantes)\n",
    "print (f\"El número actual de estudiantes es: {numero_estudiantes}\")"
   ]
  },
  {
   "cell_type": "markdown",
   "id": "12fdea16",
   "metadata": {},
   "source": [
    "## Ejercicio 3: Lista de tareas pendientes\n",
    "\n",
    "**Situación:**\n",
    "Usas una lista para organizar tus **tareas pendientes**.\n",
    "\n",
    "**Tareas:**\n",
    "1. Crea una lista llamada `tareas` con al menos 5 actividades.\n",
    "2. Muestra la primera y la última tarea de la lista usando índices.\n",
    "3. Marca como completada (elimina con `remove()`) una de las tareas.\n",
    "4. Añade una nueva tarea al final con `append()`.\n",
    "5. Muestra la lista actualizada de tareas."
   ]
  },
  {
   "cell_type": "code",
   "execution_count": 4,
   "id": "ca57edf9-05cf-43ec-884f-f86e4ab2c8ba",
   "metadata": {},
   "outputs": [
    {
     "name": "stdout",
     "output_type": "stream",
     "text": [
      "Esta es la lista de tareas: ['Estudiar tema 2', 'Resumir temario', 'Entregar tarea 1', 'Hacer actividades de repaso', 'Descansar']\n",
      "Primera tarea: Estudiar tema 2\n",
      "Ultima tarea: Descansar\n",
      "Lista de tareas actualizadas: ['Estudiar tema 2', 'Resumir temario', 'Hacer actividades de repaso', 'Descansar']\n",
      "Lista de tareas actualizadas: ['Estudiar tema 2', 'Resumir temario', 'Hacer actividades de repaso', 'Descansar', 'Preprar examen']\n"
     ]
    }
   ],
   "source": [
    "tareas = [\"Estudiar tema 2\", \"Resumir temario\", \"Entregar tarea 1\", \"Hacer actividades de repaso\", \"Descansar\"]\n",
    "print (f\"Esta es la lista de tareas: {tareas}\")\n",
    "print(f\"Primera tarea: {tareas[0]}\")\n",
    "print(f\"Ultima tarea: {tareas[-1]}\")\n",
    "tareas.remove(\"Entregar tarea 1\")\n",
    "print (f\"Lista de tareas actualizadas: {tareas}\")\n",
    "tareas.append(\"Preprar examen\")\n",
    "print (f\"Lista de tareas actualizadas: {tareas}\")"
   ]
  },
  {
   "cell_type": "markdown",
   "id": "40488be0",
   "metadata": {},
   "source": [
    "## Ejercicio 4: Historial de navegación invertido\n",
    "\n",
    "**Situación:**\n",
    "En un navegador web se guarda el **historial de páginas visitadas** en una lista.\n",
    "Quieres mostrar al usuario las páginas en **orden inverso**, de la más reciente a la más antigua.\n",
    "\n",
    "**Tareas:**\n",
    "1. Crea una lista llamada `historial` con al menos 5 páginas visitadas (pueden ser cadenas de texto como 'google.com', 'youtube.com').\n",
    "2. Muestra la lista original de páginas.\n",
    "3. Usa `reversed()` para recorrer las páginas en orden inverso.\n",
    "4. Convierte el resultado en lista con `list(reversed(...))` y muéstralo.\n",
    "\n",
    "👉 Pista: recuerda que `reversed()` devuelve un **iterador**, no una lista directamente."
   ]
  },
  {
   "cell_type": "code",
   "execution_count": 20,
   "id": "cc991144-a2d5-46e3-8dd6-b14893e77731",
   "metadata": {},
   "outputs": [
    {
     "name": "stdout",
     "output_type": "stream",
     "text": [
      "Muestra historial de navegación: ['google.com', 'yahoo.es', 'youtube.com', 'gmail.com', 'as.com']\n",
      "Inversa del historial: ['as.com', 'gmail.com', 'youtube.com', 'yahoo.es', 'google.com']\n",
      "* as.com\n",
      "* gmail.com\n",
      "* youtube.com\n",
      "* yahoo.es\n",
      "* google.com\n"
     ]
    }
   ],
   "source": [
    "historial = [\"google.com\", \"yahoo.es\", \"youtube.com\", \"gmail.com\", \"as.com\"]\n",
    "print (f\"Muestra historial de navegación: {historial}\")\n",
    "\n",
    "historial_reverse=list(reversed(historial))\n",
    "print (f\"Inversa del historial: {historial_reverse}\")\n",
    "\n",
    "for i in reversed(historial):\n",
    " print(\"*\", i)"
   ]
  },
  {
   "cell_type": "code",
   "execution_count": null,
   "id": "c2db875f-a819-4131-b095-e1d36213b16c",
   "metadata": {},
   "outputs": [],
   "source": []
  }
 ],
 "metadata": {
  "kernelspec": {
   "display_name": "Python [conda env:base] *",
   "language": "python",
   "name": "conda-base-py"
  },
  "language_info": {
   "codemirror_mode": {
    "name": "ipython",
    "version": 3
   },
   "file_extension": ".py",
   "mimetype": "text/x-python",
   "name": "python",
   "nbconvert_exporter": "python",
   "pygments_lexer": "ipython3",
   "version": "3.13.5"
  }
 },
 "nbformat": 4,
 "nbformat_minor": 5
}
