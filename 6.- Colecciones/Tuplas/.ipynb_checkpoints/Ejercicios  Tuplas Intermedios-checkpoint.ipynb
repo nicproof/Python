{
 "cells": [
  {
   "cell_type": "markdown",
   "id": "2648daa0",
   "metadata": {},
   "source": [
    "# 🐍 Tuplas (Nivel Intermedio) — Enunciados + Ayuda\n",
    "\n",
    "\n",
    "En este cuaderno encontrarás **cada ejercicio** seguido de una sección **💡 Ayuda** con pistas y enfoques para resolverlo.\n",
    "Las celdas de código quedan **vacías** para que escribas tu solución."
   ]
  },
  {
   "cell_type": "markdown",
   "id": "9d3db554",
   "metadata": {},
   "source": [
    "## Ejercicio 1: Registro de coordenadas\n",
    "Crea una **lista de tuplas** que guarde las coordenadas de **5 puntos** `(x, y)`.\n",
    "- Muestra solo las coordenadas con `x` **mayor que 10**.\n",
    "- Calcula la **suma** de todas las coordenadas `y`.\n"
   ]
  },
  {
   "cell_type": "markdown",
   "id": "82614df1",
   "metadata": {},
   "source": [
    "### 💡 Ayuda\n",
    "- Crea la lista: `puntos = [(x1, y1), (x2, y2), ...]`.\n",
    "- Filtra con comprensión de listas: `[p for p in puntos if p[0] > 10]`.\n",
    "- Suma las `y` con `sum(p[1] for p in puntos)`.\n"
   ]
  },
  {
   "cell_type": "code",
   "execution_count": null,
   "id": "834047ca",
   "metadata": {},
   "outputs": [],
   "source": [
    "puntos =[(11,1),(21,2),(3,3),(4,4),(5,5)]\n",
    "suma=0\n",
    "\n",
    "for p in puntos:\n",
    "    if p[0]>10:\n",
    "        print(f\"Coordenadas con X mayor que 10: {p}\")\n",
    "print(\"\")\n",
    "for p in puntos:\n",
    "    suma += p[1]\n",
    "print(f\"La suma total de las coordenadas Y es: {suma}\")\n"
   ]
  },
  {
   "cell_type": "markdown",
   "id": "4b142958",
   "metadata": {},
   "source": [
    "## Ejercicio 2: Conversión de unidades\n",
    "Tienes una tupla con medidas en pulgadas: `(5, 10, 15, 20)`.\n",
    "- Convierte cada valor a **centímetros** (1 pulgada = 2.54 cm) usando **comprensiones**.\n",
    "- Guarda el resultado en una **nueva tupla**.\n"
   ]
  },
  {
   "cell_type": "markdown",
   "id": "8da604fb",
   "metadata": {},
   "source": [
    "### 💡 Ayuda\n",
    "- Define `pulgadas = (5, 10, 15, 20)`.\n",
    "- Usa `tuple(v * 2.54 for v in pulgadas)` para crear una tupla nueva.\n",
    "- Si quieres limitar decimales: `round(valor, 2)`.\n"
   ]
  },
  {
   "cell_type": "code",
   "execution_count": null,
   "id": "47befd05-232e-44f3-897b-6a08c3841cf3",
   "metadata": {},
   "outputs": [],
   "source": [
    "pulgadas = (5,10,15,20)\n",
    "\n",
    "decimal = tuple(valor*2.54 for valor in pulgadas)\n",
    "print(f\"Lista de valores en centímetros {decimal}\")"
   ]
  },
  {
   "cell_type": "markdown",
   "id": "f77f5153",
   "metadata": {},
   "source": [
    "## Ejercicio 3: Filtrar productos\n",
    "Tienes productos como tuplas `(nombre, precio)`, por ejemplo:\n",
    "```python\n",
    "productos = [(\"camisa\", 25), (\"pantalón\", 40), (\"zapatos\", 60), (\"calcetines\", 5)]\n",
    "```\n",
    "- Crea una lista con los **nombres** de los productos que cuesten **más de 30**.\n",
    "- Calcula el **precio promedio** de todos los productos.\n"
   ]
  },
  {
   "cell_type": "markdown",
   "id": "516a5954",
   "metadata": {},
   "source": [
    "### 💡 Ayuda\n",
    "- Filtra nombres con comprensión: `[n for (n,p) in productos if p > 30]`.\n",
    "- Promedio: `sum(p for _, p in productos) / len(productos)`.\n"
   ]
  },
  {
   "cell_type": "code",
   "execution_count": null,
   "id": "b6dc9a6b",
   "metadata": {},
   "outputs": [],
   "source": [
    "# Escribe aquí tu solución"
   ]
  },
  {
   "cell_type": "markdown",
   "id": "9170280c",
   "metadata": {},
   "source": [
    "## Ejercicio 4: Palabras y longitudes\n",
    "Crea una tupla con varias **palabras**.\n",
    "- Genera una lista de tuplas con la forma `(palabra, longitud)`.\n",
    "- **Ordena** la lista por longitud de palabra (ascendente).\n"
   ]
  },
  {
   "cell_type": "markdown",
   "id": "f6205fc5",
   "metadata": {},
   "source": [
    "### 💡 Ayuda\n",
    "- Construye pares: `[(w, len(w)) for w in palabras]`.\n",
    "- Ordena con `sorted(pares, key=lambda t: t[1])`.\n",
    "- Si quieres volver a tupla: `tuple(sorted(...))`.\n"
   ]
  },
  {
   "cell_type": "code",
   "execution_count": null,
   "id": "1c514382",
   "metadata": {},
   "outputs": [],
   "source": [
    "# Escribe aquí tu solución"
   ]
  },
  {
   "cell_type": "markdown",
   "id": "34e63b69",
   "metadata": {},
   "source": [
    "## Ejercicio 5: Intercambiar variables\n",
    "Usa una **tupla** para **intercambiar** los valores de dos variables `a` y `b`.\n",
    "- Antes del intercambio, muestra sus valores.\n",
    "- Después del intercambio, vuelve a mostrarlos.\n"
   ]
  },
  {
   "cell_type": "markdown",
   "id": "32375ca2",
   "metadata": {},
   "source": [
    "### 💡 Ayuda\n",
    "- Inicializa: `a, b = 10, 20` (por ejemplo).\n",
    "- Intercambia: `a, b = b, a` (desempaquetado de tuplas).\n",
    "- Usa `print` antes y después para verificar.\n"
   ]
  },
  {
   "cell_type": "code",
   "execution_count": null,
   "id": "29b099f0",
   "metadata": {},
   "outputs": [],
   "source": [
    "# Escribe aquí tu solución"
   ]
  }
 ],
 "metadata": {
  "kernelspec": {
   "display_name": "Python [conda env:base] *",
   "language": "python",
   "name": "conda-base-py"
  },
  "language_info": {
   "codemirror_mode": {
    "name": "ipython",
    "version": 3
   },
   "file_extension": ".py",
   "mimetype": "text/x-python",
   "name": "python",
   "nbconvert_exporter": "python",
   "pygments_lexer": "ipython3",
   "version": "3.13.5"
  }
 },
 "nbformat": 4,
 "nbformat_minor": 5
}
