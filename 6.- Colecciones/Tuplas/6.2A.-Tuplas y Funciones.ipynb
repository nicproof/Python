{
 "cells": [
  {
   "cell_type": "markdown",
   "id": "7191640b",
   "metadata": {},
   "source": [
    "# Tuplas en Python: conceptos y ejemplos básicos\n",
    "\n",
    "Una **tupla** es una colección **ordenada** e **inmutable**. Se define con paréntesis `()`.\n",
    "\n",
    "Úsala cuando necesites **datos que no cambian** (por ejemplo, coordenadas, colores RGB, fechas) y quieras garantizar su integridad."
   ]
  },
  {
   "cell_type": "markdown",
   "id": "3c2cc261",
   "metadata": {},
   "source": [
    "## Crear tuplas\n",
    "```python\n",
    "frutas = (\"manzana\", \"pera\", \"uva\", \"kiwi\", \"mango\")\n",
    "un_elemento = (\"solo\",)  # ¡ojo a la coma!\n",
    "mezcla = (\"Ana\", 30, True)\n",
    "```\n",
    "La coma es lo que hace a una tupla. Para una tupla de un elemento, **necesitas** la coma final."
   ]
  },
  {
   "cell_type": "markdown",
   "id": "a1c1d2ca",
   "metadata": {},
   "source": [
    "## Acceso por índice y slicing\n",
    "```python\n",
    "frutas = (\"manzana\", \"pera\", \"uva\", \"kiwi\", \"mango\")\n",
    "frutas[0]      # 'manzana'\n",
    "frutas[-1]     # 'mango'\n",
    "frutas[:3]     # ('manzana', 'pera', 'uva')  → tres primeras\n",
    "frutas[-2:]    # ('kiwi', 'mango')           → dos últimas\n",
    "frutas[::2]    # ('manzana', 'uva', 'mango') → una de cada dos\n",
    "frutas[::-1]   # ('mango', 'kiwi', 'uva', 'pera', 'manzana') → invertida\n",
    "```"
   ]
  },
  {
   "cell_type": "code",
   "execution_count": 6,
   "id": "3c7ea193-2fab-45fa-95b5-3a6d080529ce",
   "metadata": {},
   "outputs": [
    {
     "name": "stdout",
     "output_type": "stream",
     "text": [
      "manzana\n",
      "mango\n",
      "('manzana', 'pera', 'uva')\n",
      "('kiwi', 'mango')\n",
      "('manzana', 'uva', 'mango')\n",
      "('mango', 'kiwi', 'uva', 'pera', 'manzana')\n"
     ]
    }
   ],
   "source": [
    "frutas = (\"manzana\", \"pera\", \"uva\", \"kiwi\", \"mango\")\n",
    "print(frutas[0])      # 'manzana'\n",
    "print(frutas[-1])     # 'mango'\n",
    "print(frutas[:3])     # ('manzana', 'pera', 'uva')  → tres primeras\n",
    "print(frutas[-2:])    # ('kiwi', 'mango')           → dos últimas\n",
    "print(frutas[::2])    # ('manzana', 'uva', 'mango') → una de cada dos\n",
    "print(frutas[::-1])   # ('mango', 'kiwi', 'uva', 'pera', 'manzana') → invertida"
   ]
  },
  {
   "cell_type": "markdown",
   "id": "431c76bd",
   "metadata": {},
   "source": [
    "## `enumerate` con tuplas\n",
    "Usa `enumerate` para obtener **índice y valor**. `start=1` hace que el contador comience en 1 para una presentación más natural.\n",
    "```python\n",
    "frutas = (\"manzana\", \"pera\", \"uva\", \"kiwi\", \"mango\")\n",
    "for i, fruta in enumerate(frutas, start=1):\n",
    "    if i <= 3:\n",
    "        print(f\"{i}. {fruta}\")\n",
    "```\n",
    "Salida esperada:\n",
    "```\n",
    "1. manzana\n",
    "2. pera\n",
    "3. uva\n",
    "```\n",
    "En enumerate(sucursales, start=1) pasan dos cosas a la vez:\n",
    "\n",
    "i es solo un contador que empieza en 1 (para mostrar “1., 2., 3.” al usuario).\n",
    "\n",
    "El elemento que recibes (desempaquetado como (nombre, lat, lon)) es el verdadero elemento de la colección, empezando por sucursales[0]."
   ]
  },
  {
   "cell_type": "markdown",
   "id": "992de089",
   "metadata": {},
   "source": [
    "## Pertenencia (`in` / `not in`)\n",
    "```python\n",
    "frutas = (\"manzana\", \"pera\", \"uva\", \"kiwi\", \"mango\")\n",
    "\"pera\" in frutas      # True\n",
    "\"papaya\" not in frutas  # True\n",
    "```"
   ]
  },
  {
   "cell_type": "markdown",
   "id": "10cc1221",
   "metadata": {},
   "source": [
    "## Inmutabilidad (no se pueden cambiar)\n",
    "Las tuplas **no permiten** reasignar, añadir o eliminar elementos. Intentarlo produce `TypeError`.\n",
    "```python\n",
    "frutas = (\"manzana\", \"pera\", \"uva\")\n",
    "try:\n",
    "    frutas[0] = \"naranja\"  # ❌\n",
    "except TypeError as e:\n",
    "    print(\"Error:\", e)\n",
    "```\n",
    "Si necesitas \"cambiar\" una tupla, crea **una nueva**:\n",
    "```python\n",
    "frutas = (\"manzana\", \"pera\", \"uva\")\n",
    "frutas = (\"naranja\",) + frutas[1:]\n",
    "```"
   ]
  },
  {
   "cell_type": "code",
   "execution_count": 4,
   "id": "8f5bfc7e-52ab-481d-a87f-47de2f8ae062",
   "metadata": {},
   "outputs": [
    {
     "name": "stdout",
     "output_type": "stream",
     "text": [
      "Error: 'tuple' object does not support item assignment\n"
     ]
    }
   ],
   "source": [
    "frutas = (\"manzana\", \"pera\", \"uva\")\n",
    "try:\n",
    "    frutas[0] = \"naranja\"  # ❌\n",
    "except TypeError as e:\n",
    "    print(\"Error:\", e)"
   ]
  },
  {
   "cell_type": "code",
   "execution_count": 6,
   "id": "b974c71f-1c61-4787-a189-7483c392962a",
   "metadata": {},
   "outputs": [
    {
     "name": "stdout",
     "output_type": "stream",
     "text": [
      "Tipo: TypeError\n",
      "Mensaje: 'tuple' object does not support item assignment\n",
      "Args: (\"'tuple' object does not support item assignment\",)\n"
     ]
    }
   ],
   "source": [
    "frutas = (\"manzana\", \"pera\", \"uva\")\n",
    "\n",
    "try:\n",
    "    frutas[0] = \"naranja\"\n",
    "except TypeError as e:             # ← aquí 'e' es la excepción capturada\n",
    "    print(\"Tipo:\", type(e).__name__)  # TypeError\n",
    "    print(\"Mensaje:\", e)              # 'tuple' object does not support item assignment\n",
    "    print(\"Args:\", e.args)            # (\\\"'tuple' object does not support item assignment\\\",)\n"
   ]
  },
  {
   "cell_type": "markdown",
   "id": "2a86d01c",
   "metadata": {},
   "source": [
    "## ¿Estamos realmente cambiando una tupla?\n",
    "\n",
    "Cuando escribimos:\n",
    "\n",
    "```python\n",
    "frutas = (\"manzana\", \"pera\", \"uva\")\n",
    "frutas = (\"naranja\",) + frutas[1:]\n",
    "```\n",
    "\n",
    "parece que hemos **modificado** la tupla, pero en realidad no es así.\n",
    "\n",
    "---\n",
    "\n",
    "### Lo que ocurre realmente\n",
    "1. Las tuplas son **inmutables**: no se pueden modificar.\n",
    "2. Lo que hacemos es **crear una nueva tupla**:\n",
    "   - `(\"naranja\",)` crea una tupla con un elemento.\n",
    "   - `frutas[1:]` toma una parte de la tupla original.\n",
    "   - Al sumarlas con `+`, se forma una **nueva tupla**.\n",
    "3. La variable `frutas` se reasigna para apuntar a esa nueva tupla.\n",
    "\n",
    "---\n",
    "\n",
    "### Analogía\n",
    "Imagina una **caja sellada** que no puedes abrir (la tupla original).\n",
    "\n",
    "- No puedes cambiar lo que hay dentro.\n",
    "- Pero puedes **construir una caja nueva** con algunos elementos iguales y otros diferentes.\n",
    "- Si usas la misma etiqueta `frutas`, parece que la caja cambió, pero en realidad la original sigue existiendo y solo hemos cambiado la referencia.\n",
    "\n",
    "---\n",
    "\n",
    "📌 En resumen: no modificamos la tupla original, sino que **creamos una nueva tupla** con el contenido deseado."
   ]
  },
  {
   "cell_type": "code",
   "execution_count": 32,
   "id": "438f1760-15de-49d2-9499-d2028908c783",
   "metadata": {},
   "outputs": [
    {
     "name": "stdout",
     "output_type": "stream",
     "text": [
      "frutas:  ('manzana', 'pera', 'uva', 'sandia', 'platano')\n",
      "frutas1:  ('naranja', 'manzana', 'pera', 'uva', 'sandia', 'platano')\n",
      "frutas2 ('castaña', 'manzana', 'pera', 'uva', 'sandia', 'platano')\n",
      "frutas3 ('melon', 'manzana', 'pera', 'uva')\n",
      "frutas2 ('limon', 'melon', 'manzana')\n"
     ]
    }
   ],
   "source": [
    "frutas = (\"manzana\", \"pera\", \"uva\", \"sandia\", \"platano\")\n",
    "print(\"frutas: \", frutas)\n",
    "#frutas = (\"manzana\", \"pera\", \"uva\")\n",
    "frutas1 = (\"naranja\",) + frutas[0:]\n",
    "print(\"frutas1: \", frutas1)\n",
    "frutas2 = (\"castaña\",) + frutas1[1:]\n",
    "print(\"frutas2\", frutas2)\n",
    "frutas3 = (\"melon\",) + frutas[0:3]\n",
    "print(\"frutas3\", frutas3)\n",
    "frutas4 = (\"limon\",) + frutas3[:2]\n",
    "print(\"frutas2\", frutas4)\n",
    "\n"
   ]
  },
  {
   "cell_type": "code",
   "execution_count": null,
   "id": "6203cf55-2cb6-44db-8dec-e1c3c900bf79",
   "metadata": {},
   "outputs": [],
   "source": []
  }
 ],
 "metadata": {
  "kernelspec": {
   "display_name": "Python 3 (ipykernel)",
   "language": "python",
   "name": "python3"
  },
  "language_info": {
   "codemirror_mode": {
    "name": "ipython",
    "version": 3
   },
   "file_extension": ".py",
   "mimetype": "text/x-python",
   "name": "python",
   "nbconvert_exporter": "python",
   "pygments_lexer": "ipython3",
   "version": "3.13.5"
  }
 },
 "nbformat": 4,
 "nbformat_minor": 5
}
