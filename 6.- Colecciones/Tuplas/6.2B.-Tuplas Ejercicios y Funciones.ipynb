{
 "cells": [
  {
   "cell_type": "markdown",
   "id": "9cf3810d",
   "metadata": {},
   "source": [
    "# Ejercicios propuestos: Tuplas\n",
    "\n",
    "Actividades prácticas centradas en **tuplas**: creación, acceso por índice, slicing, pertenencia e inmutabilidad.\n",
    "No incluyen solución para que el alumnado pueda resolverlas."
   ]
  },
  {
   "cell_type": "markdown",
   "id": "c2875866",
   "metadata": {},
   "source": [
    "## Ejercicio 1: Sucursales y geolocalización\n",
    "**Situación real:** Una empresa tiene varias **sucursales** y quieres registrar sus coordenadas.\n",
    "\n",
    "**Tareas:**\n",
    "1. Crea una **tupla de tuplas** llamada `sucursales` donde cada elemento sea `(nombre, latitud, longitud)` para al menos 4 sucursales.\n",
    "2. Muestra las **dos primeras** sucursales usando slicing.\n",
    "3. Comprueba con `in` si existe una sucursal llamada exactamente `'Centro'`.\n",
    "4. Recorre las **tres primeras** con `enumerate(start=1)` mostrando `1. Nombre (lat, lon)`."
   ]
  },
  {
   "cell_type": "markdown",
   "id": "a5a6f328",
   "metadata": {
    "jp-MarkdownHeadingCollapsed": true
   },
   "source": [
    "## Ejercicio 2: Calendario de clases (inmutabilidad)\n",
    "**Situación real:** Tienes un **calendario** con sesiones fijas de un curso.\n",
    "\n",
    "**Tareas:**\n",
    "1. Crea una tupla `sesiones` con 5 elementos, cada uno `(fecha, aula)`, por ejemplo `(\"2025-10-01\", \"Aula 2\")`.\n",
    "2. Muestra la **primera** y la **última** sesión usando índices.\n",
    "3. Intenta cambiar el aula de la primera sesión y observa el **TypeError**. Explica en un comentario por qué ocurre.\n",
    "4. Crea una **nueva tupla** `sesiones_actualizadas` con el mismo contenido salvo que la primera sesión esté en otro aula (sin listas, usando concatenación y slicing)."
   ]
  },
  {
   "cell_type": "markdown",
   "id": "5bcc451a",
   "metadata": {
    "jp-MarkdownHeadingCollapsed": true
   },
   "source": [
    "## Ejercicio 3: Colores corporativos (RGB)\n",
    "**Situación real:** Debes almacenar los **colores corporativos** de una marca como valores RGB.\n",
    "\n",
    "**Tareas:**\n",
    "1. Crea una tupla `colores` con al menos 4 colores, cada uno como tupla `(R, G, B)`.\n",
    "2. Usa `in` para comprobar si el color `(255, 255, 255)` (blanco) está en `colores`.\n",
    "3. Muestra **uno de cada dos** colores con slicing.\n",
    "4. Recorre `colores` con `enumerate(start=1)` y muestra `n. RGB` para los **3 primeros**."
   ]
  }
 ],
 "metadata": {
  "kernelspec": {
   "display_name": "Python [conda env:base] *",
   "language": "python",
   "name": "conda-base-py"
  },
  "language_info": {
   "codemirror_mode": {
    "name": "ipython",
    "version": 3
   },
   "file_extension": ".py",
   "mimetype": "text/x-python",
   "name": "python",
   "nbconvert_exporter": "python",
   "pygments_lexer": "ipython3",
   "version": "3.13.5"
  }
 },
 "nbformat": 4,
 "nbformat_minor": 5
}
