{
 "cells": [
  {
   "cell_type": "markdown",
   "id": "9cf3810d",
   "metadata": {},
   "source": [
    "# Ejercicios propuestos: Tuplas\n",
    "\n",
    "Actividades prácticas centradas en **tuplas**: creación, acceso por índice, slicing, pertenencia e inmutabilidad.\n",
    "No incluyen solución para que el alumnado pueda resolverlas."
   ]
  },
  {
   "cell_type": "markdown",
   "id": "c2875866",
   "metadata": {},
   "source": [
    "## Ejercicio 1: Sucursales y geolocalización\n",
    "**Situación real:** Una empresa tiene varias **sucursales** y quieres registrar sus coordenadas.\n",
    "\n",
    "**Tareas:**\n",
    "1. Crea una **tupla de tuplas** llamada `sucursales` donde cada elemento sea `(nombre, latitud, longitud)` para al menos 4 sucursales.\n",
    "2. Muestra las **dos primeras** sucursales usando slicing.\n",
    "3. Comprueba con `in` si existe una sucursal llamada exactamente `'Centro'`.\n",
    "4. Recorre las **tres primeras** con `enumerate(start=1)` mostrando `1. Nombre (lat, lon)`."
   ]
  },
  {
   "cell_type": "code",
   "execution_count": 53,
   "id": "1aaca6a7-1dff-4e16-bd3d-17119620e513",
   "metadata": {},
   "outputs": [
    {
     "name": "stdout",
     "output_type": "stream",
     "text": [
      "(('Sta. Cruz', 40.0, -34.0), ('La Laguna', 40.78, -30.44))\n",
      "('Sta. Cruz', 'La Laguna', 'Tacoronte', 'Candelaria')\n",
      "Está Arafo en el listado de nombres: False\n",
      "Está Arona en el listado de nombres: False\n",
      "Codigo: 1 \t Nombre: Sta. Cruz \t Coordenadas: (40.0,-34.0)\n",
      "Codigo: 2 \t Nombre: La Laguna \t Coordenadas: (40.78,-30.44)\n",
      "Codigo: 3 \t Nombre: Tacoronte \t Coordenadas: (40.55,-38.1)\n",
      "Codigo: 4 \t Nombre: Candelaria \t Coordenadas: (41.11,42.0)\n"
     ]
    }
   ],
   "source": [
    "sucursales =(\n",
    "    (\"Sta. Cruz\", 40.00, -34.00),\n",
    "    (\"La Laguna\", 40.78, -30.44),\n",
    "    (\"Tacoronte\", 40.55, -38.10),\n",
    "    (\"Candelaria\", 41.11, 42.00)\n",
    ")\n",
    "\n",
    "print(sucursales[:2])\n",
    "\n",
    "nombre_sucursales = tuple(sucursal[0] for sucursal in sucursales)\n",
    "print (nombre_sucursales)\n",
    "print(f\"Está Arafo en el listado de nombres:\", 'Arafo' in nombre_sucursales)\n",
    "print(f\"Está Arona en el listado de nombres:\", 'Arona' in nombre_sucursales)\n",
    "\n",
    "for i, (sucursal, latitud, longuitud) in enumerate(sucursales):\n",
    "    if i<=3:\n",
    "        print(f\"Codigo: {i+1} \\t Nombre: {sucursal} \\t Coordenadas: ({latitud},{longuitud})\")\n"
   ]
  },
  {
   "cell_type": "markdown",
   "id": "a5a6f328",
   "metadata": {},
   "source": [
    "## Ejercicio 2: Calendario de clases (inmutabilidad)\n",
    "**Situación real:** Tienes un **calendario** con sesiones fijas de un curso.\n",
    "\n",
    "**Tareas:**\n",
    "1. Crea una tupla `sesiones` con 5 elementos, cada uno `(fecha, aula)`, por ejemplo `(\"2025-10-01\", \"Aula 2\")`.\n",
    "2. Muestra la **primera** y la **última** sesión usando índices.\n",
    "3. Intenta cambiar el aula de la primera sesión y observa el **TypeError**. Explica en un comentario por qué ocurre.\n",
    "4. Crea una **nueva tupla** `sesiones_actualizadas` con el mismo contenido salvo que la primera sesión esté en otro aula (sin listas, usando concatenación y slicing)."
   ]
  },
  {
   "cell_type": "code",
   "execution_count": 76,
   "id": "dd7aa3c9-e38f-4465-acaa-a9c0339af90a",
   "metadata": {},
   "outputs": [
    {
     "name": "stdout",
     "output_type": "stream",
     "text": [
      "('2025-10-01', 'Aula 01')\n",
      "('2025-06-20', 'Aula 05')\n",
      "\n",
      "Error identificado: 'tuple' object does not support item assignment\n",
      "\n",
      "\u001b[31mSesiones actualizadas:\n",
      "\u001b[0m (('2025-10-01', 'Aula66'), ('2025-09-05', 'Aula 02'), ('2025-08-10', 'Aula 03'), ('2025-07-15', 'Aula 04'), ('2025-06-20', 'Aula 05'))\n",
      "\n",
      "\u001b[31mSesiones sin el Aula03:\n",
      "\u001b[0m (('2025-10-01', 'Aula 01'), ('2025-09-05', 'Aula 02'), ('2025-08-10', 'Aula 03'), ('2025-06-20', 'Aula 05'))\n"
     ]
    }
   ],
   "source": [
    "sesiones =(\n",
    "    (\"2025-10-01\", \"Aula 01\"),\n",
    "    (\"2025-09-05\", \"Aula 02\"),\n",
    "    (\"2025-08-10\", \"Aula 03\"),\n",
    "    (\"2025-07-15\", \"Aula 04\"),\n",
    "    (\"2025-06-20\", \"Aula 05\")\n",
    ")\n",
    "\n",
    "ROJO = \"\\033[31m\"\n",
    "RESET = \"\\033[0m\"\n",
    "\n",
    "print (sesiones[0])\n",
    "print (sesiones[-1])\n",
    "print(\"\")\n",
    "\n",
    "try:\n",
    "    sesiones[0] = (\"2025-10-01\", \"Aula 5\")\n",
    "except TypeError as e:\n",
    "    print(f\"Error identificado: {e}\")\n",
    "print(\"\")\n",
    "\n",
    "sesiones_actualizadas = ((sesiones[0][0], \"Aula66\"),) + sesiones[1:]\n",
    "print(f\"{ROJO}Sesiones actualizadas:\\n{RESET}\", sesiones_actualizadas)\n",
    "print(\"\")\n",
    "sesiones_sin_A3 = sesiones[:3]+sesiones[4:]\n",
    "print(f\"{ROJO}Sesiones sin el Aula03:\\n{RESET}\", sesiones_sin_A3)\n"
   ]
  },
  {
   "cell_type": "markdown",
   "id": "5bcc451a",
   "metadata": {},
   "source": [
    "## Ejercicio 3: Colores corporativos (RGB)\n",
    "**Situación real:** Debes almacenar los **colores corporativos** de una marca como valores RGB.\n",
    "\n",
    "**Tareas:**\n",
    "1. Crea una tupla `colores` con al menos 4 colores, cada uno como tupla `(R, G, B)`.\n",
    "2. Usa `in` para comprobar si el color `(255, 255, 255)` (blanco) está en `colores`.\n",
    "3. Muestra **uno de cada dos** colores con slicing.\n",
    "4. Recorre `colores` con `enumerate(start=1)` y muestra `n. RGB` para los **3 primeros**."
   ]
  },
  {
   "cell_type": "code",
   "execution_count": 92,
   "id": "fcf97889-fcbf-4fc9-9b6f-aff30afe4029",
   "metadata": {},
   "outputs": [
    {
     "name": "stdout",
     "output_type": "stream",
     "text": [
      "Mostrar todos los colores con slicing:\n",
      " ((255, 255, 255), (255, 0, 0), (0, 255, 0), (0, 0, 255))\n",
      "\n",
      "Mostrar los colores de dos en dos:\n",
      " ((255, 255, 255), (0, 255, 0))\n",
      "0 (255, 255, 255)\n",
      "1 (255, 0, 0)\n",
      "2 (0, 255, 0)\n",
      "3 (0, 0, 255)\n"
     ]
    }
   ],
   "source": [
    "colores=(\n",
    "    (255, 255, 255),\n",
    "    (255,0,0),\n",
    "    (0,255,0),\n",
    "    (0,0,255)\n",
    ")\n",
    "\n",
    "(255,255,255) in colores\n",
    "\n",
    "print(\"Mostrar todos los colores con slicing:\\n\", colores[:4])\n",
    "print(\"\")\n",
    "print(\"Mostrar los colores de dos en dos:\\n\",colores[::2])\n",
    "\n",
    "for i,color in enumerate(colores):\n",
    "    if i<=3:\n",
    "        print(f\"{i} {color}\")\n",
    "    "
   ]
  },
  {
   "cell_type": "code",
   "execution_count": null,
   "id": "dfeacabc-3367-4f72-bc34-370dc62bb870",
   "metadata": {},
   "outputs": [],
   "source": []
  }
 ],
 "metadata": {
  "kernelspec": {
   "display_name": "Python [conda env:base] *",
   "language": "python",
   "name": "conda-base-py"
  },
  "language_info": {
   "codemirror_mode": {
    "name": "ipython",
    "version": 3
   },
   "file_extension": ".py",
   "mimetype": "text/x-python",
   "name": "python",
   "nbconvert_exporter": "python",
   "pygments_lexer": "ipython3",
   "version": "3.13.5"
  }
 },
 "nbformat": 4,
 "nbformat_minor": 5
}
