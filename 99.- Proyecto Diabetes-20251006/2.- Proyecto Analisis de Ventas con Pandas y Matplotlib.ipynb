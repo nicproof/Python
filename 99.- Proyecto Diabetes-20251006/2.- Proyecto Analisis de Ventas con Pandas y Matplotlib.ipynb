{
 "cells": [
  {
   "cell_type": "markdown",
   "id": "267f560f",
   "metadata": {},
   "source": [
    "# 📊 Proyecto Avanzado: Análisis de Ventas con Pandas + Matplotlib (PLUS)\n",
    "Este cuaderno guía un análisis **end-to-end**: carga/validación de datos, EDA, limpieza, *feature engineering*, KPIs,\n",
    "visualizaciones y analítica de clientes (RFM y cohortes). Incluye **tareas** con **soluciones ocultas**.\n",
    "\n",
    "**Objetivos:**\n",
    "- Practicar carga y validación de datos con `pandas`.\n",
    "- Crear KPIs de negocio (ingresos, ticket medio, devoluciones, top productos/clientes).\n",
    "- Usar `groupby`, *pivot tables*, re-muestreo por mes y gráficos con **Matplotlib**.\n",
    "- Analizar clientes con **RFM** y **cohortes**.\n",
    "\n",
    "**Entregables:** CSV con resultados clave, 3 gráficos y un breve texto con hallazgos.\n",
    "\n",
    "**ACLARACIONES:**\n",
    "EDA (Análisis Exploratorio de Datos) te dice qué hay y cómo están los datos; RFM (Recencia -días de la última compra -, Frecuencia y Valor Monetario) te dice qué clientes son más valiosos/activos; cohortes (Grupo de clientes definido por su momento de alta) te dice cómo evoluciona la retención en el tiempo."
   ]
  },
  {
   "cell_type": "markdown",
   "id": "36acbf97",
   "metadata": {},
   "source": [
    "## 0) Preparación: librerías y helpers"
   ]
  },
  {
   "cell_type": "code",
   "execution_count": 1,
   "id": "70648b47",
   "metadata": {},
   "outputs": [],
   "source": [
    "import pandas as pd\n",
    "import numpy as np\n",
    "from pathlib import Path\n",
    "import matplotlib.pyplot as plt\n",
    "from datetime import datetime\n",
    "pd.set_option('display.max_rows', 10)\n",
    "pd.set_option('display.width', 120)"
   ]
  },
  {
   "cell_type": "markdown",
   "id": "7c6677d8",
   "metadata": {},
   "source": [
    "## 1) Dataset: generar o cargar\n",
    "Si existe `ventas_simuladas.csv`, lo cargamos. Si no, generamos uno reproducible."
   ]
  },
  {
   "cell_type": "code",
   "execution_count": null,
   "id": "d7bef9de",
   "metadata": {},
   "outputs": [],
   "source": [
    "def generar_dataset_csv(ruta='ventas_simuladas.csv', seed=42):\n",
    "    rng = np.random.default_rng(seed)\n",
    "    dates = pd.date_range('2023-01-01', '2024-12-31', freq='D')\n",
    "    products = [\n",
    "        ('Teclado','Periféricos'),('Ratón','Periféricos'),('Monitor','Pantallas'),\n",
    "        ('Portátil','Ordenadores'),('Disco SSD','Almacenamiento'),('Impresora','Periféricos'),\n",
    "        ('Auriculares','Periféricos'),('Base refrigeradora','Periféricos'),('Webcam','Periféricos')\n",
    "    ]\n",
    "    rows = []\n",
    "    order_id = 1\n",
    "    for d in dates:\n",
    "        for _ in range(rng.integers(5, 20)):\n",
    "            prod, cat = products[rng.integers(0, len(products))]\n",
    "            units = int(rng.integers(1, 5))\n",
    "            base = 50 if cat=='Periféricos' else (300 if cat in ['Ordenadores','Pantallas'] else 100)\n",
    "            price = float(rng.normal(base, base*0.35))\n",
    "            price = max(price, 5)\n",
    "            returned = rng.random() < 0.05\n",
    "            rows.append((order_id, d, rng.integers(1, 801), prod, cat, units, round(price,2), returned))\n",
    "            order_id += 1\n",
    "    df = pd.DataFrame(rows, columns=['order_id','order_date','customer_id','product','category','units','unit_price','returned'])\n",
    "    df.to_csv(ruta, index=False)\n",
    "    return ruta\n",
    "\n",
    "csv_path = Path('ventas_simuladas.csv')\n",
    "if not csv_path.exists():\n",
    "    generar_dataset_csv(csv_path)\n",
    "df = pd.read_csv(csv_path, parse_dates=['order_date'])\n",
    "df.head()"
   ]
  },
  {
   "cell_type": "markdown",
   "id": "e6bca1a2",
   "metadata": {},
   "source": [
    "## 2) Validación y limpieza mínima"
   ]
  },
  {
   "cell_type": "code",
   "execution_count": null,
   "id": "f29e8f12",
   "metadata": {},
   "outputs": [],
   "source": [
    "# Tipos y nulos\n",
    "display(df.info())\n",
    "nulos = df.isna().sum()\n",
    "nulos"
   ]
  },
  {
   "cell_type": "code",
   "execution_count": null,
   "id": "4599f22c",
   "metadata": {},
   "outputs": [],
   "source": [
    "# Reglas de negocio simples\n",
    "assert (df['units']>=1).all(), 'Units debe ser >= 1'\n",
    "assert (df['unit_price']>0).all(), 'unit_price debe ser > 0'\n",
    "df['returned'] = df['returned'].astype(bool)\n",
    "df['category'] = df['category'].astype('category')\n",
    "df['product'] = df['product'].astype('category')\n",
    "df['order_date'] = pd.to_datetime(df['order_date'])\n",
    "df['revenue'] = df['units'] * df['unit_price']\n",
    "df.head()"
   ]
  },
  {
   "cell_type": "markdown",
   "id": "6486ab60",
   "metadata": {},
   "source": [
    "## 3) EDA rápida"
   ]
  },
  {
   "cell_type": "code",
   "execution_count": null,
   "id": "e5e725dd",
   "metadata": {},
   "outputs": [],
   "source": [
    "df.describe(include='all')"
   ]
  },
  {
   "cell_type": "code",
   "execution_count": null,
   "id": "08815bc1",
   "metadata": {},
   "outputs": [],
   "source": [
    "df.groupby('category')['revenue'].sum().sort_values(ascending=False).head(10)"
   ]
  },
  {
   "cell_type": "markdown",
   "id": "51169897",
   "metadata": {},
   "source": [
    "### Tarea 1: ¿Cuál es el rango de fechas y el nº de pedidos únicos?"
   ]
  },
  {
   "cell_type": "markdown",
   "id": "b6c09f2b",
   "metadata": {},
   "source": [
    "<details><summary><b>Ver solución</b></summary>\n",
    "\n",
    "```python\n",
    "df['order_date'].min(), df['order_date'].max(), df['order_id'].nunique()\n",
    "```\n",
    "</details>"
   ]
  },
  {
   "cell_type": "markdown",
   "id": "7d53f31d",
   "metadata": {},
   "source": [
    "## 4) KPIs básicos"
   ]
  },
  {
   "cell_type": "code",
   "execution_count": null,
   "id": "7ad5bc65",
   "metadata": {},
   "outputs": [],
   "source": [
    "# KPI 1: Ingresos por mes\n",
    "df['month'] = df['order_date'].dt.to_period('M').dt.to_timestamp()\n",
    "ingresos_mes = df.groupby('month')['revenue'].sum().reset_index()\n",
    "ingresos_mes.head()"
   ]
  },
  {
   "cell_type": "code",
   "execution_count": null,
   "id": "33fdc747",
   "metadata": {},
   "outputs": [],
   "source": [
    "# KPI 2: Ticket medio por pedido\n",
    "ticket_medio = df.groupby('order_id')['revenue'].sum().mean()\n",
    "ticket_medio"
   ]
  },
  {
   "cell_type": "code",
   "execution_count": null,
   "id": "835304b3",
   "metadata": {},
   "outputs": [],
   "source": [
    "# KPI 3: Top 10 productos por ingresos\n",
    "top_prod = df.groupby('product')['revenue'].sum().sort_values(ascending=False).head(10)\n",
    "top_prod"
   ]
  },
  {
   "cell_type": "code",
   "execution_count": null,
   "id": "b07603a6",
   "metadata": {},
   "outputs": [],
   "source": [
    "# KPI 4: Tasa de devolución\n",
    "tasa_dev = df['returned'].mean()\n",
    "tasa_dev"
   ]
  },
  {
   "cell_type": "markdown",
   "id": "94dafb85",
   "metadata": {},
   "source": [
    "## 5) Visualizaciones con Matplotlib (una figura por gráfico)"
   ]
  },
  {
   "cell_type": "code",
   "execution_count": null,
   "id": "33dabfec",
   "metadata": {},
   "outputs": [],
   "source": [
    "# Ingresos por mes (línea)\n",
    "ingresos_mes.plot(x='month', y='revenue', kind='line', title='Ingresos por mes')\n",
    "plt.show()"
   ]
  },
  {
   "cell_type": "code",
   "execution_count": null,
   "id": "ca4bbc22",
   "metadata": {},
   "outputs": [],
   "source": [
    "# Ingresos por categoría (barra)\n",
    "df.groupby('category')['revenue'].sum().sort_values().plot(kind='bar', title='Ingresos por categoría')\n",
    "plt.show()"
   ]
  },
  {
   "cell_type": "code",
   "execution_count": null,
   "id": "1c619229",
   "metadata": {},
   "outputs": [],
   "source": [
    "# Top 10 productos (barra)\n",
    "df.groupby('product')['revenue'].sum().sort_values(ascending=False).head(10).plot(kind='bar', title='Top 10 productos')\n",
    "plt.show()"
   ]
  },
  {
   "cell_type": "markdown",
   "id": "903cad70",
   "metadata": {},
   "source": [
    "### Tarea 2: Representa la evolución de la **tasa de devolución** por mes"
   ]
  },
  {
   "cell_type": "markdown",
   "id": "631a1038",
   "metadata": {},
   "source": [
    "<details><summary><b>Ver solución</b></summary>\n",
    "\n",
    "```python\n",
    "dev_mes = df.groupby('month')['returned'].mean().reset_index()\n",
    "dev_mes.plot(x='month', y='returned', kind='line', title='Tasa de devolución por mes')\n",
    "plt.show()\n",
    "```\n",
    "</details>"
   ]
  },
  {
   "cell_type": "markdown",
   "id": "c632f969",
   "metadata": {},
   "source": [
    "## 6) Analítica de clientes: **RFM**"
   ]
  },
  {
   "cell_type": "code",
   "execution_count": null,
   "id": "44a2d9d9",
   "metadata": {},
   "outputs": [],
   "source": [
    "# Calcula Recency (días desde última compra), Frequency (nº pedidos), Monetary (ingresos)\n",
    "ref_date = df['order_date'].max() + pd.Timedelta(days=1)\n",
    "agg = df.groupby('customer_id').agg(\n",
    "    last_purchase=('order_date','max'),\n",
    "    frequency=('order_id','nunique'),\n",
    "    monetary=('revenue','sum')\n",
    ").reset_index()\n",
    "agg['recency'] = (ref_date - agg['last_purchase']).dt.days\n",
    "agg.head()"
   ]
  },
  {
   "cell_type": "code",
   "execution_count": null,
   "id": "0beb39a4",
   "metadata": {},
   "outputs": [],
   "source": [
    "# Discretización por quintiles para r, f, m → scores 1–5\n",
    "def quintil_scorer(s, reverse=False):\n",
    "    q = s.rank(pct=True)\n",
    "    sc = (q*5).apply(np.ceil).astype(int)\n",
    "    sc = sc.clip(1,5)\n",
    "    return 6 - sc if reverse else sc\n",
    "agg['R'] = quintil_scorer(agg['recency'], reverse=True)  # menor recency → mejor\n",
    "agg['F'] = quintil_scorer(agg['frequency'])\n",
    "agg['M'] = quintil_scorer(agg['monetary'])\n",
    "agg['RFM'] = agg['R'].astype(str)+agg['F'].astype(str)+agg['M'].astype(str)\n",
    "agg.sort_values('monetary', ascending=False).head(10)"
   ]
  },
  {
   "cell_type": "markdown",
   "id": "e9668cd9",
   "metadata": {},
   "source": [
    "### Tarea 3: ¿Qué porcentaje de ingresos aportan los **top 10%** de clientes por `monetary`?"
   ]
  },
  {
   "cell_type": "markdown",
   "id": "c9cf6cd9",
   "metadata": {},
   "source": [
    "<details><summary><b>Ver solución</b></summary>\n",
    "\n",
    "```python\n",
    "n = max(1, int(len(agg)*0.10))\n",
    "top = agg.sort_values('monetary', ascending=False).head(n)\n",
    "pct = top['monetary'].sum() / agg['monetary'].sum()\n",
    "pct\n",
    "```\n",
    "</details>"
   ]
  },
  {
   "cell_type": "markdown",
   "id": "9e0897f7",
   "metadata": {},
   "source": [
    "## 7) Analítica de **cohortes** (retención mensual)\n",
    "Definimos la cohorte por **mes de primera compra** y construimos una tabla de retención."
   ]
  },
  {
   "cell_type": "code",
   "execution_count": null,
   "id": "86947e1d",
   "metadata": {},
   "outputs": [],
   "source": [
    "df_small = df[['customer_id','order_id','order_date','revenue']].copy()\n",
    "df_small['first_month'] = df_small.groupby('customer_id')['order_date'].transform('min').dt.to_period('M').dt.to_timestamp()\n",
    "df_small['month'] = df_small['order_date'].dt.to_period('M').dt.to_timestamp()\n",
    "df_small['cohort_index'] = ((df_small['month'].dt.year - df_small['first_month'].dt.year)*12 +\n",
    "                             (df_small['month'].dt.month - df_small['first_month'].dt.month))\n",
    "retencion = (df_small\n",
    "    .groupby(['first_month','cohort_index'])['customer_id']\n",
    "    .nunique()\n",
    "    .reset_index())\n",
    "base = retencion[retencion['cohort_index']==0][['first_month','customer_id']].rename(columns={'customer_id':'n0'})\n",
    "tabla = retencion.merge(base, on='first_month')\n",
    "tabla['ret'] = tabla['customer_id']/tabla['n0']\n",
    "cohort_pivot = tabla.pivot(index='first_month', columns='cohort_index', values='ret').fillna(0)\n",
    "cohort_pivot.head()"
   ]
  },
  {
   "cell_type": "code",
   "execution_count": null,
   "id": "bc3a25bc",
   "metadata": {},
   "outputs": [],
   "source": [
    "# Visualización rápida de cohortes (matriz)\n",
    "plt.figure()\n",
    "plt.imshow(cohort_pivot.values, aspect='auto')\n",
    "plt.title('Retención por cohortes (proporción)')\n",
    "plt.xlabel('Meses desde primera compra')\n",
    "plt.ylabel('Cohorte (mes inicio)')\n",
    "plt.colorbar()\n",
    "plt.show()"
   ]
  },
  {
   "cell_type": "markdown",
   "id": "9195fb55",
   "metadata": {},
   "source": [
    "### Tarea 4: Calcular el **LTV** aproximado por cohorte como suma de ingresos medios por cliente a 3 meses"
   ]
  },
  {
   "cell_type": "markdown",
   "id": "e7286886",
   "metadata": {},
   "source": [
    "<details><summary><b>Ver solución (idea)</b></summary>\n",
    "\n",
    "```python\n",
    "ingresos_cliente_mes = (df_small\n",
    "    .groupby(['first_month','month'])\n",
    "    .agg(ingresos=('revenue','sum'), clientes=('customer_id','nunique'))\n",
    "    .reset_index())\n",
    "ingresos_cliente_mes['cohort_index'] = ((ingresos_cliente_mes['month'].dt.year - ingresos_cliente_mes['first_month'].dt.year)*12 +\n",
    "                                        (ingresos_cliente_mes['month'].dt.month - ingresos_cliente_mes['first_month'].dt.month))\n",
    "ing_cli = ingresos_cliente_mes.pivot_table(index='first_month', columns='cohort_index', values='ingresos')\n",
    "cli = ingresos_cliente_mes.pivot_table(index='first_month', columns='cohort_index', values='clientes')\n",
    "arpu = ing_cli/cli\n",
    "ltv3 = arpu[[0,1,2]].sum(axis=1)\n",
    "ltv3.head()\n",
    "```\n",
    "</details>"
   ]
  },
  {
   "cell_type": "markdown",
   "id": "55740535",
   "metadata": {},
   "source": [
    "## 8) Export de resultados"
   ]
  },
  {
   "cell_type": "code",
   "execution_count": null,
   "id": "6cb6c891",
   "metadata": {},
   "outputs": [],
   "source": [
    "ingresos_mes.to_csv('kpi_ingresos_mensuales.csv', index=False)\n",
    "agg[['customer_id','R','F','M','RFM','recency','frequency','monetary']].to_csv('rfm_clientes.csv', index=False)\n",
    "cohort_pivot.to_csv('retencion_cohortes.csv')\n",
    "print('✅ Exportados: kpi_ingresos_mensuales.csv, rfm_clientes.csv, retencion_cohortes.csv')"
   ]
  },
  {
   "cell_type": "markdown",
   "id": "ce2b737a",
   "metadata": {},
   "source": [
    "## 9) Retos extra (para nota)\n",
    "1) **Anomalías**: detecta días con ingresos > μ+3σ y coméntalos.\n",
    "2) **Segmentación**: clasifica clientes en 4 grupos (p.ej. KMeans sobre (recency, frequency, monetary)).\n",
    "3) **AB testing simulado**: crea una bandera de campaña y compara ticket medio con test estadístico.\n",
    "4) **Performance**: compara tiempo de `groupby` tras convertir `product` y `category` a `category`."
   ]
  },
  {
   "cell_type": "markdown",
   "id": "66ecf66c",
   "metadata": {},
   "source": [
    "## 10) Rúbrica (10 puntos)\n",
    "- Carga/validación y limpieza básica (2)\n",
    "- KPIs correctos y bien interpretados (2)\n",
    "- Gráficos claros (3) con conclusiones (2)\n",
    "- Analítica de clientes (RFM/cohortes) (3)\n",
    "- Export de resultados (1)\n",
    "- Calidad del cuaderno (narrativa, orden, reproducibilidad) (+1 bonus)"
   ]
  }
 ],
 "metadata": {
  "kernelspec": {
   "display_name": "Python [conda env:base] *",
   "language": "python",
   "name": "conda-base-py"
  },
  "language_info": {
   "codemirror_mode": {
    "name": "ipython",
    "version": 3
   },
   "file_extension": ".py",
   "mimetype": "text/x-python",
   "name": "python",
   "nbconvert_exporter": "python",
   "pygments_lexer": "ipython3",
   "version": "3.13.5"
  }
 },
 "nbformat": 4,
 "nbformat_minor": 5
}
