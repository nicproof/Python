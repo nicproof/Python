{
 "cells": [
  {
   "cell_type": "markdown",
   "metadata": {},
   "source": [
    "# 🐍 Descargar datasets desde Internet con Python\n",
    "\n",
    "_Generado: 2025-09-19 07:23 UTC_\n",
    "\n",
    "En este cuaderno verás diferentes formas de descargar datasets:\n",
    "- CSV directo desde una URL\n",
    "- Archivos grandes con `requests` + barra de progreso\n",
    "- ZIP que se extrae al vuelo\n",
    "- Google Drive con `gdown`\n",
    "- Kaggle con la API oficial\n",
    "- Descarga genérica con verificación SHA256\n",
    "- (Opcional) S3 y APIs con token\n",
    "\n",
    "👉 Edita las URLs y parámetros según tu dataset. Ejecuta celda por celda."
   ]
  },
  {
   "cell_type": "code",
   "execution_count": null,
   "metadata": {},
   "outputs": [],
   "source": [
    "# 0) Dependencias útiles (descomenta lo que necesites)\n",
    "# !pip install pandas requests tqdm gdown kaggle boto3\n",
    "print(\"Si te falta alguna librería, descomenta la línea de arriba y vuelve a ejecutar.\")"
   ]
  },
  {
   "cell_type": "code",
   "execution_count": null,
   "metadata": {},
   "outputs": [],
   "source": [
    "# 1) Leer CSV directo desde una URL\n",
    "import pandas as pd\n",
    "\n",
    "url_csv = \"https://people.sc.fsu.edu/~jburkardt/data/csv/hw_200.csv\"  # <- cambia por tu URL\n",
    "df = pd.read_csv(url_csv)\n",
    "df.head()"
   ]
  },
  {
   "cell_type": "code",
   "execution_count": null,
   "metadata": {},
   "outputs": [],
   "source": [
    "# 2) Descargar archivo grande con requests + tqdm (barra de progreso)\n",
    "import requests\n",
    "from tqdm import tqdm\n",
    "\n",
    "def download_file(url, dest_path, chunk_size=1024):\n",
    "    with requests.get(url, stream=True) as r:\n",
    "        r.raise_for_status()\n",
    "        total = int(r.headers.get(\"content-length\", 0))\n",
    "        with open(dest_path, \"wb\") as f, tqdm(total=total, unit='B', unit_scale=True, desc=dest_path) as pbar:\n",
    "            for chunk in r.iter_content(chunk_size=chunk_size):\n",
    "                if chunk:\n",
    "                    f.write(chunk)\n",
    "                    pbar.update(len(chunk))\n",
    "\n",
    "# Ejemplo:\n",
    "download_file(\"https://people.sc.fsu.edu/~jburkardt/data/csv/airtravel.csv\", \"airtravel.csv\")\n",
    "print(\"Descargado: airtravel.csv\")"
   ]
  },
  {
   "cell_type": "code",
   "execution_count": null,
   "metadata": {},
   "outputs": [],
   "source": [
    "# 3) Descargar y extraer un ZIP directamente en memoria\n",
    "import zipfile, io\n",
    "\n",
    "url_zip = \"https://github.com/mwaskom/seaborn-data/archive/refs/heads/master.zip\"  # ejemplo\n",
    "r = requests.get(url_zip)\n",
    "r.raise_for_status()\n",
    "with zipfile.ZipFile(io.BytesIO(r.content)) as z:\n",
    "    z.extractall(\"data_zip\")\n",
    "print(\"Archivos extraídos en data_zip/\")"
   ]
  },
  {
   "cell_type": "code",
   "execution_count": null,
   "metadata": {},
   "outputs": [],
   "source": [
    "# 4) Google Drive con gdown\n",
    "try:\n",
    "    import gdown\n",
    "except ImportError:\n",
    "    print(\"Instala gdown con: pip install gdown\")\n",
    "\n",
    "# url_gdrive = \"https://drive.google.com/uc?id=FILE_ID\"  # Reemplaza FILE_ID\n",
    "# gdown.download(url_gdrive, \"dataset_gdrive.zip\", quiet=False)\n",
    "# print(\"Descargado: dataset_gdrive.zip\")"
   ]
  },
  {
   "cell_type": "code",
   "execution_count": null,
   "metadata": {},
   "outputs": [],
   "source": [
    "# 5) Kaggle API (requiere token kaggle.json en ~/.kaggle)\n",
    "print(\"Pasos:\\n1) pip install kaggle\\n2) Descarga tu kaggle.json desde tu cuenta\\n3) Guarda en ~/.kaggle/kaggle.json con permisos 600\")\n",
    "# Ejemplo (desde el notebook):\n",
    "# !kaggle datasets download -d zynicide/wine-reviews\n",
    "# !unzip -o wine-reviews.zip -d data_kaggle"
   ]
  },
  {
   "cell_type": "code",
   "execution_count": null,
   "metadata": {},
   "outputs": [],
   "source": [
    "# 6) Descarga genérica con verificación SHA256 y descompresión opcional\n",
    "import hashlib, os\n",
    "\n",
    "def download_verify_unzip(url, dst, expected_sha256=None, extract_to=None):\n",
    "    with requests.get(url, stream=True) as r:\n",
    "        r.raise_for_status()\n",
    "        sha = hashlib.sha256()\n",
    "        with open(dst, \"wb\") as f:\n",
    "            for chunk in r.iter_content(8192):\n",
    "                if chunk:\n",
    "                    f.write(chunk)\n",
    "                    sha.update(chunk)\n",
    "    if expected_sha256 is not None:\n",
    "        got = sha.hexdigest()\n",
    "        if got != expected_sha256:\n",
    "            raise ValueError(f\"SHA256 distinta. Esperado {expected_sha256}, obtenido {got}\")\n",
    "    if extract_to and dst.lower().endswith((\".zip\")):\n",
    "        with zipfile.ZipFile(dst) as z:\n",
    "            z.extractall(extract_to)\n",
    "        print(f\"Extraído en {extract_to}\")\n",
    "    print(f\"Descarga OK: {dst}\")\n",
    "\n",
    "# Ejemplo (usa una URL real y, si tienes, el SHA256 esperado):\n",
    "# download_verify_unzip(\"https://example.com/dataset.zip\", \"dataset.zip\", expected_sha256=None, extract_to=\"data\")"
   ]
  },
  {
   "cell_type": "code",
   "execution_count": null,
   "metadata": {},
   "outputs": [],
   "source": [
    "# 7) (Opcional) AWS S3 y APIs con token\n",
    "print(\"S3 público: puedes usar la URL pública con requests. Para autenticado, usa boto3.\")\n",
    "try:\n",
    "    import boto3\n",
    "    print(\"boto3 disponible. Ejemplo -> s3.download_file('bucket','key','local_path')\")\n",
    "except ImportError:\n",
    "    print(\"Instala boto3 con: pip install boto3\")\n",
    "\n",
    "# Ejemplo API con token:\n",
    "import requests as _req\n",
    "url_api = \"https://api.ejemplo.com/data\"  # cambia por tu API\n",
    "headers = {\"Authorization\": \"Bearer TU_TOKEN\"}\n",
    "# resp = _req.get(url_api, headers=headers)\n",
    "# resp.raise_for_status()\n",
    "# data = resp.json()\n",
    "# data[:2] if isinstance(data, list) else list(data)[:2]"
   ]
  }
 ],
 "metadata": {
  "kernelspec": {
   "display_name": "Python 3",
   "language": "python",
   "name": "python3"
  },
  "language_info": {
   "name": "python",
   "version": "3.10"
  }
 },
 "nbformat": 4,
 "nbformat_minor": 5
}