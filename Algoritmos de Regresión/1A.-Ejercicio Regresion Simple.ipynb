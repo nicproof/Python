{
 "cells": [
  {
   "cell_type": "markdown",
   "id": "f3c2ba82",
   "metadata": {},
   "source": [
    "# 📘 Regresión lineal simple — Cuaderno de ejercicio\n",
    "**Objetivo:** estudiar la relación entre el tiempo de estudio (horas) y la calificación (0–100).\n",
    "\n",
    "Completa las celdas marcadas con **TODO**.\n",
    "\n",
    "**Contenido:**\n",
    "1. Cargar datos\n",
    "2. Regresión manual (sin `sklearn`)\n",
    "3. Regresión con `scikit-learn`\n",
    "4. Predicción para 7.5 horas\n",
    "5. Gráficos y breve interpretación\n",
    "\n",
    "---"
   ]
  },
  {
   "cell_type": "markdown",
   "id": "477d25e4",
   "metadata": {},
   "source": [
    "## 1) Cargar datos"
   ]
  },
  {
   "cell_type": "code",
   "execution_count": null,
   "id": "c7cbca09",
   "metadata": {},
   "outputs": [],
   "source": [
    "# Datos del problema\n",
    "horas = [1, 2, 3, 4, 5, 6, 7, 8, 9, 10]\n",
    "calificaciones = [50, 55, 65, 70, 74, 78, 85, 88, 94, 96]\n",
    "\n",
    "# TODO: inspecciona los datos (imprime longitudes, primeros valores, etc.)\n"
   ]
  },
  {
   "cell_type": "markdown",
   "id": "9d9519c6",
   "metadata": {},
   "source": [
    "## 2) Regresión manual (sin `sklearn`)"
   ]
  },
  {
   "cell_type": "code",
   "execution_count": null,
   "id": "92102019",
   "metadata": {},
   "outputs": [],
   "source": [
    "# TODO: calcula a, b, y R^2 de forma manual, sin usar sklearn\n",
    "# Fórmulas: b = sum((x-xbar)*(y-ybar))/sum((x-xbar)**2), a = ybar - b*xbar\n",
    "# Luego calcula y_hat, SS_res, SS_tot y R^2.\n"
   ]
  },
  {
   "cell_type": "markdown",
   "id": "4d755df2",
   "metadata": {},
   "source": [
    "## 3) Regresión con `scikit-learn`"
   ]
  },
  {
   "cell_type": "code",
   "execution_count": null,
   "id": "6296dfda",
   "metadata": {},
   "outputs": [],
   "source": [
    "# TODO: entrena un modelo de regresión lineal con scikit-learn\n",
    "# from sklearn.linear_model import LinearRegression\n",
    "# import numpy as np\n",
    "# modelo = LinearRegression().fit(np.array(horas).reshape(-1,1), calificaciones)\n",
    "# Imprime coef_, intercept_, score(...)\n"
   ]
  },
  {
   "cell_type": "markdown",
   "id": "07b99d4a",
   "metadata": {},
   "source": [
    "## 4) Predicción para 7.5 horas"
   ]
  },
  {
   "cell_type": "code",
   "execution_count": null,
   "id": "8e3f870b",
   "metadata": {},
   "outputs": [],
   "source": [
    "# TODO: calcula la predicción manual y con sklearn para x=7.5\n"
   ]
  },
  {
   "cell_type": "markdown",
   "id": "b0bf89fe",
   "metadata": {},
   "source": [
    "## 5) Gráficos y breve interpretación"
   ]
  },
  {
   "cell_type": "code",
   "execution_count": null,
   "id": "582778be",
   "metadata": {},
   "outputs": [],
   "source": [
    "# TODO: grafica dispersión y recta de regresión (manual o sklearn)\n",
    "# import matplotlib.pyplot as plt\n",
    "# ...\n"
   ]
  },
  {
   "cell_type": "markdown",
   "id": "d22ef419",
   "metadata": {},
   "source": [
    "## 6) Interpretación breve\n",
    "- **Pendiente (b):** aumento esperado de la calificación por cada hora adicional de estudio.\n",
    "- **Intersección (a):** calificación esperada cuando las horas de estudio son 0.\n",
    "- **R²:** proporción de la variabilidad explicada por las horas de estudio."
   ]
  },
  {
   "cell_type": "markdown",
   "id": "e800c729",
   "metadata": {},
   "source": [
    "## 7) ¿Qué significan `b_skl`, `a_skl` y `r2_skl`?\n",
    "\n",
    "- **`b_skl` (pendiente o *slope*)**: indica cuánto cambia la variable dependiente \\(Y\\) por cada unidad adicional de la variable independiente \\(X\\).  \n",
    "  - En este caso: el **aumento esperado de la calificación por cada hora adicional de estudio**.\n",
    "- **`a_skl` (intersección o *intercept*)**: valor estimado de \\(Y\\) cuando \\(X = 0\\).  \n",
    "  - Aquí: la **calificación esperada si se estudian 0 horas**. Puede no tener interpretación práctica si \\(X=0\\) no es razonable.\n",
    "- **`r2_skl` (coeficiente de determinación, R²)**: fracción de la variabilidad de \\(Y\\) explicada por el modelo (entre 0 y 1).  \n",
    "  - \\(R^2 = 1\\): el modelo explica el 100% de la variación; \\(R^2 = 0\\): no explica variación.\n",
    "\n",
    "### Tabla resumen\n",
    "| Variable | Nombre | Significado | Interpretación práctica |\n",
    "|---|---|---|---|\n",
    "| `b_skl` | Pendiente | Cambio en \\(Y\\) por unidad de \\(X\\) | Cada hora extra mejora la nota en ~\\(b\\) puntos |\n",
    "| `a_skl` | Intersección | \\(Y\\) cuando \\(X=0\\) | Nota estimada sin estudiar |\n",
    "| `r2_skl` | R² | Calidad de ajuste (0–1) | Qué tanto explican las horas la nota |\n",
    "\n",
    "> En el modelo lineal \\(\\hat{Y} = a + bX\\), `a_skl` es \\(a\\) y `b_skl` es \\(b\\). `r2_skl` evalúa qué tan bien esa recta se ajusta a los datos.\n"
   ]
  }
 ],
 "metadata": {
  "language_info": {
   "name": "python"
  }
 },
 "nbformat": 4,
 "nbformat_minor": 5
}
