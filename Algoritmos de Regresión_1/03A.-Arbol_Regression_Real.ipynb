{
  "cells": [
    {
      "cell_type": "markdown",
      "metadata": {},
      "source": [
        "# Árbol de Decisión de Regresión — Dataset Real (Diabetes)\n",
        "\n",
        "Este cuaderno entrena y evalúa un **árbol de decisión de regresión** usando el dataset de **diabetes** de scikit-learn.\n",
        "\n",
        "Incluye:\n",
        "- Exploración y limpieza (capado de outliers por IQR e imputación de faltantes)\n",
        "- División train/test\n",
        "- Modelo base y **tuning** con `GridSearchCV`\n",
        "- **Curva de aprendizaje**, **importancias** y **visualización del árbol** (truncado)\n",
        "\n",
        "> Nota: Se usa `matplotlib` sin estilos predefinidos y una figura por gráfico.\n"
      ]
    },
    {
      "cell_type": "code",
      "execution_count": null,
      "metadata": {},
      "outputs": [],
      "source": [
        "import numpy as np\n",
        "import pandas as pd\n",
        "import matplotlib.pyplot as plt\n",
        "from sklearn.datasets import load_diabetes\n",
        "from sklearn.model_selection import train_test_split, GridSearchCV, learning_curve\n",
        "from sklearn.impute import SimpleImputer\n",
        "from sklearn.tree import DecisionTreeRegressor, plot_tree\n",
        "from sklearn.pipeline import Pipeline\n",
        "from sklearn.metrics import mean_absolute_error, mean_squared_error, r2_score\n",
        "from sklearn.compose import ColumnTransformer\n",
        "import math\n",
        "np.random.seed(42)\n"
      ]
    },
    {
      "cell_type": "markdown",
      "metadata": {},
      "source": [
        "## Funciones auxiliares"
      ]
    },
    {
      "cell_type": "code",
      "execution_count": null,
      "metadata": {},
      "outputs": [],
      "source": [
        "def cap_outliers_iqr(df, cols):\n",
        "    capped = df.copy()\n",
        "    for c in cols:\n",
        "        q1 = capped[c].quantile(0.25)\n",
        "        q3 = capped[c].quantile(0.75)\n",
        "        iqr = q3 - q1\n",
        "        lower = q1 - 1.5 * iqr\n",
        "        upper = q3 + 1.5 * iqr\n",
        "        capped[c] = np.clip(capped[c], lower, upper)\n",
        "    return capped\n",
        "\n",
        "def report_metrics(y_true, y_pred, label=\"\"):\n",
        "    mae = mean_absolute_error(y_true, y_pred)\n",
        "    mse = mean_squared_error(y_true, y_pred)\n",
        "    rmse = math.sqrt(mse)\n",
        "    r2 = r2_score(y_true, y_pred)\n",
        "    print(f\"{label}MAE:  {mae:.4f}\")\n",
        "    print(f\"{label}MSE:  {mse:.4f}\")\n",
        "    print(f\"{label}RMSE: {rmse:.4f}\")\n",
        "    print(f\"{label}R²:   {r2:.4f}\")\n",
        "\n",
        "def plot_learning_curve(estimator, X, y, title=\"Curva de aprendizaje\"):\n",
        "    train_sizes, train_scores, test_scores = learning_curve(\n",
        "        estimator, X, y, cv=5, scoring=\"neg_mean_squared_error\", n_jobs=None,\n",
        "        train_sizes=np.linspace(0.1, 1.0, 5), shuffle=True, random_state=42\n",
        "    )\n",
        "    train_rmse = np.sqrt(-train_scores)\n",
        "    test_rmse = np.sqrt(-test_scores)\n",
        "    plt.figure()\n",
        "    plt.title(title)\n",
        "    plt.xlabel(\"Tamaño de entrenamiento\")\n",
        "    plt.ylabel(\"RMSE (CV)\")\n",
        "    plt.plot(train_sizes, train_rmse.mean(axis=1), marker='o', label=\"Entrenamiento\")\n",
        "    plt.plot(train_sizes, test_rmse.mean(axis=1), marker='s', label=\"Validación CV\")\n",
        "    plt.legend()\n",
        "    plt.show()\n"
      ]
    },
    {
      "cell_type": "markdown",
      "metadata": {},
      "source": [
        "## Carga y limpieza de datos"
      ]
    },
    {
      "cell_type": "code",
      "execution_count": null,
      "metadata": {},
      "outputs": [],
      "source": [
        "data = load_diabetes()\n",
        "X = pd.DataFrame(data.data, columns=data.feature_names)\n",
        "y = pd.Series(data.target, name=\"target\")\n",
        "print(\"Forma de X:\", X.shape)\n",
        "print(\"Faltantes en X:\\n\", X.isna().sum())\n",
        "print(\"Faltantes en y:\", y.isna().sum())\n",
        "\n",
        "X_capped = cap_outliers_iqr(X, X.columns)\n",
        "\n",
        "X_train, X_test, y_train, y_test = train_test_split(X_capped, y, test_size=0.2, random_state=42)\n",
        "\n",
        "num_features = list(X_train.columns)\n",
        "preprocess = ColumnTransformer(\n",
        "    transformers=[(\"num\", SimpleImputer(strategy=\"median\"), num_features)]\n",
        ")\n"
      ]
    },
    {
      "cell_type": "markdown",
      "metadata": {},
      "source": [
        "## Modelo base"
      ]
    },
    {
      "cell_type": "code",
      "execution_count": null,
      "metadata": {},
      "outputs": [],
      "source": [
        "from sklearn.pipeline import Pipeline\n",
        "pipe = Pipeline([\n",
        "    (\"prep\", preprocess),\n",
        "    (\"model\", DecisionTreeRegressor(random_state=42))\n",
        "])\n",
        "\n",
        "pipe.fit(X_train, y_train)\n",
        "pred_train = pipe.predict(X_train)\n",
        "pred_test = pipe.predict(X_test)\n",
        "\n",
        "print(\"Rendimiento base:\")\n",
        "report_metrics(y_train, pred_train, label=\"Train \")\n",
        "report_metrics(y_test, pred_test, label=\"Test  \")\n"
      ]
    },
    {
      "cell_type": "markdown",
      "metadata": {},
      "source": [
        "## Curva de aprendizaje"
      ]
    },
    {
      "cell_type": "code",
      "execution_count": null,
      "metadata": {},
      "outputs": [],
      "source": [
        "plot_learning_curve(DecisionTreeRegressor(random_state=42), X_train, y_train, title=\"Curva de aprendizaje — Árbol base (Diabetes)\")\n"
      ]
    },
    {
      "cell_type": "markdown",
      "metadata": {},
      "source": [
        "## Tuning con GridSearchCV"
      ]
    },
    {
      "cell_type": "code",
      "execution_count": null,
      "metadata": {},
      "outputs": [],
      "source": [
        "param_grid = {\n",
        "    \"model__max_depth\": [None, 3, 5, 10],\n",
        "    \"model__min_samples_split\": [2, 5, 10],\n",
        "    \"model__min_samples_leaf\": [1, 2, 5],\n",
        "    \"model__ccp_alpha\": [0.0, 0.001, 0.01]\n",
        "}\n",
        "grid = GridSearchCV(pipe, param_grid, cv=5, scoring=\"neg_mean_squared_error\")\n",
        "grid.fit(X_train, y_train)\n",
        "print(\"Mejores parámetros:\", grid.best_params_)\n",
        "\n",
        "best_model = grid.best_estimator_\n",
        "pred_train_best = best_model.predict(X_train)\n",
        "pred_test_best = best_model.predict(X_test)\n",
        "print(\"\\nRendimiento con tuning:\")\n",
        "report_metrics(y_train, pred_train_best, label=\"Train \")\n",
        "report_metrics(y_test, pred_test_best, label=\"Test  \")\n"
      ]
    },
    {
      "cell_type": "markdown",
      "metadata": {},
      "source": [
        "## Importancias y árbol truncado"
      ]
    },
    {
      "cell_type": "code",
      "execution_count": null,
      "metadata": {},
      "outputs": [],
      "source": [
        "final_tree = best_model.named_steps[\"model\"]\n",
        "importances = final_tree.feature_importances_\n",
        "plt.figure()\n",
        "order = np.argsort(importances)[::-1]\n",
        "plt.bar(range(len(importances)), importances[order])\n",
        "plt.xticks(range(len(importances)), np.array(num_features)[order], rotation=45, ha='right')\n",
        "plt.title(\"Importancia de características — Diabetes\")\n",
        "plt.tight_layout()\n",
        "plt.show()\n",
        "\n",
        "plt.figure(figsize=(10, 6))\n",
        "plot_tree(final_tree, max_depth=3, filled=True, feature_names=num_features)\n",
        "plt.title(\"Árbol de decisión (truncado)\")\n",
        "plt.show()\n"
      ]
    },
    {
      "cell_type": "markdown",
      "metadata": {},
      "source": [
        "## Conclusiones\n",
        "- El tuning suele mejorar la generalización.\n",
        "- El capado de outliers e imputación hacen el flujo más robusto.\n",
        "- Las importancias y la visualización del árbol ayudan a interpretar.\n"
      ]
    },
    {
      "cell_type": "markdown",
      "metadata": {},
      "source": [
        "## 🧠 Interpretación automática del modelo\n",
        "Esta celda resume el desempeño del modelo con un texto interpretativo y detecta posibles signos de sobreajuste o subajuste.\n"
      ]
    },
    {
      "cell_type": "code",
      "execution_count": null,
      "metadata": {},
      "outputs": [],
      "source": [
        "\n",
        "from sklearn.metrics import mean_absolute_error, mean_squared_error, r2_score\n",
        "import math\n",
        "\n",
        "# Aseguramos predicciones con el mejor modelo\n",
        "y_pred_train_best = best_model.predict(X_train)\n",
        "y_pred_test_best  = best_model.predict(X_test)\n",
        "\n",
        "# Métricas\n",
        "mae_tr = mean_absolute_error(y_train, y_pred_train_best)\n",
        "mse_tr = mean_squared_error(y_train, y_pred_train_best)\n",
        "rmse_tr = math.sqrt(mse_tr)\n",
        "r2_tr = r2_score(y_train, y_pred_train_best)\n",
        "\n",
        "mae_te = mean_absolute_error(y_test, y_pred_test_best)\n",
        "mse_te = mean_squared_error(y_test, y_pred_test_best)\n",
        "rmse_te = math.sqrt(mse_te)\n",
        "r2_te = r2_score(y_test, y_pred_test_best)\n",
        "\n",
        "print(\"Resumen de métricas (mejor modelo):\")\n",
        "print(f\"Train -> MAE: {mae_tr:.3f} | RMSE: {rmse_tr:.3f} | R²: {r2_tr:.4f}\")\n",
        "print(f\"Test  -> MAE: {mae_te:.3f} | RMSE: {rmse_te:.3f} | R²: {r2_te:.4f}\\n\")\n",
        "\n",
        "# Interpretación en texto\n",
        "def nivel(valor, low, mid, high):\n",
        "    # Helper para categorizar R2\n",
        "    if valor < low: return \"bajo\"\n",
        "    if valor < mid: return \"medio\"\n",
        "    if valor < high: return \"bueno\"\n",
        "    return \"muy bueno\"\n",
        "\n",
        "gap = r2_tr - r2_te\n",
        "nivel_test = nivel(r2_te, 0.2, 0.5, 0.7)\n",
        "\n",
        "print(\"🧠 Interpretación:\")\n",
        "print(f\"- El modelo explica aproximadamente el {r2_te*100:.1f}% de la variabilidad en el conjunto de prueba (R² {nivel_test}).\")\n",
        "print(f\"- El error promedio absoluto (MAE) en prueba es {mae_te:.2f}, y el RMSE es {rmse_te:.2f}.\")\n",
        "if gap > 0.15:\n",
        "    print(f\"- Existe indicio de **sobreajuste** (diferencia Train-Test de R² = {gap:.2f}). Considera aumentar regularización (max_depth menor, mayor min_samples_leaf/split, o ccp_alpha), o más datos.\")\n",
        "elif gap < -0.05:\n",
        "    print(f\"- El desempeño en prueba es **mejor** que en entrenamiento (gap R² = {gap:.2f}); podría indicar que el train es más ruidoso o que hubo casualidad estadística. Revisa la validación cruzada.\")\n",
        "else:\n",
        "    print(f\"- La generalización es **razonable** (gap R² = {gap:.2f}).\")\n",
        "print(\"- Si necesitas mayor robustez, compara con RandomForestRegressor o GradientBoostingRegressor.\")\n"
      ]
    },
    {
      "cell_type": "markdown",
      "metadata": {},
      "source": [
        "## 📊 Comparativa de métricas — Antes vs. Después del *tuning*\n",
        "La siguiente tabla resume **MAE**, **RMSE** y **R²** para el modelo base y el mejor modelo tras *GridSearchCV*, en **train** y **test**.\n"
      ]
    }
  ],
  "metadata": {
    "kernelspec": {
      "display_name": "Python 3",
      "language": "python",
      "name": "python3"
    },
    "language_info": {
      "codemirror_mode": {
        "name": "ipython",
        "version": 3
      },
      "file_extension": ".py",
      "mimetype": "text/x-python",
      "name": "python",
      "nbconvert_exporter": "python",
      "pygments_lexer": "ipython3",
      "version": "3.13.7"
    }
  },
  "nbformat": 4,
  "nbformat_minor": 5
}
