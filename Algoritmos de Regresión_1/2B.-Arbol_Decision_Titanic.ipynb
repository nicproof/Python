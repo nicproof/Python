{
 "cells": [
  {
   "cell_type": "markdown",
   "id": "cb4a278f",
   "metadata": {},
   "source": [
    "# 🌳 Árbol de decisión con el dataset Titanic\n",
    "Ejercicio sencillo en Python usando `scikit-learn`, `pandas` y `seaborn`. En este cuaderno entrenaremos un modelo para predecir si un pasajero del Titanic sobrevivió."
   ]
  },
  {
   "cell_type": "code",
   "execution_count": null,
   "id": "8588a564",
   "metadata": {},
   "outputs": [],
   "source": [
    "\n",
    "import pandas as pd\n",
    "import seaborn as sns\n",
    "from sklearn.model_selection import train_test_split\n",
    "from sklearn.tree import DecisionTreeClassifier, plot_tree\n",
    "from sklearn.metrics import accuracy_score\n",
    "import matplotlib.pyplot as plt\n"
   ]
  },
  {
   "cell_type": "markdown",
   "id": "17e53a01",
   "metadata": {},
   "source": [
    "## 📥 Cargar el dataset Titanic"
   ]
  },
  {
   "cell_type": "code",
   "execution_count": null,
   "id": "aaa0759c",
   "metadata": {},
   "outputs": [],
   "source": [
    "\n",
    "# Cargar dataset Titanic desde seaborn\n",
    "titanic = sns.load_dataset(\"titanic\")\n",
    "\n",
    "# Ver las primeras filas\n",
    "titanic.head()\n"
   ]
  },
  {
   "cell_type": "markdown",
   "id": "66706802",
   "metadata": {},
   "source": [
    "## 🧹 Preparar los datos"
   ]
  },
  {
   "cell_type": "code",
   "execution_count": null,
   "id": "3ae5eb74",
   "metadata": {},
   "outputs": [],
   "source": [
    "\n",
    "# Seleccionamos algunas columnas relevantes\n",
    "datos = titanic[[\"survived\", \"pclass\", \"sex\", \"age\", \"fare\"]].dropna()\n",
    "\n",
    "# Convertimos la variable 'sex' a numérica\n",
    "datos[\"sex\"] = datos[\"sex\"].map({\"male\": 0, \"female\": 1})\n",
    "\n",
    "# Variables (X) y etiqueta (y)\n",
    "X = datos[[\"pclass\", \"sex\", \"age\", \"fare\"]]\n",
    "y = datos[\"survived\"]\n",
    "\n",
    "# Verificamos que todo esté correcto\n",
    "datos.head()\n"
   ]
  },
  {
   "cell_type": "markdown",
   "id": "adef0a8b",
   "metadata": {},
   "source": [
    "## ✂️ Dividir los datos en entrenamiento y prueba"
   ]
  },
  {
   "cell_type": "code",
   "execution_count": null,
   "id": "785e974d",
   "metadata": {},
   "outputs": [],
   "source": [
    "\n",
    "X_train, X_test, y_train, y_test = train_test_split(\n",
    "    X, y, test_size=0.3, random_state=42\n",
    ")\n"
   ]
  },
  {
   "cell_type": "markdown",
   "id": "9f4fc9d4",
   "metadata": {},
   "source": [
    "## 🌳 Crear y entrenar el modelo"
   ]
  },
  {
   "cell_type": "code",
   "execution_count": null,
   "id": "26d35a49",
   "metadata": {},
   "outputs": [],
   "source": [
    "\n",
    "# Creamos el árbol de decisión\n",
    "modelo = DecisionTreeClassifier(random_state=42, max_depth=4)\n",
    "modelo.fit(X_train, y_train)\n"
   ]
  },
  {
   "cell_type": "markdown",
   "id": "acc30e36",
   "metadata": {},
   "source": [
    "## 📊 Evaluar el modelo"
   ]
  },
  {
   "cell_type": "code",
   "execution_count": null,
   "id": "3bb6d3fb",
   "metadata": {},
   "outputs": [],
   "source": [
    "\n",
    "y_pred = modelo.predict(X_test)\n",
    "print(\"Precisión del modelo:\", accuracy_score(y_test, y_pred))\n"
   ]
  },
  {
   "cell_type": "markdown",
   "id": "c4371447",
   "metadata": {},
   "source": [
    "## 🌿 Visualizar el árbol de decisión"
   ]
  },
  {
   "cell_type": "code",
   "execution_count": null,
   "id": "382fae50",
   "metadata": {},
   "outputs": [],
   "source": [
    "\n",
    "plt.figure(figsize=(12, 6))\n",
    "plot_tree(\n",
    "    modelo,\n",
    "    filled=True,\n",
    "    feature_names=X.columns,\n",
    "    class_names=[\"No sobrevivió\", \"Sobrevivió\"]\n",
    ")\n",
    "plt.show()\n"
   ]
  },
  {
   "cell_type": "markdown",
   "id": "ea7c6a70",
   "metadata": {},
   "source": [
    "✅ **Resultado esperado:**\n",
    "- Precisión entre 0.75 y 0.85 (puede variar ligeramente)\n",
    "- Visualización del árbol mostrando las decisiones según clase, sexo, edad y tarifa."
   ]
  }
 ],
 "metadata": {},
 "nbformat": 4,
 "nbformat_minor": 5
}
