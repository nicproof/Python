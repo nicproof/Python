{
 "cells": [
  {
   "cell_type": "markdown",
   "id": "e75ffb79",
   "metadata": {},
   "source": [
    "\n",
    "# Referencia rápida: **lo que puedes usar hasta bucles** (IFCD104)\n",
    "\n",
    "Esta chuleta lista **construcciones** y **funciones** que están dentro del temario visto **hasta bucles**.\n",
    "\n",
    "## Construcciones del lenguaje\n",
    "- **Asignación**: `x = valor`\n",
    "- **Condicionales**: `if`, `elif`, `else`\n",
    "- **Bucles**: `for`, `while`, `break`, `continue`, `pass`\n",
    "- **Rango**: `range(inicio, fin[, paso])` (para `for`)\n",
    "- **Operadores**: aritméticos `+ - * / // % **`, comparación `== != < <= > >=`,\n",
    "  lógicos `and or not`, pertenencia `in`, identidad `is`\n",
    "- **Cadenas**: puedes recorrer una `str` con `for` y comparar caracteres\n",
    "\n",
    "## Funciones/builtins permitidos (vista actual)\n",
    "- `print(...)` — mostrar resultados\n",
    "- `type(obj)` — inspeccionar tipo\n",
    "- Conversiones: `int(x)`, `float(x)`, `str(x)`, `bool(x)`\n",
    "- Generación de rangos: `range(...)`\n",
    "\n",
    "> Nota: evitamos aún utilidades no vistas como `enumerate`, `sum`, `len`, métodos de lista (`append`, etc.).\n"
   ]
  },
  {
   "cell_type": "markdown",
   "id": "91633777",
   "metadata": {},
   "source": [
    "## Ejemplos mínimos"
   ]
  },
  {
   "cell_type": "code",
   "execution_count": 3,
   "id": "c3c2e202",
   "metadata": {},
   "outputs": [
    {
     "name": "stdout",
     "output_type": "stream",
     "text": [
      "1\n",
      "2\n",
      "3\n",
      "4\n",
      "5\n",
      "índice de 'o': 1\n",
      "12 es múltiplo de 6\n"
     ]
    }
   ],
   "source": [
    "\n",
    "# for con range\n",
    "for i in range(1, 6):\n",
    "    print(i)\n",
    "\n",
    "# contador manual sin enumerate\n",
    "s = \"hola\"\n",
    "i = 0\n",
    "for ch in s:\n",
    "    if ch == 'o':\n",
    "        print(\"índice de 'o':\", i)\n",
    "    i += 1\n",
    "\n",
    "# condicionales y operadores\n",
    "x = 12\n",
    "if (x % 3 == 0) and (x % 2 == 0):\n",
    "    print(f\"{x} es múltiplo de 6\")\n"
   ]
  },
  {
   "cell_type": "code",
   "execution_count": 3,
   "id": "950c794f-3510-424f-9402-a65e37d78ceb",
   "metadata": {},
   "outputs": [
    {
     "name": "stdout",
     "output_type": "stream",
     "text": [
      "7 x 1 = 7\n",
      "7 x 2 = 14\n",
      "7 x 3 = 21\n",
      "7 x 4 = 28\n",
      "7 x 5 = 35\n",
      "7 x 6 = 42\n",
      "7 x 7 = 49\n",
      "7 x 8 = 56\n",
      "7 x 9 = 63\n",
      "7 x 10 = 70\n"
     ]
    }
   ],
   "source": [
    "for c in range (1,11):\n",
    "    resultado = c * 7\n",
    "    print(f\"7 x {c} = {resultado}\")"
   ]
  },
  {
   "cell_type": "code",
   "execution_count": 6,
   "id": "6fbe1089-afca-483a-b8ec-e99f8db4df95",
   "metadata": {},
   "outputs": [
    {
     "name": "stdout",
     "output_type": "stream",
     "text": [
      "7 x 0 = 0\n",
      "7 x 1 = 7\n",
      "7 x 2 = 14\n",
      "7 x 3 = 21\n",
      "7 x 4 = 28\n",
      "7 x 5 = 35\n",
      "7 x 6 = 42\n",
      "7 x 7 = 49\n",
      "7 x 8 = 56\n",
      "7 x 9 = 63\n"
     ]
    }
   ],
   "source": [
    "for c in range (10):\n",
    "    resultado = c * 7\n",
    "    print(f\"7 x {c} = {resultado}\")"
   ]
  }
 ],
 "metadata": {
  "kernelspec": {
   "display_name": "Python [conda env:base] *",
   "language": "python",
   "name": "conda-base-py"
  },
  "language_info": {
   "codemirror_mode": {
    "name": "ipython",
    "version": 3
   },
   "file_extension": ".py",
   "mimetype": "text/x-python",
   "name": "python",
   "nbconvert_exporter": "python",
   "pygments_lexer": "ipython3",
   "version": "3.13.5"
  }
 },
 "nbformat": 4,
 "nbformat_minor": 5
}
