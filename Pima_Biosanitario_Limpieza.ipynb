{
  "cells": [
    {
      "cell_type": "markdown",
      "metadata": {},
      "source": [
        "# Ejercicio biosanitario: Diabetes (Pima) — Carga, limpieza y exportación\n",
        "\n",
        "*Actualizado: 05/10/2025*\n",
        "\n",
        "Pasos:\n",
        "1) Cargar dataset desde URL.\n",
        "2) Limpiar (ceros→NaN en variables clínicas, imputación mediana, duplicados, nombres).\n",
        "3) Crear `bmi_cat` y `glucose_cat`.\n",
        "4) Guardar en CSV y Excel e imprimir resumen.\n",
        "\n",
        "> Aviso: categorías de glucosa solo educativas; no usar clínicamente.\n"
      ]
    },
    {
      "cell_type": "markdown",
      "metadata": {},
      "source": [
        "## 0) Preparación"
      ]
    },
    {
      "cell_type": "code",
      "execution_count": null,
      "metadata": {},
      "outputs": [],
      "source": [
        "!pip install -q pandas numpy openpyxl"
      ]
    },
    {
      "cell_type": "code",
      "execution_count": null,
      "metadata": {},
      "outputs": [],
      "source": [
        "from pathlib import Path\n",
        "import numpy as np\n",
        "import pandas as pd\n",
        "import matplotlib.pyplot as plt\n",
        "URL = 'https://raw.githubusercontent.com/plotly/datasets/master/diabetes.csv'\n"
      ]
    },
    {
      "cell_type": "markdown",
      "metadata": {},
      "source": [
        "## 1) Carga del dataset"
      ]
    },
    {
      "cell_type": "code",
      "execution_count": null,
      "metadata": {},
      "outputs": [],
      "source": [
        "df = pd.read_csv(URL)\n",
        "print('== CARGA INICIAL ==')\n",
        "#nos devuelve el total de filas y columnas de nuestro dataset\n",
        "print('Shape:', df.shape)\n",
        "df.head() #indica cuantas filas quiero mostrar. Si lo dejamos vacío por defecto son 5\n"
      ]
    },
    {
      "cell_type": "markdown",
      "metadata": {},
      "source": [
        "## 2) Limpieza"
      ]
    },
    {
      "cell_type": "code",
      "execution_count": null,
      "metadata": {},
      "outputs": [],
      "source": [
        "#Esto limpia los nombres de las columnas del DataFrame df:\n",
        "# str.strip() → elimina espacios al inicio y final.\n",
        "# str.lower() → convierte todo a minúsculas.\n",
        "#str.replace(' ', '_') → reemplaza los espacios por guiones bajos _\n",
        "\n",
        "df.columns = (df.columns.str.strip().str.lower().str.replace(' ', '_', regex=False))\n",
        "\n",
        "#Le indico de qué columnas quiero que se comprueben los datos\n",
        "to_fix = ['glucose','bloodpressure','skinthickness','insulin','bmi']\n",
        "\n",
        "#En esas columnas, reemplaza los ceros por valores faltantes (NaN).\n",
        "#Esto es común en datos médicos donde un 0 no tiene sentido (ej. presión sanguínea no puede ser 0).\n",
        "for c in to_fix:\n",
        "    df[c] = df[c].replace(0, np.nan)\n",
        "\n",
        "#Muestra cuántos valores NaN tiene cada una de esas columnas antes de “rellenarlos”.\n",
        "print('Nulos antes de imputar:\\n', df[to_fix].isna().sum(), '\\n')\n",
        "\n",
        "#Rellena los NaN (antes ceros) con la mediana de cada columna.\n",
        "for c in to_fix:\n",
        "    df[c] = df[c].fillna(df[c].median())\n",
        "\n",
        "#Quita las filas duplicadas y muestra cuántas fueron eliminadas.\n",
        "#Aquí se guarda en before cuántas filas tenía el DataFrame antes de eliminar duplicados.\n",
        "before = df.shape[0]\n",
        "#El método .drop_duplicates() elimina filas duplicadas completas del DataFrame.\n",
        "#Por defecto, considera duplicadas aquellas filas donde todos los valores son idénticos en cada columna.\n",
        "#Devuelve un nuevo DataFrame sin duplicados.\n",
        "df = df.drop_duplicates()\n",
        "removed = before - df.shape[0]\n",
        "print('Duplicados eliminados:', removed)\n",
        "df.head()\n"
      ]
    },
    {
      "cell_type": "markdown",
      "metadata": {},
      "source": [
        "## 3) Columnas derivadas"
      ]
    },
    {
      "cell_type": "code",
      "execution_count": null,
      "metadata": {},
      "outputs": [],
      "source": [
        "#A partir de la tabla original limpia de datos, estamos creando 3 columnas nuevas\n",
        "def bmi_category(x):\n",
        "    if x < 18.5: return 'bajo_peso'\n",
        "    if x < 25: return 'normal'\n",
        "    if x < 30: return 'sobrepeso'\n",
        "    return 'obesidad'\n",
        "\n",
        "def glucose_category(g):\n",
        "    if g < 100: return 'normal'\n",
        "    if g < 126: return 'prediabetes'\n",
        "    return 'diabetes'\n",
        "\n",
        "df['bmi_cat'] = df['bmi'].apply(bmi_category)\n",
        "df['glucose_cat'] = df['glucose'].apply(glucose_category)\n",
        "df[['bmi','bmi_cat','glucose','glucose_cat']].head()\n",
        "\n",
        "print (df.head())"
      ]
    },
    {
      "cell_type": "markdown",
      "metadata": {},
      "source": [
        "## 4) Guardar CSV y Excel"
      ]
    },
    {
      "cell_type": "code",
      "execution_count": null,
      "metadata": {},
      "outputs": [],
      "source": [
        "Path('data').mkdir(exist_ok=True)\n",
        "df.to_csv('data/pima_diabetes_limpio.csv', index=False, encoding='utf-8-sig')\n",
        "df.to_excel('data/pima_diabetes_limpio.xlsx', index=False)\n",
        "print('Guardado en data/pima_diabetes_limpio.csv y .xlsx')\n"
      ]
    },
    {
      "cell_type": "markdown",
      "id": "7c5c330f",
      "metadata": {},
      "source": [
        "## 5) Resumen"
      ]
    },
    {
      "cell_type": "code",
      "execution_count": null,
      "metadata": {},
      "outputs": [],
      "source": [
        "print('Shape final:', df.shape)\n",
        "print('\\nNulos tras imputar:')\n",
        "print(df[['glucose','bloodpressure','skinthickness','insulin','bmi']].isna().sum())\n",
        "print('\\nConteo bmi_cat:')\n",
        "print(df['bmi_cat'].value_counts())\n",
        "print('\\nConteo glucose_cat:')\n",
        "print(df['glucose_cat'].value_counts())\n",
        "df.describe(include='all')\n"
      ]
    },
    {
      "cell_type": "markdown",
      "id": "25641157",
      "metadata": {},
      "source": [
        "## 6) Gráfico Barras Conteo y Porcentaje\n"
      ]
    },
    {
      "cell_type": "code",
      "execution_count": null,
      "id": "b57b2e97",
      "metadata": {},
      "outputs": [],
      "source": [
        "\n",
        "\n",
        "import matplotlib.pyplot as plt\n",
        "\n",
        "# Conteos y porcentajes\n",
        "counts = df['bmi_cat'].value_counts().sort_index()\n",
        "total = counts.sum()\n",
        "\n",
        "# Crear figura\n",
        "plt.figure(figsize=(8,5))  # 🔹 tamaño más amplio\n",
        "ax = counts.plot(kind='bar', color='skyblue', edgecolor='black')  # 🔹 color suave y bordes\n",
        "\n",
        "# Título y etiquetas\n",
        "plt.title('Frecuencia por categoría de BMI', fontsize=14, fontweight='bold', pad=15)\n",
        "plt.xlabel('Categoría BMI', fontsize=12)\n",
        "plt.ylabel('Conteo', fontsize=12)\n",
        "\n",
        "# 🔹 Rotación y alineación del texto en el eje X\n",
        "plt.xticks(rotation=45, ha='right')\n",
        "\n",
        "# Etiquetas encima de cada barra\n",
        "for p in ax.patches:\n",
        "    height = p.get_height()\n",
        "    pct = 100 * height / total if total else 0\n",
        "    ax.annotate(f'{int(height)}\\n{pct:.1f}%',\n",
        "                (p.get_x() + p.get_width()/2, height),\n",
        "                ha='center', va='bottom',\n",
        "                fontsize=10, color='black',\n",
        "                xytext=(0, 5), textcoords='offset points')  # 🔹 separa el texto de la barra\n",
        "\n",
        "# 🔹 Ajustar márgenes y cuadrícula\n",
        "plt.grid(axis='y', linestyle='--', alpha=0.7)\n",
        "plt.tight_layout()\n",
        "\n",
        "plt.show()\n"
      ]
    }
  ],
  "metadata": {
    "kernelspec": {
      "display_name": "Python 3",
      "language": "python",
      "name": "python3"
    },
    "language_info": {
      "codemirror_mode": {
        "name": "ipython",
        "version": 3
      },
      "file_extension": ".py",
      "mimetype": "text/x-python",
      "name": "python",
      "nbconvert_exporter": "python",
      "pygments_lexer": "ipython3",
      "version": "3.13.7"
    }
  },
  "nbformat": 4,
  "nbformat_minor": 5
}
