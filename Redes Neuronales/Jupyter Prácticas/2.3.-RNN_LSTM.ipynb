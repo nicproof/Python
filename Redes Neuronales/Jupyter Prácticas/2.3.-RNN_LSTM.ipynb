{
 "cells": [
  {
   "cell_type": "markdown",
   "id": "5391dd5c",
   "metadata": {},
   "source": [
    "\n",
    "# IFCD104 – Tema 2: RNN (LSTM) paso a paso en Python\n",
    "\n",
    "Este cuaderno implementa una **Red Neuronal Recurrente (LSTM)** para **clasificar series temporales sintéticas** en dos clases:\n",
    "- **Clase 0**: señal seno de **baja frecuencia** + ruido.  \n",
    "- **Clase 1**: señal seno de **alta frecuencia** + ruido.  \n",
    "\n",
    "El objetivo es didáctico: mostrar cómo una LSTM **aprende dependencias temporales**.\n",
    "Incluye **generación de datos**, **entrenamiento**, **evaluación**, **matriz de confusión**, **ROC-AUC** y **predicciones de ejemplo**.\n"
   ]
  },
  {
   "cell_type": "markdown",
   "id": "787c2417",
   "metadata": {},
   "source": [
    "\n",
    "## 1) Importaciones\n"
   ]
  },
  {
   "cell_type": "code",
   "execution_count": null,
   "id": "7be4c2cc",
   "metadata": {},
   "outputs": [],
   "source": [
    "\n",
    "import numpy as np\n",
    "import matplotlib.pyplot as plt\n",
    "\n",
    "from sklearn.model_selection import train_test_split\n",
    "from sklearn.metrics import accuracy_score, classification_report, confusion_matrix, ConfusionMatrixDisplay, roc_curve, auc\n",
    "\n",
    "import tensorflow as tf\n",
    "from tensorflow import keras\n",
    "from tensorflow.keras import layers\n"
   ]
  },
  {
   "cell_type": "markdown",
   "id": "67c6704d",
   "metadata": {},
   "source": [
    "\n",
    "## 2) Generación del dataset sintético (series temporales)\n",
    "- Longitud fija de secuencia: **T = 100** pasos.\n",
    "- Amplitud 1, ruido gaussiano leve.\n",
    "- Frecuencias: `f_low=1`, `f_high=5` ciclos por secuencia.\n"
   ]
  },
  {
   "cell_type": "code",
   "execution_count": null,
   "id": "2fcac8a1",
   "metadata": {},
   "outputs": [],
   "source": [
    "\n",
    "rng = np.random.default_rng(42)\n",
    "\n",
    "T = 100\n",
    "n_samples_per_class = 2000\n",
    "\n",
    "def make_signals(n, freq, T=100, noise_std=0.2):\n",
    "    X = []\n",
    "    for _ in range(n):\n",
    "        phase = rng.uniform(0, 2*np.pi)\n",
    "        t = np.linspace(0, 1, T)\n",
    "        signal = np.sin(2*np.pi*freq*t + phase)\n",
    "        signal += rng.normal(0, noise_std, size=T)\n",
    "        X.append(signal.astype(np.float32))\n",
    "    return np.array(X, dtype=np.float32)\n",
    "\n",
    "X0 = make_signals(n_samples_per_class, freq=1, T=T)  # baja frecuencia\n",
    "X1 = make_signals(n_samples_per_class, freq=5, T=T)  # alta frecuencia\n",
    "\n",
    "y0 = np.zeros(len(X0), dtype=np.int32)\n",
    "y1 = np.ones(len(X1), dtype=np.int32)\n",
    "\n",
    "X = np.concatenate([X0, X1], axis=0)\n",
    "y = np.concatenate([y0, y1], axis=0)\n",
    "\n",
    "# Mezclar\n",
    "idx = rng.permutation(len(X))\n",
    "X, y = X[idx], y[idx]\n",
    "\n",
    "# RNN/LSTM espera forma (N, T, features). Aquí features=1\n",
    "X = X[..., np.newaxis]\n",
    "\n",
    "# Split train/val/test\n",
    "X_train_temp, X_test, y_train_temp, y_test = train_test_split(X, y, test_size=0.2, random_state=42, stratify=y)\n",
    "X_train, X_val, y_train, y_val = train_test_split(X_train_temp, y_train_temp, test_size=0.2, random_state=42, stratify=y_train_temp)\n",
    "\n",
    "X.shape, X_train.shape, X_val.shape, X_test.shape\n"
   ]
  },
  {
   "cell_type": "markdown",
   "id": "0b1f5ccc",
   "metadata": {},
   "source": [
    "\n",
    "## 3) Visualización de ejemplos\n"
   ]
  },
  {
   "cell_type": "code",
   "execution_count": null,
   "id": "1dc13c0c",
   "metadata": {},
   "outputs": [],
   "source": [
    "\n",
    "plt.figure(figsize=(8,3))\n",
    "for i, (xx, yy) in enumerate(zip(X[:6], y[:6])):\n",
    "    plt.plot(xx.squeeze(), label=f\"y={yy}\")\n",
    "plt.title(\"Muestras de serie temporal (primeras 6)\")\n",
    "plt.xlabel(\"Tiempo\")\n",
    "plt.ylabel(\"Amplitud\")\n",
    "plt.show()\n"
   ]
  },
  {
   "cell_type": "markdown",
   "id": "c2e58903",
   "metadata": {},
   "source": [
    "\n",
    "## 4) Definición del modelo LSTM\n",
    "Arquitectura sencilla:\n",
    "- `LSTM(32)` → `Dropout(0.2)` → `Dense(1, activation='sigmoid')`\n"
   ]
  },
  {
   "cell_type": "code",
   "execution_count": null,
   "id": "b1b77be6",
   "metadata": {},
   "outputs": [],
   "source": [
    "\n",
    "inputs = keras.Input(shape=(T, 1))\n",
    "x = layers.LSTM(32, return_sequences=False)(inputs)\n",
    "x = layers.Dropout(0.2)(x)\n",
    "outputs = layers.Dense(1, activation='sigmoid')(x)\n",
    "\n",
    "model = keras.Model(inputs, outputs, name=\"lstm_freq_classifier\")\n",
    "model.summary()\n"
   ]
  },
  {
   "cell_type": "markdown",
   "id": "f97cbcc1",
   "metadata": {},
   "source": [
    "\n",
    "## 5) Compilación y entrenamiento\n"
   ]
  },
  {
   "cell_type": "code",
   "execution_count": null,
   "id": "c3f6e392",
   "metadata": {},
   "outputs": [],
   "source": [
    "\n",
    "model.compile(optimizer='adam', loss='binary_crossentropy', metrics=['accuracy'])\n",
    "\n",
    "history = model.fit(\n",
    "    X_train, y_train,\n",
    "    validation_data=(X_val, y_val),\n",
    "    epochs=8,\n",
    "    batch_size=64,\n",
    "    verbose=1\n",
    ")\n"
   ]
  },
  {
   "cell_type": "markdown",
   "id": "562b9f29",
   "metadata": {},
   "source": [
    "\n",
    "## 6) Curvas de entrenamiento\n"
   ]
  },
  {
   "cell_type": "code",
   "execution_count": null,
   "id": "c10f419e",
   "metadata": {},
   "outputs": [],
   "source": [
    "\n",
    "plt.figure()\n",
    "plt.plot(history.history['accuracy'], label='acc_train')\n",
    "plt.plot(history.history['val_accuracy'], label='acc_val')\n",
    "plt.xlabel(\"Época\")\n",
    "plt.ylabel(\"Accuracy\")\n",
    "plt.title(\"Evolución del accuracy\")\n",
    "plt.legend()\n",
    "plt.show()\n",
    "\n",
    "plt.figure()\n",
    "plt.plot(history.history['loss'], label='loss_train')\n",
    "plt.plot(history.history['val_loss'], label='loss_val')\n",
    "plt.xlabel(\"Época\")\n",
    "plt.ylabel(\"Pérdida\")\n",
    "plt.title(\"Evolución de la pérdida\")\n",
    "plt.legend()\n",
    "plt.show()\n"
   ]
  },
  {
   "cell_type": "markdown",
   "id": "5bcf5757",
   "metadata": {},
   "source": [
    "\n",
    "## 7) Evaluación en test (métricas principales)\n"
   ]
  },
  {
   "cell_type": "code",
   "execution_count": null,
   "id": "56578d8c",
   "metadata": {},
   "outputs": [],
   "source": [
    "\n",
    "test_loss, test_acc = model.evaluate(X_test, y_test, verbose=0)\n",
    "print(f\"Accuracy en test: {test_acc:.4f}  |  Pérdida en test: {test_loss:.4f}\")\n",
    "\n",
    "# Predicciones para métricas\n",
    "y_proba = model.predict(X_test, verbose=0).ravel()\n",
    "y_pred = (y_proba >= 0.5).astype(int)\n",
    "\n",
    "print(\"\\nInforme de clasificación (test):\")\n",
    "print(classification_report(y_test, y_pred, target_names=[\"baja_frec\",\"alta_frec\"]))\n",
    "\n",
    "cm = confusion_matrix(y_test, y_pred)\n",
    "ConfusionMatrixDisplay(confusion_matrix=cm, display_labels=[\"baja_frec\",\"alta_frec\"]).plot(values_format='d')\n",
    "plt.title(\"Matriz de confusión - Test\")\n",
    "plt.show()\n"
   ]
  },
  {
   "cell_type": "markdown",
   "id": "a716678a",
   "metadata": {},
   "source": [
    "\n",
    "## 8) Curva ROC y AUC\n"
   ]
  },
  {
   "cell_type": "code",
   "execution_count": null,
   "id": "040114e2",
   "metadata": {},
   "outputs": [],
   "source": [
    "\n",
    "fpr, tpr, _ = roc_curve(y_test, y_proba)\n",
    "roc_auc = auc(fpr, tpr)\n",
    "\n",
    "plt.figure()\n",
    "plt.plot(fpr, tpr, label=f\"AUC={roc_auc:.3f}\")\n",
    "plt.plot([0,1],[0,1],'--')\n",
    "plt.xlabel(\"FPR\")\n",
    "plt.ylabel(\"TPR\")\n",
    "plt.title(\"Curva ROC - Test\")\n",
    "plt.legend()\n",
    "plt.show()\n"
   ]
  },
  {
   "cell_type": "markdown",
   "id": "ec041c03",
   "metadata": {},
   "source": [
    "\n",
    "## 9) Predicciones de ejemplo\n"
   ]
  },
  {
   "cell_type": "code",
   "execution_count": null,
   "id": "db516c36",
   "metadata": {},
   "outputs": [],
   "source": [
    "\n",
    "idx = np.random.choice(len(X_test), size=6, replace=False)\n",
    "plt.figure(figsize=(8,3))\n",
    "for i, j in enumerate(idx, start=1):\n",
    "    plt.subplot(2,3,i)\n",
    "    plt.plot(X_test[j].squeeze())\n",
    "    plt.title(f\"y={y_test[j]}  ŷ={(y_proba[j]>=0.5).astype(int)}  p={y_proba[j]:.2f}\")\n",
    "    plt.tight_layout()\n",
    "plt.show()\n"
   ]
  },
  {
   "cell_type": "markdown",
   "id": "c1481aca",
   "metadata": {},
   "source": [
    "\n",
    "## 10) Guardar y cargar el modelo\n"
   ]
  },
  {
   "cell_type": "code",
   "execution_count": null,
   "id": "7384809e",
   "metadata": {},
   "outputs": [],
   "source": [
    "\n",
    "model_path = \"lstm_freq_classifier.keras\"  # Ruta local/relativa segura\n",
    "model.save(model_path)\n",
    "print(\"Modelo guardado en:\", model_path)\n",
    "\n",
    "loaded = keras.models.load_model(model_path)\n",
    "loss2, acc2 = loaded.evaluate(X_test, y_test, verbose=0)\n",
    "print(f\"Cargado -> Accuracy en test: {acc2:.4f}\")\n"
   ]
  }
 ],
 "metadata": {
  "kernelspec": {
   "display_name": "Python 3",
   "language": "python",
   "name": "python3"
  },
  "language_info": {
   "codemirror_mode": {
    "name": "ipython",
    "version": 3
   },
   "file_extension": ".py",
   "mimetype": "text/x-python",
   "name": "python",
   "nbconvert_exporter": "python",
   "pygments_lexer": "ipython3",
   "version": "3.13.7"
  }
 },
 "nbformat": 4,
 "nbformat_minor": 5
}
