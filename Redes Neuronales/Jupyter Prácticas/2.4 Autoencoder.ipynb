{
 "cells": [
  {
   "cell_type": "markdown",
   "id": "eed24e91",
   "metadata": {},
   "source": [
    "\n",
    "# IFCD104 – Tema 2: Autoencoder con Keras (MNIST)\n",
    "\n",
    "Este cuaderno implementa un **autoencoder** sencillo para **reconstruir imágenes** del dataset **MNIST**.  \n",
    "Incluye:\n",
    "- Carga y **preprocesado** de datos.\n",
    "- Construcción de un **autoencoder** `Encoder → Latent → Decoder`.\n",
    "- **Entrenamiento** y **curvas de pérdida**.\n",
    "- Visualización **original vs reconstruido**.\n",
    "- Variante **Denoising Autoencoder** (opcional) añadiendo ruido a las entradas.\n",
    "- Guardado y carga del modelo en formato `.keras` (ruta **local**).\n"
   ]
  },
  {
   "cell_type": "markdown",
   "id": "b06f4485",
   "metadata": {},
   "source": [
    "## 1) Importaciones"
   ]
  },
  {
   "cell_type": "code",
   "execution_count": null,
   "id": "78ca6f2f",
   "metadata": {},
   "outputs": [],
   "source": [
    "\n",
    "import numpy as np\n",
    "import matplotlib.pyplot as plt\n",
    "\n",
    "import tensorflow as tf\n",
    "from tensorflow import keras\n",
    "from tensorflow.keras import layers\n",
    "\n",
    "# Utilidades\n",
    "def show_images_grid(images, titles=None, nrows=2, ncols=8, suptitle=None):\n",
    "    plt.figure(figsize=(ncols*1.2, nrows*1.2))\n",
    "    idx = np.random.choice(len(images), size=nrows*ncols, replace=False)\n",
    "    for i, j in enumerate(idx, start=1):\n",
    "        plt.subplot(nrows, ncols, i)\n",
    "        plt.imshow(images[j].squeeze(), cmap='gray')\n",
    "        if titles is not None:\n",
    "            plt.title(str(titles[j]))\n",
    "        plt.axis('off')\n",
    "    if suptitle:\n",
    "        plt.suptitle(suptitle)\n",
    "    plt.show()\n"
   ]
  },
  {
   "cell_type": "markdown",
   "id": "fb69d306",
   "metadata": {},
   "source": [
    "## 2) Carga y preprocesado de MNIST"
   ]
  },
  {
   "cell_type": "code",
   "execution_count": null,
   "id": "aad7f1fe",
   "metadata": {},
   "outputs": [],
   "source": [
    "\n",
    "(x_train, _), (x_test, _) = keras.datasets.mnist.load_data()\n",
    "\n",
    "# Normalizar a [0,1] y añadir canal (1)\n",
    "x_train = x_train.astype(\"float32\") / 255.0\n",
    "x_test  = x_test.astype(\"float32\") / 255.0\n",
    "\n",
    "x_train = np.expand_dims(x_train, -1)  # (N, 28, 28, 1)\n",
    "x_test  = np.expand_dims(x_test, -1)\n",
    "\n",
    "print(\"Shapes -> train:\", x_train.shape, \" test:\", x_test.shape)\n",
    "\n",
    "# Muestra rápida\n",
    "show_images_grid(x_train, suptitle=\"Muestras MNIST (train)\")\n"
   ]
  },
  {
   "cell_type": "markdown",
   "id": "de42b298",
   "metadata": {},
   "source": [
    "\n",
    "## 3) Definición del Autoencoder\n",
    "Arquitectura compacta y didáctica:\n",
    "- **Encoder**: Conv→Pool→Conv→Pool→Flatten→Dense(latent)\n",
    "- **Latent**: dimensión 32\n",
    "- **Decoder**: Dense→Reshape→ConvTranspose→UpSampling→Conv(sigmoid)\n",
    "\n",
    "> *Nota*: Para reconstrucción, usamos `loss='binary_crossentropy'` con imágenes normalizadas en `[0,1]`.\n"
   ]
  },
  {
   "cell_type": "code",
   "execution_count": null,
   "id": "331efbf4",
   "metadata": {},
   "outputs": [],
   "source": [
    "\n",
    "latent_dim = 32\n",
    "\n",
    "# Encoder\n",
    "inputs = keras.Input(shape=(28, 28, 1))\n",
    "x = layers.Conv2D(32, 3, activation='relu', padding='same')(inputs)\n",
    "x = layers.MaxPooling2D()(x)\n",
    "x = layers.Conv2D(64, 3, activation='relu', padding='same')(x)\n",
    "x = layers.MaxPooling2D()(x)\n",
    "x = layers.Flatten()(x)\n",
    "latent = layers.Dense(latent_dim, name='latent')(x)\n",
    "\n",
    "# Decoder\n",
    "x = layers.Dense(7*7*64, activation='relu')(latent)\n",
    "x = layers.Reshape((7, 7, 64))(x)\n",
    "x = layers.Conv2DTranspose(64, 3, activation='relu', padding='same')(x)\n",
    "x = layers.UpSampling2D()(x)\n",
    "x = layers.Conv2DTranspose(32, 3, activation='relu', padding='same')(x)\n",
    "x = layers.UpSampling2D()(x)\n",
    "outputs = layers.Conv2D(1, 3, activation='sigmoid', padding='same')(x)\n",
    "\n",
    "autoencoder = keras.Model(inputs, outputs, name=\"mnist_autoencoder\")\n",
    "autoencoder.compile(optimizer='adam', loss='binary_crossentropy')\n",
    "autoencoder.summary()\n"
   ]
  },
  {
   "cell_type": "markdown",
   "id": "8c0209e0",
   "metadata": {},
   "source": [
    "## 4) Entrenamiento"
   ]
  },
  {
   "cell_type": "code",
   "execution_count": null,
   "id": "61109c94",
   "metadata": {},
   "outputs": [],
   "source": [
    "\n",
    "history = autoencoder.fit(\n",
    "    x_train, x_train,            # objetivo: reconstruir la propia entrada\n",
    "    validation_split=0.1,\n",
    "    epochs=5,                    # aumenta si quieres mejor reconstrucción\n",
    "    batch_size=128,\n",
    "    verbose=1\n",
    ")\n"
   ]
  },
  {
   "cell_type": "markdown",
   "id": "6e907fe3",
   "metadata": {},
   "source": [
    "## 5) Curvas de pérdida"
   ]
  },
  {
   "cell_type": "code",
   "execution_count": null,
   "id": "0f564112",
   "metadata": {},
   "outputs": [],
   "source": [
    "\n",
    "plt.figure()\n",
    "plt.plot(history.history['loss'], label='loss_train')\n",
    "plt.plot(history.history['val_loss'], label='loss_val')\n",
    "plt.xlabel(\"Época\")\n",
    "plt.ylabel(\"Pérdida (binary_crossentropy)\")\n",
    "plt.title(\"Evolución de la pérdida (Autoencoder)\")\n",
    "plt.legend()\n",
    "plt.show()\n"
   ]
  },
  {
   "cell_type": "markdown",
   "id": "33621abb",
   "metadata": {},
   "source": [
    "## 6) Reconstrucciones en test"
   ]
  },
  {
   "cell_type": "code",
   "execution_count": null,
   "id": "a2b14baa",
   "metadata": {},
   "outputs": [],
   "source": [
    "\n",
    "# Reconstrucciones\n",
    "x_test_pred = autoencoder.predict(x_test[:2000], verbose=0)\n",
    "\n",
    "# Mostrar originales y reconstrucciones\n",
    "n = 8\n",
    "plt.figure(figsize=(n*1.4, 3))\n",
    "for i in range(n):\n",
    "    # Original\n",
    "    plt.subplot(2, n, i+1)\n",
    "    plt.imshow(x_test[i].squeeze(), cmap='gray')\n",
    "    plt.axis('off')\n",
    "    if i == 0: plt.ylabel(\"Original\")\n",
    "    # Reconstruido\n",
    "    plt.subplot(2, n, n+i+1)\n",
    "    plt.imshow(x_test_pred[i].squeeze(), cmap='gray')\n",
    "    plt.axis('off')\n",
    "    if i == 0: plt.ylabel(\"Reconstruido\")\n",
    "plt.suptitle(\"Original vs Reconstruido (Autoencoder)\")\n",
    "plt.show()\n",
    "\n",
    "# Error de reconstrucción medio (MSE) en 2k ejemplos\n",
    "mse = np.mean((x_test_pred - x_test[:2000])**2)\n",
    "print(\"MSE medio de reconstrucción (2k test):\", float(mse))\n"
   ]
  },
  {
   "cell_type": "markdown",
   "id": "0903b8cf",
   "metadata": {},
   "source": [
    "\n",
    "## 7) Denoising Autoencoder (opcional)\n",
    "Agregamos **ruido gaussiano** a la entrada y entrenamos para reconstruir la **imagen limpia**.\n"
   ]
  },
  {
   "cell_type": "code",
   "execution_count": null,
   "id": "32e3bcb5",
   "metadata": {},
   "outputs": [],
   "source": [
    "\n",
    "noise_std = 0.4\n",
    "x_train_noisy = np.clip(x_train + noise_std*np.random.normal(size=x_train.shape), 0., 1.)\n",
    "x_test_noisy  = np.clip(x_test  + noise_std*np.random.normal(size=x_test.shape),  0., 1.)\n",
    "\n",
    "# Muestra con ruido\n",
    "show_images_grid(x_train_noisy, suptitle=\"MNIST con ruido (train)\")\n",
    "\n",
    "# Entrenamos un modelo idéntico desde cero para denoising\n",
    "inputs_n = keras.Input(shape=(28, 28, 1))\n",
    "x = layers.Conv2D(32, 3, activation='relu', padding='same')(inputs_n)\n",
    "x = layers.MaxPooling2D()(x)\n",
    "x = layers.Conv2D(64, 3, activation='relu', padding='same')(x)\n",
    "x = layers.MaxPooling2D()(x)\n",
    "x = layers.Flatten()(x)\n",
    "latent_n = layers.Dense(latent_dim, name='latent_n')(x)\n",
    "\n",
    "x = layers.Dense(7*7*64, activation='relu')(latent_n)\n",
    "x = layers.Reshape((7, 7, 64))(x)\n",
    "x = layers.Conv2DTranspose(64, 3, activation='relu', padding='same')(x)\n",
    "x = layers.UpSampling2D()(x)\n",
    "x = layers.Conv2DTranspose(32, 3, activation='relu', padding='same')(x)\n",
    "x = layers.UpSampling2D()(x)\n",
    "outputs_n = layers.Conv2D(1, 3, activation='sigmoid', padding='same')(x)\n",
    "\n",
    "denoiser = keras.Model(inputs_n, outputs_n, name=\"mnist_denoiser\")\n",
    "denoiser.compile(optimizer='adam', loss='binary_crossentropy')\n",
    "\n",
    "history_d = denoiser.fit(\n",
    "    x_train_noisy, x_train,\n",
    "    validation_split=0.1,\n",
    "    epochs=3,\n",
    "    batch_size=128,\n",
    "    verbose=1\n",
    ")\n"
   ]
  },
  {
   "cell_type": "markdown",
   "id": "4ce682d8",
   "metadata": {},
   "source": [
    "## 8) Resultados del Denoiser"
   ]
  },
  {
   "cell_type": "code",
   "execution_count": null,
   "id": "9afee7f3",
   "metadata": {},
   "outputs": [],
   "source": [
    "\n",
    "plt.figure()\n",
    "plt.plot(history_d.history['loss'], label='loss_train')\n",
    "plt.plot(history_d.history['val_loss'], label='loss_val')\n",
    "plt.xlabel(\"Época\")\n",
    "plt.ylabel(\"Pérdida (binary_crossentropy)\")\n",
    "plt.title(\"Evolución de la pérdida (Denoiser)\")\n",
    "plt.legend()\n",
    "plt.show()\n",
    "\n",
    "# Reconstrucciones desde imágenes ruidosas\n",
    "x_test_denoised = denoiser.predict(x_test_noisy[:2000], verbose=0)\n",
    "\n",
    "n = 8\n",
    "plt.figure(figsize=(n*1.4, 4.5))\n",
    "for i in range(n):\n",
    "    # Ruidosa\n",
    "    plt.subplot(3, n, i+1)\n",
    "    plt.imshow(x_test_noisy[i].squeeze(), cmap='gray')\n",
    "    plt.axis('off')\n",
    "    if i == 0: plt.ylabel(\"Ruidosa\")\n",
    "    # Denoised\n",
    "    plt.subplot(3, n, n+i+1)\n",
    "    plt.imshow(x_test_denoised[i].squeeze(), cmap='gray')\n",
    "    plt.axis('off')\n",
    "    if i == 0: plt.ylabel(\"Denoised\")\n",
    "    # Original\n",
    "    plt.subplot(3, n, 2*n+i+1)\n",
    "    plt.imshow(x_test[i].squeeze(), cmap='gray')\n",
    "    plt.axis('off')\n",
    "    if i == 0: plt.ylabel(\"Original\")\n",
    "plt.suptitle(\"Denoising Autoencoder: entrada ruidosa → salida limpia\")\n",
    "plt.show()\n"
   ]
  },
  {
   "cell_type": "markdown",
   "id": "51ac4218",
   "metadata": {},
   "source": [
    "## 9) Guardar y cargar modelos (ruta local)"
   ]
  },
  {
   "cell_type": "code",
   "execution_count": null,
   "id": "08c92b52",
   "metadata": {},
   "outputs": [],
   "source": [
    "\n",
    "ae_path = \"mnist_autoencoder.keras\"\n",
    "denoiser_path = \"mnist_denoiser.keras\"\n",
    "\n",
    "autoencoder.save(ae_path)\n",
    "denoiser.save(denoiser_path)\n",
    "\n",
    "print(\"Modelos guardados en:\", ae_path, \"y\", denoiser_path)\n",
    "\n",
    "autoencoder_loaded = keras.models.load_model(ae_path)\n",
    "denoiser_loaded = keras.models.load_model(denoiser_path)\n",
    "\n",
    "# Prueba rápida de carga\n",
    "loss_loaded = autoencoder_loaded.evaluate(x_test, autoencoder_loaded.predict(x_test, verbose=0), verbose=0)\n",
    "print(\"Autoencoder cargado, pérdida (auto-reconstrucción evaluada manualmente):\", float(loss_loaded))\n"
   ]
  }
 ],
 "metadata": {
  "kernelspec": {
   "display_name": "Python 3",
   "language": "python",
   "name": "python3"
  },
  "language_info": {
   "codemirror_mode": {
    "name": "ipython",
    "version": 3
   },
   "file_extension": ".py",
   "mimetype": "text/x-python",
   "name": "python",
   "nbconvert_exporter": "python",
   "pygments_lexer": "ipython3",
   "version": "3.13.7"
  }
 },
 "nbformat": 4,
 "nbformat_minor": 5
}
