{
 "cells": [
  {
   "cell_type": "markdown",
   "id": "88ae7989",
   "metadata": {},
   "source": [
    "\n",
    "# IFCD104 – Tema 3: Comparativa de Optimizadores en Keras (SGD vs Adam vs RMSProp)\n",
    "\n",
    "**Objetivo:** entrenar el mismo modelo sobre **MNIST** con distintos **optimizadores** y comparar su **pérdida** y **accuracy**.\n"
   ]
  },
  {
   "cell_type": "code",
   "execution_count": null,
   "id": "2981dce8",
   "metadata": {},
   "outputs": [],
   "source": [
    "\n",
    "import numpy as np\n",
    "import matplotlib.pyplot as plt\n",
    "import tensorflow as tf\n",
    "from tensorflow import keras\n",
    "from tensorflow.keras import layers\n"
   ]
  },
  {
   "cell_type": "markdown",
   "id": "31773bba",
   "metadata": {},
   "source": [
    "## 1) Datos"
   ]
  },
  {
   "cell_type": "code",
   "execution_count": null,
   "id": "9b774306",
   "metadata": {},
   "outputs": [],
   "source": [
    "\n",
    "(x_train, y_train), (x_test, y_test) = keras.datasets.mnist.load_data()\n",
    "x_train = x_train.astype(\"float32\") / 255.0\n",
    "x_test  = x_test.astype(\"float32\") / 255.0\n",
    "x_train = x_train.reshape((-1, 28*28))\n",
    "x_test  = x_test.reshape((-1, 28*28))\n",
    "\n",
    "print(\"Train:\", x_train.shape, \" Test:\", x_test.shape)\n",
    "num_classes = 10\n"
   ]
  },
  {
   "cell_type": "markdown",
   "id": "42883b37",
   "metadata": {},
   "source": [
    "## 2) Definir un modelo base (MLP sencillo)"
   ]
  },
  {
   "cell_type": "code",
   "execution_count": null,
   "id": "db49f1d7",
   "metadata": {},
   "outputs": [],
   "source": [
    "\n",
    "def make_model():\n",
    "    inputs = keras.Input(shape=(28*28,))\n",
    "    x = layers.Dense(256, activation='relu')(inputs)\n",
    "    x = layers.Dropout(0.2)(x)\n",
    "    x = layers.Dense(128, activation='relu')(x)\n",
    "    x = layers.Dropout(0.2)(x)\n",
    "    outputs = layers.Dense(10, activation='softmax')(x)\n",
    "    return keras.Model(inputs, outputs)\n",
    "\n",
    "optimizers = {\n",
    "    \"SGD\": keras.optimizers.SGD(learning_rate=0.01, momentum=0.0),\n",
    "    \"RMSProp\": keras.optimizers.RMSprop(learning_rate=0.001),\n",
    "    \"Adam\": keras.optimizers.Adam(learning_rate=0.001),\n",
    "}\n",
    "\n",
    "histories = {}\n",
    "test_scores = {}\n",
    "\n",
    "for name, opt in optimizers.items():\n",
    "    model = make_model()\n",
    "    model.compile(optimizer=opt, loss='sparse_categorical_crossentropy', metrics=['accuracy'])\n",
    "    h = model.fit(x_train, y_train, validation_split=0.1, epochs=5, batch_size=128, verbose=0)\n",
    "    histories[name] = h.history\n",
    "    loss, acc = model.evaluate(x_test, y_test, verbose=0)\n",
    "    test_scores[name] = (loss, acc)\n",
    "    print(f\"{name}: test_acc={acc:.4f}, test_loss={loss:.4f}\")\n"
   ]
  },
  {
   "cell_type": "markdown",
   "id": "3b9fda0e",
   "metadata": {},
   "source": [
    "## 3) Curvas de entrenamiento (loss y accuracy)"
   ]
  },
  {
   "cell_type": "code",
   "execution_count": null,
   "id": "ee741832",
   "metadata": {},
   "outputs": [],
   "source": [
    "\n",
    "plt.figure()\n",
    "for name, hist in histories.items():\n",
    "    plt.plot(hist['loss'], label=f'{name} loss')\n",
    "plt.xlabel(\"Época\")\n",
    "plt.ylabel(\"Pérdida\")\n",
    "plt.title(\"Pérdida de entrenamiento por optimizador\")\n",
    "plt.legend()\n",
    "plt.show()\n",
    "\n",
    "plt.figure()\n",
    "for name, hist in histories.items():\n",
    "    plt.plot(hist['val_accuracy'], label=f'{name} val_acc')\n",
    "plt.xlabel(\"Época\")\n",
    "plt.ylabel(\"Accuracy validación\")\n",
    "plt.title(\"Accuracy de validación por optimizador\")\n",
    "plt.legend()\n",
    "plt.show()\n"
   ]
  },
  {
   "cell_type": "markdown",
   "id": "f2b1425e",
   "metadata": {},
   "source": [
    "## 4) Resultados en test"
   ]
  },
  {
   "cell_type": "code",
   "execution_count": null,
   "id": "d8ca71cb",
   "metadata": {},
   "outputs": [],
   "source": [
    "\n",
    "for name, (loss, acc) in test_scores.items():\n",
    "    print(f\"{name:8s} -> test_acc={acc:.4f} | test_loss={loss:.4f}\")\n"
   ]
  }
 ],
 "metadata": {
  "kernelspec": {
   "display_name": "Python 3",
   "language": "python",
   "name": "python3"
  },
  "language_info": {
   "codemirror_mode": {
    "name": "ipython",
    "version": 3
   },
   "file_extension": ".py",
   "mimetype": "text/x-python",
   "name": "python",
   "nbconvert_exporter": "python",
   "pygments_lexer": "ipython3",
   "version": "3.13.7"
  }
 },
 "nbformat": 4,
 "nbformat_minor": 5
}
