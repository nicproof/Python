{
 "cells": [
  {
   "cell_type": "markdown",
   "id": "2dcd471d",
   "metadata": {},
   "source": [
    "\n",
    "# IFCD104 – Tema 3: Overfitting y Regularización (Dropout, L2, Data Augmentation)\n",
    "\n",
    "**Objetivo:** mostrar **sobreajuste** con una CNN pequeña en MNIST y cómo mitigarlo con **Dropout**, **L2** y **aumento de datos**.\n"
   ]
  },
  {
   "cell_type": "code",
   "execution_count": 1,
   "id": "f0b8281d",
   "metadata": {},
   "outputs": [],
   "source": [
    "\n",
    "import numpy as np\n",
    "import matplotlib.pyplot as plt\n",
    "import tensorflow as tf\n",
    "from tensorflow import keras\n",
    "from tensorflow.keras import layers, regularizers\n"
   ]
  },
  {
   "cell_type": "markdown",
   "id": "376f43c2",
   "metadata": {},
   "source": [
    "## 1) Datos y subconjunto para inducir overfitting"
   ]
  },
  {
   "cell_type": "code",
   "execution_count": 2,
   "id": "3e8e5d23",
   "metadata": {},
   "outputs": [
    {
     "name": "stdout",
     "output_type": "stream",
     "text": [
      "train_small: (5000, 28, 28, 1)  val: (5000, 28, 28, 1)  test: (10000, 28, 28, 1)\n"
     ]
    }
   ],
   "source": [
    "\n",
    "(x_train, y_train), (x_test, y_test) = keras.datasets.mnist.load_data()\n",
    "\n",
    "# Usamos un subconjunto pequeño para que el modelo sobreajuste\n",
    "n_small = 5000\n",
    "x_train_small = x_train[:n_small].astype(\"float32\")/255.0\n",
    "y_train_small = y_train[:n_small]\n",
    "x_val = x_train[n_small:n_small+5000].astype(\"float32\")/255.0\n",
    "y_val = y_train[n_small:n_small+5000]\n",
    "\n",
    "x_test = x_test.astype(\"float32\")/255.0\n",
    "\n",
    "x_train_small = np.expand_dims(x_train_small, -1)\n",
    "x_val = np.expand_dims(x_val, -1)\n",
    "x_test = np.expand_dims(x_test, -1)\n",
    "\n",
    "print(\"train_small:\", x_train_small.shape, \" val:\", x_val.shape, \" test:\", x_test.shape)\n"
   ]
  },
  {
   "cell_type": "markdown",
   "id": "153c5f38",
   "metadata": {},
   "source": [
    "## 2) Modelo base (tendrá tendencia a sobreajustar)"
   ]
  },
  {
   "cell_type": "code",
   "execution_count": 6,
   "id": "1e68355c",
   "metadata": {},
   "outputs": [
    {
     "name": "stdout",
     "output_type": "stream",
     "text": [
      "Base -> val_acc final: 0.9603999853134155\n"
     ]
    }
   ],
   "source": [
    "\n",
    "def make_base():\n",
    "    inputs = keras.Input(shape=(28,28,1))\n",
    "    x = layers.Conv2D(32, 3, activation='relu', padding='same')(inputs)\n",
    "    x = layers.MaxPooling2D()(x)\n",
    "    x = layers.Conv2D(64, 3, activation='relu', padding='same')(x)\n",
    "    x = layers.MaxPooling2D()(x)\n",
    "    x = layers.Flatten()(x)\n",
    "    x = layers.Dense(128, activation='relu')(x)\n",
    "    outputs = layers.Dense(10, activation='softmax')(x)\n",
    "    model = keras.Model(inputs, outputs, name=\"cnn_base\")\n",
    "    model.compile(optimizer='adam', loss='sparse_categorical_crossentropy', metrics=['accuracy'])\n",
    "    return model\n",
    "\n",
    "base = make_base()\n",
    "h_base = base.fit(x_train_small, y_train_small, validation_data=(x_val, y_val),\n",
    "                  epochs=10, batch_size=128, verbose=0)\n",
    "\n",
    "print(\"Base -> val_acc final:\", h_base.history['val_accuracy'][-1])\n"
   ]
  },
  {
   "cell_type": "markdown",
   "id": "a23c1fe2",
   "metadata": {},
   "source": [
    "## 3) Regularización: Dropout + L2 + BatchNorm"
   ]
  },
  {
   "cell_type": "code",
   "execution_count": 7,
   "id": "4e07fdd5",
   "metadata": {},
   "outputs": [
    {
     "name": "stdout",
     "output_type": "stream",
     "text": [
      "Regularized -> val_acc final: 0.8019999861717224\n"
     ]
    }
   ],
   "source": [
    "\n",
    "def make_regularized():\n",
    "    inputs = keras.Input(shape=(28,28,1))\n",
    "    x = layers.Conv2D(32, 3, activation='relu', padding='same',\n",
    "                      kernel_regularizer=regularizers.l2(1e-4))(inputs)\n",
    "    x = layers.BatchNormalization()(x)\n",
    "    x = layers.MaxPooling2D()(x)\n",
    "    x = layers.Dropout(0.2)(x)\n",
    "\n",
    "    x = layers.Conv2D(64, 3, activation='relu', padding='same',\n",
    "                      kernel_regularizer=regularizers.l2(1e-4))(x)\n",
    "    x = layers.BatchNormalization()(x)\n",
    "    x = layers.MaxPooling2D()(x)\n",
    "    x = layers.Dropout(0.3)(x)\n",
    "\n",
    "    x = layers.Flatten()(x)\n",
    "    x = layers.Dense(128, activation='relu', kernel_regularizer=regularizers.l2(1e-4))(x)\n",
    "    x = layers.Dropout(0.4)(x)\n",
    "    outputs = layers.Dense(10, activation='softmax')(x)\n",
    "    model = keras.Model(inputs, outputs, name=\"cnn_regularized\")\n",
    "    model.compile(optimizer='adam', loss='sparse_categorical_crossentropy', metrics=['accuracy'])\n",
    "    return model\n",
    "\n",
    "reg = make_regularized()\n",
    "h_reg = reg.fit(x_train_small, y_train_small, validation_data=(x_val, y_val),\n",
    "                epochs=10, batch_size=128, verbose=0)\n",
    "\n",
    "print(\"Regularized -> val_acc final:\", h_reg.history['val_accuracy'][-1])\n"
   ]
  },
  {
   "cell_type": "markdown",
   "id": "4fd76a08",
   "metadata": {},
   "source": [
    "## 4) Aumento de datos con capas de preprocesado"
   ]
  },
  {
   "cell_type": "code",
   "execution_count": null,
   "id": "de79f7bc",
   "metadata": {},
   "outputs": [],
   "source": [
    "\n",
    "data_augmentation = keras.Sequential([\n",
    "    layers.RandomRotation(0.1),\n",
    "    layers.RandomZoom(0.1),\n",
    "    layers.RandomTranslation(0.1, 0.1)\n",
    "])\n",
    "\n",
    "def make_augmented():\n",
    "    inputs = keras.Input(shape=(28,28,1))\n",
    "    x = data_augmentation(inputs)\n",
    "    x = layers.Conv2D(32, 3, activation='relu', padding='same')(x)\n",
    "    x = layers.MaxPooling2D()(x)\n",
    "    x = layers.Conv2D(64, 3, activation='relu', padding='same')(x)\n",
    "    x = layers.MaxPooling2D()(x)\n",
    "    x = layers.Flatten()(x)\n",
    "    x = layers.Dense(128, activation='relu')(x)\n",
    "    outputs = layers.Dense(10, activation='softmax')(x)\n",
    "    model = keras.Model(inputs, outputs, name=\"cnn_augmented\")\n",
    "    model.compile(optimizer='adam', loss='sparse_categorical_crossentropy', metrics=['accuracy'])\n",
    "    return model\n",
    "\n",
    "aug = make_augmented()\n",
    "h_aug = aug.fit(x_train_small, y_train_small, validation_data=(x_val, y_val),\n",
    "                epochs=10, batch_size=128, verbose=0)\n",
    "\n",
    "print(\"Augmented -> val_acc final:\", h_aug.history['val_accuracy'][-1])\n"
   ]
  },
  {
   "cell_type": "markdown",
   "id": "6fc9442d",
   "metadata": {},
   "source": [
    "## 5) Curvas de validación: comparación"
   ]
  },
  {
   "cell_type": "code",
   "execution_count": null,
   "id": "711b9894",
   "metadata": {},
   "outputs": [],
   "source": [
    "\n",
    "plt.figure()\n",
    "plt.plot(h_base.history['val_accuracy'], label='Base')\n",
    "plt.plot(h_reg.history['val_accuracy'], label='Regularized')\n",
    "plt.plot(h_aug.history['val_accuracy'], label='Augmented')\n",
    "plt.xlabel(\"Época\")\n",
    "plt.ylabel(\"Accuracy validación\")\n",
    "plt.title(\"Comparación de validación\")\n",
    "plt.legend()\n",
    "plt.show()\n"
   ]
  },
  {
   "cell_type": "markdown",
   "id": "63971365",
   "metadata": {},
   "source": [
    "## 6) Evaluación en test"
   ]
  },
  {
   "cell_type": "code",
   "execution_count": null,
   "id": "9f61fa46",
   "metadata": {},
   "outputs": [],
   "source": [
    "\n",
    "for name, model in {'Base': base, 'Regularized': reg, 'Augmented': aug}.items():\n",
    "    loss, acc = model.evaluate(x_test, y_test, verbose=0)\n",
    "    print(f\"{name:11s} -> test_acc={acc:.4f} | test_loss={loss:.4f}\")\n"
   ]
  }
 ],
 "metadata": {
  "kernelspec": {
   "display_name": "Python 3",
   "language": "python",
   "name": "python3"
  },
  "language_info": {
   "codemirror_mode": {
    "name": "ipython",
    "version": 3
   },
   "file_extension": ".py",
   "mimetype": "text/x-python",
   "name": "python",
   "nbconvert_exporter": "python",
   "pygments_lexer": "ipython3",
   "version": "3.13.3"
  }
 },
 "nbformat": 4,
 "nbformat_minor": 5
}
