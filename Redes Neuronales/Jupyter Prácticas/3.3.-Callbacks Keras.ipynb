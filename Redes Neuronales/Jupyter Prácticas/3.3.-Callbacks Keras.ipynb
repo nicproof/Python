{
 "cells": [
  {
   "cell_type": "markdown",
   "id": "b7f32bb3",
   "metadata": {},
   "source": [
    "\n",
    "# IFCD104 – Tema 3: Callbacks de Keras (EarlyStopping, ReduceLROnPlateau, ModelCheckpoint, CSVLogger)\n",
    "\n",
    "**Objetivo:** demostrar cómo **callbacks** ayudan a entrenar de manera más **estable, eficiente y reproducible**.\n"
   ]
  },
  {
   "cell_type": "code",
   "execution_count": null,
   "id": "6722cc94",
   "metadata": {},
   "outputs": [],
   "source": [
    "\n",
    "import os, datetime\n",
    "import numpy as np\n",
    "import matplotlib.pyplot as plt\n",
    "import tensorflow as tf\n",
    "from tensorflow import keras\n",
    "from tensorflow.keras import layers\n"
   ]
  },
  {
   "cell_type": "markdown",
   "id": "c6c72f7f",
   "metadata": {},
   "source": [
    "## 1) Datos"
   ]
  },
  {
   "cell_type": "code",
   "execution_count": null,
   "id": "9b8ae357",
   "metadata": {},
   "outputs": [],
   "source": [
    "\n",
    "(x_train, y_train), (x_test, y_test) = keras.datasets.mnist.load_data()\n",
    "x_train = x_train.astype(\"float32\")/255.0\n",
    "x_test  = x_test.astype(\"float32\")/255.0\n",
    "x_train = np.expand_dims(x_train, -1)\n",
    "x_test  = np.expand_dims(x_test, -1)\n"
   ]
  },
  {
   "cell_type": "markdown",
   "id": "36ea6cf6",
   "metadata": {},
   "source": [
    "## 2) Modelo CNN sencillo"
   ]
  },
  {
   "cell_type": "code",
   "execution_count": null,
   "id": "df140296",
   "metadata": {},
   "outputs": [],
   "source": [
    "\n",
    "def make_cnn():\n",
    "    inputs = keras.Input(shape=(28,28,1))\n",
    "    x = layers.Conv2D(32, 3, activation='relu', padding='same')(inputs)\n",
    "    x = layers.MaxPooling2D()(x)\n",
    "    x = layers.Conv2D(64, 3, activation='relu', padding='same')(x)\n",
    "    x = layers.MaxPooling2D()(x)\n",
    "    x = layers.Flatten()(x)\n",
    "    x = layers.Dense(128, activation='relu')(x)\n",
    "    outputs = layers.Dense(10, activation='softmax')(x)\n",
    "    model = keras.Model(inputs, outputs, name=\"cnn_callbacks_demo\")\n",
    "    model.compile(optimizer='adam', loss='sparse_categorical_crossentropy', metrics=['accuracy'])\n",
    "    return model\n",
    "\n",
    "model = make_cnn()\n"
   ]
  },
  {
   "cell_type": "markdown",
   "id": "c5edf57b",
   "metadata": {},
   "source": [
    "## 3) Definir callbacks"
   ]
  },
  {
   "cell_type": "code",
   "execution_count": null,
   "id": "74499fb8",
   "metadata": {},
   "outputs": [],
   "source": [
    "\n",
    "import os\n",
    "os.makedirs(\"checkpoints\", exist_ok=True)\n",
    "checkpoint_path = \"checkpoints/best_model.keras\"\n",
    "csv_path = \"training_log.csv\"\n",
    "\n",
    "callbacks = [\n",
    "    keras.callbacks.EarlyStopping(monitor='val_loss', patience=3, restore_best_weights=True),\n",
    "    keras.callbacks.ReduceLROnPlateau(monitor='val_loss', factor=0.5, patience=2, verbose=1),\n",
    "    keras.callbacks.ModelCheckpoint(checkpoint_path, monitor='val_loss', save_best_only=True),\n",
    "    keras.callbacks.CSVLogger(csv_path)\n",
    "]\n"
   ]
  },
  {
   "cell_type": "markdown",
   "id": "ad3bc3e6",
   "metadata": {},
   "source": [
    "## 4) Entrenamiento con callbacks"
   ]
  },
  {
   "cell_type": "code",
   "execution_count": null,
   "id": "841a6145",
   "metadata": {},
   "outputs": [],
   "source": [
    "\n",
    "history = model.fit(\n",
    "    x_train, y_train,\n",
    "    validation_split=0.1,\n",
    "    epochs=20,\n",
    "    batch_size=128,\n",
    "    callbacks=callbacks,\n",
    "    verbose=1\n",
    ")\n",
    "\n",
    "print(\"Modelo guardado en:\", checkpoint_path)\n"
   ]
  },
  {
   "cell_type": "markdown",
   "id": "ea73fdd6",
   "metadata": {},
   "source": [
    "## 5) Curvas de entrenamiento"
   ]
  },
  {
   "cell_type": "code",
   "execution_count": null,
   "id": "80cd84c8",
   "metadata": {},
   "outputs": [],
   "source": [
    "\n",
    "plt.figure()\n",
    "plt.plot(history.history['loss'], label='loss_train')\n",
    "plt.plot(history.history['val_loss'], label='loss_val')\n",
    "plt.xlabel(\"Época\")\n",
    "plt.ylabel(\"Pérdida\")\n",
    "plt.title(\"Pérdida con callbacks\")\n",
    "plt.legend()\n",
    "plt.show()\n",
    "\n",
    "plt.figure()\n",
    "plt.plot(history.history['accuracy'], label='acc_train')\n",
    "plt.plot(history.history['val_accuracy'], label='acc_val')\n",
    "plt.xlabel(\"Época\")\n",
    "plt.ylabel(\"Accuracy\")\n",
    "plt.title(\"Accuracy con callbacks\")\n",
    "plt.legend()\n",
    "plt.show()\n"
   ]
  },
  {
   "cell_type": "markdown",
   "id": "1c3d7320",
   "metadata": {},
   "source": [
    "## 6) Evaluación y carga del mejor modelo"
   ]
  },
  {
   "cell_type": "code",
   "execution_count": null,
   "id": "2759f2a4",
   "metadata": {},
   "outputs": [],
   "source": [
    "\n",
    "loss, acc = model.evaluate(x_test, y_test, verbose=0)\n",
    "print(f\"Modelo en memoria -> test_acc={acc:.4f} | test_loss={loss:.4f}\")\n",
    "\n",
    "best = keras.models.load_model(checkpoint_path)\n",
    "loss_b, acc_b = best.evaluate(x_test, y_test, verbose=0)\n",
    "print(f\"Mejor checkpoint -> test_acc={acc_b:.4f} | test_loss={loss_b:.4f}\")\n"
   ]
  },
  {
   "cell_type": "markdown",
   "id": "580a4269",
   "metadata": {},
   "source": [
    "## 7) Log de entrenamiento (CSV)"
   ]
  },
  {
   "cell_type": "code",
   "execution_count": null,
   "id": "4dd73d8a",
   "metadata": {},
   "outputs": [],
   "source": [
    "\n",
    "import pandas as pd\n",
    "log = pd.read_csv(\"training_log.csv\")\n",
    "log.tail()\n"
   ]
  }
 ],
 "metadata": {},
 "nbformat": 4,
 "nbformat_minor": 5
}
