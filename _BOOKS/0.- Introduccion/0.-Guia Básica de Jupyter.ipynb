{
 "cells": [
  {
   "cell_type": "markdown",
   "id": "6f8c8778",
   "metadata": {},
   "source": [
    "# 📘 Guía básica para usar Jupyter Notebook\n",
    "Este cuaderno te dará una introducción al uso de **Jupyter Notebook**, explicando cómo trabajar con celdas, ejecutar código y tomar notas.\n"
   ]
  },
  {
   "cell_type": "markdown",
   "id": "bd3e311b",
   "metadata": {},
   "source": [
    "## ¿Qué es Jupyter Notebook?\n",
    "Jupyter Notebook es una herramienta interactiva que permite escribir y ejecutar **código en Python**, acompañado de **texto, imágenes y gráficos**.  \n",
    "Es muy útil para aprender, experimentar y documentar proyectos.\n"
   ]
  },
  {
   "cell_type": "markdown",
   "id": "c90e41da",
   "metadata": {},
   "source": [
    "## Tipos de celdas\n",
    "En Jupyter existen dos tipos principales de celdas:\n",
    "\n",
    "- **Celda de código**: se usa para escribir y ejecutar código Python.\n",
    "- **Celda de Markdown**: se usa para escribir texto, explicaciones, títulos, fórmulas matemáticas, listas, etc.\n",
    "\n",
    "Ejemplo de celda de código:\n",
    "```python\n",
    "x = 5\n",
    "print(x * 2)\n",
    "```\n"
   ]
  },
  {
   "cell_type": "markdown",
   "id": "1a487228",
   "metadata": {},
   "source": [
    "## Cómo ejecutar una celda\n",
    "Para ejecutar una celda en Jupyter puedes usar los atajos de teclado:\n",
    "\n",
    "- `Ctrl + Enter` → Ejecuta la celda actual y permanece en ella.\n",
    "- `Shift + Enter` → Ejecuta la celda actual y pasa a la siguiente celda (o crea una nueva si no existe).\n",
    "- `Alt + Enter` → Ejecuta la celda actual y crea una nueva celda debajo.\n",
    "\n",
    "💡 **Consejo**: lo más común es usar `Shift + Enter`.\n"
   ]
  },
  {
   "cell_type": "code",
   "execution_count": 1,
   "id": "2fab7ea1",
   "metadata": {},
   "outputs": [
    {
     "name": "stdout",
     "output_type": "stream",
     "text": [
      "¡Hola desde Jupyter!\n"
     ]
    }
   ],
   "source": [
    "# Ejecuta esta celda con Ctrl+Enter o Shift+Enter\n",
    "mensaje = \"¡Hola desde Jupyter!\"\n",
    "print(mensaje)"
   ]
  },
  {
   "cell_type": "markdown",
   "id": "09bebda6",
   "metadata": {},
   "source": [
    "## Crear y borrar celdas\n",
    "- Para **crear una celda debajo**: presiona `B` (cuando no estés escribiendo dentro de la celda).\n",
    "- Para **crear una celda arriba**: presiona `A`.\n",
    "- Para **borrar una celda**: presiona dos veces `D` (`DD`).\n",
    "\n",
    "👉 Estos atajos funcionan cuando estás en **modo de comandos** (cuando el borde de la celda es azul).  \n",
    "Si estás escribiendo dentro de una celda (borde verde), presiona `Esc` para salir al modo de comandos.\n"
   ]
  },
  {
   "cell_type": "markdown",
   "id": "60b3993a",
   "metadata": {},
   "source": [
    "## Guardar y exportar tu trabajo\n",
    "- Guarda tu cuaderno con `Ctrl + S` o en el menú **File > Save and Checkpoint**.\n",
    "- Puedes exportar tu cuaderno a otros formatos: PDF, HTML, etc. desde **File > Download as**.\n"
   ]
  },
  {
   "cell_type": "markdown",
   "id": "a252ec71",
   "metadata": {},
   "source": [
    "## Escribir en Markdown\n",
    "En una celda de tipo **Markdown**, puedes dar formato a tu texto:\n",
    "\n",
    "- `# Título 1`, `## Título 2`, `### Título 3`\n",
    "- **Negrita** → `**texto**`\n",
    "- *Cursiva* → `*texto*`\n",
    "- Listas con `-` o `1.`\n",
    "- Fórmulas matemáticas con LaTeX: `$a^2 + b^2 = c^2$`\n",
    "\n",
    "Ejemplo:\n",
    "```markdown\n",
    "# Título grande\n",
    "## Título pequeño\n",
    "- Item 1\n",
    "- Item 2\n",
    "**Negrita** y *cursiva*\n",
    "```\n"
   ]
  },
  {
   "cell_type": "markdown",
   "id": "c6485323",
   "metadata": {},
   "source": [
    "## ✏️ Ejercicio práctico\n",
    "1. Crea una celda de código y define una variable con tu nombre.\n",
    "2. Imprime un saludo con esa variable.\n",
    "3. Crea una celda Markdown y escribe una lista con tus 3 lenguajes de programación favoritos.\n"
   ]
  },
  {
   "cell_type": "markdown",
   "id": "310c450c-886f-47c3-b092-873ea0a17d74",
   "metadata": {
    "jp-MarkdownHeadingCollapsed": true
   },
   "source": [
    "# Escribe aquí tu código para el ejercicio\n",
    "nombre = \"Tu nombre\"\n",
    "print(\"Hola,\", nombre)"
   ]
  },
  {
   "cell_type": "markdown",
   "id": "32b9521d-10c2-42ad-a10d-ee433d8d944f",
   "metadata": {},
   "source": [
    "# *****************\n",
    "# ESTO SON EJEMPLOS\n",
    "## Subtitulo **Inteligencia artificial** y *Big Data* \n",
    "### final \n",
    "###### esto corresponde a un H6 en HTML\n",
    "1. Tema 1\n",
    "2. Tema 2\n",
    "3. Tema 3\n",
    "    1. Subtema 3.1\n",
    "    2. Subtema 3.2\n",
    "\n",
    "\n",
    "$a^2 + b^2 = c^2$\n",
    "\n",
    "> esto es una cita\n",
    "\n",
    "***Negrita y cursiva a la vez***\n",
    "\n",
    "Esto es un texto donde vamos a ==destacar estas palabras== a ver si funciona.\n",
    "\n",
    "\n",
    "# H<sub>2</sub>O\n",
    "# x<sup>3</sup>+x<sup>2\n",
    "\n",
    "[Enlace a DYM](www.dymcanarias.com)\n",
    "<hr>\n",
    "\n",
    "![Markdown logo](https://encrypted-tbn0.gstatic.com/images?q=tbn:ANd9GcTeQQMjaNv8KD5_iOB8unvelWTSIKEp3qsd2w&s)\n",
    "\n",
    "| Cabecera  | Cabecera  |\n",
    "|-----------|-----------|\n",
    "| Celda 1   | Celda 2   |\n",
    "| Celda 3   | Celda 4   |\n",
    "| Celda 4   | Celda 6   |\n",
    "| Celda 6   | Celda 7   |\n",
    "\n",
    "Good job! :joy:\n",
    "\n"
   ]
  }
 ],
 "metadata": {
  "kernelspec": {
   "display_name": "Python [conda env:base] *",
   "language": "python",
   "name": "conda-base-py"
  },
  "language_info": {
   "codemirror_mode": {
    "name": "ipython",
    "version": 3
   },
   "file_extension": ".py",
   "mimetype": "text/x-python",
   "name": "python",
   "nbconvert_exporter": "python",
   "pygments_lexer": "ipython3",
   "version": "3.13.5"
  }
 },
 "nbformat": 4,
 "nbformat_minor": 5
}
