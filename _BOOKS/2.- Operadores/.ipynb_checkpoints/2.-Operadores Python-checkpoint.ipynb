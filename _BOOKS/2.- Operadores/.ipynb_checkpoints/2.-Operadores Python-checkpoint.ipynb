{
 "cells": [
  {
   "cell_type": "markdown",
   "id": "14c3a77d",
   "metadata": {},
   "source": [
    "# 2.- Operadores en Python"
   ]
  },
  {
   "cell_type": "markdown",
   "id": "4cd0ad42",
   "metadata": {},
   "source": [
    "En este apartado vamos a aprender qué son los **operadores** en Python, \n",
    "cómo funcionan y cuáles son los diferentes tipos disponibles.\n",
    "\n",
    "Un **operador** es un símbolo que le dice al intérprete de Python que realice una operación específica.\n",
    "Los **operandos** son los valores o variables sobre los que actúa el operador.\n"
   ]
  },
  {
   "cell_type": "markdown",
   "id": "e83758b4",
   "metadata": {},
   "source": [
    "## 2.1 Operadores aritméticos"
   ]
  },
  {
   "cell_type": "markdown",
   "id": "7be7de19",
   "metadata": {},
   "source": [
    "Los operadores aritméticos se utilizan para realizar operaciones matemáticas básicas:\n",
    "\n",
    "| Operador | Descripción | Ejemplo |\n",
    "|----------|-------------|---------|\n",
    "| `+` | Suma | `3 + 2 = 5` |\n",
    "| `-` | Resta | `3 - 2 = 1` |\n",
    "| `*` | Multiplicación | `3 * 2 = 6` |\n",
    "| `/` | División | `3 / 2 = 1.5` |\n",
    "| `//` | División entera | `3 // 2 = 1` |\n",
    "| `%` | Módulo (resto) | `3 % 2 = 1` |\n",
    "| `**` | Exponente | `3 ** 2 = 9` |\n"
   ]
  },
  {
   "cell_type": "code",
   "execution_count": null,
   "id": "17598346",
   "metadata": {},
   "outputs": [],
   "source": [
    "# Ejemplos de operadores aritméticos\n",
    "a = 10\n",
    "b = 3\n",
    "\n",
    "print(\"Suma:\", a + b)\n",
    "print(\"Resta:\", a - b)\n",
    "print(\"Multiplicación:\", a * b)\n",
    "print(\"División:\", a / b)\n",
    "print(\"División entera:\", a // b)\n",
    "print(\"Módulo:\", a % b)\n",
    "print(\"Exponente:\", a ** b)"
   ]
  },
  {
   "cell_type": "markdown",
   "id": "9131688e",
   "metadata": {},
   "source": [
    "## 2.2 Operadores de comparación"
   ]
  },
  {
   "cell_type": "markdown",
   "id": "5a593ee0",
   "metadata": {},
   "source": [
    "Los operadores de comparación se utilizan para comparar valores y devuelven un resultado de tipo **booleano** (`True` o `False`).\n",
    "\n",
    "| Operador | Descripción | Ejemplo |\n",
    "|----------|-------------|---------|\n",
    "| `==` | Igual que | `3 == 3 → True` |\n",
    "| `!=` | Distinto que | `3 != 2 → True` |\n",
    "| `>` | Mayor que | `3 > 2 → True` |\n",
    "| `<` | Menor que | `3 < 2 → False` |\n",
    "| `>=` | Mayor o igual que | `3 >= 2 → True` |\n",
    "| `<=` | Menor o igual que | `3 <= 3 → True` |\n"
   ]
  },
  {
   "cell_type": "code",
   "execution_count": null,
   "id": "8bd15673",
   "metadata": {},
   "outputs": [],
   "source": [
    "# Ejemplos de operadores de comparación\n",
    "x = 5\n",
    "y = 8\n",
    "\n",
    "print(\"¿x == y?\", x == y)\n",
    "print(\"¿x != y?\", x != y)\n",
    "print(\"¿x > y?\", x > y)\n",
    "print(\"¿x < y?\", x < y)\n",
    "print(\"¿x >= y?\", x >= y)\n",
    "print(\"¿x <= y?\", x <= y)"
   ]
  },
  {
   "cell_type": "markdown",
   "id": "5e406bb3",
   "metadata": {},
   "source": [
    "## 2.3 Operadores lógicos"
   ]
  },
  {
   "cell_type": "markdown",
   "id": "3ce4ef41",
   "metadata": {},
   "source": [
    "Los operadores lógicos permiten combinar expresiones condicionales.\n",
    "\n",
    "| Operador | Descripción | Ejemplo |\n",
    "|----------|-------------|---------|\n",
    "| `and` | Devuelve True si ambas condiciones son verdaderas | `(3 > 2 and 5 > 1)` → True |\n",
    "| `or` | Devuelve True si al menos una condición es verdadera | `(3 > 2 or 5 < 1)` → True |\n",
    "| `not` | Invierte el valor lógico | `not(3 > 2)` → False |\n"
   ]
  },
  {
   "cell_type": "code",
   "execution_count": null,
   "id": "529de0e8",
   "metadata": {},
   "outputs": [],
   "source": [
    "# Ejemplos de operadores lógicos\n",
    "a = True\n",
    "b = False\n",
    "\n",
    "print(\"a and b:\", a and b)\n",
    "print(\"a or b:\", a or b)\n",
    "print(\"not a:\", not a)"
   ]
  },
  {
   "cell_type": "markdown",
   "id": "c7a7885b",
   "metadata": {},
   "source": [
    "## 2.4 Operadores de asignación"
   ]
  },
  {
   "cell_type": "markdown",
   "id": "0250df49",
   "metadata": {},
   "source": [
    "Los operadores de asignación se utilizan para asignar valores a variables de forma simplificada.\n",
    "\n",
    "| Operador | Ejemplo | Equivalente |\n",
    "|----------|---------|-------------|\n",
    "| `=` | `x = 5` | Asigna 5 a x |\n",
    "| `+=` | `x += 3` | `x = x + 3` |\n",
    "| `-=` | `x -= 3` | `x = x - 3` |\n",
    "| `*=` | `x *= 3` | `x = x * 3` |\n",
    "| `/=` | `x /= 3` | `x = x / 3` |\n",
    "| `//=` | `x //= 3` | `x = x // 3` |\n",
    "| `%=` | `x %= 3` | `x = x % 3` |\n",
    "| `**=` | `x **= 3` | `x = x ** 3` |\n"
   ]
  },
  {
   "cell_type": "code",
   "execution_count": null,
   "id": "a7d3a5ec",
   "metadata": {},
   "outputs": [],
   "source": [
    "# Ejemplos de operadores de asignación\n",
    "x = 10\n",
    "print(\"Valor inicial:\", x)\n",
    "\n",
    "x += 5\n",
    "print(\"Después de x += 5:\", x)\n",
    "\n",
    "x *= 2\n",
    "print(\"Después de x *= 2:\", x)\n",
    "\n",
    "x //= 3\n",
    "print(\"Después de x //= 3:\", x)"
   ]
  },
  {
   "cell_type": "markdown",
   "id": "90435327",
   "metadata": {},
   "source": [
    "## 2.5 Operadores de identidad"
   ]
  },
  {
   "cell_type": "markdown",
   "id": "6b823087",
   "metadata": {},
   "source": [
    "Los operadores de identidad se utilizan para comprobar si dos variables hacen referencia al mismo objeto en memoria.\n",
    "\n",
    "| Operador | Descripción | Ejemplo |\n",
    "|----------|-------------|---------|\n",
    "| `is` | Devuelve True si ambas variables son el mismo objeto | `a is b` |\n",
    "| `is not` | Devuelve True si ambas variables NO son el mismo objeto | `a is not b` |\n"
   ]
  },
  {
   "cell_type": "code",
   "execution_count": 5,
   "id": "470a458f",
   "metadata": {},
   "outputs": [
    {
     "name": "stdout",
     "output_type": "stream",
     "text": [
      "140729317831880 id de x\n",
      "x == y: False\n",
      "x is y: False\n",
      "x is z: True\n"
     ]
    }
   ],
   "source": [
    "# Ejemplos de operadores de identidad\n",
    "x = 1000\n",
    "y = 1000\n",
    "z = x\n",
    "print(id(x),(\"id de x\"))\n",
    "print(\"x == y:\", x == y)   # Igualdad de valor\n",
    "print(\"x is y:\", x is y)   # ¿Misma referencia? Puede ser False\n",
    "print(\"x is z:\", x is z)   # True, misma referencia"
   ]
  },
  {
   "cell_type": "markdown",
   "id": "15dd0949",
   "metadata": {},
   "source": [
    "👉 **Diferencia entre `==` y `is`:**\n",
    "- `==` compara **valores**\n",
    "- `is` compara **identidad (referencia en memoria)**\n",
    "\n",
    "✅ Usa `is` para comprobar con `None` o sentinels especiales.\n",
    "❌ No lo uses para comparar enteros o cadenas (puede dar falsos resultados por optimizaciones internas de Python).\n"
   ]
  },
  {
   "cell_type": "markdown",
   "id": "2f8f4a67",
   "metadata": {},
   "source": [
    "## 2.6 Ejercicios guiados"
   ]
  },
  {
   "cell_type": "markdown",
   "id": "ea54b2a3",
   "metadata": {},
   "source": [
    "### Ejercicio 1: Calculadora básica  \n",
    "Pide dos números y muestra por pantalla los resultados de las operaciones aritméticas (+, -, *, /, //, %, **).\n",
    "\n",
    "### Ejercicio 2: Comparaciones  \n",
    "Pide dos números y muestra directamente el resultado de las comparaciones (`==`, `!=`, `>`, `<`).\n",
    "\n",
    "### Ejercicio 3: Operadores lógicos  \n",
    "Declara dos variables booleanas (`True` y `False`) y muestra los resultados de `and`, `or`, `not`.\n",
    "\n",
    "### Ejercicio 4: Operadores de asignación  \n",
    "Declara una variable con un número y aplica varias operaciones de asignación, mostrando el valor en cada paso.\n",
    "\n",
    "### Ejercicio 5: Identidad  \n",
    "Declara dos variables con el mismo valor y comprueba la diferencia entre `==` e `is`.\n"
   ]
  },
  {
   "cell_type": "code",
   "execution_count": null,
   "id": "52ecb80d",
   "metadata": {},
   "outputs": [],
   "source": [
    "# Ejercicio 1: Calculadora básica\n",
    "a = int(input(\"Introduce el primer número: \"))\n",
    "b = int(input(\"Introduce el segundo número: \"))\n",
    "\n",
    "print(\"Suma:\", a + b)\n",
    "print(\"Resta:\", a - b)\n",
    "print(\"Multiplicación:\", a * b)\n",
    "print(\"División:\", a / b)\n",
    "print(\"División entera:\", a // b)\n",
    "print(\"Módulo:\", a % b)\n",
    "print(\"Exponente:\", a ** b)"
   ]
  },
  {
   "cell_type": "code",
   "execution_count": null,
   "id": "4bfd20f6",
   "metadata": {},
   "outputs": [],
   "source": [
    "# Ejercicio 2: Comparaciones\n",
    "x = int(input(\"Introduce un número: \"))\n",
    "y = int(input(\"Introduce otro número: \"))\n",
    "\n",
    "print(\"x == y:\", x == y)\n",
    "print(\"x != y:\", x != y)\n",
    "print(\"x > y:\", x > y)\n",
    "print(\"x < y:\", x < y)"
   ]
  },
  {
   "cell_type": "code",
   "execution_count": null,
   "id": "66314024",
   "metadata": {},
   "outputs": [],
   "source": [
    "# Ejercicio 3: Operadores lógicos\n",
    "a = True\n",
    "b = False\n",
    "\n",
    "print(\"a and b:\", a and b)\n",
    "print(\"a or b:\", a or b)\n",
    "print(\"not a:\", not a)"
   ]
  },
  {
   "cell_type": "code",
   "execution_count": null,
   "id": "36343911",
   "metadata": {},
   "outputs": [],
   "source": [
    "# Ejercicio 4: Operadores de asignación\n",
    "x = 10\n",
    "print(\"Valor inicial:\", x)\n",
    "\n",
    "x += 2\n",
    "print(\"Después de x += 2:\", x)\n",
    "\n",
    "x *= 3\n",
    "print(\"Después de x *= 3:\", x)\n",
    "\n",
    "x -= 4\n",
    "print(\"Después de x -= 4:\", x)"
   ]
  },
  {
   "cell_type": "code",
   "execution_count": null,
   "id": "7cc6ca70",
   "metadata": {},
   "outputs": [],
   "source": [
    "# Ejercicio 5: Identidad\n",
    "a = 500\n",
    "b = 500\n",
    "\n",
    "print(\"a == b:\", a == b)   # Igualdad de valor\n",
    "print(\"a is b:\", a is b)   # Identidad (puede ser False)"
   ]
  },
  {
   "cell_type": "markdown",
   "id": "d954b192",
   "metadata": {},
   "source": [
    "## 2.7 Ejercicios propuestos"
   ]
  },
  {
   "cell_type": "markdown",
   "id": "8c8fe73b",
   "metadata": {},
   "source": [
    "1. Pide dos números e imprime el resultado de todas las operaciones aritméticas posibles.  \n",
    "2. Pide un número y muestra si es múltiplo de 5 (`print(num % 5 == 0)`).  \n",
    "3. Declara una variable con un número y aplica diferentes operadores de asignación, mostrando el resultado cada vez.  \n",
    "4. Declara dos números y muestra el resultado de varias comparaciones (`==`, `!=`, `>`, `<`).  \n",
    "5. Experimenta con `is` e `is not` usando enteros pequeños (ej: 10) y grandes (ej: 1000) y observa los resultados.  \n"
   ]
  }
 ],
 "metadata": {
  "kernelspec": {
   "display_name": "Python [conda env:base] *",
   "language": "python",
   "name": "conda-base-py"
  },
  "language_info": {
   "codemirror_mode": {
    "name": "ipython",
    "version": 3
   },
   "file_extension": ".py",
   "mimetype": "text/x-python",
   "name": "python",
   "nbconvert_exporter": "python",
   "pygments_lexer": "ipython3",
   "version": "3.13.5"
  }
 },
 "nbformat": 4,
 "nbformat_minor": 5
}
