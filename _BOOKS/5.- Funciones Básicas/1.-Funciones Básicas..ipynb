{
 "cells": [
  {
   "cell_type": "markdown",
   "id": "84fe3b29",
   "metadata": {},
   "source": [
    "# Python – Funciones predefinidas (Nivel Básico)\n",
    "\n",
    "**Fecha:** 17/09/2025\n",
    "\n",
    "\n",
    "En este cuaderno practicarás funciones *built-in* esenciales: `print`, `input`, `len`, `type`, conversiones de tipo, números básicos, agregaciones simples y manejo mínimo de archivos."
   ]
  },
  {
   "cell_type": "markdown",
   "id": "f51968ca",
   "metadata": {},
   "source": [
    "\n",
    "## Ver funciones disponibles en Python\n",
    "\n",
    "Puedes usar estas funciones para explorar qué funciones están disponibles en tu entorno:\n",
    "\n",
    "```python\n",
    "# Ver todas las funciones y objetos disponibles\n",
    "dir(__builtins__)\n",
    "\n",
    "# También puedes obtener ayuda sobre una función en particular\n",
    "help(print)\n",
    "```\n"
   ]
  },
  {
   "cell_type": "code",
   "execution_count": 1,
   "id": "29901e42-e554-48f4-999c-f77fd2500d76",
   "metadata": {
    "scrolled": true
   },
   "outputs": [
    {
     "data": {
      "text/plain": [
       "['ArithmeticError',\n",
       " 'AssertionError',\n",
       " 'AttributeError',\n",
       " 'BaseException',\n",
       " 'BaseExceptionGroup',\n",
       " 'BlockingIOError',\n",
       " 'BrokenPipeError',\n",
       " 'BufferError',\n",
       " 'BytesWarning',\n",
       " 'ChildProcessError',\n",
       " 'ConnectionAbortedError',\n",
       " 'ConnectionError',\n",
       " 'ConnectionRefusedError',\n",
       " 'ConnectionResetError',\n",
       " 'DeprecationWarning',\n",
       " 'EOFError',\n",
       " 'Ellipsis',\n",
       " 'EncodingWarning',\n",
       " 'EnvironmentError',\n",
       " 'Exception',\n",
       " 'ExceptionGroup',\n",
       " 'False',\n",
       " 'FileExistsError',\n",
       " 'FileNotFoundError',\n",
       " 'FloatingPointError',\n",
       " 'FutureWarning',\n",
       " 'GeneratorExit',\n",
       " 'IOError',\n",
       " 'ImportError',\n",
       " 'ImportWarning',\n",
       " 'IndentationError',\n",
       " 'IndexError',\n",
       " 'InterruptedError',\n",
       " 'IsADirectoryError',\n",
       " 'KeyError',\n",
       " 'KeyboardInterrupt',\n",
       " 'LookupError',\n",
       " 'MemoryError',\n",
       " 'ModuleNotFoundError',\n",
       " 'NameError',\n",
       " 'None',\n",
       " 'NotADirectoryError',\n",
       " 'NotImplemented',\n",
       " 'NotImplementedError',\n",
       " 'OSError',\n",
       " 'OverflowError',\n",
       " 'PendingDeprecationWarning',\n",
       " 'PermissionError',\n",
       " 'ProcessLookupError',\n",
       " 'PythonFinalizationError',\n",
       " 'RecursionError',\n",
       " 'ReferenceError',\n",
       " 'ResourceWarning',\n",
       " 'RuntimeError',\n",
       " 'RuntimeWarning',\n",
       " 'StopAsyncIteration',\n",
       " 'StopIteration',\n",
       " 'SyntaxError',\n",
       " 'SyntaxWarning',\n",
       " 'SystemError',\n",
       " 'SystemExit',\n",
       " 'TabError',\n",
       " 'TimeoutError',\n",
       " 'True',\n",
       " 'TypeError',\n",
       " 'UnboundLocalError',\n",
       " 'UnicodeDecodeError',\n",
       " 'UnicodeEncodeError',\n",
       " 'UnicodeError',\n",
       " 'UnicodeTranslateError',\n",
       " 'UnicodeWarning',\n",
       " 'UserWarning',\n",
       " 'ValueError',\n",
       " 'Warning',\n",
       " 'WindowsError',\n",
       " 'ZeroDivisionError',\n",
       " '_IncompleteInputError',\n",
       " '__IPYTHON__',\n",
       " '__build_class__',\n",
       " '__debug__',\n",
       " '__doc__',\n",
       " '__import__',\n",
       " '__loader__',\n",
       " '__name__',\n",
       " '__package__',\n",
       " '__spec__',\n",
       " 'abs',\n",
       " 'aiter',\n",
       " 'all',\n",
       " 'anext',\n",
       " 'any',\n",
       " 'ascii',\n",
       " 'bin',\n",
       " 'bool',\n",
       " 'breakpoint',\n",
       " 'bytearray',\n",
       " 'bytes',\n",
       " 'callable',\n",
       " 'chr',\n",
       " 'classmethod',\n",
       " 'compile',\n",
       " 'complex',\n",
       " 'copyright',\n",
       " 'credits',\n",
       " 'delattr',\n",
       " 'dict',\n",
       " 'dir',\n",
       " 'display',\n",
       " 'divmod',\n",
       " 'enumerate',\n",
       " 'eval',\n",
       " 'exec',\n",
       " 'execfile',\n",
       " 'filter',\n",
       " 'float',\n",
       " 'format',\n",
       " 'frozenset',\n",
       " 'get_ipython',\n",
       " 'getattr',\n",
       " 'globals',\n",
       " 'hasattr',\n",
       " 'hash',\n",
       " 'help',\n",
       " 'hex',\n",
       " 'id',\n",
       " 'input',\n",
       " 'int',\n",
       " 'isinstance',\n",
       " 'issubclass',\n",
       " 'iter',\n",
       " 'len',\n",
       " 'license',\n",
       " 'list',\n",
       " 'locals',\n",
       " 'map',\n",
       " 'max',\n",
       " 'memoryview',\n",
       " 'min',\n",
       " 'next',\n",
       " 'object',\n",
       " 'oct',\n",
       " 'open',\n",
       " 'ord',\n",
       " 'pow',\n",
       " 'print',\n",
       " 'property',\n",
       " 'range',\n",
       " 'repr',\n",
       " 'reversed',\n",
       " 'round',\n",
       " 'runfile',\n",
       " 'set',\n",
       " 'setattr',\n",
       " 'slice',\n",
       " 'sorted',\n",
       " 'staticmethod',\n",
       " 'str',\n",
       " 'sum',\n",
       " 'super',\n",
       " 'tuple',\n",
       " 'type',\n",
       " 'vars',\n",
       " 'zip']"
      ]
     },
     "execution_count": 1,
     "metadata": {},
     "output_type": "execute_result"
    }
   ],
   "source": [
    "dir(__builtin__)"
   ]
  },
  {
   "cell_type": "code",
   "execution_count": 2,
   "id": "c2dad021-fb06-47e0-aec6-c8e7aecd99f2",
   "metadata": {},
   "outputs": [
    {
     "name": "stdout",
     "output_type": "stream",
     "text": [
      "Help on _Helper in module _sitebuiltins object:\n",
      "\n",
      "class _Helper(builtins.object)\n",
      " |  Define the builtin 'help'.\n",
      " |\n",
      " |  This is a wrapper around pydoc.help that provides a helpful message\n",
      " |  when 'help' is typed at the Python interactive prompt.\n",
      " |\n",
      " |  Calling help() at the Python prompt starts an interactive help session.\n",
      " |  Calling help(thing) prints help for the python object 'thing'.\n",
      " |\n",
      " |  Methods defined here:\n",
      " |\n",
      " |  __call__(self, *args, **kwds)\n",
      " |      Call self as a function.\n",
      " |\n",
      " |  __repr__(self)\n",
      " |      Return repr(self).\n",
      " |\n",
      " |  ----------------------------------------------------------------------\n",
      " |  Data descriptors defined here:\n",
      " |\n",
      " |  __dict__\n",
      " |      dictionary for instance variables\n",
      " |\n",
      " |  __weakref__\n",
      " |      list of weak references to the object\n",
      "\n"
     ]
    }
   ],
   "source": [
    "help(help)"
   ]
  },
  {
   "cell_type": "markdown",
   "id": "4e7cfe99",
   "metadata": {},
   "source": [
    "## 1. Salida y entrada: `print`, `input`\n",
    "`print` muestra valores. `input` lee texto del usuario."
   ]
  },
  {
   "cell_type": "code",
   "execution_count": 9,
   "id": "fb9436c5",
   "metadata": {},
   "outputs": [
    {
     "name": "stdout",
     "output_type": "stream",
     "text": [
      "Hola, mundo\n"
     ]
    }
   ],
   "source": [
    "print('Hola, mundo')\n",
    "# nombre = input('¿Tu nombre? ')\n",
    "# print('Encantado,', nombre)\n"
   ]
  },
  {
   "cell_type": "markdown",
   "id": "aa02f002",
   "metadata": {},
   "source": [
    "**Ejercicio 1**: Muestra en una sola línea tu nombre y ciudad separados por ` - `.\n",
    "\n",
    "<details><summary>Solución</summary>\n",
    "\n",
    "```python\n",
    "print('Ana', 'Madrid', sep=' - ')\n",
    "```\n",
    "</details>"
   ]
  },
  {
   "cell_type": "code",
   "execution_count": 11,
   "id": "fa0a116a-00a1-4d2d-804d-4875b730002a",
   "metadata": {},
   "outputs": [
    {
     "name": "stdin",
     "output_type": "stream",
     "text": [
      "Nombre:  Juan\n",
      "Ciudad:  Soria\n"
     ]
    },
    {
     "name": "stdout",
     "output_type": "stream",
     "text": [
      " \n",
      "Juan*Soria\n",
      "Juan*Soria\n"
     ]
    }
   ],
   "source": [
    "nombre = input(\"Nombre: \")\n",
    "ciudad = input(\"Ciudad: \")\n",
    "\n",
    "print(\" \")\n",
    "print(f\"{nombre}*{ciudad}\")\n",
    "print(nombre, ciudad, sep=\"*\")\n"
   ]
  },
  {
   "cell_type": "markdown",
   "id": "157b2ed2",
   "metadata": {},
   "source": [
    "## 2. Tipos y conversiones: `type`, `int`, `float`, `str`, `bool`\n"
   ]
  },
  {
   "cell_type": "code",
   "execution_count": 28,
   "id": "44a459f8",
   "metadata": {},
   "outputs": [
    {
     "name": "stdout",
     "output_type": "stream",
     "text": [
      "<class 'str'>\n",
      "50\n",
      "3.0\n",
      "123\n",
      "False True\n"
     ]
    }
   ],
   "source": [
    "x = '42'\n",
    "print(type(x))\n",
    "print(int(x) + 8)\n",
    "print(float('2.5') + 0.5)\n",
    "print(str(123))\n",
    "print(bool(0), bool('hola'))"
   ]
  },
  {
   "cell_type": "markdown",
   "id": "b4cd8d94",
   "metadata": {},
   "source": [
    "**Ejercicio 2**: Convierte `'7.0'` a `float`, súmale `3`, conviértelo a `str` y concatena `' puntos'`.\n",
    "\n",
    "<details><summary>Solución</summary>\n",
    "\n",
    "```python\n",
    "s = '7.0'\n",
    "res = float(s) + 3\n",
    "print(str(res) + ' puntos')\n",
    "```\n",
    "</details>"
   ]
  },
  {
   "cell_type": "code",
   "execution_count": 29,
   "id": "d4f026af-9d6e-4c10-8690-d7810b24d36b",
   "metadata": {},
   "outputs": [
    {
     "name": "stdout",
     "output_type": "stream",
     "text": [
      "7.0 <class 'str'>\n",
      "10.0 <class 'float'>\n",
      "10.0 <class 'str'>\n",
      "10.0 puntos <class 'str'>\n"
     ]
    }
   ],
   "source": [
    "x = '7.0'\n",
    "print (x, type(x))\n",
    "b = float(x)+3\n",
    "print (b, type(b))\n",
    "c = str(b)\n",
    "print (c, type(c))\n",
    "d = c + \" puntos\"\n",
    "print (d, type(d))\n"
   ]
  },
  {
   "cell_type": "markdown",
   "id": "8914122d",
   "metadata": {},
   "source": [
    "## 3. Longitud y rangos: `len`, `range`\n"
   ]
  },
  {
   "cell_type": "code",
   "execution_count": 42,
   "id": "92d7f8dc",
   "metadata": {},
   "outputs": [
    {
     "name": "stdout",
     "output_type": "stream",
     "text": [
      "6\n",
      "[1, 2, 3, 4]\n"
     ]
    }
   ],
   "source": [
    "print(len('python'))\n",
    "print(list(range(1,5)))"
   ]
  },
  {
   "cell_type": "markdown",
   "id": "954b8dce",
   "metadata": {},
   "source": [
    "**Ejercicio 3**: Crea una lista con los números del 2 al 10 de 2 en 2 usando `range`.\n",
    "\n",
    "<details><summary>Solución</summary>\n",
    "\n",
    "```python\n",
    "print(list(range(2, 11, 2)))\n",
    "```\n",
    "</details>"
   ]
  },
  {
   "cell_type": "code",
   "execution_count": 54,
   "id": "0de0e963-661e-406d-b63d-812a375179c3",
   "metadata": {},
   "outputs": [
    {
     "name": "stdout",
     "output_type": "stream",
     "text": [
      "[2, 4, 6, 8, 10]\n"
     ]
    }
   ],
   "source": [
    "print(list(range(2,11,2)))"
   ]
  },
  {
   "cell_type": "code",
   "execution_count": 55,
   "id": "b628aac9-90a1-4fc4-99c6-d0c35a0908a1",
   "metadata": {
    "collapsed": true,
    "jupyter": {
     "outputs_hidden": true
    }
   },
   "outputs": [
    {
     "name": "stdout",
     "output_type": "stream",
     "text": [
      "2.0\n",
      "4.5\n",
      "7.0\n",
      "9.5\n"
     ]
    }
   ],
   "source": [
    "import numpy as np\n",
    "\n",
    "for i in np.arange(2, 11, 2.5):\n",
    "    print(i)"
   ]
  },
  {
   "cell_type": "markdown",
   "id": "6fdcc1e6",
   "metadata": {},
   "source": [
    "## 4. Números básicos: `abs`, `round`\n"
   ]
  },
  {
   "cell_type": "code",
   "execution_count": null,
   "id": "795cf990",
   "metadata": {},
   "outputs": [],
   "source": [
    "print(abs(-5))\n",
    "print(round(3.14159, 2))"
   ]
  },
  {
   "cell_type": "markdown",
   "id": "e8d2d0e7",
   "metadata": {},
   "source": [
    "**Ejercicio 4**: Redondea `-2.555` a 2 decimales tras aplicar `abs`.\n",
    "\n",
    "<details><summary>Solución</summary>\n",
    "\n",
    "```python\n",
    "x = abs(-2.555)\n",
    "print(round(x, 2))\n",
    "```\n",
    "</details>"
   ]
  },
  {
   "cell_type": "code",
   "execution_count": 56,
   "id": "e25ef1ab-163b-46e7-b24f-4856c96c5e0d",
   "metadata": {},
   "outputs": [
    {
     "name": "stdout",
     "output_type": "stream",
     "text": [
      "2.56\n"
     ]
    }
   ],
   "source": [
    "print(round(abs(-2.555),2))"
   ]
  },
  {
   "cell_type": "markdown",
   "id": "ae55259e",
   "metadata": {},
   "source": [
    "## 5. Agregaciones: `min`, `max`, `sum`\n"
   ]
  },
  {
   "cell_type": "code",
   "execution_count": null,
   "id": "35b9f86c",
   "metadata": {},
   "outputs": [],
   "source": [
    "valores = [5, 1, 9]\n",
    "print(min(valores), max(valores), sum(valores))"
   ]
  },
  {
   "cell_type": "markdown",
   "id": "d8765582",
   "metadata": {},
   "source": [
    "**Ejercicio 5**: Calcula la media de `[10, 0, 5, 5]` con `sum/len`.\n",
    "\n",
    "<details><summary>Solución</summary>\n",
    "\n",
    "```python\n",
    "nums = [10, 0, 5, 5]\n",
    "print(sum(nums)/len(nums))\n",
    "```\n",
    "</details>"
   ]
  },
  {
   "cell_type": "code",
   "execution_count": 36,
   "id": "0675623d-8a7c-458d-a23a-2c55dbd06cb3",
   "metadata": {},
   "outputs": [
    {
     "name": "stdout",
     "output_type": "stream",
     "text": [
      "5.0\n"
     ]
    }
   ],
   "source": [
    "valores = [10,0,5,5]\n",
    "media = (sum(valores)/len(valores))\n",
    "print (media)"
   ]
  },
  {
   "cell_type": "markdown",
   "id": "ef974d47",
   "metadata": {},
   "source": [
    "## 6. Colecciones básicas: `list`, `tuple`, `set`, `dict`\n"
   ]
  },
  {
   "cell_type": "code",
   "execution_count": 1,
   "id": "47577805",
   "metadata": {},
   "outputs": [
    {
     "name": "stdout",
     "output_type": "stream",
     "text": [
      "['h', 'o', 'l', 'a']\n",
      "(1, 2, 3)\n",
      "{1, 2, 3}\n",
      "{'a': 1, 'b': 2}\n"
     ]
    }
   ],
   "source": [
    "#Este apartado lo vamos a ver muy por encima hasta que lleguemos al siguiente punto que son las colecciones\n",
    "print(list('hola'))\n",
    "print(tuple([1,2,3]))\n",
    "print(set([1,1,2,3]))\n",
    "print(dict(a=1, b=2))"
   ]
  },
  {
   "cell_type": "markdown",
   "id": "a99329a6",
   "metadata": {},
   "source": [
    "**Ejercicio 6**: Crea un conjunto con los caracteres únicos de `'mississippi'` y muestra su tamaño.\n",
    "\n",
    "<details><summary>Solución</summary>\n",
    "\n",
    "```python\n",
    "s = 'mississippi'\n",
    "unicos = set(s)\n",
    "print(unicos, len(unicos))\n",
    "```\n",
    "</details>"
   ]
  },
  {
   "cell_type": "code",
   "execution_count": 13,
   "id": "caed99da-0307-4357-a8e9-49efe2a51100",
   "metadata": {},
   "outputs": [
    {
     "name": "stdout",
     "output_type": "stream",
     "text": [
      "{'s', 'm', 'p', 'i'} 4\n"
     ]
    }
   ],
   "source": [
    "s = 'mississippi'\n",
    "unicos = set(s)\n",
    "print(unicos, len(unicos))"
   ]
  },
  {
   "cell_type": "markdown",
   "id": "4965a93d",
   "metadata": {},
   "source": [
    "**Ejercicio 7**: Crea `saludo.txt` con dos líneas y léelo completo.\n",
    "\n",
    "<details><summary>Solución</summary>\n",
    "\n",
    "```python\n",
    "ruta = '/mnt/data/saludo.txt'\n",
    "with open(ruta, 'w', encoding='utf-8') as f:\n",
    "    f.write('Hola\\nMundo')\n",
    "with open(ruta, 'r', encoding='utf-8') as f:\n",
    "    print(f.read())\n",
    "```\n",
    "</details>"
   ]
  },
  {
   "cell_type": "code",
   "execution_count": 5,
   "id": "64675465-f548-44a2-8d10-f263b79de838",
   "metadata": {},
   "outputs": [
    {
     "name": "stdout",
     "output_type": "stream",
     "text": [
      "Hola \n",
      "Mundo\n"
     ]
    }
   ],
   "source": [
    "import os\n",
    "\n",
    "# 1. Define the directory path for Windows\n",
    "directorio_base = 'C:\\\\ejemplo'\n",
    "ruta_archivo = os.path.join(directorio_base, 'Saludo.txt')\n",
    "\n",
    "# 2. Check if the directory exists and create it if it doesn't\n",
    "if not os.path.exists(directorio_base):\n",
    "    os.makedirs(directorio_base)\n",
    "\n",
    "# 3. Write to the file\n",
    "with open(ruta_archivo, 'w', encoding='utf-8') as f:\n",
    "    f.write('Hola \\nMundo')\n",
    "\n",
    "# 4. Read the content from the file\n",
    "with open(ruta_archivo, 'r', encoding='utf-8') as f:\n",
    "    print(f.read())"
   ]
  },
  {
   "cell_type": "markdown",
   "id": "4b3a3596",
   "metadata": {},
   "source": [
    "## 7. Repaso (mini proyecto)\n",
    "Calcula el total de una lista de precios `[12.5, 5.0, 3.5]` y muestra un mensaje como `Total: 21.0 €`."
   ]
  },
  {
   "cell_type": "code",
   "execution_count": 14,
   "id": "466fbf9c-4a37-45e7-973c-454ae7ae4b06",
   "metadata": {},
   "outputs": [
    {
     "name": "stdout",
     "output_type": "stream",
     "text": [
      "Total euros: 21.0\n"
     ]
    }
   ],
   "source": [
    "lista_precios = [12.5, 5.0, 3.5]\n",
    "total = sum(lista_precios)\n",
    "print (f\"Total euros: {total}\")"
   ]
  },
  {
   "cell_type": "markdown",
   "id": "91c7d63b",
   "metadata": {},
   "source": [
    "## 8. Archivos (muy básico): `open`\n"
   ]
  },
  {
   "cell_type": "code",
   "execution_count": null,
   "id": "fb108a8a",
   "metadata": {
    "scrolled": true
   },
   "outputs": [],
   "source": [
    "ruta = '/mnt/data/basico.txt'\n",
    "with open(ruta, 'w', encoding='utf-8') as f:\n",
    "    f.write('Hola archivo')\n",
    "with open(ruta, 'r', encoding='utf-8') as f:b\n",
    "    print(f.read())"
   ]
  },
  {
   "cell_type": "markdown",
   "id": "5da66ce9",
   "metadata": {},
   "source": [
    "## 1. Ver la ruta actual\n",
    "Usamos `os.getcwd()` para obtener el directorio donde se está ejecutando el notebook o script."
   ]
  },
  {
   "cell_type": "code",
   "execution_count": 17,
   "id": "3857628b",
   "metadata": {},
   "outputs": [
    {
     "name": "stdout",
     "output_type": "stream",
     "text": [
      "Ruta actual: C:\\Users\\Alumno\\CursoPython\\5.- Funciones Básicas\n"
     ]
    }
   ],
   "source": [
    "import os\n",
    "\n",
    "print('Ruta actual:', os.getcwd())"
   ]
  },
  {
   "cell_type": "markdown",
   "id": "3fbcb017",
   "metadata": {},
   "source": [
    "## 2. Crear y leer un archivo en la ruta actual\n",
    "En lugar de escribir una ruta absoluta, unimos la ruta actual con el nombre del archivo usando `os.path.join`. "
   ]
  },
  {
   "cell_type": "code",
   "execution_count": null,
   "id": "3fea64bd",
   "metadata": {},
   "outputs": [],
   "source": [
    "import os\n",
    "\n",
    "ruta = os.path.join(os.getcwd(), 'saludo.txt')\n",
    "\n",
    "# Escribir dos líneas en el archivo\n",
    "with open(ruta, 'w', encoding='utf-8') as f:\n",
    "    f.write('Hola\\nMundo')\n",
    "\n",
    "# Leer y mostrar el contenido\n",
    "with open(ruta, 'r', encoding='utf-8') as f:\n",
    "    contenido = f.read()\n",
    "\n",
    "print('Archivo creado en:', ruta)\n",
    "print('Contenido:\\n', contenido)"
   ]
  },
  {
   "cell_type": "markdown",
   "id": "54f1d3ac",
   "metadata": {},
   "source": [
    "# Ejemplo práctico: usar la ruta actual en Python\n",
    "\n",
    "**Fecha:** 16/09/2025\n",
    "\n",
    "Este notebook demuestra cómo crear y leer un archivo (`saludo.txt`) usando la **ruta actual** de trabajo en lugar de una ruta fija."
   ]
  },
  {
   "cell_type": "markdown",
   "id": "17041749",
   "metadata": {},
   "source": [
    "## 3. Alternativa con `pathlib`\n",
    "Una forma más moderna y legible de manejar rutas en Python."
   ]
  },
  {
   "cell_type": "code",
   "execution_count": 9,
   "id": "e3709e8c",
   "metadata": {},
   "outputs": [
    {
     "name": "stdout",
     "output_type": "stream",
     "text": [
      "Archivo creado en: C:\\Users\\Alumno\\CursoPython\\5.- Funciones Básicas\\saludo.txt\n",
      "Contenido:\n",
      " Hola\n",
      "Mundo\n"
     ]
    }
   ],
   "source": [
    "from pathlib import Path\n",
    "\n",
    "ruta_actual = Path.cwd()\n",
    "archivo = ruta_actual / 'saludo.txt'\n",
    "\n",
    "# Escribir\n",
    "archivo.write_text('Hola\\nMundo', encoding='utf-8')\n",
    "\n",
    "# Leer\n",
    "print('Archivo creado en:', archivo)\n",
    "print('Contenido:\\n', archivo.read_text(encoding='utf-8'))"
   ]
  }
 ],
 "metadata": {
  "kernelspec": {
   "display_name": "Python [conda env:base] *",
   "language": "python",
   "name": "conda-base-py"
  },
  "language_info": {
   "codemirror_mode": {
    "name": "ipython",
    "version": 3
   },
   "file_extension": ".py",
   "mimetype": "text/x-python",
   "name": "python",
   "nbconvert_exporter": "python",
   "pygments_lexer": "ipython3",
   "version": "3.13.5"
  }
 },
 "nbformat": 4,
 "nbformat_minor": 5
}
