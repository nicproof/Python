{
 "cells": [
  {
   "cell_type": "markdown",
   "metadata": {},
   "source": [
    "# Funciones: nivel básico — ejercicios (sin resolver)\n",
    "\n",
    "En este cuaderno encontrarás **enunciados** de ejercicios sobre funciones en Python y celdas preparadas para que escribas tus soluciones."
   ]
  },
  {
   "cell_type": "markdown",
   "metadata": {},
   "source": [
    "## Instrucciones\n",
    "- Lee atentamente cada **enunciado**.\n",
    "- Escribe tu código en las celdas asignadas.\n",
    "- Ejecuta para comprobar el resultado.\n",
    "- Puedes añadir celdas si lo necesitas."
   ]
  },
  {
   "cell_type": "markdown",
   "metadata": {},
   "source": [
    "---\n",
    "\n",
    "## Ejercicio 1\n",
    "\n",
    "Crea una función `saludar(nombre)` que devuelva el texto `\"Hola, <nombre>!\"`."
   ]
  },
  {
   "cell_type": "code",
   "execution_count": 5,
   "metadata": {},
   "outputs": [
    {
     "name": "stdin",
     "output_type": "stream",
     "text": [
      "Introducir nombre:  Ashley\n"
     ]
    },
    {
     "name": "stdout",
     "output_type": "stream",
     "text": [
      "Hola, Ashley\n"
     ]
    }
   ],
   "source": [
    "def saludar(nombre):\n",
    "    print(f\"Hola, {nombre}\")\n",
    "\n",
    "nombre = input(\"Introducir nombre: \")\n",
    "saludar(nombre)"
   ]
  },
  {
   "cell_type": "markdown",
   "metadata": {},
   "source": [
    "---\n",
    "\n",
    "## Ejercicio 2\n",
    "\n",
    "Escribe `suma(a, b)` que retorne la suma de dos números."
   ]
  },
  {
   "cell_type": "code",
   "execution_count": 2,
   "metadata": {},
   "outputs": [
    {
     "name": "stdin",
     "output_type": "stream",
     "text": [
      "Numero a:  3\n",
      "Numero b:  2\n"
     ]
    },
    {
     "data": {
      "text/plain": [
       "5"
      ]
     },
     "execution_count": 2,
     "metadata": {},
     "output_type": "execute_result"
    }
   ],
   "source": [
    "def suma(a, b):\n",
    "    return a + b\n",
    "\n",
    "a = int(input(\"Numero a: \"))\n",
    "b = int(input(\"Numero b: \"))\n",
    "\n",
    "suma(a,b)"
   ]
  },
  {
   "cell_type": "markdown",
   "metadata": {},
   "source": [
    "---\n",
    "\n",
    "## Ejercicio 3\n",
    "\n",
    "Define `mayor(a, b)` que devuelva el mayor de dos números."
   ]
  },
  {
   "cell_type": "code",
   "execution_count": 23,
   "metadata": {},
   "outputs": [
    {
     "name": "stdin",
     "output_type": "stream",
     "text": [
      "Numero a:  3\n",
      "Numero b:  3\n"
     ]
    },
    {
     "data": {
      "text/plain": [
       "3"
      ]
     },
     "execution_count": 23,
     "metadata": {},
     "output_type": "execute_result"
    }
   ],
   "source": [
    "def mayor(a, b):\n",
    "    return max(a, b)\n",
    "\n",
    "a = int(input(\"Numero a: \"))\n",
    "b = int(input(\"Numero b: \"))\n",
    "\n",
    "mayor(a,b)"
   ]
  },
  {
   "cell_type": "code",
   "execution_count": 25,
   "metadata": {},
   "outputs": [
    {
     "name": "stdin",
     "output_type": "stream",
     "text": [
      "Numero a:  4\n",
      "Numero b:  5\n"
     ]
    },
    {
     "data": {
      "text/plain": [
       "5"
      ]
     },
     "execution_count": 25,
     "metadata": {},
     "output_type": "execute_result"
    }
   ],
   "source": [
    "def mayor(a, b):\n",
    "    if a==b:\n",
    "        print(\"Los numeros son iguales\")\n",
    "    return max(a, b)\n",
    "\n",
    "a = int(input(\"Numero a: \"))\n",
    "b = int(input(\"Numero b: \"))\n",
    "\n",
    "mayor(a,b)"
   ]
  },
  {
   "cell_type": "markdown",
   "metadata": {},
   "source": [
    "---\n",
    "\n",
    "## Ejercicio 4\n",
    "\n",
    "Escribe `celsius_a_fahrenheit(c)` que convierta grados Celsius a Fahrenheit usando la fórmula `F = C * 9/5 + 32`."
   ]
  },
  {
   "cell_type": "code",
   "execution_count": 22,
   "metadata": {},
   "outputs": [
    {
     "name": "stdin",
     "output_type": "stream",
     "text": [
      "Introducir grados celcius:  12\n"
     ]
    },
    {
     "data": {
      "text/plain": [
       "53.6"
      ]
     },
     "execution_count": 22,
     "metadata": {},
     "output_type": "execute_result"
    }
   ],
   "source": [
    "def celsius_a_fahrenheit(c):\n",
    "    fahrenheit = (c * 9/5) + 32\n",
    "    return fahrenheit\n",
    "\n",
    "grados = int(input(\"Introducir grados celcius: \"))\n",
    "celsius_a_fahrenheit(grados)"
   ]
  },
  {
   "cell_type": "markdown",
   "metadata": {},
   "source": [
    "---\n",
    "\n",
    "## Ejercicio 5\n",
    "\n",
    "Crea `longitud(lista)` que retorne la cantidad de elementos de una lista **sin usar** `len` (usa un bucle)."
   ]
  },
  {
   "cell_type": "code",
   "execution_count": 26,
   "metadata": {},
   "outputs": [
    {
     "data": {
      "text/plain": [
       "6"
      ]
     },
     "execution_count": 26,
     "metadata": {},
     "output_type": "execute_result"
    }
   ],
   "source": [
    "def longitud(lista):\n",
    "    contador = 0\n",
    "    for elemento in lista:\n",
    "        contador += 1\n",
    "    return contador\n",
    "\n",
    "lista = [\"manzana\", 10, 3.14, True, \"uva\",44]\n",
    "longitud(lista)"
   ]
  }
 ],
 "metadata": {
  "kernelspec": {
   "display_name": "Python [conda env:base] *",
   "language": "python",
   "name": "conda-base-py"
  },
  "language_info": {
   "codemirror_mode": {
    "name": "ipython",
    "version": 3
   },
   "file_extension": ".py",
   "mimetype": "text/x-python",
   "name": "python",
   "nbconvert_exporter": "python",
   "pygments_lexer": "ipython3",
   "version": "3.13.5"
  }
 },
 "nbformat": 4,
 "nbformat_minor": 4
}
