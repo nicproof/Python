{
 "cells": [
  {
   "cell_type": "markdown",
   "id": "36de15ca",
   "metadata": {},
   "source": [
    "\n",
    "# Ejercicio 1 — Listas + funciones básicas\n",
    "\n",
    "**Qué aprenderás**\n",
    "- Crear y manipular **listas**.\n",
    "- Usar **funciones integradas** (`len`, `sum`, `min`, `max`, `sorted`, `reversed`).\n",
    "- Usar **métodos de lista** (`append`, `extend`, `insert`, `pop`, `remove`, `index`, `count`, `sort`, `reverse`, `clear`, `copy`).\n",
    "- Herramientas clave: `range`, `enumerate`, *slicing* y operadores de pertenencia (`in`, `not in`).\n",
    "\n",
    "> Una **lista** es una colección **mutable** y **ordenada**. Se escribe con `[]` y permite elementos repetidos.\n"
   ]
  },
  {
   "cell_type": "markdown",
   "id": "11d86709",
   "metadata": {},
   "source": [
    "\n",
    "## 1) Funciones integradas útiles con listas\n"
   ]
  },
  {
   "cell_type": "code",
   "execution_count": null,
   "id": "fb914064",
   "metadata": {},
   "outputs": [],
   "source": [
    "# Lista de ejemplo\n",
    "precios = [12.5, 9.9, 7.2, 15.0]\n",
    "\n",
    "print(\"len:\", len(precios))      # cantidad de elementos\n",
    "print(\"sum:\", sum(precios))      # suma de elementos numéricos\n",
    "print(\"min:\", min(precios))      # mínimo\n",
    "print(\"max:\", max(precios))      # máximo\n",
    "\n",
    "# sorted devuelve una NUEVA lista ordenada (no modifica la original)\n",
    "asc = sorted(precios)                 \n",
    "desc = sorted(precios, reverse=True)  \n",
    "print(\"sorted asc:\", asc)\n",
    "print(\"sorted desc:\", desc)\n",
    "print(\"original intacta:\", precios)\n",
    "\n",
    "# reversed devuelve un iterador; conviértelo a lista si quieres materializarlo\n",
    "print(\"reversed:\", list(reversed(precios)))"
   ]
  },
  {
   "cell_type": "markdown",
   "id": "9a22b28f",
   "metadata": {},
   "source": [
    "\n",
    "## 2) Métodos frecuentes de las listas (actúan **en la propia lista**)\n"
   ]
  },
  {
   "cell_type": "code",
   "execution_count": null,
   "id": "67ff135e",
   "metadata": {},
   "outputs": [],
   "source": [
    "numeros = [3, 1, 4]\n",
    "print(\"inicio:\", numeros)\n",
    "\n",
    "numeros.append(1)                  # añade al final\n",
    "print(\"append(1):\", numeros)\n",
    "\n",
    "numeros.extend([9, 2])             # añade varios\n",
    "print(\"extend([9,2]):\", numeros)\n",
    "\n",
    "numeros.insert(1, 99)              # inserta en posición i\n",
    "print(\"insert(1,99):\", numeros)\n",
    "\n",
    "numeros.remove(4)                  # elimina la PRIMERA ocurrencia de 4\n",
    "print(\"remove(4):\", numeros)\n",
    "\n",
    "ultimo = numeros.pop()             # saca y devuelve el último\n",
    "print(\"pop() ->\", ultimo, \"|\", numeros)\n",
    "\n",
    "primero = numeros.pop(0)           # saca y devuelve por índice\n",
    "print(\"pop(0) ->\", primero, \"|\", numeros)\n",
    "\n",
    "print(\"index(99):\", numeros.index(99))  # posición de 99\n",
    "print(\"count(1):\", numeros.count(1))    # cuántas veces aparece 1\n",
    "\n",
    "numeros.sort()                     # ordena EN SITIO (no devuelve lista)\n",
    "print(\"sort():\", numeros)\n",
    "\n",
    "numeros.sort(reverse=True)         # descendente\n",
    "print(\"sort(reverse=True):\", numeros)\n",
    "\n",
    "numeros.reverse()                  # invierte EN SITIO\n",
    "print(\"reverse():\", numeros)\n",
    "\n",
    "copia = numeros.copy()             # copia superficial\n",
    "numeros.clear()                    # deja la lista vacía\n",
    "print(\"copy():\", copia, \"| clear():\", numeros)"
   ]
  },
  {
   "cell_type": "markdown",
   "id": "a94cdb28",
   "metadata": {},
   "source": [
    "\n",
    "## 3) Otras herramientas útiles con listas\n",
    "- **`range(inicio, fin, paso)`**: genera enteros perezosamente (fin excluido).\n",
    "- **`enumerate(iterable, start=0)`**: da pares `(índice, valor)` al iterar.\n",
    "- **Slicing** `lista[a:b:c]`: sublista desde `a` hasta `b` (excluido) con paso `c`.\n",
    "- **Pertenencia**: `x in lista`, `x not in lista`.\n"
   ]
  },
  {
   "cell_type": "code",
   "execution_count": null,
   "id": "89219cc3",
   "metadata": {},
   "outputs": [],
   "source": [
    "frutas = [\"manzana\", \"pera\", \"uva\", \"kiwi\", \"mango\"]\n",
    "\n",
    "# range + list para visualizar\n",
    "print(list(range(5)))           # [0, 1, 2, 3, 4]\n",
    "\n",
    "# enumerate para tener índice y valor\n",
    "for i, f in enumerate(frutas, start=1):\n",
    "    if i <= 3:\n",
    "        print(f\"{i}. {f}\")\n",
    "\n",
    "# slicing\n",
    "print(frutas[:3])               # tres primeras\n",
    "print(frutas[-2:])              # dos últimas\n",
    "print(frutas[::2])              # una de cada dos\n",
    "print(frutas[::-1])             # invertida\n",
    "\n",
    "# pertenencia\n",
    "print(\"pera\" in frutas, \"papaya\" not in frutas)"
   ]
  },
  {
   "cell_type": "markdown",
   "id": "eeecb600",
   "metadata": {},
   "source": [
    "\n",
    "## 4) Ver funciones/métodos disponibles rápidamente\n"
   ]
  },
  {
   "cell_type": "code",
   "execution_count": null,
   "id": "d2f31751",
   "metadata": {},
   "outputs": [],
   "source": [
    "# Explora lo disponible para listas\n",
    "dir(list)[:20]          # (muestra una parte para no saturar la salida)"
   ]
  },
  {
   "cell_type": "code",
   "execution_count": null,
   "id": "9fcf7da5",
   "metadata": {},
   "outputs": [],
   "source": [
    "# Ayuda puntual de un método\n",
    "help(list.append)       # cierra la salida con el botón de stop si se alarga demasiado"
   ]
  },
  {
   "cell_type": "markdown",
   "id": "50b1004a",
   "metadata": {},
   "source": [
    "\n",
    "---\n",
    "\n",
    "## 5) Mini‑práctica guiada (auto‑comprobada)\n",
    "Completa los `TODO` y ejecuta. Si todo sale bien, no verás errores.\n"
   ]
  },
  {
   "cell_type": "code",
   "execution_count": null,
   "id": "8140a320",
   "metadata": {},
   "outputs": [],
   "source": [
    "# PUNTO DE PARTIDA\n",
    "precios = [12.5, 9.9, 7.2, 15.0]\n",
    "\n",
    "# 1) añade 10.0 al final\n",
    "# TODO: precios.________(10.0)\n",
    "\n",
    "# 2) cambia el tercer elemento (índice 2) a 7.5\n",
    "# TODO: precios[____] = ____\n",
    "\n",
    "# 3) elimina el segundo elemento (índice 1)\n",
    "# TODO: precios.pop(____)\n",
    "\n",
    "# 4) calcula la media y guárdala en 'media'\n",
    "# TODO: media = ______ / ______\n",
    "\n",
    "# 5) crea 'primeros_tres' con los tres primeros\n",
    "# TODO: primeros_tres = precios[__:__]\n",
    "\n",
    "print(\"Lista final:\", precios)\n",
    "print(\"Media:\", media)\n",
    "print(\"Primeros tres:\", primeros_tres)\n",
    "\n",
    "# Comprobaciones\n",
    "assert len(precios) == 4\n",
    "assert isinstance(media, (int, float))\n",
    "assert len(primeros_tres) == 3"
   ]
  },
  {
   "cell_type": "markdown",
   "id": "2aefd7e0",
   "metadata": {},
   "source": [
    "\n",
    "<details>\n",
    "<summary><strong>💡 Solución de la mini‑práctica (clic para desplegar)</strong></summary>\n",
    "\n",
    "```python\n",
    "precios = [12.5, 9.9, 7.2, 15.0]\n",
    "\n",
    "precios.append(10.0)    # 1\n",
    "precios[2] = 7.5        # 2\n",
    "precios.pop(1)          # 3\n",
    "media = sum(precios) / len(precios)  # 4\n",
    "primeros_tres = precios[:3]          # 5\n",
    "\n",
    "print(\"Lista final:\", precios)          # [12.5, 7.5, 15.0, 10.0]\n",
    "print(\"Media:\", media)                  # 11.25\n",
    "print(\"Primeros tres:\", primeros_tres)  # [12.5, 7.5, 15.0]\n",
    "```\n",
    "</details>\n"
   ]
  },
  {
   "cell_type": "markdown",
   "id": "e287e8d4",
   "metadata": {},
   "source": [
    "\n",
    "---\n",
    "\n",
    "## 6) Ejercicio principal: **Lista de precios**\n",
    "**Objetivo:** aplicar lo aprendido con listas y funciones integradas.\n",
    "\n",
    "**Instrucciones**\n",
    "1. Empieza con `precios = [12.5, 9.9, 7.2, 15.0]`.  \n",
    "2. Añade `10.0` al final.  \n",
    "3. Cambia el **tercer** elemento (índice `2`) a `7.5`.  \n",
    "4. Elimina el **segundo** elemento (índice `1`).  \n",
    "5. Calcula la **media** y guárdala en `media`.  \n",
    "6. Crea `primeros_tres` con los **tres primeros** elementos de la lista resultante.  \n"
   ]
  },
  {
   "cell_type": "code",
   "execution_count": null,
   "id": "e4613c65",
   "metadata": {},
   "outputs": [],
   "source": [
    "# PLANTILLA DEL EJERCICIO (rellena los TODO)\n",
    "precios = [12.5, 9.9, 7.2, 15.0]\n",
    "\n",
    "# 1) añadir 10.0 al final\n",
    "# TODO: precios.________(10.0)\n",
    "\n",
    "# 2) cambiar el tercer elemento a 7.5\n",
    "# TODO: precios[____] = ____\n",
    "\n",
    "# 3) eliminar el segundo elemento\n",
    "# TODO: precios.pop(____)\n",
    "\n",
    "# 4) calcular la media\n",
    "# TODO: media = ______ / ______\n",
    "\n",
    "# 5) obtener los tres primeros\n",
    "# TODO: primeros_tres = precios[__:__]\n",
    "\n",
    "print(\"Lista final:\", precios)\n",
    "print(\"Media:\", media)\n",
    "print(\"Primeros tres:\", primeros_tres)\n",
    "\n",
    "# Comprobaciones rápidas (deben cumplirse si lo hiciste bien)\n",
    "assert len(precios) == 4\n",
    "assert isinstance(media, (int, float))\n",
    "assert len(primeros_tres) == 3"
   ]
  },
  {
   "cell_type": "markdown",
   "id": "fbebd20e",
   "metadata": {},
   "source": [
    "\n",
    "<details>\n",
    "<summary><strong>✅ Solución del ejercicio principal</strong></summary>\n",
    "\n",
    "```python\n",
    "precios = [12.5, 9.9, 7.2, 15.0]\n",
    "\n",
    "# 1) añadir 10.0 al final\n",
    "precios.append(10.0)\n",
    "\n",
    "# 2) cambiar el tercer elemento (índice 2) a 7.5\n",
    "precios[2] = 7.5\n",
    "\n",
    "# 3) eliminar el segundo elemento (índice 1)\n",
    "precios.pop(1)\n",
    "\n",
    "# 4) calcular la media\n",
    "media = sum(precios) / len(precios)\n",
    "\n",
    "# 5) obtener los tres primeros\n",
    "primeros_tres = precios[:3]\n",
    "\n",
    "print(\"Lista final:\", precios)          # [12.5, 7.5, 15.0, 10.0]\n",
    "print(\"Media:\", media)                  # 11.25\n",
    "print(\"Primeros tres:\", primeros_tres)  # [12.5, 7.5, 15.0]\n",
    "\n",
    "assert len(precios) == 4\n",
    "assert round(media, 2) == 11.25\n",
    "assert primeros_tres == [12.5, 7.5, 15.0]\n",
    "```\n",
    "</details>\n"
   ]
  }
 ],
 "metadata": {
  "kernelspec": {
   "display_name": "Python 3",
   "language": "python",
   "name": "python3"
  },
  "language_info": {
   "name": "python",
   "version": "3.x"
  }
 },
 "nbformat": 4,
 "nbformat_minor": 5
}
