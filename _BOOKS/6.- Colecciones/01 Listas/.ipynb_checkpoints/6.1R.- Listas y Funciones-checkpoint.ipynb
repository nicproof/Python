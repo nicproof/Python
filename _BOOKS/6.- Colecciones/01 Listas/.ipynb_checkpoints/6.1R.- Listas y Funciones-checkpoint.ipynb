{
 "cells": [
  {
   "cell_type": "markdown",
   "id": "36de15ca",
   "metadata": {},
   "source": [
    "\n",
    "# Ejercicio 1 — Listas + funciones básicas\n",
    "\n",
    "**Qué aprenderás**\n",
    "- Crear y manipular **listas**.\n",
    "- Usar **funciones integradas** (`len`, `sum`, `min`, `max`, `sorted`, `reversed`).\n",
    "- Usar **métodos de lista** (`append`, `extend`, `insert`, `pop`, `remove`, `index`, `count`, `sort`, `reverse`, `clear`, `copy`).\n",
    "- Herramientas clave: `range`, `enumerate`, *slicing* y operadores de pertenencia (`in`, `not in`).\n",
    "\n",
    "> Una **lista** es una colección **mutable** y **ordenada**. Se escribe con `[]` y permite elementos repetidos.\n"
   ]
  },
  {
   "cell_type": "markdown",
   "id": "a844618e",
   "metadata": {},
   "source": [
    "## ¿Por qué usar listas?\n",
    "\n",
    "Las **listas** son, en la mayoría de los casos, la colección recomendada en Python por varias razones:\n",
    "\n",
    "1. **Flexibilidad**  \n",
    "- Permiten almacenar cualquier tipo de dato (números, cadenas, objetos…), incluso mezclados.  \n",
    "- Son mutables: se pueden modificar, añadir y eliminar elementos fácilmente.\n",
    "\n",
    "2. **Orden garantizado**  \n",
    "- Mantienen el orden de inserción de los elementos.  \n",
    "- Esto es útil cuando el orden importa, como en un historial de navegación o una lista de tareas.\n",
    "\n",
    "3. **Sencillez y familiaridad**  \n",
    "- Son intuitivas y fáciles de usar, con una sintaxis muy simple: `[]`.\n",
    "\n",
    "4. **Amplia funcionalidad**  \n",
    "- Ofrecen muchos métodos útiles: `append()`, `remove()`, `insert()`, `pop()`, `sort()`, `reverse()`, entre otros.\n",
    "\n",
    "5. **Compatibilidad y soporte**  \n",
    "- Muchas librerías de Python están diseñadas para trabajar con listas.  \n",
    "- Son la base de estructuras de datos más complejas.\n",
    "\n",
    "---\n",
    "\n",
    "### Comparación con otras colecciones\n",
    "- **Tuplas** → también ordenadas, pero inmutables → recomendables cuando los datos no deben cambiar.  \n",
    "- **Conjuntos (`set`)** → eliminan duplicados y permiten operaciones matemáticas, pero no mantienen orden.  \n",
    "- **Diccionarios** → organizan datos con pares clave-valor, pero no se usan si solo quieres una colección lineal de elementos.\n",
    "\n",
    "---\n",
    "\n",
    "### Ejemplo real\n",
    "👉 Si estás gestionando la lista de **productos en el carrito de un cliente**, lo natural es usar una **lista**, porque:  \n",
    "- El cliente puede añadir o eliminar productos (mutabilidad).  \n",
    "- El orden de selección puede ser relevante.  \n",
    "- Es más fácil recorrer la colección y mostrarla al usuario.\n",
    "\n",
    "---\n",
    "\n",
    "📌 En resumen: se recomienda usar **listas** como la colección por defecto cuando necesitas:\n",
    "- Almacenar una secuencia de datos,  \n",
    "- Mantener el orden,  \n",
    "- Y poder modificar la colección fácilmente."
   ]
  },
  {
   "cell_type": "markdown",
   "id": "11d86709",
   "metadata": {},
   "source": [
    "\n",
    "## 1) Funciones integradas útiles con listas\n"
   ]
  },
  {
   "cell_type": "code",
   "execution_count": null,
   "id": "fb914064",
   "metadata": {},
   "outputs": [],
   "source": [
    "# Lista de ejemplo\n",
    "precios = [12.5, 9.9, 7.2, 15.0]\n",
    "\n",
    "print(\"len:\", len(precios))      # cantidad de elementos\n",
    "print(\"sum:\", sum(precios))      # suma de elementos numéricos\n",
    "print(\"min:\", min(precios))      # mínimo\n",
    "print(\"max:\", max(precios))      # máximo\n",
    "\n",
    "# sorted devuelve una NUEVA lista ordenada (no modifica la original)\n",
    "asc = sorted(precios)                 \n",
    "desc = sorted(precios, reverse=True)  \n",
    "print(\"sorted asc:\", asc)\n",
    "print(\"sorted desc:\", desc)\n",
    "print(\"original intacta:\", precios)\n",
    "\n",
    "# reversed devuelve un iterador; conviértelo a lista si quieres materializarlo\n",
    "\n",
    "precios = [100, 200, 300, 400]\n",
    "precios_invertidos = list(reversed(precios))\n",
    "print(\"Original precios:\", precios)\n",
    "print(\"Invertido precios:\", precios_invertidos)\n",
    "\n",
    "#🔹 ¿Cuándo usar cada uno?\n",
    "#reversed(lista) → cuando solo necesitas recorrer los elementos al revés (ejemplo: en un for).\n",
    "#list(reversed(lista)) → cuando necesitas tener una nueva lista ya invertida disponible para trabajar."
   ]
  },
  {
   "cell_type": "markdown",
   "id": "9a22b28f",
   "metadata": {},
   "source": [
    "\n",
    "## 2) Métodos frecuentes de las listas (actúan **en la propia lista**)\n"
   ]
  },
  {
   "cell_type": "code",
   "execution_count": null,
   "id": "67ff135e",
   "metadata": {},
   "outputs": [],
   "source": [
    "numeros = [3, 1, 4]\n",
    "print(\"inicio:\", numeros)\n",
    "\n",
    "numeros.append(1)                  # añade al final\n",
    "print(\"append(1):\", numeros)\n",
    "\n",
    "numeros.extend([9, 2])             # añade varios\n",
    "print(\"extend([9,2]):\", numeros)\n",
    "\n",
    "numeros.insert(1, 99)              # inserta en posición i\n",
    "print(\"insert(1,99):\", numeros)\n",
    "\n",
    "numeros.remove(4)                  # elimina la PRIMERA ocurrencia de 4\n",
    "print(\"remove(4):\", numeros)\n",
    "\n",
    "ultimo = numeros.pop()             # saca y devuelve el último\n",
    "print(\"pop() ->\", ultimo, \"|\", numeros)\n",
    "\n",
    "primero = numeros.pop(0)           # saca y devuelve por índice\n",
    "print(\"pop(0) ->\", primero, \"|\", numeros)\n",
    "\n",
    "print(\"index(99):\", numeros.index(99))  # posición de 99\n",
    "print(\"count(1):\", numeros.count(1))    # cuántas veces aparece 1\n",
    "\n",
    "numeros.sort()                     # ordena EN SITIO (no devuelve lista)\n",
    "print(\"sort():\", numeros)\n",
    "\n",
    "numeros.sort(reverse=True)         # descendente\n",
    "print(\"sort(reverse=True):\", numeros)\n",
    "\n",
    "numeros.reverse()                  # invierte EN SITIO\n",
    "print(\"reverse():\", numeros)\n",
    "\n",
    "copia = numeros.copy()             # copia superficial\n",
    "numeros.clear()                    # deja la lista vacía\n",
    "print(\"copy():\", copia, \"| clear():\", numeros)"
   ]
  },
  {
   "cell_type": "markdown",
   "id": "a94cdb28",
   "metadata": {},
   "source": [
    "\n",
    "## 3) Otras herramientas útiles con listas\n",
    "- **`range(inicio, fin, paso)`**: genera enteros perezosamente (fin excluido).\n",
    "- **`enumerate(iterable, start=0)`**: da pares `(índice, valor)` al iterar.\n",
    "- **Slicing** `lista[a:b:c]`: sublista desde `a` hasta `b` (excluido) con paso `c`.\n",
    "- **Pertenencia**: `x in lista`, `x not in lista`.\n"
   ]
  },
  {
   "cell_type": "code",
   "execution_count": null,
   "id": "89219cc3",
   "metadata": {},
   "outputs": [],
   "source": [
    "frutas = [\"manzana\", \"pera\", \"uva\", \"kiwi\", \"mango\"]\n",
    "\n",
    "# range + list para visualizar\n",
    "print(list(range(5)))           # [0, 1, 2, 3, 4]\n",
    "#range: estamos diciendole que el rango me lo transforme el lista sin almacenar el resultado\n",
    "\n",
    "# enumerate para tener índice y valor\n",
    "for i, f in enumerate(frutas, start=1):\n",
    "    if i <= 3:\n",
    "        print(f\"{i}. {f}\")\n",
    "\n",
    "# slicing\n",
    "print(frutas[:3])               # tres primeras\n",
    "print(frutas[-2:])              # dos últimas\n",
    "print(frutas[::2])              # una de cada dos\n",
    "print(frutas[::-1])             # invertida\n",
    "\n",
    "# pertenencia\n",
    "print(\"pera\" in frutas, \"papaya\" not in frutas)"
   ]
  },
  {
   "cell_type": "markdown",
   "id": "eeecb600",
   "metadata": {},
   "source": [
    "\n",
    "## 4) Ver funciones/métodos disponibles rápidamente\n"
   ]
  },
  {
   "cell_type": "code",
   "execution_count": null,
   "id": "d2f31751",
   "metadata": {},
   "outputs": [],
   "source": [
    "# Explora lo disponible para listas\n",
    "dir(list)[:20]          # (muestra una parte para no saturar la salida)"
   ]
  },
  {
   "cell_type": "code",
   "execution_count": null,
   "id": "9fcf7da5",
   "metadata": {},
   "outputs": [],
   "source": [
    "# Ayuda puntual de un método\n",
    "help(list.append)       # cierra la salida con el botón de stop si se alarga demasiado"
   ]
  },
  {
   "cell_type": "markdown",
   "id": "50b1004a",
   "metadata": {},
   "source": [
    "\n",
    "---\n",
    "\n",
    "## 5) Mini‑práctica guiada (auto‑comprobada)\n",
    "Completa los `TODO` y ejecuta. Si todo sale bien, no verás errores.\n"
   ]
  },
  {
   "cell_type": "code",
   "execution_count": null,
   "id": "8140a320",
   "metadata": {},
   "outputs": [],
   "source": [
    "# PUNTO DE PARTIDA\n",
    "precios = [12.5, 9.9, 7.2, 15.0]\n",
    "\n",
    "# 1) añade 10.0 al final\n",
    "# TODO: precios.________(10.0)\n",
    "\n",
    "# 2) cambia el tercer elemento (índice 2) a 7.5\n",
    "# TODO: precios[____] = ____\n",
    "\n",
    "# 3) elimina el segundo elemento (índice 1)\n",
    "# TODO: precios.pop(____)\n",
    "\n",
    "# 4) calcula la media y guárdala en 'media'\n",
    "# TODO: media = ______ / ______\n",
    "\n",
    "# 5) crea 'primeros_tres' con los tres primeros\n",
    "# TODO: primeros_tres = precios[__:__]\n",
    "\n",
    "print(\"Lista final:\", precios)\n",
    "print(\"Media:\", media)\n",
    "print(\"Primeros tres:\", primeros_tres)\n",
    "\n",
    "# Comprobaciones\n",
    "assert len(precios) == 4\n",
    "assert isinstance(media, (int, float))\n",
    "assert len(primeros_tres) == 3"
   ]
  },
  {
   "cell_type": "markdown",
   "id": "2aefd7e0",
   "metadata": {},
   "source": [
    "\n",
    "<details>\n",
    "<summary><strong>💡 Solución de la mini‑práctica (clic para desplegar)</strong></summary>\n",
    "\n",
    "```python\n",
    "precios = [12.5, 9.9, 7.2, 15.0]\n",
    "\n",
    "precios.append(10.0)    # 1\n",
    "precios[2] = 7.5        # 2\n",
    "precios.pop(1)          # 3\n",
    "media = sum(precios) / len(precios)  # 4\n",
    "primeros_tres = precios[:3]          # 5\n",
    "\n",
    "print(\"Lista final:\", precios)          # [12.5, 7.5, 15.0, 10.0]\n",
    "print(\"Media:\", media)                  # 11.25\n",
    "print(\"Primeros tres:\", primeros_tres)  # [12.5, 7.5, 15.0]\n",
    "```\n",
    "</details>\n"
   ]
  },
  {
   "cell_type": "markdown",
   "id": "e287e8d4",
   "metadata": {},
   "source": [
    "\n",
    "---\n",
    "\n",
    "## 6) Realizar los ejercicios propuestos en 6.B.- Ejercicios Listas y Funciones"
   ]
  }
 ],
 "metadata": {
  "kernelspec": {
   "display_name": "Python [conda env:base] *",
   "language": "python",
   "name": "conda-base-py"
  },
  "language_info": {
   "codemirror_mode": {
    "name": "ipython",
    "version": 3
   },
   "file_extension": ".py",
   "mimetype": "text/x-python",
   "name": "python",
   "nbconvert_exporter": "python",
   "pygments_lexer": "ipython3",
   "version": "3.13.5"
  }
 },
 "nbformat": 4,
 "nbformat_minor": 5
}
