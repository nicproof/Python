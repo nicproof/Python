{
 "cells": [
  {
   "cell_type": "markdown",
   "id": "38d2916b",
   "metadata": {},
   "source": [
    "# Ejercicios propuestos: Listas\n",
    "\n",
    "A continuación se presentan ejercicios prácticos de aplicación real utilizando **listas** en Python. Recuerda que solo debes usar lo visto hasta ahora: `append()`, `remove()`, `insert()`, `pop()`, `len()`, y acceso por índice."
   ]
  },
  {
   "cell_type": "markdown",
   "id": "2b64c7cd",
   "metadata": {},
   "source": [
    "## Ejercicio 1: Carrito de compras\n",
    "\n",
    "**Situación:**\n",
    "Eres el responsable de una **tienda online** y necesitas gestionar el **carrito de compras** de un cliente.\n",
    "\n",
    "**Tareas:**\n",
    "1. Crea una lista vacía llamada `carrito`.\n",
    "2. Añade 3 productos con `append()`.\n",
    "3. Muestra el contenido del carrito.\n",
    "4. Elimina un producto con `remove()`.\n",
    "5. Muestra el carrito actualizado.\n",
    "6. Usa `len()` para mostrar cuántos productos tiene el cliente ahora."
   ]
  },
  {
   "cell_type": "code",
   "execution_count": null,
   "id": "37700bbc",
   "metadata": {
    "collapsed": false,
    "jupyter": {
     "outputs_hidden": false
    }
   },
   "outputs": [],
   "source": [
    "# ✅ Solución Ejercicio 1: Carrito de compras\n",
    "# Inicializa carrito vacío\n",
    "carrito = []\n",
    "print(\"Carrito inicial:\", carrito)\n",
    "\n",
    "# Añadir productos\n",
    "carrito.extend([\"camiseta\", \"pantalón\", \"zapatillas\"])\n",
    "print(\"Añadidos 3 productos:\", carrito)\n",
    "\n",
    "# Agregar uno más con append\n",
    "carrito.append(\"calcetines\")\n",
    "print(\"Después de append:\", carrito)\n",
    "\n",
    "# Insertar en una posición concreta (p.ej., índice 1)\n",
    "carrito.insert(1, \"gorra\")\n",
    "print(\"Tras insert en índice 1:\", carrito)\n",
    "\n",
    "# Eliminar un producto concreto si existe\n",
    "if \"pantalón\" in carrito:\n",
    "    carrito.remove(\"pantalón\")\n",
    "    print(\"Tras remove('pantalón'):\", carrito)\n",
    "\n",
    "# Extraer el último elemento con pop\n",
    "ultimo = carrito.pop()\n",
    "print(\"Elemento extraído con pop():\", ultimo)\n",
    "print(\"Carrito final:\", carrito)\n",
    "print(\"Número de artículos:\", len(carrito))\n"
   ]
  },
  {
   "cell_type": "markdown",
   "id": "1d3026e8",
   "metadata": {},
   "source": [
    "## Ejercicio 2: Lista de estudiantes\n",
    "\n",
    "**Situación:**\n",
    "En un curso de programación quieres mantener una lista con los nombres de tus estudiantes.\n",
    "\n",
    "**Tareas:**\n",
    "1. Crea una lista llamada `estudiantes` con al menos 4 nombres.\n",
    "2. Inserta un nuevo estudiante en la **segunda posición** usando `insert()`.\n",
    "3. Un estudiante abandona el curso: elimínalo con `pop()`.\n",
    "4. Muestra la lista final de estudiantes.\n",
    "5. Muestra cuántos estudiantes quedan en el curso con `len()`."
   ]
  },
  {
   "cell_type": "code",
   "execution_count": null,
   "id": "fd296a53",
   "metadata": {
    "collapsed": false,
    "jupyter": {
     "outputs_hidden": false
    }
   },
   "outputs": [],
   "source": [
    "# ✅ Solución Ejercicio 2: Lista de estudiantes\n",
    "# Lista inicial de estudiantes\n",
    "estudiantes = [\"Ana\", \"Luis\", \"Marta\"]\n",
    "print(\"Inicial:\", estudiantes)\n",
    "\n",
    "# Añadir un nuevo estudiante\n",
    "estudiantes.append(\"Pedro\")\n",
    "print(\"Tras append('Pedro'):\", estudiantes)\n",
    "\n",
    "# Insertar prioridad (al principio, por ejemplo)\n",
    "estudiantes.insert(0, \"Zoe\")\n",
    "print(\"Tras insert(0, 'Zoe'):\", estudiantes)\n",
    "\n",
    "# Comprobar si un estudiante está en la lista\n",
    "buscado = \"Luis\"\n",
    "print(f\"¿Está {buscado}? ->\", buscado in estudiantes)\n",
    "\n",
    "# Ordenar alfabéticamente\n",
    "estudiantes.sort()\n",
    "print(\"Ordenados:\", estudiantes)\n",
    "\n",
    "# Eliminar alguien que se dio de baja (si existe)\n",
    "baja = \"Marta\"\n",
    "if baja in estudiantes:\n",
    "    estudiantes.remove(baja)\n",
    "    print(f\"Tras remove('{baja}'):\", estudiantes)\n",
    "\n",
    "# Acceso por índice (primero y último)\n",
    "if estudiantes:\n",
    "    print(\"Primero:\", estudiantes[0], \"| Último:\", estudiantes[-1])\n",
    "\n",
    "print(\"Total estudiantes:\", len(estudiantes))\n"
   ]
  },
  {
   "cell_type": "markdown",
   "id": "12fdea16",
   "metadata": {},
   "source": [
    "## Ejercicio 3: Lista de tareas pendientes\n",
    "\n",
    "**Situación:**\n",
    "Usas una lista para organizar tus **tareas pendientes**.\n",
    "\n",
    "**Tareas:**\n",
    "1. Crea una lista llamada `tareas` con al menos 5 actividades.\n",
    "2. Muestra la primera y la última tarea de la lista usando índices.\n",
    "3. Marca como completada (elimina con `remove()`) una de las tareas.\n",
    "4. Añade una nueva tarea al final con `append()`.\n",
    "5. Muestra la lista actualizada de tareas."
   ]
  },
  {
   "cell_type": "code",
   "execution_count": null,
   "id": "727434d4",
   "metadata": {
    "collapsed": false,
    "jupyter": {
     "outputs_hidden": false
    }
   },
   "outputs": [],
   "source": [
    "# ✅ Solución Ejercicio 3: Lista de tareas\n",
    "# Lista de tareas pendientes\n",
    "pendientes = [\"pagar la luz\", \"estudiar\", \"hacer la compra\"]\n",
    "print(\"Pendientes inicial:\", pendientes)\n",
    "\n",
    "# Insertar una tarea prioritaria al inicio\n",
    "pendientes.insert(0, \"llamar al banco\")\n",
    "print(\"Tras prioridad al inicio:\", pendientes)\n",
    "\n",
    "# Marcar una tarea como completada (por ejemplo, la segunda)\n",
    "completadas = []\n",
    "if len(pendientes) > 1:\n",
    "    hecha = pendientes.pop(1)\n",
    "    completadas.append(hecha)\n",
    "print(\"Pendientes ahora:\", pendientes)\n",
    "print(\"Completadas:\", completadas)\n",
    "\n",
    "# Reemplazar/modificar una tarea (si existe índice 1)\n",
    "if len(pendientes) > 1:\n",
    "    pendientes[1] = \"estudiar (tema listas y funciones)\"\n",
    "print(\"Tras editar una tarea:\", pendientes)\n",
    "\n",
    "# Buscar el índice de una tarea específica\n",
    "objetivo = \"hacer la compra\"\n",
    "if objetivo in pendientes:\n",
    "    idx = pendientes.index(objetivo)\n",
    "    print(f\"'{objetivo}' está en el índice\", idx)\n",
    "else:\n",
    "    print(f\"'{objetivo}' no está en pendientes\")\n",
    "\n",
    "print(\"Resumen -> pendientes:\", pendientes, \"| completadas:\", completadas)\n"
   ]
  },
  {
   "cell_type": "markdown",
   "id": "40488be0",
   "metadata": {},
   "source": [
    "## Ejercicio 4: Historial de navegación invertido\n",
    "\n",
    "**Situación:**\n",
    "En un navegador web se guarda el **historial de páginas visitadas** en una lista.\n",
    "Quieres mostrar al usuario las páginas en **orden inverso**, de la más reciente a la más antigua.\n",
    "\n",
    "**Tareas:**\n",
    "1. Crea una lista llamada `historial` con al menos 5 páginas visitadas (pueden ser cadenas de texto como 'google.com', 'youtube.com').\n",
    "2. Muestra la lista original de páginas.\n",
    "3. Usa `reversed()` para recorrer las páginas en orden inverso.\n",
    "4. Convierte el resultado en lista con `list(reversed(...))` y muéstralo.\n",
    "\n",
    "👉 Pista: recuerda que `reversed()` devuelve un **iterador**, no una lista directamente."
   ]
  },
  {
   "cell_type": "code",
   "execution_count": null,
   "id": "122bebff",
   "metadata": {
    "collapsed": false,
    "jupyter": {
     "outputs_hidden": false
    }
   },
   "outputs": [],
   "source": [
    "# ✅ Solución Ejercicio 4: Historial invertido\n",
    "# Historial de navegación\n",
    "historial = [\"google.com\", \"wikipedia.org\", \"github.com\", \"stackoverflow.com\", \"youtube.com\"]\n",
    "print(\"Historial original:\", historial)\n",
    "\n",
    "# Recorrer en orden inverso (iterador)\n",
    "print(\"Iterando con reversed():\")\n",
    "for pagina in reversed(historial):\n",
    "    print(\" -\", pagina)\n",
    "\n",
    "# Convertir a lista con list(reversed(...))\n",
    "historial_invertido = list(reversed(historial))\n",
    "print(\"Como lista invertida:\", historial_invertido)\n"
   ]
  }
 ],
 "metadata": {
  "kernelspec": {
   "display_name": "Python [conda env:base] *",
   "language": "python",
   "name": "conda-base-py"
  },
  "language_info": {
   "codemirror_mode": {
    "name": "ipython",
    "version": 3
   },
   "file_extension": ".py",
   "mimetype": "text/x-python",
   "name": "python",
   "nbconvert_exporter": "python",
   "pygments_lexer": "ipython3",
   "version": "3.13.5"
  }
 },
 "nbformat": 4,
 "nbformat_minor": 5
}
