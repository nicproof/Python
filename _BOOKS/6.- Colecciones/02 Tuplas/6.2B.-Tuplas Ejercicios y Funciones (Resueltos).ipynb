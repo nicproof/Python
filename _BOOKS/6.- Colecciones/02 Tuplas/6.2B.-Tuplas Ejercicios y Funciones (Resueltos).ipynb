{
 "cells": [
  {
   "cell_type": "markdown",
   "id": "e75351f8",
   "metadata": {},
   "source": [
    "# Ejercicios resueltos: Tuplas\n",
    "\n",
    "Soluciones en código a los ejercicios propuestos. Cada bloque es autosuficiente y muestra su salida con `print()`."
   ]
  },
  {
   "cell_type": "markdown",
   "id": "1197db74",
   "metadata": {},
   "source": [
    "## Ejercicio 1: Sucursales y geolocalización — Solución"
   ]
  },
  {
   "cell_type": "markdown",
   "id": "6964d60c-4e29-44a8-becb-a11ff1c1c2f9",
   "metadata": {},
   "source": [
    "## Ejercicio 1: Sucursales y geolocalización\n",
    "**Situación real:** Una empresa tiene varias **sucursales** y quieres registrar sus coordenadas.\n",
    "\n",
    "**Tareas:**\n",
    "1. Crea una **tupla de tuplas** llamada `sucursales` donde cada elemento sea `(nombre, latitud, longitud)` para al menos 4 sucursales.\n",
    "2. Muestra las **dos primeras** sucursales usando slicing.\n",
    "3. Comprueba con `in` si existe una sucursal llamada exactamente `'Centro'`.\n",
    "4. Recorre las **tres primeras** con `enumerate(start=1)` mostrando `1. Nombre (lat, lon)`."
   ]
  },
  {
   "cell_type": "code",
   "execution_count": 5,
   "id": "762b9bf0",
   "metadata": {},
   "outputs": [
    {
     "name": "stdout",
     "output_type": "stream",
     "text": [
      "Dos primeras sucursales: (('Centro', 40.4168, -3.7038), ('Norte', 40.48, -3.69))\n",
      "\n",
      "¿Existe 'Centro'?: True\n",
      "\n",
      "Listado (primeras 3):\n",
      "1. Centro (40.4168, -3.7038)\n",
      "2. Norte (40.48, -3.69)\n",
      "3. Sur (40.35, -3.7)\n"
     ]
    }
   ],
   "source": [
    "sucursales = (\n",
    "    (\"Centro\", 40.4168, -3.7038),\n",
    "    (\"Norte\", 40.4800, -3.6900),\n",
    "    (\"Sur\", 40.3500, -3.7000),\n",
    "    (\"Este\", 40.4200, -3.6200),\n",
    ")\n",
    "\n",
    "print(\"Dos primeras sucursales:\", sucursales[:2])\n",
    "print(\"\")\n",
    "\n",
    "nombres = tuple(s[0] for s in sucursales)\n",
    "print(\"¿Existe 'Centro'?:\", 'Centro' in nombres)\n",
    "print(\"\")\n",
    "\n",
    "print(\"Listado (primeras 3):\")\n",
    "for i, (nombre, lat, lon) in enumerate(sucursales, start=1):\n",
    "    if i <= 3:\n",
    "        print(f\"{i}. {nombre} ({lat}, {lon})\")\n"
   ]
  },
  {
   "cell_type": "markdown",
   "id": "000e6933",
   "metadata": {},
   "source": [
    "## Ejercicio 2: Calendario de clases (inmutabilidad) — Solución"
   ]
  },
  {
   "cell_type": "markdown",
   "id": "02a74537-7c59-456a-b343-e8ee8c4963e7",
   "metadata": {},
   "source": [
    "**Situación real:** Tienes un **calendario** con sesiones fijas de un curso.\n",
    "\n",
    "**Tareas:**\n",
    "1. Crea una tupla `sesiones` con 5 elementos, cada uno `(fecha, aula)`, por ejemplo `(\"2025-10-01\", \"Aula 2\")`.\n",
    "2. Muestra la **primera** y la **última** sesión usando índices.\n",
    "3. Intenta cambiar el aula de la primera sesión y observa el **TypeError**. Explica en un comentario por qué ocurre.\n",
    "4. Crea una **nueva tupla** `sesiones_actualizadas` con el mismo contenido salvo que la primera sesión esté en otro aula (sin listas, usando concatenación y slicing)."
   ]
  },
  {
   "cell_type": "code",
   "execution_count": 2,
   "id": "50a76219",
   "metadata": {},
   "outputs": [
    {
     "name": "stdout",
     "output_type": "stream",
     "text": [
      "Primera sesión: ('2025-10-01', 'Aula 2')\n",
      "Última sesión: ('2025-10-29', 'Aula 4')\n",
      "Error al modificar tupla: 'tuple' object does not support item assignment\n",
      "Sesiones actualizadas: (('2025-10-01', 'Aula 5'), ('2025-10-08', 'Aula 2'), ('2025-10-15', 'Aula 3'), ('2025-10-22', 'Aula 3'), ('2025-10-29', 'Aula 4'))\n"
     ]
    }
   ],
   "source": [
    "sesiones = (\n",
    "    (\"2025-10-01\", \"Aula 2\"),\n",
    "    (\"2025-10-08\", \"Aula 2\"),\n",
    "    (\"2025-10-15\", \"Aula 3\"),\n",
    "    (\"2025-10-22\", \"Aula 3\"),\n",
    "    (\"2025-10-29\", \"Aula 4\"),\n",
    ")\n",
    "\n",
    "print(\"Primera sesión:\", sesiones[0])\n",
    "print(\"Última sesión:\", sesiones[-1])\n",
    "\n",
    "# Intento de modificación (capturamos el error)\n",
    "try:\n",
    "    sesiones[0] = (\"2025-10-01\", \"Aula 5\")\n",
    "except TypeError as e:\n",
    "    print(\"Error al modificar tupla:\", e)\n",
    "\n",
    "# Creamos una nueva tupla con la primera sesión en otra aula\n",
    "sesiones_actualizadas = ((sesiones[0][0], \"Aula 5\"),) + sesiones[1:]\n",
    "print(\"Sesiones actualizadas:\", sesiones_actualizadas)\n"
   ]
  },
  {
   "cell_type": "markdown",
   "id": "359ba4fe",
   "metadata": {},
   "source": [
    "## Ejercicio 3: Colores corporativos (RGB) — Solución"
   ]
  },
  {
   "cell_type": "markdown",
   "id": "1ef90283-3442-45be-ad08-0d4951affde4",
   "metadata": {},
   "source": [
    "**Situación real:** Debes almacenar los **colores corporativos** de una marca como valores RGB.\n",
    "\n",
    "**Tareas:**\n",
    "1. Crea una tupla `colores` con al menos 4 colores, cada uno como tupla `(R, G, B)`.\n",
    "2. Usa `in` para comprobar si el color `(255, 255, 255)` (blanco) está en `colores`.\n",
    "3. Muestra **uno de cada dos** colores con slicing.\n",
    "4. Recorre `colores` con `enumerate(start=1)` y muestra `n. RGB` para los **3 primeros**."
   ]
  },
  {
   "cell_type": "code",
   "execution_count": 3,
   "id": "45eb7eb8",
   "metadata": {},
   "outputs": [
    {
     "name": "stdout",
     "output_type": "stream",
     "text": [
      "¿Blanco en la paleta?: True\n",
      "Uno de cada dos colores: ((34, 150, 243), (233, 30, 99))\n",
      "Primeros 3 colores:\n",
      "1. (34, 150, 243)\n",
      "2. (255, 193, 7)\n",
      "3. (233, 30, 99)\n"
     ]
    }
   ],
   "source": [
    "colores = (\n",
    "    (34, 150, 243),   # azul corporativo\n",
    "    (255, 193, 7),    # amarillo\n",
    "    (233, 30, 99),    # magenta\n",
    "    (255, 255, 255),  # blanco\n",
    ")\n",
    "\n",
    "print(\"¿Blanco en la paleta?:\", (255, 255, 255) in colores)\n",
    "print(\"Uno de cada dos colores:\", colores[::2])\n",
    "print(\"Primeros 3 colores:\")\n",
    "for i, rgb in enumerate(colores, start=1):\n",
    "    if i <= 3:\n",
    "        print(f\"{i}. {rgb}\")\n"
   ]
  }
 ],
 "metadata": {
  "kernelspec": {
   "display_name": "Python [conda env:base] *",
   "language": "python",
   "name": "conda-base-py"
  },
  "language_info": {
   "codemirror_mode": {
    "name": "ipython",
    "version": 3
   },
   "file_extension": ".py",
   "mimetype": "text/x-python",
   "name": "python",
   "nbconvert_exporter": "python",
   "pygments_lexer": "ipython3",
   "version": "3.13.5"
  }
 },
 "nbformat": 4,
 "nbformat_minor": 5
}
