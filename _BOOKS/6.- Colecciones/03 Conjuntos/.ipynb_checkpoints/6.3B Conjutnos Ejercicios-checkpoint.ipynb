{
 "cells": [
  {
   "cell_type": "markdown",
   "id": "f74c4430",
   "metadata": {},
   "source": [
    "# Ejercicios de conjuntos (sin resolver)\n",
    "\n",
    "1. Crea un conjunto con los números del 1 al 5 y añade el número 6.\n",
    "2. Elimina el número 3 de ese conjunto.\n",
    "3. Dado `A = {1,2,3}` y `B = {3,4,5}`, calcula:\n",
    "   - La unión\n",
    "   - La intersección\n",
    "   - La diferencia `A - B`\n",
    "   - La diferencia simétrica\n",
    "4. Comprueba si el número 2 pertenece al conjunto `A`.\n",
    "5. Crea un `frozenset` a partir de una lista con elementos repetidos.\n",
    "6. Escribe un programa que elimine duplicados de una lista usando un conjunto.\n",
    "7. Dados tres conjuntos de alumnos que cursan diferentes asignaturas, encuentra los que están en todas, en al menos una y en ninguna."
   ]
  }
 ],
 "metadata": {},
 "nbformat": 4,
 "nbformat_minor": 5
}
