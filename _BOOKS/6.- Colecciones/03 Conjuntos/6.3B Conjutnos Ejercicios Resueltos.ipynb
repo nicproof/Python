{
 "cells": [
  {
   "cell_type": "markdown",
   "id": "bb96f94e",
   "metadata": {},
   "source": [
    "# Ejercicios de conjuntos (resueltos)\n"
   ]
  },
  {
   "cell_type": "code",
   "execution_count": null,
   "id": "6be61cba",
   "metadata": {},
   "outputs": [],
   "source": [
    "# 1 y 2\n",
    "conjunto = {1,2,3,4,5}\n",
    "conjunto.add(6)\n",
    "conjunto.discard(3)\n",
    "print(conjunto)"
   ]
  },
  {
   "cell_type": "code",
   "execution_count": null,
   "id": "e9b03da2",
   "metadata": {},
   "outputs": [],
   "source": [
    "# 3\n",
    "A = {1,2,3}\n",
    "B = {3,4,5}\n",
    "print('Unión:', A | B)\n",
    "print('Intersección:', A & B)\n",
    "print('Diferencia A-B:', A - B)\n",
    "print('Diferencia simétrica:', A ^ B)"
   ]
  },
  {
   "cell_type": "code",
   "execution_count": null,
   "id": "bb37e21e",
   "metadata": {},
   "outputs": [],
   "source": [
    "# 4\n",
    "print(2 in A)"
   ]
  },
  {
   "cell_type": "code",
   "execution_count": null,
   "id": "d83da172",
   "metadata": {},
   "outputs": [],
   "source": [
    "# 5\n",
    "fs = frozenset([1,2,2,3,3,4])\n",
    "print(fs)"
   ]
  },
  {
   "cell_type": "code",
   "execution_count": null,
   "id": "3a2c03fb",
   "metadata": {},
   "outputs": [],
   "source": [
    "# 6\n",
    "lista = [1,2,2,3,4,4,5]\n",
    "lista_sin_duplicados = list(set(lista))\n",
    "print(lista_sin_duplicados)"
   ]
  },
  {
   "cell_type": "code",
   "execution_count": null,
   "id": "ad3f2764",
   "metadata": {},
   "outputs": [],
   "source": [
    "# 7\n",
    "A = {'Ana','Luis','Marta'}\n",
    "B = {'Luis','Marta','Pedro'}\n",
    "C = {'Marta','Pedro','Ana'}\n",
    "print('En todas:', A & B & C)\n",
    "print('En al menos una:', A | B | C)\n",
    "print('En ninguna (ejemplo con universo):')\n",
    "universo = {'Ana','Luis','Marta','Pedro','Sofía'}\n",
    "print(universo - (A | B | C))"
   ]
  }
 ],
 "metadata": {},
 "nbformat": 4,
 "nbformat_minor": 5
}
