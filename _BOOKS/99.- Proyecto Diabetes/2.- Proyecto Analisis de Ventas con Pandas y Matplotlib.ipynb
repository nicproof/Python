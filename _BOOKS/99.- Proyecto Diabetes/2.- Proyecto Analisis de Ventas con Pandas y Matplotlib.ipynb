{
 "cells": [
  {
   "cell_type": "markdown",
   "id": "267f560f",
   "metadata": {},
   "source": [
    "# 📊 Proyecto Avanzado: Análisis de Ventas con Pandas + Matplotlib (PLUS)\n",
    "Este cuaderno guía un análisis **end-to-end**: carga/validación de datos, EDA, limpieza, *feature engineering*, KPIs,\n",
    "visualizaciones y analítica de clientes (RFM y cohortes). Incluye **tareas** con **soluciones ocultas**.\n",
    "\n",
    "**Objetivos:**\n",
    "- Practicar carga y validación de datos con `pandas`.\n",
    "- Crear KPIs de negocio (ingresos, ticket medio, devoluciones, top productos/clientes).\n",
    "- Usar `groupby`, *pivot tables*, re-muestreo por mes y gráficos con **Matplotlib**.\n",
    "- Analizar clientes con **RFM** y **cohortes**.\n",
    "\n",
    "**Entregables:** CSV con resultados clave, 3 gráficos y un breve texto con hallazgos.\n",
    "\n",
    "**ACLARACIONES:**\n",
    "EDA (Análisis Exploratorio de Datos) te dice qué hay y cómo están los datos; RFM (Recencia -días de la última compra -, Frecuencia y Valor Monetario) te dice qué clientes son más valiosos/activos; cohortes (Grupo de clientes definido por su momento de alta) te dice cómo evoluciona la retención en el tiempo."
   ]
  },
  {
   "cell_type": "markdown",
   "id": "36acbf97",
   "metadata": {},
   "source": [
    "## 0) Preparación: librerías y helpers"
   ]
  },
  {
   "cell_type": "code",
   "execution_count": 1,
   "id": "70648b47",
   "metadata": {},
   "outputs": [],
   "source": [
    "import pandas as pd\n",
    "import numpy as np\n",
    "from pathlib import Path\n",
    "import matplotlib.pyplot as plt\n",
    "from datetime import datetime\n",
    "pd.set_option('display.max_rows', 10)\n",
    "pd.set_option('display.width', 120)"
   ]
  },
  {
   "cell_type": "code",
   "execution_count": null,
   "id": "dcca11e2-14dc-4903-9c0a-68d46ba5b4b0",
   "metadata": {},
   "outputs": [],
   "source": [
    "# Importamos pandas para trabajar con tablas (tipo Excel)\n",
    "import pandas as pd\n",
    "\n",
    "# Importamos numpy para cálculos numéricos\n",
    "import numpy as np\n",
    "\n",
    "# Path sirve para manejar rutas de archivos y carpetas\n",
    "from pathlib import Path\n",
    "\n",
    "# matplotlib.pyplot permite hacer gráficas\n",
    "import matplotlib.pyplot as plt\n",
    "\n",
    "# datetime permite trabajar con fechas y horas\n",
    "from datetime import datetime\n",
    "\n",
    "# Configuramos pandas para mostrar máximo 10 filas en pantalla\n",
    "pd.set_option('display.max_rows', 10)\n",
    "\n",
    "# Configuramos pandas para que las tablas usen hasta 120 caracteres de ancho\n",
    "pd.set_option('display.width', 120)"
   ]
  },
  {
   "cell_type": "code",
   "execution_count": null,
   "id": "b77a654d-5497-4506-aff6-7df0de935638",
   "metadata": {},
   "outputs": [],
   "source": [
    "📋 Resumen corto\n",
    "\n",
    "Este código prepara el entorno:\n",
    "\n",
    "Carga librerías para datos (pandas, numpy), archivos (Path), gráficas (matplotlib) y fechas (datetime).\n",
    "\n",
    "Configura pandas para que muestre las tablas de forma más ordenada."
   ]
  },
  {
   "cell_type": "markdown",
   "id": "7c6677d8",
   "metadata": {},
   "source": [
    "## 1) Dataset: generar o cargar\n",
    "Si existe `ventas_simuladas.csv`, lo cargamos. Si no, generamos uno reproducible."
   ]
  },
  {
   "cell_type": "code",
   "execution_count": null,
   "id": "d7bef9de",
   "metadata": {
    "jupyter": {
     "source_hidden": true
    }
   },
   "outputs": [],
   "source": [
    "def generar_dataset_csv(ruta='ventas_simuladas.csv', seed=42):\n",
    "    rng = np.random.default_rng(seed)\n",
    "    dates = pd.date_range('2023-01-01', '2024-12-31', freq='D')\n",
    "    products = [\n",
    "        ('Teclado','Periféricos'),('Ratón','Periféricos'),('Monitor','Pantallas'),\n",
    "        ('Portátil','Ordenadores'),('Disco SSD','Almacenamiento'),('Impresora','Periféricos'),\n",
    "        ('Auriculares','Periféricos'),('Base refrigeradora','Periféricos'),('Webcam','Periféricos')\n",
    "    ]\n",
    "    rows = []\n",
    "    order_id = 1\n",
    "    for d in dates:\n",
    "        for _ in range(rng.integers(5, 20)):\n",
    "            prod, cat = products[rng.integers(0, len(products))]\n",
    "            units = int(rng.integers(1, 5))\n",
    "            base = 50 if cat=='Periféricos' else (300 if cat in ['Ordenadores','Pantallas'] else 100)\n",
    "            price = float(rng.normal(base, base*0.35))\n",
    "            price = max(price, 5)\n",
    "            returned = rng.random() < 0.05\n",
    "            rows.append((order_id, d, rng.integers(1, 801), prod, cat, units, round(price,2), returned))\n",
    "            order_id += 1\n",
    "    df = pd.DataFrame(rows, columns=['order_id','order_date','customer_id','product','category','units','unit_price','returned'])\n",
    "    df.to_csv(ruta, index=False)\n",
    "    return ruta\n",
    "\n",
    "csv_path = Path('ventas_simuladas.csv')\n",
    "if not csv_path.exists():\n",
    "    generar_dataset_csv(csv_path)\n",
    "df = pd.read_csv(csv_path, parse_dates=['order_date'])\n",
    "df.head()"
   ]
  },
  {
   "cell_type": "code",
   "execution_count": null,
   "id": "fbfd5be1-9eea-4b52-a220-7d3c3f777a94",
   "metadata": {},
   "outputs": [],
   "source": [
    "# Función que genera un dataset de ventas simuladas y lo guarda en un CSV\n",
    "def generar_dataset_csv(ruta='ventas_simuladas.csv', seed=42):\n",
    "    rng = np.random.default_rng(seed)  # Generador aleatorio con semilla fija\n",
    "    dates = pd.date_range('2023-01-01', '2024-12-31', freq='D')  # Todas las fechas entre 2023 y 2024\n",
    "    \n",
    "    # Lista de productos con su categoría\n",
    "    products = [\n",
    "        ('Teclado','Periféricos'),('Ratón','Periféricos'),('Monitor','Pantallas'),\n",
    "        ('Portátil','Ordenadores'),('Disco SSD','Almacenamiento'),('Impresora','Periféricos'),\n",
    "        ('Auriculares','Periféricos'),('Base refrigeradora','Periféricos'),('Webcam','Periféricos')\n",
    "    ]\n",
    "    \n",
    "    rows = []        # Aquí guardaremos todas las ventas\n",
    "    order_id = 1     # ID inicial de pedidos\n",
    "    \n",
    "    # Para cada día en el rango de fechas\n",
    "    for d in dates:\n",
    "        # Simulamos entre 5 y 20 ventas diarias\n",
    "        for _ in range(rng.integers(5, 20)):\n",
    "            # Elegir producto y categoría aleatoriamente\n",
    "            prod, cat = products[rng.integers(0, len(products))]\n",
    "            units = int(rng.integers(1, 5))  # Unidades compradas (1 a 4)\n",
    "            \n",
    "            # Precio base según la categoría\n",
    "            base = 50 if cat=='Periféricos' else (300 if cat in ['Ordenadores','Pantallas'] else 100)\n",
    "            price = float(rng.normal(base, base*0.35))  # Precio aleatorio alrededor del base\n",
    "            price = max(price, 5)  # Nunca menor a 5\n",
    "            \n",
    "            # 5% de probabilidad de devolución\n",
    "            returned = rng.random() < 0.05\n",
    "            \n",
    "            # Guardar esta venta\n",
    "            rows.append((order_id, d, rng.integers(1, 801), prod, cat, units, round(price,2), returned))\n",
    "            order_id += 1  # Siguiente ID\n",
    "    \n",
    "    # Convertir a DataFrame y guardar en CSV\n",
    "    df = pd.DataFrame(rows, columns=['order_id','order_date','customer_id','product','category','units','unit_price','returned'])\n",
    "    df.to_csv(ruta, index=False)\n",
    "    return ruta\n",
    "\n",
    "# Ruta donde se guarda el CSV\n",
    "csv_path = Path('ventas_simuladas.csv')\n",
    "\n",
    "# Si no existe el archivo, lo creamos\n",
    "if not csv_path.exists():\n",
    "    generar_dataset_csv(csv_path)\n",
    "\n",
    "# Cargar el dataset en un DataFrame\n",
    "df = pd.read_csv(csv_path, parse_dates=['order_date'])\n",
    "\n",
    "# Mostrar las primeras filas\n",
    "df.head()\n"
   ]
  },
  {
   "cell_type": "code",
   "execution_count": null,
   "id": "2039e8a4-7e83-4ea6-bd23-5d2a89b59c0d",
   "metadata": {},
   "outputs": [],
   "source": [
    "📋 Resumen corto\n",
    "\n",
    "Este código:\n",
    "\n",
    "Genera un archivo CSV con ventas ficticias de distintos productos (si no existe).\n",
    "\n",
    "Cada venta tiene: id, fecha, cliente, producto, categoría, unidades, precio y si fue devuelto.\n",
    "\n",
    "Luego lee ese archivo y muestra las primeras filas."
   ]
  },
  {
   "cell_type": "markdown",
   "id": "e6bca1a2",
   "metadata": {},
   "source": [
    "## 2) Validación y limpieza mínima"
   ]
  },
  {
   "cell_type": "code",
   "execution_count": null,
   "id": "f29e8f12",
   "metadata": {},
   "outputs": [],
   "source": [
    "# Tipos y nulos\n",
    "display(df.info())\n",
    "nulos = df.isna().sum()\n",
    "nulos"
   ]
  },
  {
   "cell_type": "code",
   "execution_count": null,
   "id": "db948ca7-6ea0-49c7-95a1-ac9cd1b568dc",
   "metadata": {},
   "outputs": [],
   "source": [
    "# Ver un resumen del DataFrame: número de filas, columnas y tipos de datos\n",
    "display(df.info())\n",
    "\n",
    "# Contar cuántos valores nulos (vacíos) hay en cada columna\n",
    "nulos = df.isna().sum()\n",
    "\n",
    "# Mostrar el conteo de nulos\n",
    "nulos"
   ]
  },
  {
   "cell_type": "code",
   "execution_count": null,
   "id": "c3a8d09b-9e3f-4863-a990-c6f04fb5a649",
   "metadata": {},
   "outputs": [],
   "source": [
    "📋 Resumen corto\n",
    "\n",
    "Este bloque sirve para verificar la calidad de los datos:\n",
    "\n",
    "df.info() → revisa la estructura y tipos de las columnas.\n",
    "\n",
    "df.isna().sum() → revisa si hay valores faltantes en alguna columna.\n",
    "\n",
    "En este dataset, lo normal es que no haya nulos (0 en todas las columnas)."
   ]
  },
  {
   "cell_type": "code",
   "execution_count": null,
   "id": "4599f22c",
   "metadata": {},
   "outputs": [],
   "source": [
    "# Reglas de negocio simples\n",
    "assert (df['units']>=1).all(), 'Units debe ser >= 1'\n",
    "assert (df['unit_price']>0).all(), 'unit_price debe ser > 0'\n",
    "df['returned'] = df['returned'].astype(bool)\n",
    "df['category'] = df['category'].astype('category')\n",
    "df['product'] = df['product'].astype('category')\n",
    "df['order_date'] = pd.to_datetime(df['order_date'])\n",
    "df['revenue'] = df['units'] * df['unit_price']\n",
    "df.head()"
   ]
  },
  {
   "cell_type": "code",
   "execution_count": null,
   "id": "a9c5f04c-bff7-4b75-93ad-6fdac1089097",
   "metadata": {},
   "outputs": [],
   "source": [
    "# Reglas de negocio: validar que no haya datos inválidos\n",
    "assert (df['units']>=1).all(), 'Units debe ser >= 1'        # Todas las ventas deben tener al menos 1 unidad\n",
    "assert (df['unit_price']>0).all(), 'unit_price debe ser > 0'  # El precio debe ser siempre positivo\n",
    "\n",
    "# Convertir columnas a tipos más adecuados\n",
    "df['returned'] = df['returned'].astype(bool)          # True/False\n",
    "df['category'] = df['category'].astype('category')    # Categorías de productos\n",
    "df['product'] = df['product'].astype('category')      # Productos\n",
    "\n",
    "# Asegurar que las fechas son del tipo datetime\n",
    "df['order_date'] = pd.to_datetime(df['order_date'])\n",
    "\n",
    "# Crear una nueva columna: ingresos = unidades * precio unitario\n",
    "df['revenue'] = df['units'] * df['unit_price']\n",
    "\n",
    "# Mostrar las primeras filas con la nueva columna\n",
    "df.head()"
   ]
  },
  {
   "cell_type": "code",
   "execution_count": null,
   "id": "7ab46b51-107e-4bb2-be7e-efbe9805af96",
   "metadata": {},
   "outputs": [],
   "source": [
    "📋 Resumen corto\n",
    "\n",
    "Este bloque:\n",
    "\n",
    "Valida que no haya datos incorrectos (unidades < 1, precios ≤ 0).\n",
    "\n",
    "Convierte columnas a tipos adecuados (bool, category, datetime).\n",
    "\n",
    "Calcula una columna nueva: revenue (ingresos por venta)."
   ]
  },
  {
   "cell_type": "markdown",
   "id": "6486ab60",
   "metadata": {},
   "source": [
    "## 3) EDA rápida"
   ]
  },
  {
   "cell_type": "code",
   "execution_count": null,
   "id": "e5e725dd",
   "metadata": {},
   "outputs": [],
   "source": [
    "df.describe(include='all')"
   ]
  },
  {
   "cell_type": "code",
   "execution_count": null,
   "id": "61b56189-e80e-4e23-97ff-dc24bddffb24",
   "metadata": {},
   "outputs": [],
   "source": [
    "# Generar un resumen estadístico de todas las columnas\n",
    "# - Números → media, desviación, min, max, percentiles\n",
    "# - Texto/categorías → cuántos valores únicos, el más frecuente\n",
    "# - Booleanos → valor más frecuente (True/False)\n",
    "# - Fechas → muestra count, unique, top, freq\n",
    "df.describe(include='all')"
   ]
  },
  {
   "cell_type": "code",
   "execution_count": null,
   "id": "a34dd80b-827f-4b50-8e71-928f8003383c",
   "metadata": {},
   "outputs": [],
   "source": [
    "📋 Resumen corto\n",
    "\n",
    "df.describe(include='all') → genera un informe general de todo el dataset:\n",
    "\n",
    "Estadísticas de números (promedio, mínimos, máximos).\n",
    "\n",
    "Estadísticas de categorías (valor más común, número de categorías).\n",
    "\n",
    "Estadísticas de booleanos y fechas."
   ]
  },
  {
   "cell_type": "code",
   "execution_count": null,
   "id": "08815bc1",
   "metadata": {},
   "outputs": [],
   "source": [
    "df.groupby('category')['revenue'].sum().sort_values(ascending=False).head(10)"
   ]
  },
  {
   "cell_type": "code",
   "execution_count": null,
   "id": "67eba78d-1271-41d3-bdda-3c3c80836c9e",
   "metadata": {},
   "outputs": [],
   "source": [
    "# Calcular los ingresos totales agrupados por categoría de producto\n",
    "df.groupby('category')['revenue'].sum() \\\n",
    "    .sort_values(ascending=False) \\  # Ordenar de mayor a menor\n",
    "    .head(10)  # Mostrar solo los 10 primeros"
   ]
  },
  {
   "cell_type": "code",
   "execution_count": null,
   "id": "0b49e97e-94f3-486b-81af-f26e32e9fa9f",
   "metadata": {},
   "outputs": [],
   "source": [
    "📋 Resumen corto\n",
    "\n",
    "Este comando calcula:\n",
    "👉 ¿Qué categorías de productos generan más dinero en total?\n",
    "Es un análisis clave para la estrategia de negocio."
   ]
  },
  {
   "cell_type": "markdown",
   "id": "51169897",
   "metadata": {},
   "source": [
    "### Tarea 1: ¿Cuál es el rango de fechas y el nº de pedidos únicos?"
   ]
  },
  {
   "cell_type": "markdown",
   "id": "b6c09f2b",
   "metadata": {},
   "source": [
    "<details><summary><b>Ver solución</b></summary>\n",
    "\n",
    "```python\n",
    "df['order_date'].min(), df['order_date'].max(), df['order_id'].nunique()\n",
    "```\n",
    "</details>"
   ]
  },
  {
   "cell_type": "markdown",
   "id": "7d53f31d",
   "metadata": {},
   "source": [
    "## 4) KPIs básicos"
   ]
  },
  {
   "cell_type": "code",
   "execution_count": null,
   "id": "7ad5bc65",
   "metadata": {},
   "outputs": [],
   "source": [
    "# KPI 1: Ingresos por mes\n",
    "df['month'] = df['order_date'].dt.to_period('M').dt.to_timestamp()\n",
    "ingresos_mes = df.groupby('month')['revenue'].sum().reset_index()\n",
    "ingresos_mes.head()"
   ]
  },
  {
   "cell_type": "code",
   "execution_count": null,
   "id": "f78805b9-776d-442f-8bac-71616dbc8f33",
   "metadata": {},
   "outputs": [],
   "source": [
    "# Crear columna \"month\" que representa el mes de cada venta\n",
    "df['month'] = df['order_date'].dt.to_period('M').dt.to_timestamp()\n",
    "\n",
    "# Calcular ingresos totales por mes\n",
    "ingresos_mes = df.groupby('month')['revenue'].sum().reset_index()\n",
    "\n",
    "# Mostrar los primeros 5 meses con sus ingresos\n",
    "ingresos_mes.head()"
   ]
  },
  {
   "cell_type": "code",
   "execution_count": null,
   "id": "9e9089df-b8b4-4fde-a2da-82587d286fec",
   "metadata": {},
   "outputs": [],
   "source": [
    "📋 Resumen corto\n",
    "\n",
    "Este bloque:\n",
    "\n",
    "Añade una columna month con el mes de cada venta.\n",
    "\n",
    "Agrupa todas las ventas por mes.\n",
    "\n",
    "Calcula los ingresos totales por mes.\n",
    "\n",
    "👉 Resultado: una tabla con los ingresos de la empresa mes a mes."
   ]
  },
  {
   "cell_type": "code",
   "execution_count": null,
   "id": "33fdc747",
   "metadata": {},
   "outputs": [],
   "source": [
    "# KPI 2: Ticket medio por pedido\n",
    "ticket_medio = df.groupby('order_id')['revenue'].sum().mean()\n",
    "ticket_medio"
   ]
  },
  {
   "cell_type": "code",
   "execution_count": null,
   "id": "7a5da172-dde2-470b-9b95-c2d446ae68bd",
   "metadata": {},
   "outputs": [],
   "source": [
    "# Calcular ticket medio (promedio de ingresos por pedido)\n",
    "# 1. Agrupar ventas por pedido (order_id)\n",
    "# 2. Sumar ingresos de cada pedido\n",
    "# 3. Calcular el promedio de todos los pedidos\n",
    "ticket_medio = df.groupby('order_id')['revenue'].sum().mean()\n",
    "\n",
    "# Mostrar el resultado\n",
    "ticket_medio"
   ]
  },
  {
   "cell_type": "code",
   "execution_count": null,
   "id": "5cba53b6-3e1b-4dab-9163-2a1c74e4780c",
   "metadata": {},
   "outputs": [],
   "source": [
    "📋 Resumen corto\n",
    "\n",
    "Este bloque calcula el ticket medio:\n",
    "👉 El promedio de ingresos por pedido (order_id).\n",
    "\n",
    "Es un KPI fundamental porque te dice:\n",
    "\n",
    "Si el ticket medio sube → los clientes compran más cosas por pedido (o más caras).\n",
    "\n",
    "Si baja → tal vez compran menos productos o más baratos."
   ]
  },
  {
   "cell_type": "code",
   "execution_count": null,
   "id": "835304b3",
   "metadata": {},
   "outputs": [],
   "source": [
    "# KPI 3: Top 10 productos por ingresos\n",
    "top_prod = df.groupby('product')['revenue'].sum().sort_values(ascending=False).head(10)\n",
    "top_prod"
   ]
  },
  {
   "cell_type": "code",
   "execution_count": null,
   "id": "23016536-98c1-4f2e-849f-7910ca8e119e",
   "metadata": {},
   "outputs": [],
   "source": [
    "# KPI 3: Top 10 productos por ingresos\n",
    "# 1. Agrupar ventas por producto\n",
    "# 2. Sumar ingresos de cada producto\n",
    "# 3. Ordenar de mayor a menor\n",
    "# 4. Tomar los 10 primeros\n",
    "top_prod = df.groupby('product')['revenue'].sum().sort_values(ascending=False).head(10)\n",
    "\n",
    "# Mostrar los productos más rentables\n",
    "top_prod"
   ]
  },
  {
   "cell_type": "code",
   "execution_count": null,
   "id": "bbf980d2-401c-441e-ae32-faaab1efcfff",
   "metadata": {},
   "outputs": [],
   "source": [
    "📋 Resumen corto\n",
    "\n",
    "Este bloque calcula el top 10 de productos por ingresos totales.\n",
    "👉 Es un KPI importante para identificar qué productos son más rentables y estratégicos."
   ]
  },
  {
   "cell_type": "code",
   "execution_count": null,
   "id": "b07603a6",
   "metadata": {},
   "outputs": [],
   "source": [
    "# KPI 4: Tasa de devolución\n",
    "tasa_dev = df['returned'].mean()\n",
    "tasa_dev"
   ]
  },
  {
   "cell_type": "code",
   "execution_count": null,
   "id": "223da8ec-8dc6-4188-b5b3-58d792d146fe",
   "metadata": {},
   "outputs": [],
   "source": [
    "# KPI 4: Tasa de devolución\n",
    "# La columna 'returned' es booleana (True=devuelto, False=no devuelto)\n",
    "# La media nos da el porcentaje de productos devueltos\n",
    "tasa_dev = df['returned'].mean()\n",
    "\n",
    "# Mostrar la tasa de devolución (entre 0 y 1)\n",
    "tasa_dev"
   ]
  },
  {
   "cell_type": "code",
   "execution_count": null,
   "id": "a2a94b1d-5ede-438a-9228-64c665881446",
   "metadata": {},
   "outputs": [],
   "source": [
    "📋 Resumen corto\n",
    "\n",
    "Este bloque calcula qué proporción de productos se devuelven.\n",
    "\n",
    "KPI importante para medir satisfacción del cliente y problemas de calidad."
   ]
  },
  {
   "cell_type": "markdown",
   "id": "94dafb85",
   "metadata": {},
   "source": [
    "## 5) Visualizaciones con Matplotlib (una figura por gráfico)"
   ]
  },
  {
   "cell_type": "code",
   "execution_count": null,
   "id": "33dabfec",
   "metadata": {},
   "outputs": [],
   "source": [
    "# Ingresos por mes (línea)\n",
    "ingresos_mes.plot(x='month', y='revenue', kind='line', title='Ingresos por mes')\n",
    "plt.show()"
   ]
  },
  {
   "cell_type": "code",
   "execution_count": null,
   "id": "482befe7-576e-4018-bd0f-32322f154214",
   "metadata": {},
   "outputs": [],
   "source": [
    "# Graficar ingresos totales por mes\n",
    "ingresos_mes.plot(\n",
    "    x='month',        # Eje X = meses\n",
    "    y='revenue',      # Eje Y = ingresos\n",
    "    kind='line',      # Tipo de gráfico = línea\n",
    "    title='Ingresos por mes'  # Título del gráfico\n",
    ")\n",
    "\n",
    "# Mostrar el gráfico\n",
    "plt.show()"
   ]
  },
  {
   "cell_type": "code",
   "execution_count": null,
   "id": "937e85af-c390-489b-a06e-18f89f163951",
   "metadata": {},
   "outputs": [],
   "source": [
    "📋 Resumen corto\n",
    "\n",
    "Este bloque dibuja un gráfico de línea que muestra:\n",
    "\n",
    "La evolución de los ingresos mes a mes.\n",
    "\n",
    "Permite detectar temporadas altas y bajas, tendencias, crecimientos o caídas en ventas."
   ]
  },
  {
   "cell_type": "code",
   "execution_count": null,
   "id": "ca4bbc22",
   "metadata": {},
   "outputs": [],
   "source": [
    "# Ingresos por categoría (barra)\n",
    "df.groupby('category')['revenue'].sum().sort_values().plot(kind='bar', title='Ingresos por categoría')\n",
    "plt.show()"
   ]
  },
  {
   "cell_type": "code",
   "execution_count": null,
   "id": "2a0f5fd0-c62c-4b83-b45a-a8a01e29873a",
   "metadata": {},
   "outputs": [],
   "source": [
    "# Graficar ingresos totales por categoría de producto\n",
    "df.groupby('category')['revenue'].sum() \\   # Sumar ingresos por categoría\n",
    "    .sort_values() \\                        # Ordenar de menor a mayor\n",
    "    .plot(kind='bar', title='Ingresos por categoría')  # Graficar como barras\n",
    "\n",
    "# Mostrar el gráfico\n",
    "plt.show()"
   ]
  },
  {
   "cell_type": "code",
   "execution_count": null,
   "id": "cc821b01-e60b-410c-b83e-67d2fc7b5c42",
   "metadata": {},
   "outputs": [],
   "source": [
    "📋 Resumen corto\n",
    "\n",
    "Este bloque genera un gráfico de barras que permite:\n",
    "\n",
    "Comparar rápidamente qué categorías generan más ingresos.\n",
    "\n",
    "Visualizar fácilmente diferencias entre categorías."
   ]
  },
  {
   "cell_type": "code",
   "execution_count": null,
   "id": "1c619229",
   "metadata": {},
   "outputs": [],
   "source": [
    "# Top 10 productos (barra)\n",
    "df.groupby('product')['revenue'].sum().sort_values(ascending=False).head(10).plot(kind='bar', title='Top 10 productos')\n",
    "plt.show()"
   ]
  },
  {
   "cell_type": "code",
   "execution_count": null,
   "id": "d09d5def-fe4d-4786-a3ac-45d069ab5e2f",
   "metadata": {},
   "outputs": [],
   "source": [
    "# Graficar los 10 productos que más ingresos generan\n",
    "df.groupby('product')['revenue'].sum() \\        # Sumar ingresos por producto\n",
    "    .sort_values(ascending=False) \\            # Ordenar de mayor a menor\n",
    "    .head(10) \\                                # Tomar los 10 primeros\n",
    "    .plot(kind='bar', title='Top 10 productos') # Graficar como barras\n",
    "\n",
    "# Mostrar el gráfico\n",
    "plt.show()"
   ]
  },
  {
   "cell_type": "code",
   "execution_count": null,
   "id": "64e0e7b5-0ad5-4dce-99d9-bd60f323fb3d",
   "metadata": {},
   "outputs": [],
   "source": [
    "📋 Resumen corto\n",
    "\n",
    "Este gráfico permite ver rápidamente:\n",
    "\n",
    "Qué productos generan más ingresos.\n",
    "\n",
    "Identificar productos estratégicos o estrellas del catálogo."
   ]
  },
  {
   "cell_type": "markdown",
   "id": "903cad70",
   "metadata": {},
   "source": [
    "### Tarea 2: Representa la evolución de la **tasa de devolución** por mes"
   ]
  },
  {
   "cell_type": "markdown",
   "id": "631a1038",
   "metadata": {},
   "source": [
    "<details><summary><b>Ver solución</b></summary>\n",
    "\n",
    "```python\n",
    "dev_mes = df.groupby('month')['returned'].mean().reset_index()\n",
    "dev_mes.plot(x='month', y='returned', kind='line', title='Tasa de devolución por mes')\n",
    "plt.show()\n",
    "```\n",
    "</details>"
   ]
  },
  {
   "cell_type": "markdown",
   "id": "c632f969",
   "metadata": {},
   "source": [
    "## 6) Analítica de clientes: **RFM**"
   ]
  },
  {
   "cell_type": "code",
   "execution_count": null,
   "id": "44a2d9d9",
   "metadata": {},
   "outputs": [],
   "source": [
    "# Calcula Recency (días desde última compra), Frequency (nº pedidos), Monetary (ingresos)\n",
    "ref_date = df['order_date'].max() + pd.Timedelta(days=1)\n",
    "agg = df.groupby('customer_id').agg(\n",
    "    last_purchase=('order_date','max'),\n",
    "    frequency=('order_id','nunique'),\n",
    "    monetary=('revenue','sum')\n",
    ").reset_index()\n",
    "agg['recency'] = (ref_date - agg['last_purchase']).dt.days\n",
    "agg.head()"
   ]
  },
  {
   "cell_type": "code",
   "execution_count": null,
   "id": "9bd67a54-0eda-40e8-934c-61f54079b06f",
   "metadata": {},
   "outputs": [],
   "source": [
    "# Fecha de referencia para calcular recency (un día después de la última venta)\n",
    "ref_date = df['order_date'].max() + pd.Timedelta(days=1)\n",
    "\n",
    "# Agregar métricas por cliente\n",
    "agg = df.groupby('customer_id').agg(\n",
    "    last_purchase=('order_date','max'),  # Última compra\n",
    "    frequency=('order_id','nunique'),    # Número de pedidos\n",
    "    monetary=('revenue','sum')           # Total gastado\n",
    ").reset_index()\n",
    "\n",
    "# Calcular Recency = días desde la última compra\n",
    "agg['recency'] = (ref_date - agg['last_purchase']).dt.days\n",
    "\n",
    "# Mostrar las primeras filas\n",
    "agg.head()"
   ]
  },
  {
   "cell_type": "code",
   "execution_count": null,
   "id": "8107918f-a2eb-408d-a46f-66d705d8e6e6",
   "metadata": {},
   "outputs": [],
   "source": [
    "📋 Resumen corto\n",
    "\n",
    "Este bloque crea un resumen por cliente para análisis RFM:\n",
    "\n",
    "    Recency (R) → días desde la última compra\n",
    "\n",
    "    Frequency (F) → número de pedidos\n",
    "\n",
    "    Monetary (M) → ingresos totales del cliente\n",
    "\n",
    "Estas métricas son clave para:\n",
    "\n",
    "    Identificar clientes leales (alta frecuencia, alto gasto)\n",
    "\n",
    "    Detectar clientes inactivos (recency alto)\n",
    "\n",
    "    Planificar campañas de marketing o retención."
   ]
  },
  {
   "cell_type": "code",
   "execution_count": null,
   "id": "0beb39a4",
   "metadata": {},
   "outputs": [],
   "source": [
    "# Discretización por quintiles para r, f, m → scores 1–5\n",
    "def quintil_scorer(s, reverse=False):\n",
    "    q = s.rank(pct=True)\n",
    "    sc = (q*5).apply(np.ceil).astype(int)\n",
    "    sc = sc.clip(1,5)\n",
    "    return 6 - sc if reverse else sc\n",
    "agg['R'] = quintil_scorer(agg['recency'], reverse=True)  # menor recency → mejor\n",
    "agg['F'] = quintil_scorer(agg['frequency'])\n",
    "agg['M'] = quintil_scorer(agg['monetary'])\n",
    "agg['RFM'] = agg['R'].astype(str)+agg['F'].astype(str)+agg['M'].astype(str)\n",
    "agg.sort_values('monetary', ascending=False).head(10)"
   ]
  },
  {
   "cell_type": "code",
   "execution_count": null,
   "id": "f9e39790-09fa-4068-9355-0a318ff953a0",
   "metadata": {},
   "outputs": [],
   "source": [
    "# Función para asignar scores de 1 a 5 según quintiles\n",
    "def quintil_scorer(s, reverse=False):\n",
    "    q = s.rank(pct=True)                # percentil de cada valor\n",
    "    sc = (q*5).apply(np.ceil).astype(int)  # asignar quintil 1-5\n",
    "    sc = sc.clip(1,5)                   # asegurar rango 1-5\n",
    "    return 6 - sc if reverse else sc    # invertir si reverse=True\n",
    "\n",
    "# Asignar scores RFM\n",
    "agg['R'] = quintil_scorer(agg['recency'], reverse=True)  # menor recency = mejor\n",
    "agg['F'] = quintil_scorer(agg['frequency'])\n",
    "agg['M'] = quintil_scorer(agg['monetary'])\n",
    "\n",
    "# Crear columna combinada RFM\n",
    "agg['RFM'] = agg['R'].astype(str) + agg['F'].astype(str) + agg['M'].astype(str)\n",
    "\n",
    "# Mostrar top 10 clientes por gasto\n",
    "agg.sort_values('monetary', ascending=False).head(10)"
   ]
  },
  {
   "cell_type": "code",
   "execution_count": null,
   "id": "d21c68b8-4aa8-4cdc-b3c9-268b10de19cd",
   "metadata": {},
   "outputs": [],
   "source": [
    "📋 Resumen corto\n",
    "\n",
    "Este bloque completa el análisis RFM:\n",
    "\n",
    "    Convierte recency, frequency y monetary en scores 1–5 según quintiles.\n",
    "    Combina los scores en una cadena RFM para segmentar clientes.\n",
    "    Permite identificar clientes valiosos y priorizar campañas."
   ]
  },
  {
   "cell_type": "markdown",
   "id": "e9668cd9",
   "metadata": {},
   "source": [
    "### Tarea 3: ¿Qué porcentaje de ingresos aportan los **top 10%** de clientes por `monetary`?"
   ]
  },
  {
   "cell_type": "markdown",
   "id": "c9cf6cd9",
   "metadata": {},
   "source": [
    "<details><summary><b>Ver solución</b></summary>\n",
    "\n",
    "```python\n",
    "n = max(1, int(len(agg)*0.10))\n",
    "top = agg.sort_values('monetary', ascending=False).head(n)\n",
    "pct = top['monetary'].sum() / agg['monetary'].sum()\n",
    "pct\n",
    "```\n",
    "</details>"
   ]
  },
  {
   "cell_type": "markdown",
   "id": "9e0897f7",
   "metadata": {},
   "source": [
    "## 7) Analítica de **cohortes** (retención mensual)\n",
    "Definimos la cohorte por **mes de primera compra** y construimos una tabla de retención."
   ]
  },
  {
   "cell_type": "code",
   "execution_count": null,
   "id": "86947e1d",
   "metadata": {},
   "outputs": [],
   "source": [
    "df_small = df[['customer_id','order_id','order_date','revenue']].copy()\n",
    "df_small['first_month'] = df_small.groupby('customer_id')['order_date'].transform('min').dt.to_period('M').dt.to_timestamp()\n",
    "df_small['month'] = df_small['order_date'].dt.to_period('M').dt.to_timestamp()\n",
    "df_small['cohort_index'] = ((df_small['month'].dt.year - df_small['first_month'].dt.year)*12 +\n",
    "                             (df_small['month'].dt.month - df_small['first_month'].dt.month))\n",
    "retencion = (df_small\n",
    "    .groupby(['first_month','cohort_index'])['customer_id']\n",
    "    .nunique()\n",
    "    .reset_index())\n",
    "base = retencion[retencion['cohort_index']==0][['first_month','customer_id']].rename(columns={'customer_id':'n0'})\n",
    "tabla = retencion.merge(base, on='first_month')\n",
    "tabla['ret'] = tabla['customer_id']/tabla['n0']\n",
    "cohort_pivot = tabla.pivot(index='first_month', columns='cohort_index', values='ret').fillna(0)\n",
    "cohort_pivot.head()"
   ]
  },
  {
   "cell_type": "code",
   "execution_count": null,
   "id": "06538f8c-b913-41c9-89a5-8b06244ca284",
   "metadata": {},
   "outputs": [],
   "source": [
    "# Selección de columnas relevantes\n",
    "df_small = df[['customer_id','order_id','order_date','revenue']].copy()\n",
    "\n",
    "# Primer mes de compra por cliente (cohorte)\n",
    "df_small['first_month'] = df_small.groupby('customer_id')['order_date'].transform('min').dt.to_period('M').dt.to_timestamp()\n",
    "\n",
    "# Mes de cada compra\n",
    "df_small['month'] = df_small['order_date'].dt.to_period('M').dt.to_timestamp()\n",
    "\n",
    "# Índice de cohorte: meses desde la primera compra\n",
    "df_small['cohort_index'] = ((df_small['month'].dt.year - df_small['first_month'].dt.year)*12 +\n",
    "                             (df_small['month'].dt.month - df_small['first_month'].dt.month))\n",
    "\n",
    "# Contar clientes únicos por cohorte y mes relativo\n",
    "retencion = (df_small\n",
    "    .groupby(['first_month','cohort_index'])['customer_id']\n",
    "    .nunique()\n",
    "    .reset_index())\n",
    "\n",
    "# Base de clientes iniciales (mes 0)\n",
    "base = retencion[retencion['cohort_index']==0][['first_month','customer_id']].rename(columns={'customer_id':'n0'})\n",
    "\n",
    "# Calcular tasa de retención\n",
    "tabla = retencion.merge(base, on='first_month')\n",
    "tabla['ret'] = tabla['customer_id']/tabla['n0']\n",
    "\n",
    "# Pivot para crear tabla de cohortes\n",
    "cohort_pivot = tabla.pivot(index='first_month', columns='cohort_index', values='ret').fillna(0)\n",
    "\n",
    "# Mostrar primeras filas\n",
    "cohort_pivot.head()"
   ]
  },
  {
   "cell_type": "code",
   "execution_count": null,
   "id": "13311d55-83a8-4be7-b7a7-11bcb4fbe2cd",
   "metadata": {},
   "outputs": [],
   "source": [
    "📋 Resumen corto\n",
    "\n",
    "Este bloque calcula la retención de clientes por cohorte mensual:\n",
    "\n",
    "    Define la cohorte de cada cliente según su primer mes de compra.\n",
    "    Calcula la diferencia de meses entre cada compra y la primera compra → cohort_index.\n",
    "    Cuenta cuántos clientes siguen comprando mes a mes.\n",
    "    Crea una tabla donde se ve claramente cómo disminuye la retención con el tiempo."
   ]
  },
  {
   "cell_type": "code",
   "execution_count": null,
   "id": "bc3a25bc",
   "metadata": {},
   "outputs": [],
   "source": [
    "# Visualización rápida de cohortes (matriz)\n",
    "plt.figure()\n",
    "plt.imshow(cohort_pivot.values, aspect='auto')\n",
    "plt.title('Retención por cohortes (proporción)')\n",
    "plt.xlabel('Meses desde primera compra')\n",
    "plt.ylabel('Cohorte (mes inicio)')\n",
    "plt.colorbar()\n",
    "plt.show()"
   ]
  },
  {
   "cell_type": "code",
   "execution_count": null,
   "id": "ac7d9fcf-e561-4fbb-a39b-3a39b058ccc8",
   "metadata": {},
   "outputs": [],
   "source": [
    "plt.figure()  # Crear nueva figura\n",
    "\n",
    "# Dibujar matriz de retención\n",
    "plt.imshow(cohort_pivot.values, aspect='auto')\n",
    "\n",
    "# Etiquetas y título\n",
    "plt.title('Retención por cohortes (proporción)')\n",
    "plt.xlabel('Meses desde primera compra')\n",
    "plt.ylabel('Cohorte (mes inicio)')\n",
    "\n",
    "# Barra de colores\n",
    "plt.colorbar()\n",
    "\n",
    "# Mostrar gráfico\n",
    "plt.show()"
   ]
  },
  {
   "cell_type": "code",
   "execution_count": null,
   "id": "511aa717-11af-4042-a31e-a9738d234901",
   "metadata": {},
   "outputs": [],
   "source": [
    "📋 Resumen corto\n",
    "\n",
    "Este bloque crea un heatmap básico de retención por cohortes:\n",
    "\n",
    "    Filas → cada cohorte mensual\n",
    "    Columnas → meses desde la primera compra\n",
    "    Color → proporción de clientes que regresan\n",
    "    Permite visualizar rápidamente la fidelidad y la caída de clientes con el tiempo."
   ]
  },
  {
   "cell_type": "markdown",
   "id": "9195fb55",
   "metadata": {},
   "source": [
    "### Tarea 4: Calcular el **LTV** aproximado por cohorte como suma de ingresos medios por cliente a 3 meses"
   ]
  },
  {
   "cell_type": "markdown",
   "id": "e7286886",
   "metadata": {},
   "source": [
    "<details><summary><b>Ver solución (idea)</b></summary>\n",
    "\n",
    "```python\n",
    "ingresos_cliente_mes = (df_small\n",
    "    .groupby(['first_month','month'])\n",
    "    .agg(ingresos=('revenue','sum'), clientes=('customer_id','nunique'))\n",
    "    .reset_index())\n",
    "ingresos_cliente_mes['cohort_index'] = ((ingresos_cliente_mes['month'].dt.year - ingresos_cliente_mes['first_month'].dt.year)*12 +\n",
    "                                        (ingresos_cliente_mes['month'].dt.month - ingresos_cliente_mes['first_month'].dt.month))\n",
    "ing_cli = ingresos_cliente_mes.pivot_table(index='first_month', columns='cohort_index', values='ingresos')\n",
    "cli = ingresos_cliente_mes.pivot_table(index='first_month', columns='cohort_index', values='clientes')\n",
    "arpu = ing_cli/cli\n",
    "ltv3 = arpu[[0,1,2]].sum(axis=1)\n",
    "ltv3.head()\n",
    "```\n",
    "</details>"
   ]
  },
  {
   "cell_type": "markdown",
   "id": "55740535",
   "metadata": {},
   "source": [
    "## 8) Export de resultados"
   ]
  },
  {
   "cell_type": "code",
   "execution_count": null,
   "id": "6cb6c891",
   "metadata": {},
   "outputs": [],
   "source": [
    "ingresos_mes.to_csv('kpi_ingresos_mensuales.csv', index=False)\n",
    "agg[['customer_id','R','F','M','RFM','recency','frequency','monetary']].to_csv('rfm_clientes.csv', index=False)\n",
    "cohort_pivot.to_csv('retencion_cohortes.csv')\n",
    "print('✅ Exportados: kpi_ingresos_mensuales.csv, rfm_clientes.csv, retencion_cohortes.csv')"
   ]
  },
  {
   "cell_type": "code",
   "execution_count": null,
   "id": "478d802f-4db2-4b65-a9b4-ac0294a3f90e",
   "metadata": {},
   "outputs": [],
   "source": [
    "# Exportar ingresos mensuales a CSV\n",
    "ingresos_mes.to_csv('kpi_ingresos_mensuales.csv', index=False)\n",
    "\n",
    "# Exportar métricas RFM de clientes a CSV\n",
    "agg[['customer_id','R','F','M','RFM','recency','frequency','monetary']].to_csv('rfm_clientes.csv', index=False)\n",
    "\n",
    "# Exportar tabla de retención por cohortes a CSV\n",
    "cohort_pivot.to_csv('retencion_cohortes.csv')\n",
    "\n",
    "# Mensaje de confirmación\n",
    "print('✅ Exportados: kpi_ingresos_mensuales.csv, rfm_clientes.csv, retencion_cohortes.csv')"
   ]
  },
  {
   "cell_type": "code",
   "execution_count": null,
   "id": "73359682-97bb-42b1-baac-503f61cb4fe6",
   "metadata": {},
   "outputs": [],
   "source": [
    "📋 Resumen corto\n",
    "\n",
    "Este bloque permite guardar todos los resultados de los KPIs y análisis RFM/cohortes en archivos CSV, para:\n",
    "\n",
    "    Usarlos en herramientas de reporting.\n",
    "    Compartir con otros miembros del equipo.\n",
    "    Tener un backup de los análisis realizados."
   ]
  },
  {
   "cell_type": "markdown",
   "id": "ce2b737a",
   "metadata": {},
   "source": [
    "## 9) Retos extra (para nota)\n",
    "1) **Anomalías**: detecta días con ingresos > μ+3σ y coméntalos.\n",
    "2) **Segmentación**: clasifica clientes en 4 grupos (p.ej. KMeans sobre (recency, frequency, monetary)).\n",
    "3) **AB testing simulado**: crea una bandera de campaña y compara ticket medio con test estadístico.\n",
    "4) **Performance**: compara tiempo de `groupby` tras convertir `product` y `category` a `category`."
   ]
  },
  {
   "cell_type": "markdown",
   "id": "f02d8efe-bdda-4842-9566-3f657c273869",
   "metadata": {},
   "source": [
    "#### <span style=\"background-color: cyan\"> 1. Anomalías: detecta días con ingresos > μ+3σ y coméntalos."
   ]
  },
  {
   "cell_type": "code",
   "execution_count": null,
   "id": "dcaa877e-263c-42e6-8d77-92dd4164daa6",
   "metadata": {
    "jupyter": {
     "source_hidden": true
    }
   },
   "outputs": [],
   "source": [
    "# Agrupar ingresos por día\n",
    "ingresos_dia = df.groupby('order_date')['revenue'].sum()\n",
    "\n",
    "# Calcular media y desviación\n",
    "mu = ingresos_dia.mean()\n",
    "sigma = ingresos_dia.std()\n",
    "\n",
    "# Detectar días con ingresos > μ + 3σ\n",
    "anomalos = ingresos_dia[ingresos_dia > mu + 3*sigma]\n",
    "anomalos"
   ]
  },
  {
   "cell_type": "markdown",
   "id": "b070fe2e-b0bb-4f36-ad8d-e70374cb108e",
   "metadata": {
    "jupyter": {
     "source_hidden": true
    }
   },
   "source": [
    "Explicación:\n",
    "\n",
    "    - μ + 3σ es un criterio típico para detectar outliers (días con ingresos muy superiores al promedio).\n",
    "    - anomalos devuelve los días con ingresos inusualmente altos.\n",
    "    - Comentario: podrías inspeccionar esos días para ver si hubo ofertas especiales, Black Friday o errores en los datos."
   ]
  },
  {
   "cell_type": "markdown",
   "id": "26a3c1d0-3d0e-464e-8e42-d87a18cff6f6",
   "metadata": {},
   "source": [
    "#### <span style=\"background-color: cyan\">  2. Segmentación: clasifica clientes en 4 grupos (p.ej. KMeans sobre (recency, frequency, monetary))."
   ]
  },
  {
   "cell_type": "code",
   "execution_count": null,
   "id": "d5547947-e01a-4bdb-a25e-b478c8063a1e",
   "metadata": {
    "jupyter": {
     "source_hidden": true
    }
   },
   "outputs": [],
   "source": [
    "from sklearn.preprocessing import StandardScaler\n",
    "from sklearn.cluster import KMeans\n",
    "\n",
    "# Variables RFM\n",
    "X = agg[['recency','frequency','monetary']]\n",
    "\n",
    "# Escalar para KMeans\n",
    "scaler = StandardScaler()\n",
    "X_scaled = scaler.fit_transform(X)\n",
    "\n",
    "# KMeans con 4 clusters\n",
    "kmeans = KMeans(n_clusters=4, random_state=42)\n",
    "agg['cluster'] = kmeans.fit_predict(X_scaled)\n",
    "\n",
    "# Resumen de clusters\n",
    "agg.groupby('cluster')[['recency','frequency','monetary']].mean()"
   ]
  },
  {
   "cell_type": "markdown",
   "id": "41e177e8-3a72-445c-999f-a0aa94511975",
   "metadata": {
    "jupyter": {
     "source_hidden": true
    }
   },
   "source": [
    "Explicación:\n",
    "\n",
    "- Escalamos porque recency, frequency y monetary tienen diferentes magnitudes.\n",
    "- KMeans agrupa clientes en 4 segmentos, por ejemplo:\n",
    "    - Cluster 0 → VIP\n",
    "    - Cluster 1 → Dormidos\n",
    "    - Cluster 2 → Nuevos\n",
    "    - Cluster 3 → Regulares\n",
    "- Luego puedes analizar el perfil promedio de cada cluster."
   ]
  },
  {
   "cell_type": "markdown",
   "id": "08ca03c7-18b7-4abe-a7ee-9db1871ddfe7",
   "metadata": {},
   "source": [
    "#### <span style=\"background-color: cyan\">  3. AB testing simulado: crea una bandera de campaña y compara ticket medio con test estadístico."
   ]
  },
  {
   "cell_type": "code",
   "execution_count": null,
   "id": "a3fb6c0c-9728-4f1c-ad1f-8d9afe0ab02a",
   "metadata": {
    "jupyter": {
     "source_hidden": true
    }
   },
   "outputs": [],
   "source": [
    "from scipy.stats import ttest_ind\n",
    "\n",
    "# Crear bandera aleatoria de campaña\n",
    "np.random.seed(42)\n",
    "df['campaign'] = np.random.choice([0,1], size=len(df))\n",
    "\n",
    "# Ticket medio por grupo\n",
    "ticket_camp = df.groupby('campaign').apply(lambda x: (x['units']*x['unit_price']).mean())\n",
    "ticket_camp\n",
    "\n",
    "# Test t para comparar grupos\n",
    "grupo0 = df[df['campaign']==0]['units']*df[df['campaign']==0]['unit_price']\n",
    "grupo1 = df[df['campaign']==1]['units']*df[df['campaign']==1]['unit_price']\n",
    "t_stat, p_val = ttest_ind(grupo0, grupo1)\n",
    "t_stat, p_val"
   ]
  },
  {
   "cell_type": "markdown",
   "id": "5d90e0c1-9cf2-4883-8ed9-007772edc454",
   "metadata": {
    "jupyter": {
     "source_hidden": true
    }
   },
   "source": [
    "Explicación:\n",
    "\n",
    "    - campaign simula un grupo de control (0) y test (1).\n",
    "    - Calculamos ticket medio por grupo y usamos un t-test para ver si la diferencia es significativa.\n",
    "    - Si p_val < 0.05 → diferencia estadísticamente significativa."
   ]
  },
  {
   "cell_type": "markdown",
   "id": "b3000bbd-207c-479d-b81b-6ae5f499f05b",
   "metadata": {},
   "source": [
    "#### <span style=\"background-color: cyan\">  4. Performance: compara tiempo de groupby tras convertir product y category a category."
   ]
  },
  {
   "cell_type": "code",
   "execution_count": null,
   "id": "66bdf38e-325c-40ae-b8b4-5b6ab3f01d50",
   "metadata": {
    "jupyter": {
     "source_hidden": true
    }
   },
   "outputs": [],
   "source": [
    "import time\n",
    "\n",
    "# Copiar df\n",
    "df_perf = df.copy()\n",
    "\n",
    "# Medir tiempo antes de convertir a category\n",
    "start = time.time()\n",
    "df_perf.groupby('product')['revenue'].sum()\n",
    "time_raw = time.time() - start\n",
    "\n",
    "# Convertir columnas a category\n",
    "df_perf['product'] = df_perf['product'].astype('category')\n",
    "df_perf['category'] = df_perf['category'].astype('category')\n",
    "\n",
    "# Medir tiempo después de convertir\n",
    "start = time.time()\n",
    "df_perf.groupby('product')['revenue'].sum()\n",
    "time_cat = time.time() - start\n",
    "\n",
    "time_raw, time_cat"
   ]
  },
  {
   "cell_type": "code",
   "execution_count": null,
   "id": "f06b9edb-231e-4d0b-b7c1-c5725e694e0e",
   "metadata": {
    "jupyter": {
     "source_hidden": true
    }
   },
   "outputs": [],
   "source": [
    "Explicación:\n",
    "\n",
    "    - Convertir columnas de texto repetitivas a category reduce memoria y acelera operaciones.\n",
    "    - time_raw → tiempo antes\n",
    "    - time_cat → tiempo después\n",
    "    - Compara ambos para comentar la mejora de performance."
   ]
  },
  {
   "cell_type": "markdown",
   "id": "66ecf66c",
   "metadata": {},
   "source": [
    "## 10) Rúbrica (10 puntos)\n",
    "- Carga/validación y limpieza básica (2)\n",
    "- KPIs correctos y bien interpretados (2)\n",
    "- Gráficos claros (3) con conclusiones (2)\n",
    "- Analítica de clientes (RFM/cohortes) (3)\n",
    "- Export de resultados (1)\n",
    "- Calidad del cuaderno (narrativa, orden, reproducibilidad) (+1 bonus)"
   ]
  }
 ],
 "metadata": {
  "kernelspec": {
   "display_name": "Python [conda env:base] *",
   "language": "python",
   "name": "conda-base-py"
  },
  "language_info": {
   "codemirror_mode": {
    "name": "ipython",
    "version": 3
   },
   "file_extension": ".py",
   "mimetype": "text/x-python",
   "name": "python",
   "nbconvert_exporter": "python",
   "pygments_lexer": "ipython3",
   "version": "3.13.5"
  }
 },
 "nbformat": 4,
 "nbformat_minor": 5
}
