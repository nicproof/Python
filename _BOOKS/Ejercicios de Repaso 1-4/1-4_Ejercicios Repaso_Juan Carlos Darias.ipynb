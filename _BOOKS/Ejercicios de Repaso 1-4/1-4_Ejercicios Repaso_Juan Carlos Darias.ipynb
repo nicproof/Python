{
 "cells": [
  {
   "cell_type": "markdown",
   "id": "cca44bff",
   "metadata": {},
   "source": [
    "\n",
    "# Python básico (hasta bucles): Ejercicios sin resolver\n",
    "**IFCD104 — Práctica autónoma**  \n",
    "Aquí tienes todos los ejercicios de **variables, operadores, condicionales y bucles** sin soluciones visibles.\n"
   ]
  },
  {
   "cell_type": "markdown",
   "id": "758023f4",
   "metadata": {},
   "source": [
    "## 1) Variables\n",
    "\n",
    "> Usa `print(f\"...\")` para mostrar tus resultados."
   ]
  },
  {
   "cell_type": "markdown",
   "id": "ef07c765",
   "metadata": {},
   "source": [
    "\n",
    "**1.1** Crea variables `a=7`, `b=\"5\"` y guarda en `c` la suma numérica de ambos (12).  \n",
    "**1.2** Convierte `texto = \"True\"` a booleano **real** `True` y guarda en `es_verdadero`.\n"
   ]
  },
  {
   "cell_type": "code",
   "execution_count": 12,
   "id": "d07e6dee",
   "metadata": {},
   "outputs": [
    {
     "name": "stdout",
     "output_type": "stream",
     "text": [
      "El resultado de la oprecion es igual a 12\n",
      " \n",
      "True\n",
      "<class 'bool'>\n"
     ]
    }
   ],
   "source": [
    "\n",
    "# 1.1 Crea variables a=7, b=\"5\" y guarda en c la suma numérica de ambos (12).\n",
    "a=7\n",
    "b=int(\"5\")\n",
    "c=a+b\n",
    "print(f\"El resultado de la oprecion es igual a {c}\")\n",
    "print(f\" \")\n",
    "\n",
    "# 1.2 Convierte texto = \"True\" a booleano real True y guarda en es_verdadero.\n",
    "texto = \"True\"\n",
    "es_verdadero = texto.lower() == \"true\"\n",
    "\n",
    "print(es_verdadero)\n",
    "print(type(es_verdadero))\n",
    "\n"
   ]
  },
  {
   "cell_type": "markdown",
   "id": "56f86b88",
   "metadata": {},
   "source": [
    "## 2) Operadores\n",
    "\n",
    "> Muestra los resultados con `print(f\"...\")`."
   ]
  },
  {
   "cell_type": "markdown",
   "id": "882f3258",
   "metadata": {},
   "source": [
    "\n",
    "**2.1** Calcula el **resto** de dividir 123 entre 7.  \n",
    "**2.2** Con `n=15`, comprueba si es múltiplo de 3 **y** de 5 con operadores lógicos.  \n",
    "**2.3** Dado `s=\"python\"`, verifica si contiene la letra `\"y\"`.\n"
   ]
  },
  {
   "cell_type": "code",
   "execution_count": 11,
   "id": "c47f720b",
   "metadata": {},
   "outputs": [
    {
     "name": "stdout",
     "output_type": "stream",
     "text": [
      "El resto de la división entre 123 y 7 es igual a 4\n",
      " \n",
      "El número 15 es multiplo de 3 y 5\n",
      " \n",
      "La palabra python contiene el caracter 'y'\n"
     ]
    }
   ],
   "source": [
    "\n",
    "# 2.1 Calcula el resto de dividir 123 entre 7.\n",
    "dividendo = 123\n",
    "divisor = 7\n",
    "resto = dividendo % divisor\n",
    "\n",
    "print(f\"El resto de la división entre {dividendo} y {divisor} es igual a {resto}\")\n",
    "print(f\" \")\n",
    "\n",
    "# Con n=15, comprueba si es múltiplo de 3 y de 5 con operadores lógicos.\n",
    "n=15\n",
    "multiplo_3 = 15 % 3\n",
    "multiplo_5 = 15 % 5\n",
    "\n",
    "if (multiplo_3==0) and (multiplo_5==0):\n",
    "    print(f\"El número {n} es multiplo de 3 y 5\")\n",
    "else:\n",
    "    print(f\"El número {n} no es multiplo de 3 y de 5\")\n",
    "print(f\" \")\n",
    "\n",
    "# 2.3 Dado s=\"python\", verifica si contiene la letra \"y\".\n",
    "s=\"python\"\n",
    "for c in s:\n",
    "    if c==\"y\":\n",
    "        print (f\"La palabra {s} contiene el caracter 'y'\")\n"
   ]
  },
  {
   "cell_type": "markdown",
   "id": "40bf70e0",
   "metadata": {},
   "source": [
    "## 3) Condicionales\n",
    "\n",
    "**3.1** Dado `edad`, clasifica: `< 18 → 'menor'`, `18-64 → 'adulto'`, `>=65 → 'mayor'`.\n",
    "\n",
    "**3.2** Con `x`, asigna `signo = 'positivo'`, `'negativo'` o `'cero'` usando **solo `if` / `elif` / `else`** (sin operador ternario).\n",
    "\n",
    "\n",
    "> Recuerda imprimir con f-strings para claridad."
   ]
  },
  {
   "cell_type": "code",
   "execution_count": 10,
   "id": "31403c52",
   "metadata": {},
   "outputs": [
    {
     "name": "stdin",
     "output_type": "stream",
     "text": [
      "Introducir una edad:  10\n"
     ]
    },
    {
     "name": "stdout",
     "output_type": "stream",
     "text": [
      "La edad introducida, 10. Corresponde a un menor\n",
      " \n"
     ]
    },
    {
     "name": "stdin",
     "output_type": "stream",
     "text": [
      "Introducir un número:  22\n"
     ]
    },
    {
     "name": "stdout",
     "output_type": "stream",
     "text": [
      "El número 22 es positivo\n"
     ]
    }
   ],
   "source": [
    "\n",
    "# 3.1 Dado edad, clasifica: < 18 → 'menor', 18-64 → 'adulto', >=65 → 'mayor'.\n",
    "edad = int(input (\"Introducir una edad: \"))\n",
    "if edad<18:\n",
    "    print (f\"La edad introducida, {edad}. Corresponde a un menor\")\n",
    "elif edad>=18 and edad<64:\n",
    "    print (f\"La edad introducida, {edad}. Corresponde a un adulto\")\n",
    "elif edad>=64:\n",
    "    print (f\"La edad introducida, {edad}. Corresponde a una persona mayor\")\n",
    "print(f\" \")  \n",
    "\n",
    "# 3.2 Con x, asigna signo = 'positivo', 'negativo' o 'cero' usando solo if / elif / else (sin operador ternario).ç\n",
    "x = int(input(\"Introducir un número: \"))\n",
    "if x<0:\n",
    "    print (f\"El numero {x} es negativo\")\n",
    "elif x>0:\n",
    "    print (f\"El número {x} es positivo\")\n",
    "else:\n",
    "    print (f\"El número {x} es cero\")\n"
   ]
  },
  {
   "cell_type": "markdown",
   "id": "d3ff4c9f",
   "metadata": {},
   "source": [
    "## 4) Bucles\n",
    "\n",
    "> Al mostrar salidas de bucles, utiliza `print(f\"...\")`."
   ]
  },
  {
   "cell_type": "markdown",
   "id": "d34ca861",
   "metadata": {},
   "source": [
    "**4.1** Suma los números **pares** entre 1 y 100 (incluidos).\n",
    "\n",
    "**4.2** Cuenta cuántos **múltiplos de 3** hay entre 1 y 30 usando un contador y un `for`.\n",
    "\n",
    "**4.3 (reto)** Genera la **tabla de multiplicar del 7** con un `for` e imprime cada línea (no uses listas)."
   ]
  },
  {
   "cell_type": "code",
   "execution_count": 9,
   "id": "63b7f53b",
   "metadata": {},
   "outputs": [
    {
     "name": "stdout",
     "output_type": "stream",
     "text": [
      "La suma de los primeros 100 números pares es: 10100\n",
      " \n",
      "Múltiplo encontrado: 3\n",
      "Múltiplo encontrado: 6\n",
      "Múltiplo encontrado: 9\n",
      "Múltiplo encontrado: 12\n",
      "Múltiplo encontrado: 15\n",
      "Múltiplo encontrado: 18\n",
      "Múltiplo encontrado: 21\n",
      "Múltiplo encontrado: 24\n",
      "Múltiplo encontrado: 27\n",
      "Múltiplo encontrado: 30\n",
      "\n",
      "Total de múltiplos de 3 entre 1 y 30: 10\n",
      " \n",
      "7 x 1 = 7\n",
      "7 x 2 = 14\n",
      "7 x 3 = 21\n",
      "7 x 4 = 28\n",
      "7 x 5 = 35\n",
      "7 x 6 = 42\n",
      "7 x 7 = 49\n",
      "7 x 8 = 56\n",
      "7 x 9 = 63\n",
      "7 x 10 = 70\n"
     ]
    }
   ],
   "source": [
    "# 4.1 Suma los números pares entre 1 y 100 (incluidos).\n",
    "suma_pares = 0\n",
    "for i in range(1, 101):\n",
    "    numero_par = 2 * i\n",
    "    suma_pares += numero_par\n",
    "\n",
    "print(f\"La suma de los primeros 100 números pares es: {suma_pares}\")\n",
    "print(f\" \")\n",
    "\n",
    "\n",
    "# 4.2 Cuenta cuántos múltiplos de 3 hay entre 1 y 30 usando un contador y un for.\n",
    "contador_multiplos_de_3 = 0\n",
    "\n",
    "for numero in range(1, 31):\n",
    "    if numero % 3 == 0:\n",
    "        contador_multiplos_de_3 += 1\n",
    "        print(f\"Múltiplo encontrado: {numero}\")\n",
    "\n",
    "print(f\"\\nTotal de múltiplos de 3 entre 1 y 30: {contador_multiplos_de_3}\")\n",
    "print(f\" \")\n",
    "\n",
    "# 4.3 (reto) Genera la tabla de multiplicar del 7 con un for e imprime cada línea (no uses listas).\n",
    "for c in range (1,11):\n",
    "    resultado = c * 7\n",
    "    print(f\"7 x {c} = {resultado}\")\n"
   ]
  }
 ],
 "metadata": {
  "kernelspec": {
   "display_name": "Python [conda env:base] *",
   "language": "python",
   "name": "conda-base-py"
  },
  "language_info": {
   "codemirror_mode": {
    "name": "ipython",
    "version": 3
   },
   "file_extension": ".py",
   "mimetype": "text/x-python",
   "name": "python",
   "nbconvert_exporter": "python",
   "pygments_lexer": "ipython3",
   "version": "3.13.5"
  }
 },
 "nbformat": 4,
 "nbformat_minor": 5
}
